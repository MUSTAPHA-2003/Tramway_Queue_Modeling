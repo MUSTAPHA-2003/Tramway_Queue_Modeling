{
 "cells": [
  {
   "cell_type": "code",
   "execution_count": 1,
   "metadata": {},
   "outputs": [],
   "source": [
    "from tramwayV2 import *\n",
    "%matplotlib widget\n",
    "import warnings\n",
    "warnings.filterwarnings(\"ignore\")\n",
    "import matplotlib.pyplot as plt\n",
    "from IPython.display import display, clear_output\n",
    "\n",
    "tw = tramway()"
   ]
  },
  {
   "cell_type": "code",
   "execution_count": 78,
   "metadata": {
    "scrolled": true
   },
   "outputs": [
    {
     "name": "stdout",
     "output_type": "stream",
     "text": [
      "Temps moyen de chaque client en serveur : 1/2 * mu =  28.0\n",
      "Temps moyen entre deux clients : 1/lamda =  0.03\n",
      "mu =  0.017857142857142856\n",
      "lamda =  33.333333333333336\n",
      "rho =  0.74667\n",
      "P0 =  0.0\n",
      "Le nombre de serveurs :                                     2500\n",
      "Le nombre moyen de Clients qu'on attend est : Lambda * 60:  2000\n",
      "Nombre moyen de clients dans le systeme : L =  1866.66667\n",
      "Nombre moyen de clients dans la file d'attente : Lq =  0.0\n",
      "Temps moyen de chaque client dans le systeme : W/2 =  30.8\n",
      "Temps moyen de chaque client dans la file d'attente : Wq =  5.6\n"
     ]
    }
   ],
   "source": [
    "#(Capacite d'un Tramway,\n",
    "#le temps d'un voyage du terminus A au terminus B, \n",
    "#le temps moyen entre chaque client dans une station, \n",
    "#le nombre de stations,\n",
    "#le nombre de tramways sur cette ligne, \n",
    "#temps moyen de chaque client en serveur / temps voyage complet : POURCENTAGE en %)\n",
    "if tw.setAllParams(100,70,0.6,20,25,40):\n",
    "\ttw.printResults()"
   ]
  },
  {
   "cell_type": "code",
   "execution_count": 79,
   "metadata": {},
   "outputs": [
    {
     "data": {
      "text/plain": [
       "625"
      ]
     },
     "execution_count": 79,
     "metadata": {},
     "output_type": "execute_result"
    }
   ],
   "source": [
    "#ON DIMINUE LE NOMBRE DE PLACE DANS LE TRAMWAY DE 100 A 75 :\n",
    "#ce qui veut dire qu'on diminue la capacite de :\n",
    "25*25"
   ]
  },
  {
   "cell_type": "code",
   "execution_count": 80,
   "metadata": {},
   "outputs": [
    {
     "name": "stdout",
     "output_type": "stream",
     "text": [
      "Temps moyen de chaque client en serveur : 1/2 * mu =  28.0\n",
      "Temps moyen entre deux clients : 1/lamda =  0.03\n",
      "mu =  0.017857142857142856\n",
      "lamda =  33.333333333333336\n",
      "rho =  0.99556\n",
      "P0 =  0.0\n",
      "Le nombre de serveurs :                                     1875\n",
      "Le nombre moyen de Clients qu'on attend est : Lambda * 60:  2000\n",
      "Nombre moyen de clients dans le systeme : L =  2016.85444\n",
      "Nombre moyen de clients dans la file d'attente : Lq =  150.18777\n",
      "Temps moyen de chaque client dans le systeme : W/2 =  33.052815\n",
      "Temps moyen de chaque client dans la file d'attente : Wq =  10.10563\n"
     ]
    }
   ],
   "source": [
    "if tw.setAllParams(75,70,0.6,20,25,40):\n",
    "\ttw.printResults()"
   ]
  },
  {
   "cell_type": "code",
   "execution_count": 81,
   "metadata": {},
   "outputs": [
    {
     "data": {
      "text/plain": [
       "35"
      ]
     },
     "execution_count": 81,
     "metadata": {},
     "output_type": "execute_result"
    }
   ],
   "source": [
    "#MAINTENANT ON RETIRE DEUX TRAMWAY DU SYSTEME\n",
    "#ET ON AJOUTE 5 PLACE\n",
    "#DONC ON DIMINUE LES PLACES DE :\n",
    "2*75-23*5"
   ]
  },
  {
   "cell_type": "code",
   "execution_count": 82,
   "metadata": {},
   "outputs": [
    {
     "name": "stdout",
     "output_type": "stream",
     "text": [
      "Systeme non stable\n",
      "nombre de clients dans le systeme :  1945.5777805427183\n",
      "nombre de serveurs :  1840\n"
     ]
    }
   ],
   "source": [
    "if tw.setAllParams(80,70,0.6,20,23,40):\n",
    "\ttw.printResults()"
   ]
  },
  {
   "cell_type": "code",
   "execution_count": 83,
   "metadata": {},
   "outputs": [
    {
     "name": "stdout",
     "output_type": "stream",
     "text": [
      "Temps moyen de chaque client en serveur : 1/2 * mu =  28.0\n",
      "Temps moyen entre deux clients : 1/lamda =  0.03\n",
      "mu =  0.017857142857142856\n",
      "lamda =  33.333333333333336\n",
      "rho =  0.98975\n",
      "P0 =  0.0\n",
      "Le nombre de serveurs :                                     1886\n",
      "Le nombre moyen de Clients qu'on attend est : Lambda * 60:  2000\n",
      "Nombre moyen de clients dans le systeme : L =  1909.90448\n",
      "Nombre moyen de clients dans la file d'attente : Lq =  43.23781\n",
      "Temps moyen de chaque client dans le systeme : W/2 =  31.692045\n",
      "Temps moyen de chaque client dans la file d'attente : Wq =  7.38409\n"
     ]
    }
   ],
   "source": [
    "#On ajoute 2 places\n",
    "if tw.setAllParams(82,70,0.6,20,23,40):\n",
    "\ttw.printResults()"
   ]
  },
  {
   "cell_type": "code",
   "execution_count": 84,
   "metadata": {},
   "outputs": [
    {
     "name": "stdout",
     "output_type": "stream",
     "text": [
      "Systeme non stable\n",
      "nombre de clients dans le systeme :  5600.0\n",
      "nombre de serveurs :  1886\n"
     ]
    }
   ],
   "source": [
    "#Maintenant supposons le temps des piques : (17h par exemple)\n",
    "#un client tous les 12 secondes\n",
    "if tw.setAllParams(82,70,0.2,20,23,40):\n",
    "\ttw.printResults()"
   ]
  },
  {
   "cell_type": "code",
   "execution_count": 85,
   "metadata": {},
   "outputs": [
    {
     "name": "stdout",
     "output_type": "stream",
     "text": [
      "Temps moyen de chaque client en serveur : 1/2 * mu =  28.0\n",
      "Temps moyen entre deux clients : 1/lamda =  0.01\n",
      "mu =  0.017857142857142856\n",
      "lamda =  100.0\n",
      "rho =  0.97391\n",
      "P0 =  0.0\n",
      "Le nombre de serveurs :                                     5750\n",
      "Le nombre moyen de Clients qu'on attend est : Lambda * 60:  6000\n",
      "Nombre moyen de clients dans le systeme : L =  5601.00039\n",
      "Nombre moyen de clients dans la file d'attente : Lq =  1.00039\n",
      "Temps moyen de chaque client dans le systeme : W/2 =  31.04848\n",
      "Temps moyen de chaque client dans la file d'attente : Wq =  6.09696\n"
     ]
    }
   ],
   "source": [
    "#On essaie d'augmenter la capacite du tramway\n",
    "#(LES GENS SONT COLLE COTE A COTE) donc la qualite du voyage diminue\n",
    "#90 SONT ASSIS/160 DEBOUT\n",
    "if tw.setAllParams(250,70,0.2,20,23,40):\n",
    "\ttw.printResults()"
   ]
  },
  {
   "cell_type": "code",
   "execution_count": 86,
   "metadata": {},
   "outputs": [
    {
     "name": "stdout",
     "output_type": "stream",
     "text": [
      "Systeme non stable\n",
      "nombre de clients dans le systeme :  5600.110940990822\n",
      "nombre de serveurs :  5400\n"
     ]
    }
   ],
   "source": [
    "#ON AUGMENTE LE NOMBRE DE TRAMS pour avoir tout le monde assis\n",
    "#ON TROUVE QUE MEME 60 TRAMS NE PEUVENT PAS STABILISE LE SYSTEME\n",
    "if tw.setAllParams(90,70,0.2,20,60,40):\n",
    "\ttw.printResults()"
   ]
  },
  {
   "cell_type": "code",
   "execution_count": 87,
   "metadata": {},
   "outputs": [
    {
     "name": "stdout",
     "output_type": "stream",
     "text": [
      "Temps moyen de chaque client en serveur : 1/2 * mu =  28.0\n",
      "Temps moyen entre deux clients : 1/lamda =  0.01\n",
      "mu =  0.017857142857142856\n",
      "lamda =  100.0\n",
      "rho =  0.88889\n",
      "P0 =  0.0\n",
      "Le nombre de serveurs :                                     6300\n",
      "Le nombre moyen de Clients qu'on attend est : Lambda * 60:  6000\n",
      "Nombre moyen de clients dans le systeme : L =  5600.0\n",
      "Nombre moyen de clients dans la file d'attente : Lq =  0.0\n",
      "Temps moyen de chaque client dans le systeme : W/2 =  29.0\n",
      "Temps moyen de chaque client dans la file d'attente : Wq =  2.0\n"
     ]
    }
   ],
   "source": [
    "#ON AUGMENTE A 70 TRAMS\n",
    "if tw.setAllParams(90,70,0.2,20,70,40):\n",
    "\ttw.printResults()"
   ]
  },
  {
   "cell_type": "code",
   "execution_count": 88,
   "metadata": {},
   "outputs": [],
   "source": [
    "#DONC CEST SOIT 250places/23Trams, soit 90places/70Trams\n",
    "#Pour les heures de piques"
   ]
  },
  {
   "cell_type": "code",
   "execution_count": 89,
   "metadata": {},
   "outputs": [],
   "source": [
    "#MAINTENANT POUR LA VISUALISATION :"
   ]
  },
  {
   "cell_type": "code",
   "execution_count": 90,
   "metadata": {
    "scrolled": true
   },
   "outputs": [],
   "source": [
    "#LE CAS : TROUVER LE NOMBRE DE TRAMWAY NECESSAIRE POUR QUE TOUUS LES CLIENTS RESTENT ASSIS\n",
    "#LITERATION SUR LE NOMBRE DE TRAMWAY ET LE TEMPS ENTRE DEUX CLIENTS\n",
    "#t entre deux clients varient entre [6s, 1min]\n",
    "results = []\n",
    "for j in range(100,1000,10):\n",
    "\tresults.append([])\n",
    "\tfor i in range(1,70,2):\n",
    "\t\tif tw.setAllParams(90,70,j*0.001,18,i,40):\n",
    "\t\t\tresults[-1].append([tw.getResults(),j*0.001])\n",
    "\tif results[-1]==[]:del results[-1]\n",
    "for i in results:\n",
    "    for j in i:\n",
    "        if j[0][\"Wq\"]>60:j[0][\"Wq\"] = 90\n",
    "clear_output()\n",
    "        "
   ]
  },
  {
   "cell_type": "code",
   "execution_count": 91,
   "metadata": {
    "scrolled": false
   },
   "outputs": [
    {
     "data": {
      "application/vnd.plotly.v1+json": {
       "config": {
        "plotlyServerURL": "https://plot.ly"
       },
       "data": [
        {
         "mode": "lines",
         "name": "Temps entre clients: 0.17 min",
         "type": "scatter3d",
         "x": [
          67,
          69
         ],
         "y": [
          2.1544,
          2.02902
         ],
         "z": [
          0.17,
          0.17
         ]
        },
        {
         "mode": "lines",
         "name": "Temps entre clients: 0.18 min",
         "type": "scatter3d",
         "x": [
          63,
          65,
          67,
          69
         ],
         "y": [
          2.39604,
          2.15396,
          2.08955,
          2.02899
         ],
         "z": [
          0.18,
          0.18,
          0.18,
          0.18
         ]
        },
        {
         "mode": "lines",
         "name": "Temps entre clients: 0.19 min",
         "type": "scatter3d",
         "x": [
          59,
          61,
          63,
          65,
          67,
          69
         ],
         "y": [
          12.53564,
          2.29709,
          2.22222,
          2.15385,
          2.08955,
          2.02899
         ],
         "z": [
          0.19,
          0.19,
          0.19,
          0.19,
          0.19,
          0.19
         ]
        },
        {
         "mode": "lines",
         "name": "Temps entre clients: 0.2 min",
         "type": "scatter3d",
         "x": [
          57,
          59,
          61,
          63,
          65,
          67,
          69
         ],
         "y": [
          2.5339,
          2.3729,
          2.29508,
          2.22222,
          2.15385,
          2.08955,
          2.02899
         ],
         "z": [
          0.2,
          0.2,
          0.2,
          0.2,
          0.2,
          0.2,
          0.2
         ]
        },
        {
         "mode": "lines",
         "name": "Temps entre clients: 0.21 min",
         "type": "scatter3d",
         "x": [
          55,
          57,
          59,
          61,
          63,
          65,
          67,
          69
         ],
         "y": [
          2.5522,
          2.45614,
          2.37288,
          2.29508,
          2.22222,
          2.15385,
          2.08955,
          2.02899
         ],
         "z": [
          0.21,
          0.21,
          0.21,
          0.21,
          0.21,
          0.21,
          0.21,
          0.21
         ]
        },
        {
         "mode": "lines",
         "name": "Temps entre clients: 0.22 min",
         "type": "scatter3d",
         "x": [
          51,
          53,
          55,
          57,
          59,
          61,
          63,
          65,
          67,
          69
         ],
         "y": [
          7.99013,
          2.64247,
          2.54545,
          2.45614,
          2.37288,
          2.29508,
          2.22222,
          2.15385,
          2.08955,
          2.02899
         ],
         "z": [
          0.22,
          0.22,
          0.22,
          0.22,
          0.22,
          0.22,
          0.22,
          0.22,
          0.22,
          0.22
         ]
        },
        {
         "mode": "lines",
         "name": "Temps entre clients: 0.23 min",
         "type": "scatter3d",
         "x": [
          49,
          51,
          53,
          55,
          57,
          59,
          61,
          63,
          65,
          67,
          69
         ],
         "y": [
          3.81872,
          2.74538,
          2.64151,
          2.54545,
          2.45614,
          2.37288,
          2.29508,
          2.22222,
          2.15385,
          2.08955,
          2.02899
         ],
         "z": [
          0.23,
          0.23,
          0.23,
          0.23,
          0.23,
          0.23,
          0.23,
          0.23,
          0.23,
          0.23,
          0.23
         ]
        },
        {
         "mode": "lines",
         "name": "Temps entre clients: 0.24 min",
         "type": "scatter3d",
         "x": [
          47,
          49,
          51,
          53,
          55,
          57,
          59,
          61,
          63,
          65,
          67,
          69
         ],
         "y": [
          3.79504,
          2.85733,
          2.7451,
          2.64151,
          2.54545,
          2.45614,
          2.37288,
          2.29508,
          2.22222,
          2.15385,
          2.08955,
          2.02899
         ],
         "z": [
          0.24,
          0.24,
          0.24,
          0.24,
          0.24,
          0.24,
          0.24,
          0.24,
          0.24,
          0.24,
          0.24,
          0.24
         ]
        },
        {
         "mode": "lines",
         "name": "Temps entre clients: 0.25 min",
         "type": "scatter3d",
         "x": [
          45,
          47,
          49,
          51,
          53,
          55,
          57,
          59,
          61,
          63,
          65,
          67,
          69
         ],
         "y": [
          4.90114,
          2.97903,
          2.85714,
          2.7451,
          2.64151,
          2.54545,
          2.45614,
          2.37288,
          2.29508,
          2.22222,
          2.15385,
          2.08955,
          2.02899
         ],
         "z": [
          0.25,
          0.25,
          0.25,
          0.25,
          0.25,
          0.25,
          0.25,
          0.25,
          0.25,
          0.25,
          0.25,
          0.25,
          0.25
         ]
        },
        {
         "mode": "lines",
         "name": "Temps entre clients: 0.26 min",
         "type": "scatter3d",
         "x": [
          45,
          47,
          49,
          51,
          53,
          55,
          57,
          59,
          61,
          63,
          65,
          67,
          69
         ],
         "y": [
          3.11216,
          2.97872,
          2.85714,
          2.7451,
          2.64151,
          2.54545,
          2.45614,
          2.37288,
          2.29508,
          2.22222,
          2.15385,
          2.08955,
          2.02899
         ],
         "z": [
          0.26,
          0.26,
          0.26,
          0.26,
          0.26,
          0.26,
          0.26,
          0.26,
          0.26,
          0.26,
          0.26,
          0.26,
          0.26
         ]
        },
        {
         "mode": "lines",
         "name": "Temps entre clients: 0.27 min",
         "type": "scatter3d",
         "x": [
          43,
          45,
          47,
          49,
          51,
          53,
          55,
          57,
          59,
          61,
          63,
          65,
          67,
          69
         ],
         "y": [
          3.262,
          3.11111,
          2.97872,
          2.85714,
          2.7451,
          2.64151,
          2.54545,
          2.45614,
          2.37288,
          2.29508,
          2.22222,
          2.15385,
          2.08955,
          2.02899
         ],
         "z": [
          0.27,
          0.27,
          0.27,
          0.27,
          0.27,
          0.27,
          0.27,
          0.27,
          0.27,
          0.27,
          0.27,
          0.27,
          0.27,
          0.27
         ]
        },
        {
         "mode": "lines",
         "name": "Temps entre clients: 0.28 min",
         "type": "scatter3d",
         "x": [
          41,
          43,
          45,
          47,
          49,
          51,
          53,
          55,
          57,
          59,
          61,
          63,
          65,
          67,
          69
         ],
         "y": [
          3.46508,
          3.25581,
          3.11111,
          2.97872,
          2.85714,
          2.7451,
          2.64151,
          2.54545,
          2.45614,
          2.37288,
          2.29508,
          2.22222,
          2.15385,
          2.08955,
          2.02899
         ],
         "z": [
          0.28,
          0.28,
          0.28,
          0.28,
          0.28,
          0.28,
          0.28,
          0.28,
          0.28,
          0.28,
          0.28,
          0.28,
          0.28,
          0.28,
          0.28
         ]
        },
        {
         "mode": "lines",
         "name": "Temps entre clients: 0.29 min",
         "type": "scatter3d",
         "x": [
          39,
          41,
          43,
          45,
          47,
          49,
          51,
          53,
          55,
          57,
          59,
          61,
          63,
          65,
          67,
          69
         ],
         "y": [
          4.19571,
          3.41468,
          3.25581,
          3.11111,
          2.97872,
          2.85714,
          2.7451,
          2.64151,
          2.54545,
          2.45614,
          2.37288,
          2.29508,
          2.22222,
          2.15385,
          2.08955,
          2.02899
         ],
         "z": [
          0.29,
          0.29,
          0.29,
          0.29,
          0.29,
          0.29,
          0.29,
          0.29,
          0.29,
          0.29,
          0.29,
          0.29,
          0.29,
          0.29,
          0.29,
          0.29
         ]
        },
        {
         "mode": "lines",
         "name": "Temps entre clients: 0.3 min",
         "type": "scatter3d",
         "x": [
          39,
          41,
          43,
          45,
          47,
          49,
          51,
          53,
          55,
          57,
          59,
          61,
          63,
          65,
          67,
          69
         ],
         "y": [
          3.5919,
          3.41463,
          3.25581,
          3.11111,
          2.97872,
          2.85714,
          2.7451,
          2.64151,
          2.54545,
          2.45614,
          2.37288,
          2.29508,
          2.22222,
          2.15385,
          2.08955,
          2.02899
         ],
         "z": [
          0.3,
          0.3,
          0.3,
          0.3,
          0.3,
          0.3,
          0.3,
          0.3,
          0.3,
          0.3,
          0.3,
          0.3,
          0.3,
          0.3,
          0.3,
          0.3
         ]
        },
        {
         "mode": "lines",
         "name": "Temps entre clients: 0.31 min",
         "type": "scatter3d",
         "x": [
          37,
          39,
          41,
          43,
          45,
          47,
          49,
          51,
          53,
          55,
          57,
          59,
          61,
          63,
          65,
          67,
          69
         ],
         "y": [
          3.85748,
          3.58974,
          3.41463,
          3.25581,
          3.11111,
          2.97872,
          2.85714,
          2.7451,
          2.64151,
          2.54545,
          2.45614,
          2.37288,
          2.29508,
          2.22222,
          2.15385,
          2.08955,
          2.02899
         ],
         "z": [
          0.31,
          0.31,
          0.31,
          0.31,
          0.31,
          0.31,
          0.31,
          0.31,
          0.31,
          0.31,
          0.31,
          0.31,
          0.31,
          0.31,
          0.31,
          0.31,
          0.31
         ]
        },
        {
         "mode": "lines",
         "name": "Temps entre clients: 0.32 min",
         "type": "scatter3d",
         "x": [
          37,
          39,
          41,
          43,
          45,
          47,
          49,
          51,
          53,
          55,
          57,
          59,
          61,
          63,
          65,
          67,
          69
         ],
         "y": [
          3.78404,
          3.58974,
          3.41463,
          3.25581,
          3.11111,
          2.97872,
          2.85714,
          2.7451,
          2.64151,
          2.54545,
          2.45614,
          2.37288,
          2.29508,
          2.22222,
          2.15385,
          2.08955,
          2.02899
         ],
         "z": [
          0.32,
          0.32,
          0.32,
          0.32,
          0.32,
          0.32,
          0.32,
          0.32,
          0.32,
          0.32,
          0.32,
          0.32,
          0.32,
          0.32,
          0.32,
          0.32,
          0.32
         ]
        },
        {
         "mode": "lines",
         "name": "Temps entre clients: 0.33 min",
         "type": "scatter3d",
         "x": [
          35,
          37,
          39,
          41,
          43,
          45,
          47,
          49,
          51,
          53,
          55,
          57,
          59,
          61,
          63,
          65,
          67,
          69
         ],
         "y": [
          4.02985,
          3.78378,
          3.58974,
          3.41463,
          3.25581,
          3.11111,
          2.97872,
          2.85714,
          2.7451,
          2.64151,
          2.54545,
          2.45614,
          2.37288,
          2.29508,
          2.22222,
          2.15385,
          2.08955,
          2.02899
         ],
         "z": [
          0.33,
          0.33,
          0.33,
          0.33,
          0.33,
          0.33,
          0.33,
          0.33,
          0.33,
          0.33,
          0.33,
          0.33,
          0.33,
          0.33,
          0.33,
          0.33,
          0.33,
          0.33
         ]
        },
        {
         "mode": "lines",
         "name": "Temps entre clients: 0.34 min",
         "type": "scatter3d",
         "x": [
          33,
          35,
          37,
          39,
          41,
          43,
          45,
          47,
          49,
          51,
          53,
          55,
          57,
          59,
          61,
          63,
          65,
          67,
          69
         ],
         "y": [
          12.74093,
          4.00013,
          3.78378,
          3.58974,
          3.41463,
          3.25581,
          3.11111,
          2.97872,
          2.85714,
          2.7451,
          2.64151,
          2.54545,
          2.45614,
          2.37288,
          2.29508,
          2.22222,
          2.15385,
          2.08955,
          2.02899
         ],
         "z": [
          0.34,
          0.34,
          0.34,
          0.34,
          0.34,
          0.34,
          0.34,
          0.34,
          0.34,
          0.34,
          0.34,
          0.34,
          0.34,
          0.34,
          0.34,
          0.34,
          0.34,
          0.34,
          0.34
         ]
        },
        {
         "mode": "lines",
         "name": "Temps entre clients: 0.35000000000000003 min",
         "type": "scatter3d",
         "x": [
          33,
          35,
          37,
          39,
          41,
          43,
          45,
          47,
          49,
          51,
          53,
          55,
          57,
          59,
          61,
          63,
          65,
          67,
          69
         ],
         "y": [
          4.27768,
          4,
          3.78378,
          3.58974,
          3.41463,
          3.25581,
          3.11111,
          2.97872,
          2.85714,
          2.7451,
          2.64151,
          2.54545,
          2.45614,
          2.37288,
          2.29508,
          2.22222,
          2.15385,
          2.08955,
          2.02899
         ],
         "z": [
          0.35000000000000003,
          0.35000000000000003,
          0.35000000000000003,
          0.35000000000000003,
          0.35000000000000003,
          0.35000000000000003,
          0.35000000000000003,
          0.35000000000000003,
          0.35000000000000003,
          0.35000000000000003,
          0.35000000000000003,
          0.35000000000000003,
          0.35000000000000003,
          0.35000000000000003,
          0.35000000000000003,
          0.35000000000000003,
          0.35000000000000003,
          0.35000000000000003,
          0.35000000000000003
         ]
        },
        {
         "mode": "lines",
         "name": "Temps entre clients: 0.36 min",
         "type": "scatter3d",
         "x": [
          33,
          35,
          37,
          39,
          41,
          43,
          45,
          47,
          49,
          51,
          53,
          55,
          57,
          59,
          61,
          63,
          65,
          67,
          69
         ],
         "y": [
          4.24269,
          4,
          3.78378,
          3.58974,
          3.41463,
          3.25581,
          3.11111,
          2.97872,
          2.85714,
          2.7451,
          2.64151,
          2.54545,
          2.45614,
          2.37288,
          2.29508,
          2.22222,
          2.15385,
          2.08955,
          2.02899
         ],
         "z": [
          0.36,
          0.36,
          0.36,
          0.36,
          0.36,
          0.36,
          0.36,
          0.36,
          0.36,
          0.36,
          0.36,
          0.36,
          0.36,
          0.36,
          0.36,
          0.36,
          0.36,
          0.36,
          0.36
         ]
        },
        {
         "mode": "lines",
         "name": "Temps entre clients: 0.37 min",
         "type": "scatter3d",
         "x": [
          31,
          33,
          35,
          37,
          39,
          41,
          43,
          45,
          47,
          49,
          51,
          53,
          55,
          57,
          59,
          61,
          63,
          65,
          67,
          69
         ],
         "y": [
          4.62495,
          4.24242,
          4,
          3.78378,
          3.58974,
          3.41463,
          3.25581,
          3.11111,
          2.97872,
          2.85714,
          2.7451,
          2.64151,
          2.54545,
          2.45614,
          2.37288,
          2.29508,
          2.22222,
          2.15385,
          2.08955,
          2.02899
         ],
         "z": [
          0.37,
          0.37,
          0.37,
          0.37,
          0.37,
          0.37,
          0.37,
          0.37,
          0.37,
          0.37,
          0.37,
          0.37,
          0.37,
          0.37,
          0.37,
          0.37,
          0.37,
          0.37,
          0.37,
          0.37
         ]
        },
        {
         "mode": "lines",
         "name": "Temps entre clients: 0.38 min",
         "type": "scatter3d",
         "x": [
          31,
          33,
          35,
          37,
          39,
          41,
          43,
          45,
          47,
          49,
          51,
          53,
          55,
          57,
          59,
          61,
          63,
          65,
          67,
          69
         ],
         "y": [
          4.51801,
          4.24242,
          4,
          3.78378,
          3.58974,
          3.41463,
          3.25581,
          3.11111,
          2.97872,
          2.85714,
          2.7451,
          2.64151,
          2.54545,
          2.45614,
          2.37288,
          2.29508,
          2.22222,
          2.15385,
          2.08955,
          2.02899
         ],
         "z": [
          0.38,
          0.38,
          0.38,
          0.38,
          0.38,
          0.38,
          0.38,
          0.38,
          0.38,
          0.38,
          0.38,
          0.38,
          0.38,
          0.38,
          0.38,
          0.38,
          0.38,
          0.38,
          0.38,
          0.38
         ]
        },
        {
         "mode": "lines",
         "name": "Temps entre clients: 0.39 min",
         "type": "scatter3d",
         "x": [
          29,
          31,
          33,
          35,
          37,
          39,
          41,
          43,
          45,
          47,
          49,
          51,
          53,
          55,
          57,
          59,
          61,
          63,
          65,
          67,
          69
         ],
         "y": [
          5.74285,
          4.51614,
          4.24242,
          4,
          3.78378,
          3.58974,
          3.41463,
          3.25581,
          3.11111,
          2.97872,
          2.85714,
          2.7451,
          2.64151,
          2.54545,
          2.45614,
          2.37288,
          2.29508,
          2.22222,
          2.15385,
          2.08955,
          2.02899
         ],
         "z": [
          0.39,
          0.39,
          0.39,
          0.39,
          0.39,
          0.39,
          0.39,
          0.39,
          0.39,
          0.39,
          0.39,
          0.39,
          0.39,
          0.39,
          0.39,
          0.39,
          0.39,
          0.39,
          0.39,
          0.39,
          0.39
         ]
        },
        {
         "mode": "lines",
         "name": "Temps entre clients: 0.4 min",
         "type": "scatter3d",
         "x": [
          29,
          31,
          33,
          35,
          37,
          39,
          41,
          43,
          45,
          47,
          49,
          51,
          53,
          55,
          57,
          59,
          61,
          63,
          65,
          67,
          69
         ],
         "y": [
          4.8551,
          4.51613,
          4.24242,
          4,
          3.78378,
          3.58974,
          3.41463,
          3.25581,
          3.11111,
          2.97872,
          2.85714,
          2.7451,
          2.64151,
          2.54545,
          2.45614,
          2.37288,
          2.29508,
          2.22222,
          2.15385,
          2.08955,
          2.02899
         ],
         "z": [
          0.4,
          0.4,
          0.4,
          0.4,
          0.4,
          0.4,
          0.4,
          0.4,
          0.4,
          0.4,
          0.4,
          0.4,
          0.4,
          0.4,
          0.4,
          0.4,
          0.4,
          0.4,
          0.4,
          0.4,
          0.4
         ]
        },
        {
         "mode": "lines",
         "name": "Temps entre clients: 0.41000000000000003 min",
         "type": "scatter3d",
         "x": [
          29,
          31,
          33,
          35,
          37,
          39,
          41,
          43,
          45,
          47,
          49,
          51,
          53,
          55,
          57,
          59,
          61,
          63,
          65,
          67,
          69
         ],
         "y": [
          4.8281,
          4.51613,
          4.24242,
          4,
          3.78378,
          3.58974,
          3.41463,
          3.25581,
          3.11111,
          2.97872,
          2.85714,
          2.7451,
          2.64151,
          2.54545,
          2.45614,
          2.37288,
          2.29508,
          2.22222,
          2.15385,
          2.08955,
          2.02899
         ],
         "z": [
          0.41000000000000003,
          0.41000000000000003,
          0.41000000000000003,
          0.41000000000000003,
          0.41000000000000003,
          0.41000000000000003,
          0.41000000000000003,
          0.41000000000000003,
          0.41000000000000003,
          0.41000000000000003,
          0.41000000000000003,
          0.41000000000000003,
          0.41000000000000003,
          0.41000000000000003,
          0.41000000000000003,
          0.41000000000000003,
          0.41000000000000003,
          0.41000000000000003,
          0.41000000000000003,
          0.41000000000000003,
          0.41000000000000003
         ]
        },
        {
         "mode": "lines",
         "name": "Temps entre clients: 0.42 min",
         "type": "scatter3d",
         "x": [
          27,
          29,
          31,
          33,
          35,
          37,
          39,
          41,
          43,
          45,
          47,
          49,
          51,
          53,
          55,
          57,
          59,
          61,
          63,
          65,
          67,
          69
         ],
         "y": [
          5.84276,
          4.82759,
          4.51613,
          4.24242,
          4,
          3.78378,
          3.58974,
          3.41463,
          3.25581,
          3.11111,
          2.97872,
          2.85714,
          2.7451,
          2.64151,
          2.54545,
          2.45614,
          2.37288,
          2.29508,
          2.22222,
          2.15385,
          2.08955,
          2.02899
         ],
         "z": [
          0.42,
          0.42,
          0.42,
          0.42,
          0.42,
          0.42,
          0.42,
          0.42,
          0.42,
          0.42,
          0.42,
          0.42,
          0.42,
          0.42,
          0.42,
          0.42,
          0.42,
          0.42,
          0.42,
          0.42,
          0.42,
          0.42
         ]
        },
        {
         "mode": "lines",
         "name": "Temps entre clients: 0.43 min",
         "type": "scatter3d",
         "x": [
          27,
          29,
          31,
          33,
          35,
          37,
          39,
          41,
          43,
          45,
          47,
          49,
          51,
          53,
          55,
          57,
          59,
          61,
          63,
          65,
          67,
          69
         ],
         "y": [
          5.2154,
          4.82759,
          4.51613,
          4.24242,
          4,
          3.78378,
          3.58974,
          3.41463,
          3.25581,
          3.11111,
          2.97872,
          2.85714,
          2.7451,
          2.64151,
          2.54545,
          2.45614,
          2.37288,
          2.29508,
          2.22222,
          2.15385,
          2.08955,
          2.02899
         ],
         "z": [
          0.43,
          0.43,
          0.43,
          0.43,
          0.43,
          0.43,
          0.43,
          0.43,
          0.43,
          0.43,
          0.43,
          0.43,
          0.43,
          0.43,
          0.43,
          0.43,
          0.43,
          0.43,
          0.43,
          0.43,
          0.43,
          0.43
         ]
        },
        {
         "mode": "lines",
         "name": "Temps entre clients: 0.44 min",
         "type": "scatter3d",
         "x": [
          27,
          29,
          31,
          33,
          35,
          37,
          39,
          41,
          43,
          45,
          47,
          49,
          51,
          53,
          55,
          57,
          59,
          61,
          63,
          65,
          67,
          69
         ],
         "y": [
          5.18609,
          4.82759,
          4.51613,
          4.24242,
          4,
          3.78378,
          3.58974,
          3.41463,
          3.25581,
          3.11111,
          2.97872,
          2.85714,
          2.7451,
          2.64151,
          2.54545,
          2.45614,
          2.37288,
          2.29508,
          2.22222,
          2.15385,
          2.08955,
          2.02899
         ],
         "z": [
          0.44,
          0.44,
          0.44,
          0.44,
          0.44,
          0.44,
          0.44,
          0.44,
          0.44,
          0.44,
          0.44,
          0.44,
          0.44,
          0.44,
          0.44,
          0.44,
          0.44,
          0.44,
          0.44,
          0.44,
          0.44,
          0.44
         ]
        },
        {
         "mode": "lines",
         "name": "Temps entre clients: 0.45 min",
         "type": "scatter3d",
         "x": [
          25,
          27,
          29,
          31,
          33,
          35,
          37,
          39,
          41,
          43,
          45,
          47,
          49,
          51,
          53,
          55,
          57,
          59,
          61,
          63,
          65,
          67,
          69
         ],
         "y": [
          9.23548,
          5.1852,
          4.82759,
          4.51613,
          4.24242,
          4,
          3.78378,
          3.58974,
          3.41463,
          3.25581,
          3.11111,
          2.97872,
          2.85714,
          2.7451,
          2.64151,
          2.54545,
          2.45614,
          2.37288,
          2.29508,
          2.22222,
          2.15385,
          2.08955,
          2.02899
         ],
         "z": [
          0.45,
          0.45,
          0.45,
          0.45,
          0.45,
          0.45,
          0.45,
          0.45,
          0.45,
          0.45,
          0.45,
          0.45,
          0.45,
          0.45,
          0.45,
          0.45,
          0.45,
          0.45,
          0.45,
          0.45,
          0.45,
          0.45,
          0.45
         ]
        },
        {
         "mode": "lines",
         "name": "Temps entre clients: 0.46 min",
         "type": "scatter3d",
         "x": [
          25,
          27,
          29,
          31,
          33,
          35,
          37,
          39,
          41,
          43,
          45,
          47,
          49,
          51,
          53,
          55,
          57,
          59,
          61,
          63,
          65,
          67,
          69
         ],
         "y": [
          5.72293,
          5.18519,
          4.82759,
          4.51613,
          4.24242,
          4,
          3.78378,
          3.58974,
          3.41463,
          3.25581,
          3.11111,
          2.97872,
          2.85714,
          2.7451,
          2.64151,
          2.54545,
          2.45614,
          2.37288,
          2.29508,
          2.22222,
          2.15385,
          2.08955,
          2.02899
         ],
         "z": [
          0.46,
          0.46,
          0.46,
          0.46,
          0.46,
          0.46,
          0.46,
          0.46,
          0.46,
          0.46,
          0.46,
          0.46,
          0.46,
          0.46,
          0.46,
          0.46,
          0.46,
          0.46,
          0.46,
          0.46,
          0.46,
          0.46,
          0.46
         ]
        },
        {
         "mode": "lines",
         "name": "Temps entre clients: 0.47000000000000003 min",
         "type": "scatter3d",
         "x": [
          25,
          27,
          29,
          31,
          33,
          35,
          37,
          39,
          41,
          43,
          45,
          47,
          49,
          51,
          53,
          55,
          57,
          59,
          61,
          63,
          65,
          67,
          69
         ],
         "y": [
          5.6074,
          5.18519,
          4.82759,
          4.51613,
          4.24242,
          4,
          3.78378,
          3.58974,
          3.41463,
          3.25581,
          3.11111,
          2.97872,
          2.85714,
          2.7451,
          2.64151,
          2.54545,
          2.45614,
          2.37288,
          2.29508,
          2.22222,
          2.15385,
          2.08955,
          2.02899
         ],
         "z": [
          0.47000000000000003,
          0.47000000000000003,
          0.47000000000000003,
          0.47000000000000003,
          0.47000000000000003,
          0.47000000000000003,
          0.47000000000000003,
          0.47000000000000003,
          0.47000000000000003,
          0.47000000000000003,
          0.47000000000000003,
          0.47000000000000003,
          0.47000000000000003,
          0.47000000000000003,
          0.47000000000000003,
          0.47000000000000003,
          0.47000000000000003,
          0.47000000000000003,
          0.47000000000000003,
          0.47000000000000003,
          0.47000000000000003,
          0.47000000000000003,
          0.47000000000000003
         ]
        },
        {
         "mode": "lines",
         "name": "Temps entre clients: 0.48 min",
         "type": "scatter3d",
         "x": [
          25,
          27,
          29,
          31,
          33,
          35,
          37,
          39,
          41,
          43,
          45,
          47,
          49,
          51,
          53,
          55,
          57,
          59,
          61,
          63,
          65,
          67,
          69
         ],
         "y": [
          5.60025,
          5.18519,
          4.82759,
          4.51613,
          4.24242,
          4,
          3.78378,
          3.58974,
          3.41463,
          3.25581,
          3.11111,
          2.97872,
          2.85714,
          2.7451,
          2.64151,
          2.54545,
          2.45614,
          2.37288,
          2.29508,
          2.22222,
          2.15385,
          2.08955,
          2.02899
         ],
         "z": [
          0.48,
          0.48,
          0.48,
          0.48,
          0.48,
          0.48,
          0.48,
          0.48,
          0.48,
          0.48,
          0.48,
          0.48,
          0.48,
          0.48,
          0.48,
          0.48,
          0.48,
          0.48,
          0.48,
          0.48,
          0.48,
          0.48,
          0.48
         ]
        },
        {
         "mode": "lines",
         "name": "Temps entre clients: 0.49 min",
         "type": "scatter3d",
         "x": [
          23,
          25,
          27,
          29,
          31,
          33,
          35,
          37,
          39,
          41,
          43,
          45,
          47,
          49,
          51,
          53,
          55,
          57,
          59,
          61,
          63,
          65,
          67,
          69
         ],
         "y": [
          8.59395,
          5.6,
          5.18519,
          4.82759,
          4.51613,
          4.24242,
          4,
          3.78378,
          3.58974,
          3.41463,
          3.25581,
          3.11111,
          2.97872,
          2.85714,
          2.7451,
          2.64151,
          2.54545,
          2.45614,
          2.37288,
          2.29508,
          2.22222,
          2.15385,
          2.08955,
          2.02899
         ],
         "z": [
          0.49,
          0.49,
          0.49,
          0.49,
          0.49,
          0.49,
          0.49,
          0.49,
          0.49,
          0.49,
          0.49,
          0.49,
          0.49,
          0.49,
          0.49,
          0.49,
          0.49,
          0.49,
          0.49,
          0.49,
          0.49,
          0.49,
          0.49,
          0.49
         ]
        },
        {
         "mode": "lines",
         "name": "Temps entre clients: 0.5 min",
         "type": "scatter3d",
         "x": [
          23,
          25,
          27,
          29,
          31,
          33,
          35,
          37,
          39,
          41,
          43,
          45,
          47,
          49,
          51,
          53,
          55,
          57,
          59,
          61,
          63,
          65,
          67,
          69
         ],
         "y": [
          6.23316,
          5.6,
          5.18519,
          4.82759,
          4.51613,
          4.24242,
          4,
          3.78378,
          3.58974,
          3.41463,
          3.25581,
          3.11111,
          2.97872,
          2.85714,
          2.7451,
          2.64151,
          2.54545,
          2.45614,
          2.37288,
          2.29508,
          2.22222,
          2.15385,
          2.08955,
          2.02899
         ],
         "z": [
          0.5,
          0.5,
          0.5,
          0.5,
          0.5,
          0.5,
          0.5,
          0.5,
          0.5,
          0.5,
          0.5,
          0.5,
          0.5,
          0.5,
          0.5,
          0.5,
          0.5,
          0.5,
          0.5,
          0.5,
          0.5,
          0.5,
          0.5,
          0.5
         ]
        },
        {
         "mode": "lines",
         "name": "Temps entre clients: 0.51 min",
         "type": "scatter3d",
         "x": [
          23,
          25,
          27,
          29,
          31,
          33,
          35,
          37,
          39,
          41,
          43,
          45,
          47,
          49,
          51,
          53,
          55,
          57,
          59,
          61,
          63,
          65,
          67,
          69
         ],
         "y": [
          6.09982,
          5.6,
          5.18519,
          4.82759,
          4.51613,
          4.24242,
          4,
          3.78378,
          3.58974,
          3.41463,
          3.25581,
          3.11111,
          2.97872,
          2.85714,
          2.7451,
          2.64151,
          2.54545,
          2.45614,
          2.37288,
          2.29508,
          2.22222,
          2.15385,
          2.08955,
          2.02899
         ],
         "z": [
          0.51,
          0.51,
          0.51,
          0.51,
          0.51,
          0.51,
          0.51,
          0.51,
          0.51,
          0.51,
          0.51,
          0.51,
          0.51,
          0.51,
          0.51,
          0.51,
          0.51,
          0.51,
          0.51,
          0.51,
          0.51,
          0.51,
          0.51,
          0.51
         ]
        },
        {
         "mode": "lines",
         "name": "Temps entre clients: 0.52 min",
         "type": "scatter3d",
         "x": [
          23,
          25,
          27,
          29,
          31,
          33,
          35,
          37,
          39,
          41,
          43,
          45,
          47,
          49,
          51,
          53,
          55,
          57,
          59,
          61,
          63,
          65,
          67,
          69
         ],
         "y": [
          6.0877,
          5.6,
          5.18519,
          4.82759,
          4.51613,
          4.24242,
          4,
          3.78378,
          3.58974,
          3.41463,
          3.25581,
          3.11111,
          2.97872,
          2.85714,
          2.7451,
          2.64151,
          2.54545,
          2.45614,
          2.37288,
          2.29508,
          2.22222,
          2.15385,
          2.08955,
          2.02899
         ],
         "z": [
          0.52,
          0.52,
          0.52,
          0.52,
          0.52,
          0.52,
          0.52,
          0.52,
          0.52,
          0.52,
          0.52,
          0.52,
          0.52,
          0.52,
          0.52,
          0.52,
          0.52,
          0.52,
          0.52,
          0.52,
          0.52,
          0.52,
          0.52,
          0.52
         ]
        },
        {
         "mode": "lines",
         "name": "Temps entre clients: 0.53 min",
         "type": "scatter3d",
         "x": [
          23,
          25,
          27,
          29,
          31,
          33,
          35,
          37,
          39,
          41,
          43,
          45,
          47,
          49,
          51,
          53,
          55,
          57,
          59,
          61,
          63,
          65,
          67,
          69
         ],
         "y": [
          6.08698,
          5.6,
          5.18519,
          4.82759,
          4.51613,
          4.24242,
          4,
          3.78378,
          3.58974,
          3.41463,
          3.25581,
          3.11111,
          2.97872,
          2.85714,
          2.7451,
          2.64151,
          2.54545,
          2.45614,
          2.37288,
          2.29508,
          2.22222,
          2.15385,
          2.08955,
          2.02899
         ],
         "z": [
          0.53,
          0.53,
          0.53,
          0.53,
          0.53,
          0.53,
          0.53,
          0.53,
          0.53,
          0.53,
          0.53,
          0.53,
          0.53,
          0.53,
          0.53,
          0.53,
          0.53,
          0.53,
          0.53,
          0.53,
          0.53,
          0.53,
          0.53,
          0.53
         ]
        },
        {
         "mode": "lines",
         "name": "Temps entre clients: 0.54 min",
         "type": "scatter3d",
         "x": [
          21,
          23,
          25,
          27,
          29,
          31,
          33,
          35,
          37,
          39,
          41,
          43,
          45,
          47,
          49,
          51,
          53,
          55,
          57,
          59,
          61,
          63,
          65,
          67,
          69
         ],
         "y": [
          7.60574,
          6.08696,
          5.6,
          5.18519,
          4.82759,
          4.51613,
          4.24242,
          4,
          3.78378,
          3.58974,
          3.41463,
          3.25581,
          3.11111,
          2.97872,
          2.85714,
          2.7451,
          2.64151,
          2.54545,
          2.45614,
          2.37288,
          2.29508,
          2.22222,
          2.15385,
          2.08955,
          2.02899
         ],
         "z": [
          0.54,
          0.54,
          0.54,
          0.54,
          0.54,
          0.54,
          0.54,
          0.54,
          0.54,
          0.54,
          0.54,
          0.54,
          0.54,
          0.54,
          0.54,
          0.54,
          0.54,
          0.54,
          0.54,
          0.54,
          0.54,
          0.54,
          0.54,
          0.54,
          0.54
         ]
        },
        {
         "mode": "lines",
         "name": "Temps entre clients: 0.55 min",
         "type": "scatter3d",
         "x": [
          21,
          23,
          25,
          27,
          29,
          31,
          33,
          35,
          37,
          39,
          41,
          43,
          45,
          47,
          49,
          51,
          53,
          55,
          57,
          59,
          61,
          63,
          65,
          67,
          69
         ],
         "y": [
          6.77522,
          6.08696,
          5.6,
          5.18519,
          4.82759,
          4.51613,
          4.24242,
          4,
          3.78378,
          3.58974,
          3.41463,
          3.25581,
          3.11111,
          2.97872,
          2.85714,
          2.7451,
          2.64151,
          2.54545,
          2.45614,
          2.37288,
          2.29508,
          2.22222,
          2.15385,
          2.08955,
          2.02899
         ],
         "z": [
          0.55,
          0.55,
          0.55,
          0.55,
          0.55,
          0.55,
          0.55,
          0.55,
          0.55,
          0.55,
          0.55,
          0.55,
          0.55,
          0.55,
          0.55,
          0.55,
          0.55,
          0.55,
          0.55,
          0.55,
          0.55,
          0.55,
          0.55,
          0.55,
          0.55
         ]
        },
        {
         "mode": "lines",
         "name": "Temps entre clients: 0.56 min",
         "type": "scatter3d",
         "x": [
          21,
          23,
          25,
          27,
          29,
          31,
          33,
          35,
          37,
          39,
          41,
          43,
          45,
          47,
          49,
          51,
          53,
          55,
          57,
          59,
          61,
          63,
          65,
          67,
          69
         ],
         "y": [
          6.6795,
          6.08696,
          5.6,
          5.18519,
          4.82759,
          4.51613,
          4.24242,
          4,
          3.78378,
          3.58974,
          3.41463,
          3.25581,
          3.11111,
          2.97872,
          2.85714,
          2.7451,
          2.64151,
          2.54545,
          2.45614,
          2.37288,
          2.29508,
          2.22222,
          2.15385,
          2.08955,
          2.02899
         ],
         "z": [
          0.56,
          0.56,
          0.56,
          0.56,
          0.56,
          0.56,
          0.56,
          0.56,
          0.56,
          0.56,
          0.56,
          0.56,
          0.56,
          0.56,
          0.56,
          0.56,
          0.56,
          0.56,
          0.56,
          0.56,
          0.56,
          0.56,
          0.56,
          0.56,
          0.56
         ]
        },
        {
         "mode": "lines",
         "name": "Temps entre clients: 0.5700000000000001 min",
         "type": "scatter3d",
         "x": [
          21,
          23,
          25,
          27,
          29,
          31,
          33,
          35,
          37,
          39,
          41,
          43,
          45,
          47,
          49,
          51,
          53,
          55,
          57,
          59,
          61,
          63,
          65,
          67,
          69
         ],
         "y": [
          6.66777,
          6.08696,
          5.6,
          5.18519,
          4.82759,
          4.51613,
          4.24242,
          4,
          3.78378,
          3.58974,
          3.41463,
          3.25581,
          3.11111,
          2.97872,
          2.85714,
          2.7451,
          2.64151,
          2.54545,
          2.45614,
          2.37288,
          2.29508,
          2.22222,
          2.15385,
          2.08955,
          2.02899
         ],
         "z": [
          0.5700000000000001,
          0.5700000000000001,
          0.5700000000000001,
          0.5700000000000001,
          0.5700000000000001,
          0.5700000000000001,
          0.5700000000000001,
          0.5700000000000001,
          0.5700000000000001,
          0.5700000000000001,
          0.5700000000000001,
          0.5700000000000001,
          0.5700000000000001,
          0.5700000000000001,
          0.5700000000000001,
          0.5700000000000001,
          0.5700000000000001,
          0.5700000000000001,
          0.5700000000000001,
          0.5700000000000001,
          0.5700000000000001,
          0.5700000000000001,
          0.5700000000000001,
          0.5700000000000001,
          0.5700000000000001
         ]
        },
        {
         "mode": "lines",
         "name": "Temps entre clients: 0.58 min",
         "type": "scatter3d",
         "x": [
          21,
          23,
          25,
          27,
          29,
          31,
          33,
          35,
          37,
          39,
          41,
          43,
          45,
          47,
          49,
          51,
          53,
          55,
          57,
          59,
          61,
          63,
          65,
          67,
          69
         ],
         "y": [
          6.66673,
          6.08696,
          5.6,
          5.18519,
          4.82759,
          4.51613,
          4.24242,
          4,
          3.78378,
          3.58974,
          3.41463,
          3.25581,
          3.11111,
          2.97872,
          2.85714,
          2.7451,
          2.64151,
          2.54545,
          2.45614,
          2.37288,
          2.29508,
          2.22222,
          2.15385,
          2.08955,
          2.02899
         ],
         "z": [
          0.58,
          0.58,
          0.58,
          0.58,
          0.58,
          0.58,
          0.58,
          0.58,
          0.58,
          0.58,
          0.58,
          0.58,
          0.58,
          0.58,
          0.58,
          0.58,
          0.58,
          0.58,
          0.58,
          0.58,
          0.58,
          0.58,
          0.58,
          0.58,
          0.58
         ]
        },
        {
         "mode": "lines",
         "name": "Temps entre clients: 0.59 min",
         "type": "scatter3d",
         "x": [
          19,
          21,
          23,
          25,
          27,
          29,
          31,
          33,
          35,
          37,
          39,
          41,
          43,
          45,
          47,
          49,
          51,
          53,
          55,
          57,
          59,
          61,
          63,
          65,
          67,
          69
         ],
         "y": [
          40.97024,
          6.66667,
          6.08696,
          5.6,
          5.18519,
          4.82759,
          4.51613,
          4.24242,
          4,
          3.78378,
          3.58974,
          3.41463,
          3.25581,
          3.11111,
          2.97872,
          2.85714,
          2.7451,
          2.64151,
          2.54545,
          2.45614,
          2.37288,
          2.29508,
          2.22222,
          2.15385,
          2.08955,
          2.02899
         ],
         "z": [
          0.59,
          0.59,
          0.59,
          0.59,
          0.59,
          0.59,
          0.59,
          0.59,
          0.59,
          0.59,
          0.59,
          0.59,
          0.59,
          0.59,
          0.59,
          0.59,
          0.59,
          0.59,
          0.59,
          0.59,
          0.59,
          0.59,
          0.59,
          0.59,
          0.59,
          0.59
         ]
        },
        {
         "mode": "lines",
         "name": "Temps entre clients: 0.6 min",
         "type": "scatter3d",
         "x": [
          19,
          21,
          23,
          25,
          27,
          29,
          31,
          33,
          35,
          37,
          39,
          41,
          43,
          45,
          47,
          49,
          51,
          53,
          55,
          57,
          59,
          61,
          63,
          65,
          67,
          69
         ],
         "y": [
          7.92176,
          6.66667,
          6.08696,
          5.6,
          5.18519,
          4.82759,
          4.51613,
          4.24242,
          4,
          3.78378,
          3.58974,
          3.41463,
          3.25581,
          3.11111,
          2.97872,
          2.85714,
          2.7451,
          2.64151,
          2.54545,
          2.45614,
          2.37288,
          2.29508,
          2.22222,
          2.15385,
          2.08955,
          2.02899
         ],
         "z": [
          0.6,
          0.6,
          0.6,
          0.6,
          0.6,
          0.6,
          0.6,
          0.6,
          0.6,
          0.6,
          0.6,
          0.6,
          0.6,
          0.6,
          0.6,
          0.6,
          0.6,
          0.6,
          0.6,
          0.6,
          0.6,
          0.6,
          0.6,
          0.6,
          0.6,
          0.6
         ]
        },
        {
         "mode": "lines",
         "name": "Temps entre clients: 0.61 min",
         "type": "scatter3d",
         "x": [
          19,
          21,
          23,
          25,
          27,
          29,
          31,
          33,
          35,
          37,
          39,
          41,
          43,
          45,
          47,
          49,
          51,
          53,
          55,
          57,
          59,
          61,
          63,
          65,
          67,
          69
         ],
         "y": [
          7.46208,
          6.66667,
          6.08696,
          5.6,
          5.18519,
          4.82759,
          4.51613,
          4.24242,
          4,
          3.78378,
          3.58974,
          3.41463,
          3.25581,
          3.11111,
          2.97872,
          2.85714,
          2.7451,
          2.64151,
          2.54545,
          2.45614,
          2.37288,
          2.29508,
          2.22222,
          2.15385,
          2.08955,
          2.02899
         ],
         "z": [
          0.61,
          0.61,
          0.61,
          0.61,
          0.61,
          0.61,
          0.61,
          0.61,
          0.61,
          0.61,
          0.61,
          0.61,
          0.61,
          0.61,
          0.61,
          0.61,
          0.61,
          0.61,
          0.61,
          0.61,
          0.61,
          0.61,
          0.61,
          0.61,
          0.61,
          0.61
         ]
        },
        {
         "mode": "lines",
         "name": "Temps entre clients: 0.62 min",
         "type": "scatter3d",
         "x": [
          19,
          21,
          23,
          25,
          27,
          29,
          31,
          33,
          35,
          37,
          39,
          41,
          43,
          45,
          47,
          49,
          51,
          53,
          55,
          57,
          59,
          61,
          63,
          65,
          67,
          69
         ],
         "y": [
          7.38336,
          6.66667,
          6.08696,
          5.6,
          5.18519,
          4.82759,
          4.51613,
          4.24242,
          4,
          3.78378,
          3.58974,
          3.41463,
          3.25581,
          3.11111,
          2.97872,
          2.85714,
          2.7451,
          2.64151,
          2.54545,
          2.45614,
          2.37288,
          2.29508,
          2.22222,
          2.15385,
          2.08955,
          2.02899
         ],
         "z": [
          0.62,
          0.62,
          0.62,
          0.62,
          0.62,
          0.62,
          0.62,
          0.62,
          0.62,
          0.62,
          0.62,
          0.62,
          0.62,
          0.62,
          0.62,
          0.62,
          0.62,
          0.62,
          0.62,
          0.62,
          0.62,
          0.62,
          0.62,
          0.62,
          0.62,
          0.62
         ]
        },
        {
         "mode": "lines",
         "name": "Temps entre clients: 0.63 min",
         "type": "scatter3d",
         "x": [
          19,
          21,
          23,
          25,
          27,
          29,
          31,
          33,
          35,
          37,
          39,
          41,
          43,
          45,
          47,
          49,
          51,
          53,
          55,
          57,
          59,
          61,
          63,
          65,
          67,
          69
         ],
         "y": [
          7.37031,
          6.66667,
          6.08696,
          5.6,
          5.18519,
          4.82759,
          4.51613,
          4.24242,
          4,
          3.78378,
          3.58974,
          3.41463,
          3.25581,
          3.11111,
          2.97872,
          2.85714,
          2.7451,
          2.64151,
          2.54545,
          2.45614,
          2.37288,
          2.29508,
          2.22222,
          2.15385,
          2.08955,
          2.02899
         ],
         "z": [
          0.63,
          0.63,
          0.63,
          0.63,
          0.63,
          0.63,
          0.63,
          0.63,
          0.63,
          0.63,
          0.63,
          0.63,
          0.63,
          0.63,
          0.63,
          0.63,
          0.63,
          0.63,
          0.63,
          0.63,
          0.63,
          0.63,
          0.63,
          0.63,
          0.63,
          0.63
         ]
        },
        {
         "mode": "lines",
         "name": "Temps entre clients: 0.64 min",
         "type": "scatter3d",
         "x": [
          19,
          21,
          23,
          25,
          27,
          29,
          31,
          33,
          35,
          37,
          39,
          41,
          43,
          45,
          47,
          49,
          51,
          53,
          55,
          57,
          59,
          61,
          63,
          65,
          67,
          69
         ],
         "y": [
          7.3686,
          6.66667,
          6.08696,
          5.6,
          5.18519,
          4.82759,
          4.51613,
          4.24242,
          4,
          3.78378,
          3.58974,
          3.41463,
          3.25581,
          3.11111,
          2.97872,
          2.85714,
          2.7451,
          2.64151,
          2.54545,
          2.45614,
          2.37288,
          2.29508,
          2.22222,
          2.15385,
          2.08955,
          2.02899
         ],
         "z": [
          0.64,
          0.64,
          0.64,
          0.64,
          0.64,
          0.64,
          0.64,
          0.64,
          0.64,
          0.64,
          0.64,
          0.64,
          0.64,
          0.64,
          0.64,
          0.64,
          0.64,
          0.64,
          0.64,
          0.64,
          0.64,
          0.64,
          0.64,
          0.64,
          0.64,
          0.64
         ]
        },
        {
         "mode": "lines",
         "name": "Temps entre clients: 0.65 min",
         "type": "scatter3d",
         "x": [
          19,
          21,
          23,
          25,
          27,
          29,
          31,
          33,
          35,
          37,
          39,
          41,
          43,
          45,
          47,
          49,
          51,
          53,
          55,
          57,
          59,
          61,
          63,
          65,
          67,
          69
         ],
         "y": [
          7.36843,
          6.66667,
          6.08696,
          5.6,
          5.18519,
          4.82759,
          4.51613,
          4.24242,
          4,
          3.78378,
          3.58974,
          3.41463,
          3.25581,
          3.11111,
          2.97872,
          2.85714,
          2.7451,
          2.64151,
          2.54545,
          2.45614,
          2.37288,
          2.29508,
          2.22222,
          2.15385,
          2.08955,
          2.02899
         ],
         "z": [
          0.65,
          0.65,
          0.65,
          0.65,
          0.65,
          0.65,
          0.65,
          0.65,
          0.65,
          0.65,
          0.65,
          0.65,
          0.65,
          0.65,
          0.65,
          0.65,
          0.65,
          0.65,
          0.65,
          0.65,
          0.65,
          0.65,
          0.65,
          0.65,
          0.65,
          0.65
         ]
        },
        {
         "mode": "lines",
         "name": "Temps entre clients: 0.66 min",
         "type": "scatter3d",
         "x": [
          17,
          19,
          21,
          23,
          25,
          27,
          29,
          31,
          33,
          35,
          37,
          39,
          41,
          43,
          45,
          47,
          49,
          51,
          53,
          55,
          57,
          59,
          61,
          63,
          65,
          67,
          69
         ],
         "y": [
          25.70738,
          7.36842,
          6.66667,
          6.08696,
          5.6,
          5.18519,
          4.82759,
          4.51613,
          4.24242,
          4,
          3.78378,
          3.58974,
          3.41463,
          3.25581,
          3.11111,
          2.97872,
          2.85714,
          2.7451,
          2.64151,
          2.54545,
          2.45614,
          2.37288,
          2.29508,
          2.22222,
          2.15385,
          2.08955,
          2.02899
         ],
         "z": [
          0.66,
          0.66,
          0.66,
          0.66,
          0.66,
          0.66,
          0.66,
          0.66,
          0.66,
          0.66,
          0.66,
          0.66,
          0.66,
          0.66,
          0.66,
          0.66,
          0.66,
          0.66,
          0.66,
          0.66,
          0.66,
          0.66,
          0.66,
          0.66,
          0.66,
          0.66,
          0.66
         ]
        },
        {
         "mode": "lines",
         "name": "Temps entre clients: 0.67 min",
         "type": "scatter3d",
         "x": [
          17,
          19,
          21,
          23,
          25,
          27,
          29,
          31,
          33,
          35,
          37,
          39,
          41,
          43,
          45,
          47,
          49,
          51,
          53,
          55,
          57,
          59,
          61,
          63,
          65,
          67,
          69
         ],
         "y": [
          8.95979,
          7.36842,
          6.66667,
          6.08696,
          5.6,
          5.18519,
          4.82759,
          4.51613,
          4.24242,
          4,
          3.78378,
          3.58974,
          3.41463,
          3.25581,
          3.11111,
          2.97872,
          2.85714,
          2.7451,
          2.64151,
          2.54545,
          2.45614,
          2.37288,
          2.29508,
          2.22222,
          2.15385,
          2.08955,
          2.02899
         ],
         "z": [
          0.67,
          0.67,
          0.67,
          0.67,
          0.67,
          0.67,
          0.67,
          0.67,
          0.67,
          0.67,
          0.67,
          0.67,
          0.67,
          0.67,
          0.67,
          0.67,
          0.67,
          0.67,
          0.67,
          0.67,
          0.67,
          0.67,
          0.67,
          0.67,
          0.67,
          0.67,
          0.67
         ]
        },
        {
         "mode": "lines",
         "name": "Temps entre clients: 0.68 min",
         "type": "scatter3d",
         "x": [
          17,
          19,
          21,
          23,
          25,
          27,
          29,
          31,
          33,
          35,
          37,
          39,
          41,
          43,
          45,
          47,
          49,
          51,
          53,
          55,
          57,
          59,
          61,
          63,
          65,
          67,
          69
         ],
         "y": [
          8.39171,
          7.36842,
          6.66667,
          6.08696,
          5.6,
          5.18519,
          4.82759,
          4.51613,
          4.24242,
          4,
          3.78378,
          3.58974,
          3.41463,
          3.25581,
          3.11111,
          2.97872,
          2.85714,
          2.7451,
          2.64151,
          2.54545,
          2.45614,
          2.37288,
          2.29508,
          2.22222,
          2.15385,
          2.08955,
          2.02899
         ],
         "z": [
          0.68,
          0.68,
          0.68,
          0.68,
          0.68,
          0.68,
          0.68,
          0.68,
          0.68,
          0.68,
          0.68,
          0.68,
          0.68,
          0.68,
          0.68,
          0.68,
          0.68,
          0.68,
          0.68,
          0.68,
          0.68,
          0.68,
          0.68,
          0.68,
          0.68,
          0.68,
          0.68
         ]
        },
        {
         "mode": "lines",
         "name": "Temps entre clients: 0.6900000000000001 min",
         "type": "scatter3d",
         "x": [
          17,
          19,
          21,
          23,
          25,
          27,
          29,
          31,
          33,
          35,
          37,
          39,
          41,
          43,
          45,
          47,
          49,
          51,
          53,
          55,
          57,
          59,
          61,
          63,
          65,
          67,
          69
         ],
         "y": [
          8.27025,
          7.36842,
          6.66667,
          6.08696,
          5.6,
          5.18519,
          4.82759,
          4.51613,
          4.24242,
          4,
          3.78378,
          3.58974,
          3.41463,
          3.25581,
          3.11111,
          2.97872,
          2.85714,
          2.7451,
          2.64151,
          2.54545,
          2.45614,
          2.37288,
          2.29508,
          2.22222,
          2.15385,
          2.08955,
          2.02899
         ],
         "z": [
          0.6900000000000001,
          0.6900000000000001,
          0.6900000000000001,
          0.6900000000000001,
          0.6900000000000001,
          0.6900000000000001,
          0.6900000000000001,
          0.6900000000000001,
          0.6900000000000001,
          0.6900000000000001,
          0.6900000000000001,
          0.6900000000000001,
          0.6900000000000001,
          0.6900000000000001,
          0.6900000000000001,
          0.6900000000000001,
          0.6900000000000001,
          0.6900000000000001,
          0.6900000000000001,
          0.6900000000000001,
          0.6900000000000001,
          0.6900000000000001,
          0.6900000000000001,
          0.6900000000000001,
          0.6900000000000001,
          0.6900000000000001,
          0.6900000000000001
         ]
        },
        {
         "mode": "lines",
         "name": "Temps entre clients: 0.7000000000000001 min",
         "type": "scatter3d",
         "x": [
          17,
          19,
          21,
          23,
          25,
          27,
          29,
          31,
          33,
          35,
          37,
          39,
          41,
          43,
          45,
          47,
          49,
          51,
          53,
          55,
          57,
          59,
          61,
          63,
          65,
          67,
          69
         ],
         "y": [
          8.24208,
          7.36842,
          6.66667,
          6.08696,
          5.6,
          5.18519,
          4.82759,
          4.51613,
          4.24242,
          4,
          3.78378,
          3.58974,
          3.41463,
          3.25581,
          3.11111,
          2.97872,
          2.85714,
          2.7451,
          2.64151,
          2.54545,
          2.45614,
          2.37288,
          2.29508,
          2.22222,
          2.15385,
          2.08955,
          2.02899
         ],
         "z": [
          0.7000000000000001,
          0.7000000000000001,
          0.7000000000000001,
          0.7000000000000001,
          0.7000000000000001,
          0.7000000000000001,
          0.7000000000000001,
          0.7000000000000001,
          0.7000000000000001,
          0.7000000000000001,
          0.7000000000000001,
          0.7000000000000001,
          0.7000000000000001,
          0.7000000000000001,
          0.7000000000000001,
          0.7000000000000001,
          0.7000000000000001,
          0.7000000000000001,
          0.7000000000000001,
          0.7000000000000001,
          0.7000000000000001,
          0.7000000000000001,
          0.7000000000000001,
          0.7000000000000001,
          0.7000000000000001,
          0.7000000000000001,
          0.7000000000000001
         ]
        },
        {
         "mode": "lines",
         "name": "Temps entre clients: 0.71 min",
         "type": "scatter3d",
         "x": [
          17,
          19,
          21,
          23,
          25,
          27,
          29,
          31,
          33,
          35,
          37,
          39,
          41,
          43,
          45,
          47,
          49,
          51,
          53,
          55,
          57,
          59,
          61,
          63,
          65,
          67,
          69
         ],
         "y": [
          8.23639,
          7.36842,
          6.66667,
          6.08696,
          5.6,
          5.18519,
          4.82759,
          4.51613,
          4.24242,
          4,
          3.78378,
          3.58974,
          3.41463,
          3.25581,
          3.11111,
          2.97872,
          2.85714,
          2.7451,
          2.64151,
          2.54545,
          2.45614,
          2.37288,
          2.29508,
          2.22222,
          2.15385,
          2.08955,
          2.02899
         ],
         "z": [
          0.71,
          0.71,
          0.71,
          0.71,
          0.71,
          0.71,
          0.71,
          0.71,
          0.71,
          0.71,
          0.71,
          0.71,
          0.71,
          0.71,
          0.71,
          0.71,
          0.71,
          0.71,
          0.71,
          0.71,
          0.71,
          0.71,
          0.71,
          0.71,
          0.71,
          0.71,
          0.71
         ]
        },
        {
         "mode": "lines",
         "name": "Temps entre clients: 0.72 min",
         "type": "scatter3d",
         "x": [
          17,
          19,
          21,
          23,
          25,
          27,
          29,
          31,
          33,
          35,
          37,
          39,
          41,
          43,
          45,
          47,
          49,
          51,
          53,
          55,
          57,
          59,
          61,
          63,
          65,
          67,
          69
         ],
         "y": [
          8.23544,
          7.36842,
          6.66667,
          6.08696,
          5.6,
          5.18519,
          4.82759,
          4.51613,
          4.24242,
          4,
          3.78378,
          3.58974,
          3.41463,
          3.25581,
          3.11111,
          2.97872,
          2.85714,
          2.7451,
          2.64151,
          2.54545,
          2.45614,
          2.37288,
          2.29508,
          2.22222,
          2.15385,
          2.08955,
          2.02899
         ],
         "z": [
          0.72,
          0.72,
          0.72,
          0.72,
          0.72,
          0.72,
          0.72,
          0.72,
          0.72,
          0.72,
          0.72,
          0.72,
          0.72,
          0.72,
          0.72,
          0.72,
          0.72,
          0.72,
          0.72,
          0.72,
          0.72,
          0.72,
          0.72,
          0.72,
          0.72,
          0.72,
          0.72
         ]
        },
        {
         "mode": "lines",
         "name": "Temps entre clients: 0.73 min",
         "type": "scatter3d",
         "x": [
          17,
          19,
          21,
          23,
          25,
          27,
          29,
          31,
          33,
          35,
          37,
          39,
          41,
          43,
          45,
          47,
          49,
          51,
          53,
          55,
          57,
          59,
          61,
          63,
          65,
          67,
          69
         ],
         "y": [
          8.23531,
          7.36842,
          6.66667,
          6.08696,
          5.6,
          5.18519,
          4.82759,
          4.51613,
          4.24242,
          4,
          3.78378,
          3.58974,
          3.41463,
          3.25581,
          3.11111,
          2.97872,
          2.85714,
          2.7451,
          2.64151,
          2.54545,
          2.45614,
          2.37288,
          2.29508,
          2.22222,
          2.15385,
          2.08955,
          2.02899
         ],
         "z": [
          0.73,
          0.73,
          0.73,
          0.73,
          0.73,
          0.73,
          0.73,
          0.73,
          0.73,
          0.73,
          0.73,
          0.73,
          0.73,
          0.73,
          0.73,
          0.73,
          0.73,
          0.73,
          0.73,
          0.73,
          0.73,
          0.73,
          0.73,
          0.73,
          0.73,
          0.73,
          0.73
         ]
        },
        {
         "mode": "lines",
         "name": "Temps entre clients: 0.74 min",
         "type": "scatter3d",
         "x": [
          17,
          19,
          21,
          23,
          25,
          27,
          29,
          31,
          33,
          35,
          37,
          39,
          41,
          43,
          45,
          47,
          49,
          51,
          53,
          55,
          57,
          59,
          61,
          63,
          65,
          67,
          69
         ],
         "y": [
          8.2353,
          7.36842,
          6.66667,
          6.08696,
          5.6,
          5.18519,
          4.82759,
          4.51613,
          4.24242,
          4,
          3.78378,
          3.58974,
          3.41463,
          3.25581,
          3.11111,
          2.97872,
          2.85714,
          2.7451,
          2.64151,
          2.54545,
          2.45614,
          2.37288,
          2.29508,
          2.22222,
          2.15385,
          2.08955,
          2.02899
         ],
         "z": [
          0.74,
          0.74,
          0.74,
          0.74,
          0.74,
          0.74,
          0.74,
          0.74,
          0.74,
          0.74,
          0.74,
          0.74,
          0.74,
          0.74,
          0.74,
          0.74,
          0.74,
          0.74,
          0.74,
          0.74,
          0.74,
          0.74,
          0.74,
          0.74,
          0.74,
          0.74,
          0.74
         ]
        },
        {
         "mode": "lines",
         "name": "Temps entre clients: 0.75 min",
         "type": "scatter3d",
         "x": [
          15,
          17,
          19,
          21,
          23,
          25,
          27,
          29,
          31,
          33,
          35,
          37,
          39,
          41,
          43,
          45,
          47,
          49,
          51,
          53,
          55,
          57,
          59,
          61,
          63,
          65,
          67,
          69
         ],
         "y": [
          15.92995,
          8.23529,
          7.36842,
          6.66667,
          6.08696,
          5.6,
          5.18519,
          4.82759,
          4.51613,
          4.24242,
          4,
          3.78378,
          3.58974,
          3.41463,
          3.25581,
          3.11111,
          2.97872,
          2.85714,
          2.7451,
          2.64151,
          2.54545,
          2.45614,
          2.37288,
          2.29508,
          2.22222,
          2.15385,
          2.08955,
          2.02899
         ],
         "z": [
          0.75,
          0.75,
          0.75,
          0.75,
          0.75,
          0.75,
          0.75,
          0.75,
          0.75,
          0.75,
          0.75,
          0.75,
          0.75,
          0.75,
          0.75,
          0.75,
          0.75,
          0.75,
          0.75,
          0.75,
          0.75,
          0.75,
          0.75,
          0.75,
          0.75,
          0.75,
          0.75,
          0.75
         ]
        },
        {
         "mode": "lines",
         "name": "Temps entre clients: 0.76 min",
         "type": "scatter3d",
         "x": [
          15,
          17,
          19,
          21,
          23,
          25,
          27,
          29,
          31,
          33,
          35,
          37,
          39,
          41,
          43,
          45,
          47,
          49,
          51,
          53,
          55,
          57,
          59,
          61,
          63,
          65,
          67,
          69
         ],
         "y": [
          10.12308,
          8.23529,
          7.36842,
          6.66667,
          6.08696,
          5.6,
          5.18519,
          4.82759,
          4.51613,
          4.24242,
          4,
          3.78378,
          3.58974,
          3.41463,
          3.25581,
          3.11111,
          2.97872,
          2.85714,
          2.7451,
          2.64151,
          2.54545,
          2.45614,
          2.37288,
          2.29508,
          2.22222,
          2.15385,
          2.08955,
          2.02899
         ],
         "z": [
          0.76,
          0.76,
          0.76,
          0.76,
          0.76,
          0.76,
          0.76,
          0.76,
          0.76,
          0.76,
          0.76,
          0.76,
          0.76,
          0.76,
          0.76,
          0.76,
          0.76,
          0.76,
          0.76,
          0.76,
          0.76,
          0.76,
          0.76,
          0.76,
          0.76,
          0.76,
          0.76,
          0.76
         ]
        },
        {
         "mode": "lines",
         "name": "Temps entre clients: 0.77 min",
         "type": "scatter3d",
         "x": [
          15,
          17,
          19,
          21,
          23,
          25,
          27,
          29,
          31,
          33,
          35,
          37,
          39,
          41,
          43,
          45,
          47,
          49,
          51,
          53,
          55,
          57,
          59,
          61,
          63,
          65,
          67,
          69
         ],
         "y": [
          9.5522,
          8.23529,
          7.36842,
          6.66667,
          6.08696,
          5.6,
          5.18519,
          4.82759,
          4.51613,
          4.24242,
          4,
          3.78378,
          3.58974,
          3.41463,
          3.25581,
          3.11111,
          2.97872,
          2.85714,
          2.7451,
          2.64151,
          2.54545,
          2.45614,
          2.37288,
          2.29508,
          2.22222,
          2.15385,
          2.08955,
          2.02899
         ],
         "z": [
          0.77,
          0.77,
          0.77,
          0.77,
          0.77,
          0.77,
          0.77,
          0.77,
          0.77,
          0.77,
          0.77,
          0.77,
          0.77,
          0.77,
          0.77,
          0.77,
          0.77,
          0.77,
          0.77,
          0.77,
          0.77,
          0.77,
          0.77,
          0.77,
          0.77,
          0.77,
          0.77,
          0.77
         ]
        },
        {
         "mode": "lines",
         "name": "Temps entre clients: 0.78 min",
         "type": "scatter3d",
         "x": [
          15,
          17,
          19,
          21,
          23,
          25,
          27,
          29,
          31,
          33,
          35,
          37,
          39,
          41,
          43,
          45,
          47,
          49,
          51,
          53,
          55,
          57,
          59,
          61,
          63,
          65,
          67,
          69
         ],
         "y": [
          9.39803,
          8.23529,
          7.36842,
          6.66667,
          6.08696,
          5.6,
          5.18519,
          4.82759,
          4.51613,
          4.24242,
          4,
          3.78378,
          3.58974,
          3.41463,
          3.25581,
          3.11111,
          2.97872,
          2.85714,
          2.7451,
          2.64151,
          2.54545,
          2.45614,
          2.37288,
          2.29508,
          2.22222,
          2.15385,
          2.08955,
          2.02899
         ],
         "z": [
          0.78,
          0.78,
          0.78,
          0.78,
          0.78,
          0.78,
          0.78,
          0.78,
          0.78,
          0.78,
          0.78,
          0.78,
          0.78,
          0.78,
          0.78,
          0.78,
          0.78,
          0.78,
          0.78,
          0.78,
          0.78,
          0.78,
          0.78,
          0.78,
          0.78,
          0.78,
          0.78,
          0.78
         ]
        },
        {
         "mode": "lines",
         "name": "Temps entre clients: 0.79 min",
         "type": "scatter3d",
         "x": [
          15,
          17,
          19,
          21,
          23,
          25,
          27,
          29,
          31,
          33,
          35,
          37,
          39,
          41,
          43,
          45,
          47,
          49,
          51,
          53,
          55,
          57,
          59,
          61,
          63,
          65,
          67,
          69
         ],
         "y": [
          9.35108,
          8.23529,
          7.36842,
          6.66667,
          6.08696,
          5.6,
          5.18519,
          4.82759,
          4.51613,
          4.24242,
          4,
          3.78378,
          3.58974,
          3.41463,
          3.25581,
          3.11111,
          2.97872,
          2.85714,
          2.7451,
          2.64151,
          2.54545,
          2.45614,
          2.37288,
          2.29508,
          2.22222,
          2.15385,
          2.08955,
          2.02899
         ],
         "z": [
          0.79,
          0.79,
          0.79,
          0.79,
          0.79,
          0.79,
          0.79,
          0.79,
          0.79,
          0.79,
          0.79,
          0.79,
          0.79,
          0.79,
          0.79,
          0.79,
          0.79,
          0.79,
          0.79,
          0.79,
          0.79,
          0.79,
          0.79,
          0.79,
          0.79,
          0.79,
          0.79,
          0.79
         ]
        },
        {
         "mode": "lines",
         "name": "Temps entre clients: 0.8 min",
         "type": "scatter3d",
         "x": [
          15,
          17,
          19,
          21,
          23,
          25,
          27,
          29,
          31,
          33,
          35,
          37,
          39,
          41,
          43,
          45,
          47,
          49,
          51,
          53,
          55,
          57,
          59,
          61,
          63,
          65,
          67,
          69
         ],
         "y": [
          9.33769,
          8.23529,
          7.36842,
          6.66667,
          6.08696,
          5.6,
          5.18519,
          4.82759,
          4.51613,
          4.24242,
          4,
          3.78378,
          3.58974,
          3.41463,
          3.25581,
          3.11111,
          2.97872,
          2.85714,
          2.7451,
          2.64151,
          2.54545,
          2.45614,
          2.37288,
          2.29508,
          2.22222,
          2.15385,
          2.08955,
          2.02899
         ],
         "z": [
          0.8,
          0.8,
          0.8,
          0.8,
          0.8,
          0.8,
          0.8,
          0.8,
          0.8,
          0.8,
          0.8,
          0.8,
          0.8,
          0.8,
          0.8,
          0.8,
          0.8,
          0.8,
          0.8,
          0.8,
          0.8,
          0.8,
          0.8,
          0.8,
          0.8,
          0.8,
          0.8,
          0.8
         ]
        },
        {
         "mode": "lines",
         "name": "Temps entre clients: 0.81 min",
         "type": "scatter3d",
         "x": [
          15,
          17,
          19,
          21,
          23,
          25,
          27,
          29,
          31,
          33,
          35,
          37,
          39,
          41,
          43,
          45,
          47,
          49,
          51,
          53,
          55,
          57,
          59,
          61,
          63,
          65,
          67,
          69
         ],
         "y": [
          9.33428,
          8.23529,
          7.36842,
          6.66667,
          6.08696,
          5.6,
          5.18519,
          4.82759,
          4.51613,
          4.24242,
          4,
          3.78378,
          3.58974,
          3.41463,
          3.25581,
          3.11111,
          2.97872,
          2.85714,
          2.7451,
          2.64151,
          2.54545,
          2.45614,
          2.37288,
          2.29508,
          2.22222,
          2.15385,
          2.08955,
          2.02899
         ],
         "z": [
          0.81,
          0.81,
          0.81,
          0.81,
          0.81,
          0.81,
          0.81,
          0.81,
          0.81,
          0.81,
          0.81,
          0.81,
          0.81,
          0.81,
          0.81,
          0.81,
          0.81,
          0.81,
          0.81,
          0.81,
          0.81,
          0.81,
          0.81,
          0.81,
          0.81,
          0.81,
          0.81,
          0.81
         ]
        },
        {
         "mode": "lines",
         "name": "Temps entre clients: 0.8200000000000001 min",
         "type": "scatter3d",
         "x": [
          15,
          17,
          19,
          21,
          23,
          25,
          27,
          29,
          31,
          33,
          35,
          37,
          39,
          41,
          43,
          45,
          47,
          49,
          51,
          53,
          55,
          57,
          59,
          61,
          63,
          65,
          67,
          69
         ],
         "y": [
          9.33351,
          8.23529,
          7.36842,
          6.66667,
          6.08696,
          5.6,
          5.18519,
          4.82759,
          4.51613,
          4.24242,
          4,
          3.78378,
          3.58974,
          3.41463,
          3.25581,
          3.11111,
          2.97872,
          2.85714,
          2.7451,
          2.64151,
          2.54545,
          2.45614,
          2.37288,
          2.29508,
          2.22222,
          2.15385,
          2.08955,
          2.02899
         ],
         "z": [
          0.8200000000000001,
          0.8200000000000001,
          0.8200000000000001,
          0.8200000000000001,
          0.8200000000000001,
          0.8200000000000001,
          0.8200000000000001,
          0.8200000000000001,
          0.8200000000000001,
          0.8200000000000001,
          0.8200000000000001,
          0.8200000000000001,
          0.8200000000000001,
          0.8200000000000001,
          0.8200000000000001,
          0.8200000000000001,
          0.8200000000000001,
          0.8200000000000001,
          0.8200000000000001,
          0.8200000000000001,
          0.8200000000000001,
          0.8200000000000001,
          0.8200000000000001,
          0.8200000000000001,
          0.8200000000000001,
          0.8200000000000001,
          0.8200000000000001,
          0.8200000000000001
         ]
        },
        {
         "mode": "lines",
         "name": "Temps entre clients: 0.8300000000000001 min",
         "type": "scatter3d",
         "x": [
          15,
          17,
          19,
          21,
          23,
          25,
          27,
          29,
          31,
          33,
          35,
          37,
          39,
          41,
          43,
          45,
          47,
          49,
          51,
          53,
          55,
          57,
          59,
          61,
          63,
          65,
          67,
          69
         ],
         "y": [
          9.33336,
          8.23529,
          7.36842,
          6.66667,
          6.08696,
          5.6,
          5.18519,
          4.82759,
          4.51613,
          4.24242,
          4,
          3.78378,
          3.58974,
          3.41463,
          3.25581,
          3.11111,
          2.97872,
          2.85714,
          2.7451,
          2.64151,
          2.54545,
          2.45614,
          2.37288,
          2.29508,
          2.22222,
          2.15385,
          2.08955,
          2.02899
         ],
         "z": [
          0.8300000000000001,
          0.8300000000000001,
          0.8300000000000001,
          0.8300000000000001,
          0.8300000000000001,
          0.8300000000000001,
          0.8300000000000001,
          0.8300000000000001,
          0.8300000000000001,
          0.8300000000000001,
          0.8300000000000001,
          0.8300000000000001,
          0.8300000000000001,
          0.8300000000000001,
          0.8300000000000001,
          0.8300000000000001,
          0.8300000000000001,
          0.8300000000000001,
          0.8300000000000001,
          0.8300000000000001,
          0.8300000000000001,
          0.8300000000000001,
          0.8300000000000001,
          0.8300000000000001,
          0.8300000000000001,
          0.8300000000000001,
          0.8300000000000001,
          0.8300000000000001
         ]
        },
        {
         "mode": "lines",
         "name": "Temps entre clients: 0.84 min",
         "type": "scatter3d",
         "x": [
          15,
          17,
          19,
          21,
          23,
          25,
          27,
          29,
          31,
          33,
          35,
          37,
          39,
          41,
          43,
          45,
          47,
          49,
          51,
          53,
          55,
          57,
          59,
          61,
          63,
          65,
          67,
          69
         ],
         "y": [
          9.33334,
          8.23529,
          7.36842,
          6.66667,
          6.08696,
          5.6,
          5.18519,
          4.82759,
          4.51613,
          4.24242,
          4,
          3.78378,
          3.58974,
          3.41463,
          3.25581,
          3.11111,
          2.97872,
          2.85714,
          2.7451,
          2.64151,
          2.54545,
          2.45614,
          2.37288,
          2.29508,
          2.22222,
          2.15385,
          2.08955,
          2.02899
         ],
         "z": [
          0.84,
          0.84,
          0.84,
          0.84,
          0.84,
          0.84,
          0.84,
          0.84,
          0.84,
          0.84,
          0.84,
          0.84,
          0.84,
          0.84,
          0.84,
          0.84,
          0.84,
          0.84,
          0.84,
          0.84,
          0.84,
          0.84,
          0.84,
          0.84,
          0.84,
          0.84,
          0.84,
          0.84
         ]
        },
        {
         "mode": "lines",
         "name": "Temps entre clients: 0.85 min",
         "type": "scatter3d",
         "x": [
          15,
          17,
          19,
          21,
          23,
          25,
          27,
          29,
          31,
          33,
          35,
          37,
          39,
          41,
          43,
          45,
          47,
          49,
          51,
          53,
          55,
          57,
          59,
          61,
          63,
          65,
          67,
          69
         ],
         "y": [
          9.33333,
          8.23529,
          7.36842,
          6.66667,
          6.08696,
          5.6,
          5.18519,
          4.82759,
          4.51613,
          4.24242,
          4,
          3.78378,
          3.58974,
          3.41463,
          3.25581,
          3.11111,
          2.97872,
          2.85714,
          2.7451,
          2.64151,
          2.54545,
          2.45614,
          2.37288,
          2.29508,
          2.22222,
          2.15385,
          2.08955,
          2.02899
         ],
         "z": [
          0.85,
          0.85,
          0.85,
          0.85,
          0.85,
          0.85,
          0.85,
          0.85,
          0.85,
          0.85,
          0.85,
          0.85,
          0.85,
          0.85,
          0.85,
          0.85,
          0.85,
          0.85,
          0.85,
          0.85,
          0.85,
          0.85,
          0.85,
          0.85,
          0.85,
          0.85,
          0.85,
          0.85
         ]
        },
        {
         "mode": "lines",
         "name": "Temps entre clients: 0.86 min",
         "type": "scatter3d",
         "x": [
          15,
          17,
          19,
          21,
          23,
          25,
          27,
          29,
          31,
          33,
          35,
          37,
          39,
          41,
          43,
          45,
          47,
          49,
          51,
          53,
          55,
          57,
          59,
          61,
          63,
          65,
          67,
          69
         ],
         "y": [
          9.33333,
          8.23529,
          7.36842,
          6.66667,
          6.08696,
          5.6,
          5.18519,
          4.82759,
          4.51613,
          4.24242,
          4,
          3.78378,
          3.58974,
          3.41463,
          3.25581,
          3.11111,
          2.97872,
          2.85714,
          2.7451,
          2.64151,
          2.54545,
          2.45614,
          2.37288,
          2.29508,
          2.22222,
          2.15385,
          2.08955,
          2.02899
         ],
         "z": [
          0.86,
          0.86,
          0.86,
          0.86,
          0.86,
          0.86,
          0.86,
          0.86,
          0.86,
          0.86,
          0.86,
          0.86,
          0.86,
          0.86,
          0.86,
          0.86,
          0.86,
          0.86,
          0.86,
          0.86,
          0.86,
          0.86,
          0.86,
          0.86,
          0.86,
          0.86,
          0.86,
          0.86
         ]
        },
        {
         "mode": "lines",
         "name": "Temps entre clients: 0.87 min",
         "type": "scatter3d",
         "x": [
          13,
          15,
          17,
          19,
          21,
          23,
          25,
          27,
          29,
          31,
          33,
          35,
          37,
          39,
          41,
          43,
          45,
          47,
          49,
          51,
          53,
          55,
          57,
          59,
          61,
          63,
          65,
          67,
          69
         ],
         "y": [
          13.3845,
          9.33333,
          8.23529,
          7.36842,
          6.66667,
          6.08696,
          5.6,
          5.18519,
          4.82759,
          4.51613,
          4.24242,
          4,
          3.78378,
          3.58974,
          3.41463,
          3.25581,
          3.11111,
          2.97872,
          2.85714,
          2.7451,
          2.64151,
          2.54545,
          2.45614,
          2.37288,
          2.29508,
          2.22222,
          2.15385,
          2.08955,
          2.02899
         ],
         "z": [
          0.87,
          0.87,
          0.87,
          0.87,
          0.87,
          0.87,
          0.87,
          0.87,
          0.87,
          0.87,
          0.87,
          0.87,
          0.87,
          0.87,
          0.87,
          0.87,
          0.87,
          0.87,
          0.87,
          0.87,
          0.87,
          0.87,
          0.87,
          0.87,
          0.87,
          0.87,
          0.87,
          0.87,
          0.87
         ]
        },
        {
         "mode": "lines",
         "name": "Temps entre clients: 0.88 min",
         "type": "scatter3d",
         "x": [
          13,
          15,
          17,
          19,
          21,
          23,
          25,
          27,
          29,
          31,
          33,
          35,
          37,
          39,
          41,
          43,
          45,
          47,
          49,
          51,
          53,
          55,
          57,
          59,
          61,
          63,
          65,
          67,
          69
         ],
         "y": [
          11.4532,
          9.33333,
          8.23529,
          7.36842,
          6.66667,
          6.08696,
          5.6,
          5.18519,
          4.82759,
          4.51613,
          4.24242,
          4,
          3.78378,
          3.58974,
          3.41463,
          3.25581,
          3.11111,
          2.97872,
          2.85714,
          2.7451,
          2.64151,
          2.54545,
          2.45614,
          2.37288,
          2.29508,
          2.22222,
          2.15385,
          2.08955,
          2.02899
         ],
         "z": [
          0.88,
          0.88,
          0.88,
          0.88,
          0.88,
          0.88,
          0.88,
          0.88,
          0.88,
          0.88,
          0.88,
          0.88,
          0.88,
          0.88,
          0.88,
          0.88,
          0.88,
          0.88,
          0.88,
          0.88,
          0.88,
          0.88,
          0.88,
          0.88,
          0.88,
          0.88,
          0.88,
          0.88,
          0.88
         ]
        },
        {
         "mode": "lines",
         "name": "Temps entre clients: 0.89 min",
         "type": "scatter3d",
         "x": [
          13,
          15,
          17,
          19,
          21,
          23,
          25,
          27,
          29,
          31,
          33,
          35,
          37,
          39,
          41,
          43,
          45,
          47,
          49,
          51,
          53,
          55,
          57,
          59,
          61,
          63,
          65,
          67,
          69
         ],
         "y": [
          11.01648,
          9.33333,
          8.23529,
          7.36842,
          6.66667,
          6.08696,
          5.6,
          5.18519,
          4.82759,
          4.51613,
          4.24242,
          4,
          3.78378,
          3.58974,
          3.41463,
          3.25581,
          3.11111,
          2.97872,
          2.85714,
          2.7451,
          2.64151,
          2.54545,
          2.45614,
          2.37288,
          2.29508,
          2.22222,
          2.15385,
          2.08955,
          2.02899
         ],
         "z": [
          0.89,
          0.89,
          0.89,
          0.89,
          0.89,
          0.89,
          0.89,
          0.89,
          0.89,
          0.89,
          0.89,
          0.89,
          0.89,
          0.89,
          0.89,
          0.89,
          0.89,
          0.89,
          0.89,
          0.89,
          0.89,
          0.89,
          0.89,
          0.89,
          0.89,
          0.89,
          0.89,
          0.89,
          0.89
         ]
        },
        {
         "mode": "lines",
         "name": "Temps entre clients: 0.9 min",
         "type": "scatter3d",
         "x": [
          13,
          15,
          17,
          19,
          21,
          23,
          25,
          27,
          29,
          31,
          33,
          35,
          37,
          39,
          41,
          43,
          45,
          47,
          49,
          51,
          53,
          55,
          57,
          59,
          61,
          63,
          65,
          67,
          69
         ],
         "y": [
          10.86251,
          9.33333,
          8.23529,
          7.36842,
          6.66667,
          6.08696,
          5.6,
          5.18519,
          4.82759,
          4.51613,
          4.24242,
          4,
          3.78378,
          3.58974,
          3.41463,
          3.25581,
          3.11111,
          2.97872,
          2.85714,
          2.7451,
          2.64151,
          2.54545,
          2.45614,
          2.37288,
          2.29508,
          2.22222,
          2.15385,
          2.08955,
          2.02899
         ],
         "z": [
          0.9,
          0.9,
          0.9,
          0.9,
          0.9,
          0.9,
          0.9,
          0.9,
          0.9,
          0.9,
          0.9,
          0.9,
          0.9,
          0.9,
          0.9,
          0.9,
          0.9,
          0.9,
          0.9,
          0.9,
          0.9,
          0.9,
          0.9,
          0.9,
          0.9,
          0.9,
          0.9,
          0.9,
          0.9
         ]
        },
        {
         "mode": "lines",
         "name": "Temps entre clients: 0.91 min",
         "type": "scatter3d",
         "x": [
          13,
          15,
          17,
          19,
          21,
          23,
          25,
          27,
          29,
          31,
          33,
          35,
          37,
          39,
          41,
          43,
          45,
          47,
          49,
          51,
          53,
          55,
          57,
          59,
          61,
          63,
          65,
          67,
          69
         ],
         "y": [
          10.80313,
          9.33333,
          8.23529,
          7.36842,
          6.66667,
          6.08696,
          5.6,
          5.18519,
          4.82759,
          4.51613,
          4.24242,
          4,
          3.78378,
          3.58974,
          3.41463,
          3.25581,
          3.11111,
          2.97872,
          2.85714,
          2.7451,
          2.64151,
          2.54545,
          2.45614,
          2.37288,
          2.29508,
          2.22222,
          2.15385,
          2.08955,
          2.02899
         ],
         "z": [
          0.91,
          0.91,
          0.91,
          0.91,
          0.91,
          0.91,
          0.91,
          0.91,
          0.91,
          0.91,
          0.91,
          0.91,
          0.91,
          0.91,
          0.91,
          0.91,
          0.91,
          0.91,
          0.91,
          0.91,
          0.91,
          0.91,
          0.91,
          0.91,
          0.91,
          0.91,
          0.91,
          0.91,
          0.91
         ]
        },
        {
         "mode": "lines",
         "name": "Temps entre clients: 0.92 min",
         "type": "scatter3d",
         "x": [
          13,
          15,
          17,
          19,
          21,
          23,
          25,
          27,
          29,
          31,
          33,
          35,
          37,
          39,
          41,
          43,
          45,
          47,
          49,
          51,
          53,
          55,
          57,
          59,
          61,
          63,
          65,
          67,
          69
         ],
         "y": [
          10.78078,
          9.33333,
          8.23529,
          7.36842,
          6.66667,
          6.08696,
          5.6,
          5.18519,
          4.82759,
          4.51613,
          4.24242,
          4,
          3.78378,
          3.58974,
          3.41463,
          3.25581,
          3.11111,
          2.97872,
          2.85714,
          2.7451,
          2.64151,
          2.54545,
          2.45614,
          2.37288,
          2.29508,
          2.22222,
          2.15385,
          2.08955,
          2.02899
         ],
         "z": [
          0.92,
          0.92,
          0.92,
          0.92,
          0.92,
          0.92,
          0.92,
          0.92,
          0.92,
          0.92,
          0.92,
          0.92,
          0.92,
          0.92,
          0.92,
          0.92,
          0.92,
          0.92,
          0.92,
          0.92,
          0.92,
          0.92,
          0.92,
          0.92,
          0.92,
          0.92,
          0.92,
          0.92,
          0.92
         ]
        },
        {
         "mode": "lines",
         "name": "Temps entre clients: 0.93 min",
         "type": "scatter3d",
         "x": [
          13,
          15,
          17,
          19,
          21,
          23,
          25,
          27,
          29,
          31,
          33,
          35,
          37,
          39,
          41,
          43,
          45,
          47,
          49,
          51,
          53,
          55,
          57,
          59,
          61,
          63,
          65,
          67,
          69
         ],
         "y": [
          10.77288,
          9.33333,
          8.23529,
          7.36842,
          6.66667,
          6.08696,
          5.6,
          5.18519,
          4.82759,
          4.51613,
          4.24242,
          4,
          3.78378,
          3.58974,
          3.41463,
          3.25581,
          3.11111,
          2.97872,
          2.85714,
          2.7451,
          2.64151,
          2.54545,
          2.45614,
          2.37288,
          2.29508,
          2.22222,
          2.15385,
          2.08955,
          2.02899
         ],
         "z": [
          0.93,
          0.93,
          0.93,
          0.93,
          0.93,
          0.93,
          0.93,
          0.93,
          0.93,
          0.93,
          0.93,
          0.93,
          0.93,
          0.93,
          0.93,
          0.93,
          0.93,
          0.93,
          0.93,
          0.93,
          0.93,
          0.93,
          0.93,
          0.93,
          0.93,
          0.93,
          0.93,
          0.93,
          0.93
         ]
        },
        {
         "mode": "lines",
         "name": "Temps entre clients: 0.9400000000000001 min",
         "type": "scatter3d",
         "x": [
          13,
          15,
          17,
          19,
          21,
          23,
          25,
          27,
          29,
          31,
          33,
          35,
          37,
          39,
          41,
          43,
          45,
          47,
          49,
          51,
          53,
          55,
          57,
          59,
          61,
          63,
          65,
          67,
          69
         ],
         "y": [
          10.7703,
          9.33333,
          8.23529,
          7.36842,
          6.66667,
          6.08696,
          5.6,
          5.18519,
          4.82759,
          4.51613,
          4.24242,
          4,
          3.78378,
          3.58974,
          3.41463,
          3.25581,
          3.11111,
          2.97872,
          2.85714,
          2.7451,
          2.64151,
          2.54545,
          2.45614,
          2.37288,
          2.29508,
          2.22222,
          2.15385,
          2.08955,
          2.02899
         ],
         "z": [
          0.9400000000000001,
          0.9400000000000001,
          0.9400000000000001,
          0.9400000000000001,
          0.9400000000000001,
          0.9400000000000001,
          0.9400000000000001,
          0.9400000000000001,
          0.9400000000000001,
          0.9400000000000001,
          0.9400000000000001,
          0.9400000000000001,
          0.9400000000000001,
          0.9400000000000001,
          0.9400000000000001,
          0.9400000000000001,
          0.9400000000000001,
          0.9400000000000001,
          0.9400000000000001,
          0.9400000000000001,
          0.9400000000000001,
          0.9400000000000001,
          0.9400000000000001,
          0.9400000000000001,
          0.9400000000000001,
          0.9400000000000001,
          0.9400000000000001,
          0.9400000000000001,
          0.9400000000000001
         ]
        },
        {
         "mode": "lines",
         "name": "Temps entre clients: 0.9500000000000001 min",
         "type": "scatter3d",
         "x": [
          13,
          15,
          17,
          19,
          21,
          23,
          25,
          27,
          29,
          31,
          33,
          35,
          37,
          39,
          41,
          43,
          45,
          47,
          49,
          51,
          53,
          55,
          57,
          59,
          61,
          63,
          65,
          67,
          69
         ],
         "y": [
          10.76952,
          9.33333,
          8.23529,
          7.36842,
          6.66667,
          6.08696,
          5.6,
          5.18519,
          4.82759,
          4.51613,
          4.24242,
          4,
          3.78378,
          3.58974,
          3.41463,
          3.25581,
          3.11111,
          2.97872,
          2.85714,
          2.7451,
          2.64151,
          2.54545,
          2.45614,
          2.37288,
          2.29508,
          2.22222,
          2.15385,
          2.08955,
          2.02899
         ],
         "z": [
          0.9500000000000001,
          0.9500000000000001,
          0.9500000000000001,
          0.9500000000000001,
          0.9500000000000001,
          0.9500000000000001,
          0.9500000000000001,
          0.9500000000000001,
          0.9500000000000001,
          0.9500000000000001,
          0.9500000000000001,
          0.9500000000000001,
          0.9500000000000001,
          0.9500000000000001,
          0.9500000000000001,
          0.9500000000000001,
          0.9500000000000001,
          0.9500000000000001,
          0.9500000000000001,
          0.9500000000000001,
          0.9500000000000001,
          0.9500000000000001,
          0.9500000000000001,
          0.9500000000000001,
          0.9500000000000001,
          0.9500000000000001,
          0.9500000000000001,
          0.9500000000000001,
          0.9500000000000001
         ]
        },
        {
         "mode": "lines",
         "name": "Temps entre clients: 0.96 min",
         "type": "scatter3d",
         "x": [
          13,
          15,
          17,
          19,
          21,
          23,
          25,
          27,
          29,
          31,
          33,
          35,
          37,
          39,
          41,
          43,
          45,
          47,
          49,
          51,
          53,
          55,
          57,
          59,
          61,
          63,
          65,
          67,
          69
         ],
         "y": [
          10.7693,
          9.33333,
          8.23529,
          7.36842,
          6.66667,
          6.08696,
          5.6,
          5.18519,
          4.82759,
          4.51613,
          4.24242,
          4,
          3.78378,
          3.58974,
          3.41463,
          3.25581,
          3.11111,
          2.97872,
          2.85714,
          2.7451,
          2.64151,
          2.54545,
          2.45614,
          2.37288,
          2.29508,
          2.22222,
          2.15385,
          2.08955,
          2.02899
         ],
         "z": [
          0.96,
          0.96,
          0.96,
          0.96,
          0.96,
          0.96,
          0.96,
          0.96,
          0.96,
          0.96,
          0.96,
          0.96,
          0.96,
          0.96,
          0.96,
          0.96,
          0.96,
          0.96,
          0.96,
          0.96,
          0.96,
          0.96,
          0.96,
          0.96,
          0.96,
          0.96,
          0.96,
          0.96,
          0.96
         ]
        },
        {
         "mode": "lines",
         "name": "Temps entre clients: 0.97 min",
         "type": "scatter3d",
         "x": [
          13,
          15,
          17,
          19,
          21,
          23,
          25,
          27,
          29,
          31,
          33,
          35,
          37,
          39,
          41,
          43,
          45,
          47,
          49,
          51,
          53,
          55,
          57,
          59,
          61,
          63,
          65,
          67,
          69
         ],
         "y": [
          10.76925,
          9.33333,
          8.23529,
          7.36842,
          6.66667,
          6.08696,
          5.6,
          5.18519,
          4.82759,
          4.51613,
          4.24242,
          4,
          3.78378,
          3.58974,
          3.41463,
          3.25581,
          3.11111,
          2.97872,
          2.85714,
          2.7451,
          2.64151,
          2.54545,
          2.45614,
          2.37288,
          2.29508,
          2.22222,
          2.15385,
          2.08955,
          2.02899
         ],
         "z": [
          0.97,
          0.97,
          0.97,
          0.97,
          0.97,
          0.97,
          0.97,
          0.97,
          0.97,
          0.97,
          0.97,
          0.97,
          0.97,
          0.97,
          0.97,
          0.97,
          0.97,
          0.97,
          0.97,
          0.97,
          0.97,
          0.97,
          0.97,
          0.97,
          0.97,
          0.97,
          0.97,
          0.97,
          0.97
         ]
        },
        {
         "mode": "lines",
         "name": "Temps entre clients: 0.98 min",
         "type": "scatter3d",
         "x": [
          13,
          15,
          17,
          19,
          21,
          23,
          25,
          27,
          29,
          31,
          33,
          35,
          37,
          39,
          41,
          43,
          45,
          47,
          49,
          51,
          53,
          55,
          57,
          59,
          61,
          63,
          65,
          67,
          69
         ],
         "y": [
          10.76923,
          9.33333,
          8.23529,
          7.36842,
          6.66667,
          6.08696,
          5.6,
          5.18519,
          4.82759,
          4.51613,
          4.24242,
          4,
          3.78378,
          3.58974,
          3.41463,
          3.25581,
          3.11111,
          2.97872,
          2.85714,
          2.7451,
          2.64151,
          2.54545,
          2.45614,
          2.37288,
          2.29508,
          2.22222,
          2.15385,
          2.08955,
          2.02899
         ],
         "z": [
          0.98,
          0.98,
          0.98,
          0.98,
          0.98,
          0.98,
          0.98,
          0.98,
          0.98,
          0.98,
          0.98,
          0.98,
          0.98,
          0.98,
          0.98,
          0.98,
          0.98,
          0.98,
          0.98,
          0.98,
          0.98,
          0.98,
          0.98,
          0.98,
          0.98,
          0.98,
          0.98,
          0.98,
          0.98
         ]
        },
        {
         "mode": "lines",
         "name": "Temps entre clients: 0.99 min",
         "type": "scatter3d",
         "x": [
          13,
          15,
          17,
          19,
          21,
          23,
          25,
          27,
          29,
          31,
          33,
          35,
          37,
          39,
          41,
          43,
          45,
          47,
          49,
          51,
          53,
          55,
          57,
          59,
          61,
          63,
          65,
          67,
          69
         ],
         "y": [
          10.76923,
          9.33333,
          8.23529,
          7.36842,
          6.66667,
          6.08696,
          5.6,
          5.18519,
          4.82759,
          4.51613,
          4.24242,
          4,
          3.78378,
          3.58974,
          3.41463,
          3.25581,
          3.11111,
          2.97872,
          2.85714,
          2.7451,
          2.64151,
          2.54545,
          2.45614,
          2.37288,
          2.29508,
          2.22222,
          2.15385,
          2.08955,
          2.02899
         ],
         "z": [
          0.99,
          0.99,
          0.99,
          0.99,
          0.99,
          0.99,
          0.99,
          0.99,
          0.99,
          0.99,
          0.99,
          0.99,
          0.99,
          0.99,
          0.99,
          0.99,
          0.99,
          0.99,
          0.99,
          0.99,
          0.99,
          0.99,
          0.99,
          0.99,
          0.99,
          0.99,
          0.99,
          0.99,
          0.99
         ]
        }
       ],
       "layout": {
        "height": 600,
        "scene": {
         "xaxis": {
          "title": {
           "text": "Nombre de véhicules"
          }
         },
         "yaxis": {
          "title": {
           "text": "Temps moyen d'attente"
          }
         },
         "zaxis": {
          "title": {
           "text": "Temps entre clients (min)"
          }
         }
        },
        "template": {
         "data": {
          "bar": [
           {
            "error_x": {
             "color": "#2a3f5f"
            },
            "error_y": {
             "color": "#2a3f5f"
            },
            "marker": {
             "line": {
              "color": "#E5ECF6",
              "width": 0.5
             },
             "pattern": {
              "fillmode": "overlay",
              "size": 10,
              "solidity": 0.2
             }
            },
            "type": "bar"
           }
          ],
          "barpolar": [
           {
            "marker": {
             "line": {
              "color": "#E5ECF6",
              "width": 0.5
             },
             "pattern": {
              "fillmode": "overlay",
              "size": 10,
              "solidity": 0.2
             }
            },
            "type": "barpolar"
           }
          ],
          "carpet": [
           {
            "aaxis": {
             "endlinecolor": "#2a3f5f",
             "gridcolor": "white",
             "linecolor": "white",
             "minorgridcolor": "white",
             "startlinecolor": "#2a3f5f"
            },
            "baxis": {
             "endlinecolor": "#2a3f5f",
             "gridcolor": "white",
             "linecolor": "white",
             "minorgridcolor": "white",
             "startlinecolor": "#2a3f5f"
            },
            "type": "carpet"
           }
          ],
          "choropleth": [
           {
            "colorbar": {
             "outlinewidth": 0,
             "ticks": ""
            },
            "type": "choropleth"
           }
          ],
          "contour": [
           {
            "colorbar": {
             "outlinewidth": 0,
             "ticks": ""
            },
            "colorscale": [
             [
              0,
              "#0d0887"
             ],
             [
              0.1111111111111111,
              "#46039f"
             ],
             [
              0.2222222222222222,
              "#7201a8"
             ],
             [
              0.3333333333333333,
              "#9c179e"
             ],
             [
              0.4444444444444444,
              "#bd3786"
             ],
             [
              0.5555555555555556,
              "#d8576b"
             ],
             [
              0.6666666666666666,
              "#ed7953"
             ],
             [
              0.7777777777777778,
              "#fb9f3a"
             ],
             [
              0.8888888888888888,
              "#fdca26"
             ],
             [
              1,
              "#f0f921"
             ]
            ],
            "type": "contour"
           }
          ],
          "contourcarpet": [
           {
            "colorbar": {
             "outlinewidth": 0,
             "ticks": ""
            },
            "type": "contourcarpet"
           }
          ],
          "heatmap": [
           {
            "colorbar": {
             "outlinewidth": 0,
             "ticks": ""
            },
            "colorscale": [
             [
              0,
              "#0d0887"
             ],
             [
              0.1111111111111111,
              "#46039f"
             ],
             [
              0.2222222222222222,
              "#7201a8"
             ],
             [
              0.3333333333333333,
              "#9c179e"
             ],
             [
              0.4444444444444444,
              "#bd3786"
             ],
             [
              0.5555555555555556,
              "#d8576b"
             ],
             [
              0.6666666666666666,
              "#ed7953"
             ],
             [
              0.7777777777777778,
              "#fb9f3a"
             ],
             [
              0.8888888888888888,
              "#fdca26"
             ],
             [
              1,
              "#f0f921"
             ]
            ],
            "type": "heatmap"
           }
          ],
          "histogram": [
           {
            "marker": {
             "pattern": {
              "fillmode": "overlay",
              "size": 10,
              "solidity": 0.2
             }
            },
            "type": "histogram"
           }
          ],
          "histogram2d": [
           {
            "colorbar": {
             "outlinewidth": 0,
             "ticks": ""
            },
            "colorscale": [
             [
              0,
              "#0d0887"
             ],
             [
              0.1111111111111111,
              "#46039f"
             ],
             [
              0.2222222222222222,
              "#7201a8"
             ],
             [
              0.3333333333333333,
              "#9c179e"
             ],
             [
              0.4444444444444444,
              "#bd3786"
             ],
             [
              0.5555555555555556,
              "#d8576b"
             ],
             [
              0.6666666666666666,
              "#ed7953"
             ],
             [
              0.7777777777777778,
              "#fb9f3a"
             ],
             [
              0.8888888888888888,
              "#fdca26"
             ],
             [
              1,
              "#f0f921"
             ]
            ],
            "type": "histogram2d"
           }
          ],
          "histogram2dcontour": [
           {
            "colorbar": {
             "outlinewidth": 0,
             "ticks": ""
            },
            "colorscale": [
             [
              0,
              "#0d0887"
             ],
             [
              0.1111111111111111,
              "#46039f"
             ],
             [
              0.2222222222222222,
              "#7201a8"
             ],
             [
              0.3333333333333333,
              "#9c179e"
             ],
             [
              0.4444444444444444,
              "#bd3786"
             ],
             [
              0.5555555555555556,
              "#d8576b"
             ],
             [
              0.6666666666666666,
              "#ed7953"
             ],
             [
              0.7777777777777778,
              "#fb9f3a"
             ],
             [
              0.8888888888888888,
              "#fdca26"
             ],
             [
              1,
              "#f0f921"
             ]
            ],
            "type": "histogram2dcontour"
           }
          ],
          "mesh3d": [
           {
            "colorbar": {
             "outlinewidth": 0,
             "ticks": ""
            },
            "type": "mesh3d"
           }
          ],
          "parcoords": [
           {
            "line": {
             "colorbar": {
              "outlinewidth": 0,
              "ticks": ""
             }
            },
            "type": "parcoords"
           }
          ],
          "pie": [
           {
            "automargin": true,
            "type": "pie"
           }
          ],
          "scatter": [
           {
            "fillpattern": {
             "fillmode": "overlay",
             "size": 10,
             "solidity": 0.2
            },
            "type": "scatter"
           }
          ],
          "scatter3d": [
           {
            "line": {
             "colorbar": {
              "outlinewidth": 0,
              "ticks": ""
             }
            },
            "marker": {
             "colorbar": {
              "outlinewidth": 0,
              "ticks": ""
             }
            },
            "type": "scatter3d"
           }
          ],
          "scattercarpet": [
           {
            "marker": {
             "colorbar": {
              "outlinewidth": 0,
              "ticks": ""
             }
            },
            "type": "scattercarpet"
           }
          ],
          "scattergeo": [
           {
            "marker": {
             "colorbar": {
              "outlinewidth": 0,
              "ticks": ""
             }
            },
            "type": "scattergeo"
           }
          ],
          "scattergl": [
           {
            "marker": {
             "colorbar": {
              "outlinewidth": 0,
              "ticks": ""
             }
            },
            "type": "scattergl"
           }
          ],
          "scattermap": [
           {
            "marker": {
             "colorbar": {
              "outlinewidth": 0,
              "ticks": ""
             }
            },
            "type": "scattermap"
           }
          ],
          "scattermapbox": [
           {
            "marker": {
             "colorbar": {
              "outlinewidth": 0,
              "ticks": ""
             }
            },
            "type": "scattermapbox"
           }
          ],
          "scatterpolar": [
           {
            "marker": {
             "colorbar": {
              "outlinewidth": 0,
              "ticks": ""
             }
            },
            "type": "scatterpolar"
           }
          ],
          "scatterpolargl": [
           {
            "marker": {
             "colorbar": {
              "outlinewidth": 0,
              "ticks": ""
             }
            },
            "type": "scatterpolargl"
           }
          ],
          "scatterternary": [
           {
            "marker": {
             "colorbar": {
              "outlinewidth": 0,
              "ticks": ""
             }
            },
            "type": "scatterternary"
           }
          ],
          "surface": [
           {
            "colorbar": {
             "outlinewidth": 0,
             "ticks": ""
            },
            "colorscale": [
             [
              0,
              "#0d0887"
             ],
             [
              0.1111111111111111,
              "#46039f"
             ],
             [
              0.2222222222222222,
              "#7201a8"
             ],
             [
              0.3333333333333333,
              "#9c179e"
             ],
             [
              0.4444444444444444,
              "#bd3786"
             ],
             [
              0.5555555555555556,
              "#d8576b"
             ],
             [
              0.6666666666666666,
              "#ed7953"
             ],
             [
              0.7777777777777778,
              "#fb9f3a"
             ],
             [
              0.8888888888888888,
              "#fdca26"
             ],
             [
              1,
              "#f0f921"
             ]
            ],
            "type": "surface"
           }
          ],
          "table": [
           {
            "cells": {
             "fill": {
              "color": "#EBF0F8"
             },
             "line": {
              "color": "white"
             }
            },
            "header": {
             "fill": {
              "color": "#C8D4E3"
             },
             "line": {
              "color": "white"
             }
            },
            "type": "table"
           }
          ]
         },
         "layout": {
          "annotationdefaults": {
           "arrowcolor": "#2a3f5f",
           "arrowhead": 0,
           "arrowwidth": 1
          },
          "autotypenumbers": "strict",
          "coloraxis": {
           "colorbar": {
            "outlinewidth": 0,
            "ticks": ""
           }
          },
          "colorscale": {
           "diverging": [
            [
             0,
             "#8e0152"
            ],
            [
             0.1,
             "#c51b7d"
            ],
            [
             0.2,
             "#de77ae"
            ],
            [
             0.3,
             "#f1b6da"
            ],
            [
             0.4,
             "#fde0ef"
            ],
            [
             0.5,
             "#f7f7f7"
            ],
            [
             0.6,
             "#e6f5d0"
            ],
            [
             0.7,
             "#b8e186"
            ],
            [
             0.8,
             "#7fbc41"
            ],
            [
             0.9,
             "#4d9221"
            ],
            [
             1,
             "#276419"
            ]
           ],
           "sequential": [
            [
             0,
             "#0d0887"
            ],
            [
             0.1111111111111111,
             "#46039f"
            ],
            [
             0.2222222222222222,
             "#7201a8"
            ],
            [
             0.3333333333333333,
             "#9c179e"
            ],
            [
             0.4444444444444444,
             "#bd3786"
            ],
            [
             0.5555555555555556,
             "#d8576b"
            ],
            [
             0.6666666666666666,
             "#ed7953"
            ],
            [
             0.7777777777777778,
             "#fb9f3a"
            ],
            [
             0.8888888888888888,
             "#fdca26"
            ],
            [
             1,
             "#f0f921"
            ]
           ],
           "sequentialminus": [
            [
             0,
             "#0d0887"
            ],
            [
             0.1111111111111111,
             "#46039f"
            ],
            [
             0.2222222222222222,
             "#7201a8"
            ],
            [
             0.3333333333333333,
             "#9c179e"
            ],
            [
             0.4444444444444444,
             "#bd3786"
            ],
            [
             0.5555555555555556,
             "#d8576b"
            ],
            [
             0.6666666666666666,
             "#ed7953"
            ],
            [
             0.7777777777777778,
             "#fb9f3a"
            ],
            [
             0.8888888888888888,
             "#fdca26"
            ],
            [
             1,
             "#f0f921"
            ]
           ]
          },
          "colorway": [
           "#636efa",
           "#EF553B",
           "#00cc96",
           "#ab63fa",
           "#FFA15A",
           "#19d3f3",
           "#FF6692",
           "#B6E880",
           "#FF97FF",
           "#FECB52"
          ],
          "font": {
           "color": "#2a3f5f"
          },
          "geo": {
           "bgcolor": "white",
           "lakecolor": "white",
           "landcolor": "#E5ECF6",
           "showlakes": true,
           "showland": true,
           "subunitcolor": "white"
          },
          "hoverlabel": {
           "align": "left"
          },
          "hovermode": "closest",
          "mapbox": {
           "style": "light"
          },
          "paper_bgcolor": "white",
          "plot_bgcolor": "#E5ECF6",
          "polar": {
           "angularaxis": {
            "gridcolor": "white",
            "linecolor": "white",
            "ticks": ""
           },
           "bgcolor": "#E5ECF6",
           "radialaxis": {
            "gridcolor": "white",
            "linecolor": "white",
            "ticks": ""
           }
          },
          "scene": {
           "xaxis": {
            "backgroundcolor": "#E5ECF6",
            "gridcolor": "white",
            "gridwidth": 2,
            "linecolor": "white",
            "showbackground": true,
            "ticks": "",
            "zerolinecolor": "white"
           },
           "yaxis": {
            "backgroundcolor": "#E5ECF6",
            "gridcolor": "white",
            "gridwidth": 2,
            "linecolor": "white",
            "showbackground": true,
            "ticks": "",
            "zerolinecolor": "white"
           },
           "zaxis": {
            "backgroundcolor": "#E5ECF6",
            "gridcolor": "white",
            "gridwidth": 2,
            "linecolor": "white",
            "showbackground": true,
            "ticks": "",
            "zerolinecolor": "white"
           }
          },
          "shapedefaults": {
           "line": {
            "color": "#2a3f5f"
           }
          },
          "ternary": {
           "aaxis": {
            "gridcolor": "white",
            "linecolor": "white",
            "ticks": ""
           },
           "baxis": {
            "gridcolor": "white",
            "linecolor": "white",
            "ticks": ""
           },
           "bgcolor": "#E5ECF6",
           "caxis": {
            "gridcolor": "white",
            "linecolor": "white",
            "ticks": ""
           }
          },
          "title": {
           "x": 0.05
          },
          "xaxis": {
           "automargin": true,
           "gridcolor": "white",
           "linecolor": "white",
           "ticks": "",
           "title": {
            "standoff": 15
           },
           "zerolinecolor": "white",
           "zerolinewidth": 2
          },
          "yaxis": {
           "automargin": true,
           "gridcolor": "white",
           "linecolor": "white",
           "ticks": "",
           "title": {
            "standoff": 15
           },
           "zerolinecolor": "white",
           "zerolinewidth": 2
          }
         }
        },
        "title": {
         "text": "Relation entre nombre de véhicules et temps d'attente"
        },
        "width": 900
       }
      }
     },
     "metadata": {},
     "output_type": "display_data"
    },
    {
     "data": {
      "application/vnd.plotly.v1+json": {
       "config": {
        "plotlyServerURL": "https://plot.ly"
       },
       "data": [
        {
         "mode": "lines+markers",
         "name": "0.2 min",
         "type": "scatter",
         "x": [
          57,
          59,
          61,
          63,
          65,
          67,
          69
         ],
         "y": [
          2.5339,
          2.3729,
          2.29508,
          2.22222,
          2.15385,
          2.08955,
          2.02899
         ]
        }
       ],
       "layout": {
        "height": 500,
        "template": {
         "data": {
          "bar": [
           {
            "error_x": {
             "color": "#2a3f5f"
            },
            "error_y": {
             "color": "#2a3f5f"
            },
            "marker": {
             "line": {
              "color": "#E5ECF6",
              "width": 0.5
             },
             "pattern": {
              "fillmode": "overlay",
              "size": 10,
              "solidity": 0.2
             }
            },
            "type": "bar"
           }
          ],
          "barpolar": [
           {
            "marker": {
             "line": {
              "color": "#E5ECF6",
              "width": 0.5
             },
             "pattern": {
              "fillmode": "overlay",
              "size": 10,
              "solidity": 0.2
             }
            },
            "type": "barpolar"
           }
          ],
          "carpet": [
           {
            "aaxis": {
             "endlinecolor": "#2a3f5f",
             "gridcolor": "white",
             "linecolor": "white",
             "minorgridcolor": "white",
             "startlinecolor": "#2a3f5f"
            },
            "baxis": {
             "endlinecolor": "#2a3f5f",
             "gridcolor": "white",
             "linecolor": "white",
             "minorgridcolor": "white",
             "startlinecolor": "#2a3f5f"
            },
            "type": "carpet"
           }
          ],
          "choropleth": [
           {
            "colorbar": {
             "outlinewidth": 0,
             "ticks": ""
            },
            "type": "choropleth"
           }
          ],
          "contour": [
           {
            "colorbar": {
             "outlinewidth": 0,
             "ticks": ""
            },
            "colorscale": [
             [
              0,
              "#0d0887"
             ],
             [
              0.1111111111111111,
              "#46039f"
             ],
             [
              0.2222222222222222,
              "#7201a8"
             ],
             [
              0.3333333333333333,
              "#9c179e"
             ],
             [
              0.4444444444444444,
              "#bd3786"
             ],
             [
              0.5555555555555556,
              "#d8576b"
             ],
             [
              0.6666666666666666,
              "#ed7953"
             ],
             [
              0.7777777777777778,
              "#fb9f3a"
             ],
             [
              0.8888888888888888,
              "#fdca26"
             ],
             [
              1,
              "#f0f921"
             ]
            ],
            "type": "contour"
           }
          ],
          "contourcarpet": [
           {
            "colorbar": {
             "outlinewidth": 0,
             "ticks": ""
            },
            "type": "contourcarpet"
           }
          ],
          "heatmap": [
           {
            "colorbar": {
             "outlinewidth": 0,
             "ticks": ""
            },
            "colorscale": [
             [
              0,
              "#0d0887"
             ],
             [
              0.1111111111111111,
              "#46039f"
             ],
             [
              0.2222222222222222,
              "#7201a8"
             ],
             [
              0.3333333333333333,
              "#9c179e"
             ],
             [
              0.4444444444444444,
              "#bd3786"
             ],
             [
              0.5555555555555556,
              "#d8576b"
             ],
             [
              0.6666666666666666,
              "#ed7953"
             ],
             [
              0.7777777777777778,
              "#fb9f3a"
             ],
             [
              0.8888888888888888,
              "#fdca26"
             ],
             [
              1,
              "#f0f921"
             ]
            ],
            "type": "heatmap"
           }
          ],
          "histogram": [
           {
            "marker": {
             "pattern": {
              "fillmode": "overlay",
              "size": 10,
              "solidity": 0.2
             }
            },
            "type": "histogram"
           }
          ],
          "histogram2d": [
           {
            "colorbar": {
             "outlinewidth": 0,
             "ticks": ""
            },
            "colorscale": [
             [
              0,
              "#0d0887"
             ],
             [
              0.1111111111111111,
              "#46039f"
             ],
             [
              0.2222222222222222,
              "#7201a8"
             ],
             [
              0.3333333333333333,
              "#9c179e"
             ],
             [
              0.4444444444444444,
              "#bd3786"
             ],
             [
              0.5555555555555556,
              "#d8576b"
             ],
             [
              0.6666666666666666,
              "#ed7953"
             ],
             [
              0.7777777777777778,
              "#fb9f3a"
             ],
             [
              0.8888888888888888,
              "#fdca26"
             ],
             [
              1,
              "#f0f921"
             ]
            ],
            "type": "histogram2d"
           }
          ],
          "histogram2dcontour": [
           {
            "colorbar": {
             "outlinewidth": 0,
             "ticks": ""
            },
            "colorscale": [
             [
              0,
              "#0d0887"
             ],
             [
              0.1111111111111111,
              "#46039f"
             ],
             [
              0.2222222222222222,
              "#7201a8"
             ],
             [
              0.3333333333333333,
              "#9c179e"
             ],
             [
              0.4444444444444444,
              "#bd3786"
             ],
             [
              0.5555555555555556,
              "#d8576b"
             ],
             [
              0.6666666666666666,
              "#ed7953"
             ],
             [
              0.7777777777777778,
              "#fb9f3a"
             ],
             [
              0.8888888888888888,
              "#fdca26"
             ],
             [
              1,
              "#f0f921"
             ]
            ],
            "type": "histogram2dcontour"
           }
          ],
          "mesh3d": [
           {
            "colorbar": {
             "outlinewidth": 0,
             "ticks": ""
            },
            "type": "mesh3d"
           }
          ],
          "parcoords": [
           {
            "line": {
             "colorbar": {
              "outlinewidth": 0,
              "ticks": ""
             }
            },
            "type": "parcoords"
           }
          ],
          "pie": [
           {
            "automargin": true,
            "type": "pie"
           }
          ],
          "scatter": [
           {
            "fillpattern": {
             "fillmode": "overlay",
             "size": 10,
             "solidity": 0.2
            },
            "type": "scatter"
           }
          ],
          "scatter3d": [
           {
            "line": {
             "colorbar": {
              "outlinewidth": 0,
              "ticks": ""
             }
            },
            "marker": {
             "colorbar": {
              "outlinewidth": 0,
              "ticks": ""
             }
            },
            "type": "scatter3d"
           }
          ],
          "scattercarpet": [
           {
            "marker": {
             "colorbar": {
              "outlinewidth": 0,
              "ticks": ""
             }
            },
            "type": "scattercarpet"
           }
          ],
          "scattergeo": [
           {
            "marker": {
             "colorbar": {
              "outlinewidth": 0,
              "ticks": ""
             }
            },
            "type": "scattergeo"
           }
          ],
          "scattergl": [
           {
            "marker": {
             "colorbar": {
              "outlinewidth": 0,
              "ticks": ""
             }
            },
            "type": "scattergl"
           }
          ],
          "scattermap": [
           {
            "marker": {
             "colorbar": {
              "outlinewidth": 0,
              "ticks": ""
             }
            },
            "type": "scattermap"
           }
          ],
          "scattermapbox": [
           {
            "marker": {
             "colorbar": {
              "outlinewidth": 0,
              "ticks": ""
             }
            },
            "type": "scattermapbox"
           }
          ],
          "scatterpolar": [
           {
            "marker": {
             "colorbar": {
              "outlinewidth": 0,
              "ticks": ""
             }
            },
            "type": "scatterpolar"
           }
          ],
          "scatterpolargl": [
           {
            "marker": {
             "colorbar": {
              "outlinewidth": 0,
              "ticks": ""
             }
            },
            "type": "scatterpolargl"
           }
          ],
          "scatterternary": [
           {
            "marker": {
             "colorbar": {
              "outlinewidth": 0,
              "ticks": ""
             }
            },
            "type": "scatterternary"
           }
          ],
          "surface": [
           {
            "colorbar": {
             "outlinewidth": 0,
             "ticks": ""
            },
            "colorscale": [
             [
              0,
              "#0d0887"
             ],
             [
              0.1111111111111111,
              "#46039f"
             ],
             [
              0.2222222222222222,
              "#7201a8"
             ],
             [
              0.3333333333333333,
              "#9c179e"
             ],
             [
              0.4444444444444444,
              "#bd3786"
             ],
             [
              0.5555555555555556,
              "#d8576b"
             ],
             [
              0.6666666666666666,
              "#ed7953"
             ],
             [
              0.7777777777777778,
              "#fb9f3a"
             ],
             [
              0.8888888888888888,
              "#fdca26"
             ],
             [
              1,
              "#f0f921"
             ]
            ],
            "type": "surface"
           }
          ],
          "table": [
           {
            "cells": {
             "fill": {
              "color": "#EBF0F8"
             },
             "line": {
              "color": "white"
             }
            },
            "header": {
             "fill": {
              "color": "#C8D4E3"
             },
             "line": {
              "color": "white"
             }
            },
            "type": "table"
           }
          ]
         },
         "layout": {
          "annotationdefaults": {
           "arrowcolor": "#2a3f5f",
           "arrowhead": 0,
           "arrowwidth": 1
          },
          "autotypenumbers": "strict",
          "coloraxis": {
           "colorbar": {
            "outlinewidth": 0,
            "ticks": ""
           }
          },
          "colorscale": {
           "diverging": [
            [
             0,
             "#8e0152"
            ],
            [
             0.1,
             "#c51b7d"
            ],
            [
             0.2,
             "#de77ae"
            ],
            [
             0.3,
             "#f1b6da"
            ],
            [
             0.4,
             "#fde0ef"
            ],
            [
             0.5,
             "#f7f7f7"
            ],
            [
             0.6,
             "#e6f5d0"
            ],
            [
             0.7,
             "#b8e186"
            ],
            [
             0.8,
             "#7fbc41"
            ],
            [
             0.9,
             "#4d9221"
            ],
            [
             1,
             "#276419"
            ]
           ],
           "sequential": [
            [
             0,
             "#0d0887"
            ],
            [
             0.1111111111111111,
             "#46039f"
            ],
            [
             0.2222222222222222,
             "#7201a8"
            ],
            [
             0.3333333333333333,
             "#9c179e"
            ],
            [
             0.4444444444444444,
             "#bd3786"
            ],
            [
             0.5555555555555556,
             "#d8576b"
            ],
            [
             0.6666666666666666,
             "#ed7953"
            ],
            [
             0.7777777777777778,
             "#fb9f3a"
            ],
            [
             0.8888888888888888,
             "#fdca26"
            ],
            [
             1,
             "#f0f921"
            ]
           ],
           "sequentialminus": [
            [
             0,
             "#0d0887"
            ],
            [
             0.1111111111111111,
             "#46039f"
            ],
            [
             0.2222222222222222,
             "#7201a8"
            ],
            [
             0.3333333333333333,
             "#9c179e"
            ],
            [
             0.4444444444444444,
             "#bd3786"
            ],
            [
             0.5555555555555556,
             "#d8576b"
            ],
            [
             0.6666666666666666,
             "#ed7953"
            ],
            [
             0.7777777777777778,
             "#fb9f3a"
            ],
            [
             0.8888888888888888,
             "#fdca26"
            ],
            [
             1,
             "#f0f921"
            ]
           ]
          },
          "colorway": [
           "#636efa",
           "#EF553B",
           "#00cc96",
           "#ab63fa",
           "#FFA15A",
           "#19d3f3",
           "#FF6692",
           "#B6E880",
           "#FF97FF",
           "#FECB52"
          ],
          "font": {
           "color": "#2a3f5f"
          },
          "geo": {
           "bgcolor": "white",
           "lakecolor": "white",
           "landcolor": "#E5ECF6",
           "showlakes": true,
           "showland": true,
           "subunitcolor": "white"
          },
          "hoverlabel": {
           "align": "left"
          },
          "hovermode": "closest",
          "mapbox": {
           "style": "light"
          },
          "paper_bgcolor": "white",
          "plot_bgcolor": "#E5ECF6",
          "polar": {
           "angularaxis": {
            "gridcolor": "white",
            "linecolor": "white",
            "ticks": ""
           },
           "bgcolor": "#E5ECF6",
           "radialaxis": {
            "gridcolor": "white",
            "linecolor": "white",
            "ticks": ""
           }
          },
          "scene": {
           "xaxis": {
            "backgroundcolor": "#E5ECF6",
            "gridcolor": "white",
            "gridwidth": 2,
            "linecolor": "white",
            "showbackground": true,
            "ticks": "",
            "zerolinecolor": "white"
           },
           "yaxis": {
            "backgroundcolor": "#E5ECF6",
            "gridcolor": "white",
            "gridwidth": 2,
            "linecolor": "white",
            "showbackground": true,
            "ticks": "",
            "zerolinecolor": "white"
           },
           "zaxis": {
            "backgroundcolor": "#E5ECF6",
            "gridcolor": "white",
            "gridwidth": 2,
            "linecolor": "white",
            "showbackground": true,
            "ticks": "",
            "zerolinecolor": "white"
           }
          },
          "shapedefaults": {
           "line": {
            "color": "#2a3f5f"
           }
          },
          "ternary": {
           "aaxis": {
            "gridcolor": "white",
            "linecolor": "white",
            "ticks": ""
           },
           "baxis": {
            "gridcolor": "white",
            "linecolor": "white",
            "ticks": ""
           },
           "bgcolor": "#E5ECF6",
           "caxis": {
            "gridcolor": "white",
            "linecolor": "white",
            "ticks": ""
           }
          },
          "title": {
           "x": 0.05
          },
          "xaxis": {
           "automargin": true,
           "gridcolor": "white",
           "linecolor": "white",
           "ticks": "",
           "title": {
            "standoff": 15
           },
           "zerolinecolor": "white",
           "zerolinewidth": 2
          },
          "yaxis": {
           "automargin": true,
           "gridcolor": "white",
           "linecolor": "white",
           "ticks": "",
           "title": {
            "standoff": 15
           },
           "zerolinecolor": "white",
           "zerolinewidth": 2
          }
         }
        },
        "title": {
         "text": "Temps d'attente vs Nombre de véhicules (Temps entre clients: 0.2 min)"
        },
        "width": 800,
        "xaxis": {
         "title": {
          "text": "Nombre de véhicules"
         }
        },
        "yaxis": {
         "title": {
          "text": "Temps moyen d'attente"
         }
        }
       }
      }
     },
     "metadata": {},
     "output_type": "display_data"
    },
    {
     "data": {
      "application/vnd.plotly.v1+json": {
       "config": {
        "plotlyServerURL": "https://plot.ly"
       },
       "data": [
        {
         "mode": "lines+markers",
         "name": "0.4 min",
         "type": "scatter",
         "x": [
          29,
          31,
          33,
          35,
          37,
          39,
          41,
          43,
          45,
          47,
          49,
          51,
          53,
          55,
          57,
          59,
          61,
          63,
          65,
          67,
          69
         ],
         "y": [
          4.8551,
          4.51613,
          4.24242,
          4,
          3.78378,
          3.58974,
          3.41463,
          3.25581,
          3.11111,
          2.97872,
          2.85714,
          2.7451,
          2.64151,
          2.54545,
          2.45614,
          2.37288,
          2.29508,
          2.22222,
          2.15385,
          2.08955,
          2.02899
         ]
        }
       ],
       "layout": {
        "height": 500,
        "template": {
         "data": {
          "bar": [
           {
            "error_x": {
             "color": "#2a3f5f"
            },
            "error_y": {
             "color": "#2a3f5f"
            },
            "marker": {
             "line": {
              "color": "#E5ECF6",
              "width": 0.5
             },
             "pattern": {
              "fillmode": "overlay",
              "size": 10,
              "solidity": 0.2
             }
            },
            "type": "bar"
           }
          ],
          "barpolar": [
           {
            "marker": {
             "line": {
              "color": "#E5ECF6",
              "width": 0.5
             },
             "pattern": {
              "fillmode": "overlay",
              "size": 10,
              "solidity": 0.2
             }
            },
            "type": "barpolar"
           }
          ],
          "carpet": [
           {
            "aaxis": {
             "endlinecolor": "#2a3f5f",
             "gridcolor": "white",
             "linecolor": "white",
             "minorgridcolor": "white",
             "startlinecolor": "#2a3f5f"
            },
            "baxis": {
             "endlinecolor": "#2a3f5f",
             "gridcolor": "white",
             "linecolor": "white",
             "minorgridcolor": "white",
             "startlinecolor": "#2a3f5f"
            },
            "type": "carpet"
           }
          ],
          "choropleth": [
           {
            "colorbar": {
             "outlinewidth": 0,
             "ticks": ""
            },
            "type": "choropleth"
           }
          ],
          "contour": [
           {
            "colorbar": {
             "outlinewidth": 0,
             "ticks": ""
            },
            "colorscale": [
             [
              0,
              "#0d0887"
             ],
             [
              0.1111111111111111,
              "#46039f"
             ],
             [
              0.2222222222222222,
              "#7201a8"
             ],
             [
              0.3333333333333333,
              "#9c179e"
             ],
             [
              0.4444444444444444,
              "#bd3786"
             ],
             [
              0.5555555555555556,
              "#d8576b"
             ],
             [
              0.6666666666666666,
              "#ed7953"
             ],
             [
              0.7777777777777778,
              "#fb9f3a"
             ],
             [
              0.8888888888888888,
              "#fdca26"
             ],
             [
              1,
              "#f0f921"
             ]
            ],
            "type": "contour"
           }
          ],
          "contourcarpet": [
           {
            "colorbar": {
             "outlinewidth": 0,
             "ticks": ""
            },
            "type": "contourcarpet"
           }
          ],
          "heatmap": [
           {
            "colorbar": {
             "outlinewidth": 0,
             "ticks": ""
            },
            "colorscale": [
             [
              0,
              "#0d0887"
             ],
             [
              0.1111111111111111,
              "#46039f"
             ],
             [
              0.2222222222222222,
              "#7201a8"
             ],
             [
              0.3333333333333333,
              "#9c179e"
             ],
             [
              0.4444444444444444,
              "#bd3786"
             ],
             [
              0.5555555555555556,
              "#d8576b"
             ],
             [
              0.6666666666666666,
              "#ed7953"
             ],
             [
              0.7777777777777778,
              "#fb9f3a"
             ],
             [
              0.8888888888888888,
              "#fdca26"
             ],
             [
              1,
              "#f0f921"
             ]
            ],
            "type": "heatmap"
           }
          ],
          "histogram": [
           {
            "marker": {
             "pattern": {
              "fillmode": "overlay",
              "size": 10,
              "solidity": 0.2
             }
            },
            "type": "histogram"
           }
          ],
          "histogram2d": [
           {
            "colorbar": {
             "outlinewidth": 0,
             "ticks": ""
            },
            "colorscale": [
             [
              0,
              "#0d0887"
             ],
             [
              0.1111111111111111,
              "#46039f"
             ],
             [
              0.2222222222222222,
              "#7201a8"
             ],
             [
              0.3333333333333333,
              "#9c179e"
             ],
             [
              0.4444444444444444,
              "#bd3786"
             ],
             [
              0.5555555555555556,
              "#d8576b"
             ],
             [
              0.6666666666666666,
              "#ed7953"
             ],
             [
              0.7777777777777778,
              "#fb9f3a"
             ],
             [
              0.8888888888888888,
              "#fdca26"
             ],
             [
              1,
              "#f0f921"
             ]
            ],
            "type": "histogram2d"
           }
          ],
          "histogram2dcontour": [
           {
            "colorbar": {
             "outlinewidth": 0,
             "ticks": ""
            },
            "colorscale": [
             [
              0,
              "#0d0887"
             ],
             [
              0.1111111111111111,
              "#46039f"
             ],
             [
              0.2222222222222222,
              "#7201a8"
             ],
             [
              0.3333333333333333,
              "#9c179e"
             ],
             [
              0.4444444444444444,
              "#bd3786"
             ],
             [
              0.5555555555555556,
              "#d8576b"
             ],
             [
              0.6666666666666666,
              "#ed7953"
             ],
             [
              0.7777777777777778,
              "#fb9f3a"
             ],
             [
              0.8888888888888888,
              "#fdca26"
             ],
             [
              1,
              "#f0f921"
             ]
            ],
            "type": "histogram2dcontour"
           }
          ],
          "mesh3d": [
           {
            "colorbar": {
             "outlinewidth": 0,
             "ticks": ""
            },
            "type": "mesh3d"
           }
          ],
          "parcoords": [
           {
            "line": {
             "colorbar": {
              "outlinewidth": 0,
              "ticks": ""
             }
            },
            "type": "parcoords"
           }
          ],
          "pie": [
           {
            "automargin": true,
            "type": "pie"
           }
          ],
          "scatter": [
           {
            "fillpattern": {
             "fillmode": "overlay",
             "size": 10,
             "solidity": 0.2
            },
            "type": "scatter"
           }
          ],
          "scatter3d": [
           {
            "line": {
             "colorbar": {
              "outlinewidth": 0,
              "ticks": ""
             }
            },
            "marker": {
             "colorbar": {
              "outlinewidth": 0,
              "ticks": ""
             }
            },
            "type": "scatter3d"
           }
          ],
          "scattercarpet": [
           {
            "marker": {
             "colorbar": {
              "outlinewidth": 0,
              "ticks": ""
             }
            },
            "type": "scattercarpet"
           }
          ],
          "scattergeo": [
           {
            "marker": {
             "colorbar": {
              "outlinewidth": 0,
              "ticks": ""
             }
            },
            "type": "scattergeo"
           }
          ],
          "scattergl": [
           {
            "marker": {
             "colorbar": {
              "outlinewidth": 0,
              "ticks": ""
             }
            },
            "type": "scattergl"
           }
          ],
          "scattermap": [
           {
            "marker": {
             "colorbar": {
              "outlinewidth": 0,
              "ticks": ""
             }
            },
            "type": "scattermap"
           }
          ],
          "scattermapbox": [
           {
            "marker": {
             "colorbar": {
              "outlinewidth": 0,
              "ticks": ""
             }
            },
            "type": "scattermapbox"
           }
          ],
          "scatterpolar": [
           {
            "marker": {
             "colorbar": {
              "outlinewidth": 0,
              "ticks": ""
             }
            },
            "type": "scatterpolar"
           }
          ],
          "scatterpolargl": [
           {
            "marker": {
             "colorbar": {
              "outlinewidth": 0,
              "ticks": ""
             }
            },
            "type": "scatterpolargl"
           }
          ],
          "scatterternary": [
           {
            "marker": {
             "colorbar": {
              "outlinewidth": 0,
              "ticks": ""
             }
            },
            "type": "scatterternary"
           }
          ],
          "surface": [
           {
            "colorbar": {
             "outlinewidth": 0,
             "ticks": ""
            },
            "colorscale": [
             [
              0,
              "#0d0887"
             ],
             [
              0.1111111111111111,
              "#46039f"
             ],
             [
              0.2222222222222222,
              "#7201a8"
             ],
             [
              0.3333333333333333,
              "#9c179e"
             ],
             [
              0.4444444444444444,
              "#bd3786"
             ],
             [
              0.5555555555555556,
              "#d8576b"
             ],
             [
              0.6666666666666666,
              "#ed7953"
             ],
             [
              0.7777777777777778,
              "#fb9f3a"
             ],
             [
              0.8888888888888888,
              "#fdca26"
             ],
             [
              1,
              "#f0f921"
             ]
            ],
            "type": "surface"
           }
          ],
          "table": [
           {
            "cells": {
             "fill": {
              "color": "#EBF0F8"
             },
             "line": {
              "color": "white"
             }
            },
            "header": {
             "fill": {
              "color": "#C8D4E3"
             },
             "line": {
              "color": "white"
             }
            },
            "type": "table"
           }
          ]
         },
         "layout": {
          "annotationdefaults": {
           "arrowcolor": "#2a3f5f",
           "arrowhead": 0,
           "arrowwidth": 1
          },
          "autotypenumbers": "strict",
          "coloraxis": {
           "colorbar": {
            "outlinewidth": 0,
            "ticks": ""
           }
          },
          "colorscale": {
           "diverging": [
            [
             0,
             "#8e0152"
            ],
            [
             0.1,
             "#c51b7d"
            ],
            [
             0.2,
             "#de77ae"
            ],
            [
             0.3,
             "#f1b6da"
            ],
            [
             0.4,
             "#fde0ef"
            ],
            [
             0.5,
             "#f7f7f7"
            ],
            [
             0.6,
             "#e6f5d0"
            ],
            [
             0.7,
             "#b8e186"
            ],
            [
             0.8,
             "#7fbc41"
            ],
            [
             0.9,
             "#4d9221"
            ],
            [
             1,
             "#276419"
            ]
           ],
           "sequential": [
            [
             0,
             "#0d0887"
            ],
            [
             0.1111111111111111,
             "#46039f"
            ],
            [
             0.2222222222222222,
             "#7201a8"
            ],
            [
             0.3333333333333333,
             "#9c179e"
            ],
            [
             0.4444444444444444,
             "#bd3786"
            ],
            [
             0.5555555555555556,
             "#d8576b"
            ],
            [
             0.6666666666666666,
             "#ed7953"
            ],
            [
             0.7777777777777778,
             "#fb9f3a"
            ],
            [
             0.8888888888888888,
             "#fdca26"
            ],
            [
             1,
             "#f0f921"
            ]
           ],
           "sequentialminus": [
            [
             0,
             "#0d0887"
            ],
            [
             0.1111111111111111,
             "#46039f"
            ],
            [
             0.2222222222222222,
             "#7201a8"
            ],
            [
             0.3333333333333333,
             "#9c179e"
            ],
            [
             0.4444444444444444,
             "#bd3786"
            ],
            [
             0.5555555555555556,
             "#d8576b"
            ],
            [
             0.6666666666666666,
             "#ed7953"
            ],
            [
             0.7777777777777778,
             "#fb9f3a"
            ],
            [
             0.8888888888888888,
             "#fdca26"
            ],
            [
             1,
             "#f0f921"
            ]
           ]
          },
          "colorway": [
           "#636efa",
           "#EF553B",
           "#00cc96",
           "#ab63fa",
           "#FFA15A",
           "#19d3f3",
           "#FF6692",
           "#B6E880",
           "#FF97FF",
           "#FECB52"
          ],
          "font": {
           "color": "#2a3f5f"
          },
          "geo": {
           "bgcolor": "white",
           "lakecolor": "white",
           "landcolor": "#E5ECF6",
           "showlakes": true,
           "showland": true,
           "subunitcolor": "white"
          },
          "hoverlabel": {
           "align": "left"
          },
          "hovermode": "closest",
          "mapbox": {
           "style": "light"
          },
          "paper_bgcolor": "white",
          "plot_bgcolor": "#E5ECF6",
          "polar": {
           "angularaxis": {
            "gridcolor": "white",
            "linecolor": "white",
            "ticks": ""
           },
           "bgcolor": "#E5ECF6",
           "radialaxis": {
            "gridcolor": "white",
            "linecolor": "white",
            "ticks": ""
           }
          },
          "scene": {
           "xaxis": {
            "backgroundcolor": "#E5ECF6",
            "gridcolor": "white",
            "gridwidth": 2,
            "linecolor": "white",
            "showbackground": true,
            "ticks": "",
            "zerolinecolor": "white"
           },
           "yaxis": {
            "backgroundcolor": "#E5ECF6",
            "gridcolor": "white",
            "gridwidth": 2,
            "linecolor": "white",
            "showbackground": true,
            "ticks": "",
            "zerolinecolor": "white"
           },
           "zaxis": {
            "backgroundcolor": "#E5ECF6",
            "gridcolor": "white",
            "gridwidth": 2,
            "linecolor": "white",
            "showbackground": true,
            "ticks": "",
            "zerolinecolor": "white"
           }
          },
          "shapedefaults": {
           "line": {
            "color": "#2a3f5f"
           }
          },
          "ternary": {
           "aaxis": {
            "gridcolor": "white",
            "linecolor": "white",
            "ticks": ""
           },
           "baxis": {
            "gridcolor": "white",
            "linecolor": "white",
            "ticks": ""
           },
           "bgcolor": "#E5ECF6",
           "caxis": {
            "gridcolor": "white",
            "linecolor": "white",
            "ticks": ""
           }
          },
          "title": {
           "x": 0.05
          },
          "xaxis": {
           "automargin": true,
           "gridcolor": "white",
           "linecolor": "white",
           "ticks": "",
           "title": {
            "standoff": 15
           },
           "zerolinecolor": "white",
           "zerolinewidth": 2
          },
          "yaxis": {
           "automargin": true,
           "gridcolor": "white",
           "linecolor": "white",
           "ticks": "",
           "title": {
            "standoff": 15
           },
           "zerolinecolor": "white",
           "zerolinewidth": 2
          }
         }
        },
        "title": {
         "text": "Temps d'attente vs Nombre de véhicules (Temps entre clients: 0.4 min)"
        },
        "width": 800,
        "xaxis": {
         "title": {
          "text": "Nombre de véhicules"
         }
        },
        "yaxis": {
         "title": {
          "text": "Temps moyen d'attente"
         }
        }
       }
      }
     },
     "metadata": {},
     "output_type": "display_data"
    },
    {
     "data": {
      "application/vnd.plotly.v1+json": {
       "config": {
        "plotlyServerURL": "https://plot.ly"
       },
       "data": [
        {
         "mode": "lines+markers",
         "name": "0.5 min",
         "type": "scatter",
         "x": [
          23,
          25,
          27,
          29,
          31,
          33,
          35,
          37,
          39,
          41,
          43,
          45,
          47,
          49,
          51,
          53,
          55,
          57,
          59,
          61,
          63,
          65,
          67,
          69
         ],
         "y": [
          6.23316,
          5.6,
          5.18519,
          4.82759,
          4.51613,
          4.24242,
          4,
          3.78378,
          3.58974,
          3.41463,
          3.25581,
          3.11111,
          2.97872,
          2.85714,
          2.7451,
          2.64151,
          2.54545,
          2.45614,
          2.37288,
          2.29508,
          2.22222,
          2.15385,
          2.08955,
          2.02899
         ]
        }
       ],
       "layout": {
        "height": 500,
        "template": {
         "data": {
          "bar": [
           {
            "error_x": {
             "color": "#2a3f5f"
            },
            "error_y": {
             "color": "#2a3f5f"
            },
            "marker": {
             "line": {
              "color": "#E5ECF6",
              "width": 0.5
             },
             "pattern": {
              "fillmode": "overlay",
              "size": 10,
              "solidity": 0.2
             }
            },
            "type": "bar"
           }
          ],
          "barpolar": [
           {
            "marker": {
             "line": {
              "color": "#E5ECF6",
              "width": 0.5
             },
             "pattern": {
              "fillmode": "overlay",
              "size": 10,
              "solidity": 0.2
             }
            },
            "type": "barpolar"
           }
          ],
          "carpet": [
           {
            "aaxis": {
             "endlinecolor": "#2a3f5f",
             "gridcolor": "white",
             "linecolor": "white",
             "minorgridcolor": "white",
             "startlinecolor": "#2a3f5f"
            },
            "baxis": {
             "endlinecolor": "#2a3f5f",
             "gridcolor": "white",
             "linecolor": "white",
             "minorgridcolor": "white",
             "startlinecolor": "#2a3f5f"
            },
            "type": "carpet"
           }
          ],
          "choropleth": [
           {
            "colorbar": {
             "outlinewidth": 0,
             "ticks": ""
            },
            "type": "choropleth"
           }
          ],
          "contour": [
           {
            "colorbar": {
             "outlinewidth": 0,
             "ticks": ""
            },
            "colorscale": [
             [
              0,
              "#0d0887"
             ],
             [
              0.1111111111111111,
              "#46039f"
             ],
             [
              0.2222222222222222,
              "#7201a8"
             ],
             [
              0.3333333333333333,
              "#9c179e"
             ],
             [
              0.4444444444444444,
              "#bd3786"
             ],
             [
              0.5555555555555556,
              "#d8576b"
             ],
             [
              0.6666666666666666,
              "#ed7953"
             ],
             [
              0.7777777777777778,
              "#fb9f3a"
             ],
             [
              0.8888888888888888,
              "#fdca26"
             ],
             [
              1,
              "#f0f921"
             ]
            ],
            "type": "contour"
           }
          ],
          "contourcarpet": [
           {
            "colorbar": {
             "outlinewidth": 0,
             "ticks": ""
            },
            "type": "contourcarpet"
           }
          ],
          "heatmap": [
           {
            "colorbar": {
             "outlinewidth": 0,
             "ticks": ""
            },
            "colorscale": [
             [
              0,
              "#0d0887"
             ],
             [
              0.1111111111111111,
              "#46039f"
             ],
             [
              0.2222222222222222,
              "#7201a8"
             ],
             [
              0.3333333333333333,
              "#9c179e"
             ],
             [
              0.4444444444444444,
              "#bd3786"
             ],
             [
              0.5555555555555556,
              "#d8576b"
             ],
             [
              0.6666666666666666,
              "#ed7953"
             ],
             [
              0.7777777777777778,
              "#fb9f3a"
             ],
             [
              0.8888888888888888,
              "#fdca26"
             ],
             [
              1,
              "#f0f921"
             ]
            ],
            "type": "heatmap"
           }
          ],
          "histogram": [
           {
            "marker": {
             "pattern": {
              "fillmode": "overlay",
              "size": 10,
              "solidity": 0.2
             }
            },
            "type": "histogram"
           }
          ],
          "histogram2d": [
           {
            "colorbar": {
             "outlinewidth": 0,
             "ticks": ""
            },
            "colorscale": [
             [
              0,
              "#0d0887"
             ],
             [
              0.1111111111111111,
              "#46039f"
             ],
             [
              0.2222222222222222,
              "#7201a8"
             ],
             [
              0.3333333333333333,
              "#9c179e"
             ],
             [
              0.4444444444444444,
              "#bd3786"
             ],
             [
              0.5555555555555556,
              "#d8576b"
             ],
             [
              0.6666666666666666,
              "#ed7953"
             ],
             [
              0.7777777777777778,
              "#fb9f3a"
             ],
             [
              0.8888888888888888,
              "#fdca26"
             ],
             [
              1,
              "#f0f921"
             ]
            ],
            "type": "histogram2d"
           }
          ],
          "histogram2dcontour": [
           {
            "colorbar": {
             "outlinewidth": 0,
             "ticks": ""
            },
            "colorscale": [
             [
              0,
              "#0d0887"
             ],
             [
              0.1111111111111111,
              "#46039f"
             ],
             [
              0.2222222222222222,
              "#7201a8"
             ],
             [
              0.3333333333333333,
              "#9c179e"
             ],
             [
              0.4444444444444444,
              "#bd3786"
             ],
             [
              0.5555555555555556,
              "#d8576b"
             ],
             [
              0.6666666666666666,
              "#ed7953"
             ],
             [
              0.7777777777777778,
              "#fb9f3a"
             ],
             [
              0.8888888888888888,
              "#fdca26"
             ],
             [
              1,
              "#f0f921"
             ]
            ],
            "type": "histogram2dcontour"
           }
          ],
          "mesh3d": [
           {
            "colorbar": {
             "outlinewidth": 0,
             "ticks": ""
            },
            "type": "mesh3d"
           }
          ],
          "parcoords": [
           {
            "line": {
             "colorbar": {
              "outlinewidth": 0,
              "ticks": ""
             }
            },
            "type": "parcoords"
           }
          ],
          "pie": [
           {
            "automargin": true,
            "type": "pie"
           }
          ],
          "scatter": [
           {
            "fillpattern": {
             "fillmode": "overlay",
             "size": 10,
             "solidity": 0.2
            },
            "type": "scatter"
           }
          ],
          "scatter3d": [
           {
            "line": {
             "colorbar": {
              "outlinewidth": 0,
              "ticks": ""
             }
            },
            "marker": {
             "colorbar": {
              "outlinewidth": 0,
              "ticks": ""
             }
            },
            "type": "scatter3d"
           }
          ],
          "scattercarpet": [
           {
            "marker": {
             "colorbar": {
              "outlinewidth": 0,
              "ticks": ""
             }
            },
            "type": "scattercarpet"
           }
          ],
          "scattergeo": [
           {
            "marker": {
             "colorbar": {
              "outlinewidth": 0,
              "ticks": ""
             }
            },
            "type": "scattergeo"
           }
          ],
          "scattergl": [
           {
            "marker": {
             "colorbar": {
              "outlinewidth": 0,
              "ticks": ""
             }
            },
            "type": "scattergl"
           }
          ],
          "scattermap": [
           {
            "marker": {
             "colorbar": {
              "outlinewidth": 0,
              "ticks": ""
             }
            },
            "type": "scattermap"
           }
          ],
          "scattermapbox": [
           {
            "marker": {
             "colorbar": {
              "outlinewidth": 0,
              "ticks": ""
             }
            },
            "type": "scattermapbox"
           }
          ],
          "scatterpolar": [
           {
            "marker": {
             "colorbar": {
              "outlinewidth": 0,
              "ticks": ""
             }
            },
            "type": "scatterpolar"
           }
          ],
          "scatterpolargl": [
           {
            "marker": {
             "colorbar": {
              "outlinewidth": 0,
              "ticks": ""
             }
            },
            "type": "scatterpolargl"
           }
          ],
          "scatterternary": [
           {
            "marker": {
             "colorbar": {
              "outlinewidth": 0,
              "ticks": ""
             }
            },
            "type": "scatterternary"
           }
          ],
          "surface": [
           {
            "colorbar": {
             "outlinewidth": 0,
             "ticks": ""
            },
            "colorscale": [
             [
              0,
              "#0d0887"
             ],
             [
              0.1111111111111111,
              "#46039f"
             ],
             [
              0.2222222222222222,
              "#7201a8"
             ],
             [
              0.3333333333333333,
              "#9c179e"
             ],
             [
              0.4444444444444444,
              "#bd3786"
             ],
             [
              0.5555555555555556,
              "#d8576b"
             ],
             [
              0.6666666666666666,
              "#ed7953"
             ],
             [
              0.7777777777777778,
              "#fb9f3a"
             ],
             [
              0.8888888888888888,
              "#fdca26"
             ],
             [
              1,
              "#f0f921"
             ]
            ],
            "type": "surface"
           }
          ],
          "table": [
           {
            "cells": {
             "fill": {
              "color": "#EBF0F8"
             },
             "line": {
              "color": "white"
             }
            },
            "header": {
             "fill": {
              "color": "#C8D4E3"
             },
             "line": {
              "color": "white"
             }
            },
            "type": "table"
           }
          ]
         },
         "layout": {
          "annotationdefaults": {
           "arrowcolor": "#2a3f5f",
           "arrowhead": 0,
           "arrowwidth": 1
          },
          "autotypenumbers": "strict",
          "coloraxis": {
           "colorbar": {
            "outlinewidth": 0,
            "ticks": ""
           }
          },
          "colorscale": {
           "diverging": [
            [
             0,
             "#8e0152"
            ],
            [
             0.1,
             "#c51b7d"
            ],
            [
             0.2,
             "#de77ae"
            ],
            [
             0.3,
             "#f1b6da"
            ],
            [
             0.4,
             "#fde0ef"
            ],
            [
             0.5,
             "#f7f7f7"
            ],
            [
             0.6,
             "#e6f5d0"
            ],
            [
             0.7,
             "#b8e186"
            ],
            [
             0.8,
             "#7fbc41"
            ],
            [
             0.9,
             "#4d9221"
            ],
            [
             1,
             "#276419"
            ]
           ],
           "sequential": [
            [
             0,
             "#0d0887"
            ],
            [
             0.1111111111111111,
             "#46039f"
            ],
            [
             0.2222222222222222,
             "#7201a8"
            ],
            [
             0.3333333333333333,
             "#9c179e"
            ],
            [
             0.4444444444444444,
             "#bd3786"
            ],
            [
             0.5555555555555556,
             "#d8576b"
            ],
            [
             0.6666666666666666,
             "#ed7953"
            ],
            [
             0.7777777777777778,
             "#fb9f3a"
            ],
            [
             0.8888888888888888,
             "#fdca26"
            ],
            [
             1,
             "#f0f921"
            ]
           ],
           "sequentialminus": [
            [
             0,
             "#0d0887"
            ],
            [
             0.1111111111111111,
             "#46039f"
            ],
            [
             0.2222222222222222,
             "#7201a8"
            ],
            [
             0.3333333333333333,
             "#9c179e"
            ],
            [
             0.4444444444444444,
             "#bd3786"
            ],
            [
             0.5555555555555556,
             "#d8576b"
            ],
            [
             0.6666666666666666,
             "#ed7953"
            ],
            [
             0.7777777777777778,
             "#fb9f3a"
            ],
            [
             0.8888888888888888,
             "#fdca26"
            ],
            [
             1,
             "#f0f921"
            ]
           ]
          },
          "colorway": [
           "#636efa",
           "#EF553B",
           "#00cc96",
           "#ab63fa",
           "#FFA15A",
           "#19d3f3",
           "#FF6692",
           "#B6E880",
           "#FF97FF",
           "#FECB52"
          ],
          "font": {
           "color": "#2a3f5f"
          },
          "geo": {
           "bgcolor": "white",
           "lakecolor": "white",
           "landcolor": "#E5ECF6",
           "showlakes": true,
           "showland": true,
           "subunitcolor": "white"
          },
          "hoverlabel": {
           "align": "left"
          },
          "hovermode": "closest",
          "mapbox": {
           "style": "light"
          },
          "paper_bgcolor": "white",
          "plot_bgcolor": "#E5ECF6",
          "polar": {
           "angularaxis": {
            "gridcolor": "white",
            "linecolor": "white",
            "ticks": ""
           },
           "bgcolor": "#E5ECF6",
           "radialaxis": {
            "gridcolor": "white",
            "linecolor": "white",
            "ticks": ""
           }
          },
          "scene": {
           "xaxis": {
            "backgroundcolor": "#E5ECF6",
            "gridcolor": "white",
            "gridwidth": 2,
            "linecolor": "white",
            "showbackground": true,
            "ticks": "",
            "zerolinecolor": "white"
           },
           "yaxis": {
            "backgroundcolor": "#E5ECF6",
            "gridcolor": "white",
            "gridwidth": 2,
            "linecolor": "white",
            "showbackground": true,
            "ticks": "",
            "zerolinecolor": "white"
           },
           "zaxis": {
            "backgroundcolor": "#E5ECF6",
            "gridcolor": "white",
            "gridwidth": 2,
            "linecolor": "white",
            "showbackground": true,
            "ticks": "",
            "zerolinecolor": "white"
           }
          },
          "shapedefaults": {
           "line": {
            "color": "#2a3f5f"
           }
          },
          "ternary": {
           "aaxis": {
            "gridcolor": "white",
            "linecolor": "white",
            "ticks": ""
           },
           "baxis": {
            "gridcolor": "white",
            "linecolor": "white",
            "ticks": ""
           },
           "bgcolor": "#E5ECF6",
           "caxis": {
            "gridcolor": "white",
            "linecolor": "white",
            "ticks": ""
           }
          },
          "title": {
           "x": 0.05
          },
          "xaxis": {
           "automargin": true,
           "gridcolor": "white",
           "linecolor": "white",
           "ticks": "",
           "title": {
            "standoff": 15
           },
           "zerolinecolor": "white",
           "zerolinewidth": 2
          },
          "yaxis": {
           "automargin": true,
           "gridcolor": "white",
           "linecolor": "white",
           "ticks": "",
           "title": {
            "standoff": 15
           },
           "zerolinecolor": "white",
           "zerolinewidth": 2
          }
         }
        },
        "title": {
         "text": "Temps d'attente vs Nombre de véhicules (Temps entre clients: 0.5 min)"
        },
        "width": 800,
        "xaxis": {
         "title": {
          "text": "Nombre de véhicules"
         }
        },
        "yaxis": {
         "title": {
          "text": "Temps moyen d'attente"
         }
        }
       }
      }
     },
     "metadata": {},
     "output_type": "display_data"
    },
    {
     "data": {
      "application/vnd.plotly.v1+json": {
       "config": {
        "plotlyServerURL": "https://plot.ly"
       },
       "data": [
        {
         "mode": "lines+markers",
         "name": "0.7000000000000001 min",
         "type": "scatter",
         "x": [
          17,
          19,
          21,
          23,
          25,
          27,
          29,
          31,
          33,
          35,
          37,
          39,
          41,
          43,
          45,
          47,
          49,
          51,
          53,
          55,
          57,
          59,
          61,
          63,
          65,
          67,
          69
         ],
         "y": [
          8.24208,
          7.36842,
          6.66667,
          6.08696,
          5.6,
          5.18519,
          4.82759,
          4.51613,
          4.24242,
          4,
          3.78378,
          3.58974,
          3.41463,
          3.25581,
          3.11111,
          2.97872,
          2.85714,
          2.7451,
          2.64151,
          2.54545,
          2.45614,
          2.37288,
          2.29508,
          2.22222,
          2.15385,
          2.08955,
          2.02899
         ]
        }
       ],
       "layout": {
        "height": 500,
        "template": {
         "data": {
          "bar": [
           {
            "error_x": {
             "color": "#2a3f5f"
            },
            "error_y": {
             "color": "#2a3f5f"
            },
            "marker": {
             "line": {
              "color": "#E5ECF6",
              "width": 0.5
             },
             "pattern": {
              "fillmode": "overlay",
              "size": 10,
              "solidity": 0.2
             }
            },
            "type": "bar"
           }
          ],
          "barpolar": [
           {
            "marker": {
             "line": {
              "color": "#E5ECF6",
              "width": 0.5
             },
             "pattern": {
              "fillmode": "overlay",
              "size": 10,
              "solidity": 0.2
             }
            },
            "type": "barpolar"
           }
          ],
          "carpet": [
           {
            "aaxis": {
             "endlinecolor": "#2a3f5f",
             "gridcolor": "white",
             "linecolor": "white",
             "minorgridcolor": "white",
             "startlinecolor": "#2a3f5f"
            },
            "baxis": {
             "endlinecolor": "#2a3f5f",
             "gridcolor": "white",
             "linecolor": "white",
             "minorgridcolor": "white",
             "startlinecolor": "#2a3f5f"
            },
            "type": "carpet"
           }
          ],
          "choropleth": [
           {
            "colorbar": {
             "outlinewidth": 0,
             "ticks": ""
            },
            "type": "choropleth"
           }
          ],
          "contour": [
           {
            "colorbar": {
             "outlinewidth": 0,
             "ticks": ""
            },
            "colorscale": [
             [
              0,
              "#0d0887"
             ],
             [
              0.1111111111111111,
              "#46039f"
             ],
             [
              0.2222222222222222,
              "#7201a8"
             ],
             [
              0.3333333333333333,
              "#9c179e"
             ],
             [
              0.4444444444444444,
              "#bd3786"
             ],
             [
              0.5555555555555556,
              "#d8576b"
             ],
             [
              0.6666666666666666,
              "#ed7953"
             ],
             [
              0.7777777777777778,
              "#fb9f3a"
             ],
             [
              0.8888888888888888,
              "#fdca26"
             ],
             [
              1,
              "#f0f921"
             ]
            ],
            "type": "contour"
           }
          ],
          "contourcarpet": [
           {
            "colorbar": {
             "outlinewidth": 0,
             "ticks": ""
            },
            "type": "contourcarpet"
           }
          ],
          "heatmap": [
           {
            "colorbar": {
             "outlinewidth": 0,
             "ticks": ""
            },
            "colorscale": [
             [
              0,
              "#0d0887"
             ],
             [
              0.1111111111111111,
              "#46039f"
             ],
             [
              0.2222222222222222,
              "#7201a8"
             ],
             [
              0.3333333333333333,
              "#9c179e"
             ],
             [
              0.4444444444444444,
              "#bd3786"
             ],
             [
              0.5555555555555556,
              "#d8576b"
             ],
             [
              0.6666666666666666,
              "#ed7953"
             ],
             [
              0.7777777777777778,
              "#fb9f3a"
             ],
             [
              0.8888888888888888,
              "#fdca26"
             ],
             [
              1,
              "#f0f921"
             ]
            ],
            "type": "heatmap"
           }
          ],
          "histogram": [
           {
            "marker": {
             "pattern": {
              "fillmode": "overlay",
              "size": 10,
              "solidity": 0.2
             }
            },
            "type": "histogram"
           }
          ],
          "histogram2d": [
           {
            "colorbar": {
             "outlinewidth": 0,
             "ticks": ""
            },
            "colorscale": [
             [
              0,
              "#0d0887"
             ],
             [
              0.1111111111111111,
              "#46039f"
             ],
             [
              0.2222222222222222,
              "#7201a8"
             ],
             [
              0.3333333333333333,
              "#9c179e"
             ],
             [
              0.4444444444444444,
              "#bd3786"
             ],
             [
              0.5555555555555556,
              "#d8576b"
             ],
             [
              0.6666666666666666,
              "#ed7953"
             ],
             [
              0.7777777777777778,
              "#fb9f3a"
             ],
             [
              0.8888888888888888,
              "#fdca26"
             ],
             [
              1,
              "#f0f921"
             ]
            ],
            "type": "histogram2d"
           }
          ],
          "histogram2dcontour": [
           {
            "colorbar": {
             "outlinewidth": 0,
             "ticks": ""
            },
            "colorscale": [
             [
              0,
              "#0d0887"
             ],
             [
              0.1111111111111111,
              "#46039f"
             ],
             [
              0.2222222222222222,
              "#7201a8"
             ],
             [
              0.3333333333333333,
              "#9c179e"
             ],
             [
              0.4444444444444444,
              "#bd3786"
             ],
             [
              0.5555555555555556,
              "#d8576b"
             ],
             [
              0.6666666666666666,
              "#ed7953"
             ],
             [
              0.7777777777777778,
              "#fb9f3a"
             ],
             [
              0.8888888888888888,
              "#fdca26"
             ],
             [
              1,
              "#f0f921"
             ]
            ],
            "type": "histogram2dcontour"
           }
          ],
          "mesh3d": [
           {
            "colorbar": {
             "outlinewidth": 0,
             "ticks": ""
            },
            "type": "mesh3d"
           }
          ],
          "parcoords": [
           {
            "line": {
             "colorbar": {
              "outlinewidth": 0,
              "ticks": ""
             }
            },
            "type": "parcoords"
           }
          ],
          "pie": [
           {
            "automargin": true,
            "type": "pie"
           }
          ],
          "scatter": [
           {
            "fillpattern": {
             "fillmode": "overlay",
             "size": 10,
             "solidity": 0.2
            },
            "type": "scatter"
           }
          ],
          "scatter3d": [
           {
            "line": {
             "colorbar": {
              "outlinewidth": 0,
              "ticks": ""
             }
            },
            "marker": {
             "colorbar": {
              "outlinewidth": 0,
              "ticks": ""
             }
            },
            "type": "scatter3d"
           }
          ],
          "scattercarpet": [
           {
            "marker": {
             "colorbar": {
              "outlinewidth": 0,
              "ticks": ""
             }
            },
            "type": "scattercarpet"
           }
          ],
          "scattergeo": [
           {
            "marker": {
             "colorbar": {
              "outlinewidth": 0,
              "ticks": ""
             }
            },
            "type": "scattergeo"
           }
          ],
          "scattergl": [
           {
            "marker": {
             "colorbar": {
              "outlinewidth": 0,
              "ticks": ""
             }
            },
            "type": "scattergl"
           }
          ],
          "scattermap": [
           {
            "marker": {
             "colorbar": {
              "outlinewidth": 0,
              "ticks": ""
             }
            },
            "type": "scattermap"
           }
          ],
          "scattermapbox": [
           {
            "marker": {
             "colorbar": {
              "outlinewidth": 0,
              "ticks": ""
             }
            },
            "type": "scattermapbox"
           }
          ],
          "scatterpolar": [
           {
            "marker": {
             "colorbar": {
              "outlinewidth": 0,
              "ticks": ""
             }
            },
            "type": "scatterpolar"
           }
          ],
          "scatterpolargl": [
           {
            "marker": {
             "colorbar": {
              "outlinewidth": 0,
              "ticks": ""
             }
            },
            "type": "scatterpolargl"
           }
          ],
          "scatterternary": [
           {
            "marker": {
             "colorbar": {
              "outlinewidth": 0,
              "ticks": ""
             }
            },
            "type": "scatterternary"
           }
          ],
          "surface": [
           {
            "colorbar": {
             "outlinewidth": 0,
             "ticks": ""
            },
            "colorscale": [
             [
              0,
              "#0d0887"
             ],
             [
              0.1111111111111111,
              "#46039f"
             ],
             [
              0.2222222222222222,
              "#7201a8"
             ],
             [
              0.3333333333333333,
              "#9c179e"
             ],
             [
              0.4444444444444444,
              "#bd3786"
             ],
             [
              0.5555555555555556,
              "#d8576b"
             ],
             [
              0.6666666666666666,
              "#ed7953"
             ],
             [
              0.7777777777777778,
              "#fb9f3a"
             ],
             [
              0.8888888888888888,
              "#fdca26"
             ],
             [
              1,
              "#f0f921"
             ]
            ],
            "type": "surface"
           }
          ],
          "table": [
           {
            "cells": {
             "fill": {
              "color": "#EBF0F8"
             },
             "line": {
              "color": "white"
             }
            },
            "header": {
             "fill": {
              "color": "#C8D4E3"
             },
             "line": {
              "color": "white"
             }
            },
            "type": "table"
           }
          ]
         },
         "layout": {
          "annotationdefaults": {
           "arrowcolor": "#2a3f5f",
           "arrowhead": 0,
           "arrowwidth": 1
          },
          "autotypenumbers": "strict",
          "coloraxis": {
           "colorbar": {
            "outlinewidth": 0,
            "ticks": ""
           }
          },
          "colorscale": {
           "diverging": [
            [
             0,
             "#8e0152"
            ],
            [
             0.1,
             "#c51b7d"
            ],
            [
             0.2,
             "#de77ae"
            ],
            [
             0.3,
             "#f1b6da"
            ],
            [
             0.4,
             "#fde0ef"
            ],
            [
             0.5,
             "#f7f7f7"
            ],
            [
             0.6,
             "#e6f5d0"
            ],
            [
             0.7,
             "#b8e186"
            ],
            [
             0.8,
             "#7fbc41"
            ],
            [
             0.9,
             "#4d9221"
            ],
            [
             1,
             "#276419"
            ]
           ],
           "sequential": [
            [
             0,
             "#0d0887"
            ],
            [
             0.1111111111111111,
             "#46039f"
            ],
            [
             0.2222222222222222,
             "#7201a8"
            ],
            [
             0.3333333333333333,
             "#9c179e"
            ],
            [
             0.4444444444444444,
             "#bd3786"
            ],
            [
             0.5555555555555556,
             "#d8576b"
            ],
            [
             0.6666666666666666,
             "#ed7953"
            ],
            [
             0.7777777777777778,
             "#fb9f3a"
            ],
            [
             0.8888888888888888,
             "#fdca26"
            ],
            [
             1,
             "#f0f921"
            ]
           ],
           "sequentialminus": [
            [
             0,
             "#0d0887"
            ],
            [
             0.1111111111111111,
             "#46039f"
            ],
            [
             0.2222222222222222,
             "#7201a8"
            ],
            [
             0.3333333333333333,
             "#9c179e"
            ],
            [
             0.4444444444444444,
             "#bd3786"
            ],
            [
             0.5555555555555556,
             "#d8576b"
            ],
            [
             0.6666666666666666,
             "#ed7953"
            ],
            [
             0.7777777777777778,
             "#fb9f3a"
            ],
            [
             0.8888888888888888,
             "#fdca26"
            ],
            [
             1,
             "#f0f921"
            ]
           ]
          },
          "colorway": [
           "#636efa",
           "#EF553B",
           "#00cc96",
           "#ab63fa",
           "#FFA15A",
           "#19d3f3",
           "#FF6692",
           "#B6E880",
           "#FF97FF",
           "#FECB52"
          ],
          "font": {
           "color": "#2a3f5f"
          },
          "geo": {
           "bgcolor": "white",
           "lakecolor": "white",
           "landcolor": "#E5ECF6",
           "showlakes": true,
           "showland": true,
           "subunitcolor": "white"
          },
          "hoverlabel": {
           "align": "left"
          },
          "hovermode": "closest",
          "mapbox": {
           "style": "light"
          },
          "paper_bgcolor": "white",
          "plot_bgcolor": "#E5ECF6",
          "polar": {
           "angularaxis": {
            "gridcolor": "white",
            "linecolor": "white",
            "ticks": ""
           },
           "bgcolor": "#E5ECF6",
           "radialaxis": {
            "gridcolor": "white",
            "linecolor": "white",
            "ticks": ""
           }
          },
          "scene": {
           "xaxis": {
            "backgroundcolor": "#E5ECF6",
            "gridcolor": "white",
            "gridwidth": 2,
            "linecolor": "white",
            "showbackground": true,
            "ticks": "",
            "zerolinecolor": "white"
           },
           "yaxis": {
            "backgroundcolor": "#E5ECF6",
            "gridcolor": "white",
            "gridwidth": 2,
            "linecolor": "white",
            "showbackground": true,
            "ticks": "",
            "zerolinecolor": "white"
           },
           "zaxis": {
            "backgroundcolor": "#E5ECF6",
            "gridcolor": "white",
            "gridwidth": 2,
            "linecolor": "white",
            "showbackground": true,
            "ticks": "",
            "zerolinecolor": "white"
           }
          },
          "shapedefaults": {
           "line": {
            "color": "#2a3f5f"
           }
          },
          "ternary": {
           "aaxis": {
            "gridcolor": "white",
            "linecolor": "white",
            "ticks": ""
           },
           "baxis": {
            "gridcolor": "white",
            "linecolor": "white",
            "ticks": ""
           },
           "bgcolor": "#E5ECF6",
           "caxis": {
            "gridcolor": "white",
            "linecolor": "white",
            "ticks": ""
           }
          },
          "title": {
           "x": 0.05
          },
          "xaxis": {
           "automargin": true,
           "gridcolor": "white",
           "linecolor": "white",
           "ticks": "",
           "title": {
            "standoff": 15
           },
           "zerolinecolor": "white",
           "zerolinewidth": 2
          },
          "yaxis": {
           "automargin": true,
           "gridcolor": "white",
           "linecolor": "white",
           "ticks": "",
           "title": {
            "standoff": 15
           },
           "zerolinecolor": "white",
           "zerolinewidth": 2
          }
         }
        },
        "title": {
         "text": "Temps d'attente vs Nombre de véhicules (Temps entre clients: 0.7000000000000001 min)"
        },
        "width": 800,
        "xaxis": {
         "title": {
          "text": "Nombre de véhicules"
         }
        },
        "yaxis": {
         "title": {
          "text": "Temps moyen d'attente"
         }
        }
       }
      }
     },
     "metadata": {},
     "output_type": "display_data"
    },
    {
     "data": {
      "application/vnd.plotly.v1+json": {
       "config": {
        "plotlyServerURL": "https://plot.ly"
       },
       "data": [
        {
         "mode": "lines+markers",
         "name": "0.8 min",
         "type": "scatter",
         "x": [
          15,
          17,
          19,
          21,
          23,
          25,
          27,
          29,
          31,
          33,
          35,
          37,
          39,
          41,
          43,
          45,
          47,
          49,
          51,
          53,
          55,
          57,
          59,
          61,
          63,
          65,
          67,
          69
         ],
         "y": [
          9.33769,
          8.23529,
          7.36842,
          6.66667,
          6.08696,
          5.6,
          5.18519,
          4.82759,
          4.51613,
          4.24242,
          4,
          3.78378,
          3.58974,
          3.41463,
          3.25581,
          3.11111,
          2.97872,
          2.85714,
          2.7451,
          2.64151,
          2.54545,
          2.45614,
          2.37288,
          2.29508,
          2.22222,
          2.15385,
          2.08955,
          2.02899
         ]
        }
       ],
       "layout": {
        "height": 500,
        "template": {
         "data": {
          "bar": [
           {
            "error_x": {
             "color": "#2a3f5f"
            },
            "error_y": {
             "color": "#2a3f5f"
            },
            "marker": {
             "line": {
              "color": "#E5ECF6",
              "width": 0.5
             },
             "pattern": {
              "fillmode": "overlay",
              "size": 10,
              "solidity": 0.2
             }
            },
            "type": "bar"
           }
          ],
          "barpolar": [
           {
            "marker": {
             "line": {
              "color": "#E5ECF6",
              "width": 0.5
             },
             "pattern": {
              "fillmode": "overlay",
              "size": 10,
              "solidity": 0.2
             }
            },
            "type": "barpolar"
           }
          ],
          "carpet": [
           {
            "aaxis": {
             "endlinecolor": "#2a3f5f",
             "gridcolor": "white",
             "linecolor": "white",
             "minorgridcolor": "white",
             "startlinecolor": "#2a3f5f"
            },
            "baxis": {
             "endlinecolor": "#2a3f5f",
             "gridcolor": "white",
             "linecolor": "white",
             "minorgridcolor": "white",
             "startlinecolor": "#2a3f5f"
            },
            "type": "carpet"
           }
          ],
          "choropleth": [
           {
            "colorbar": {
             "outlinewidth": 0,
             "ticks": ""
            },
            "type": "choropleth"
           }
          ],
          "contour": [
           {
            "colorbar": {
             "outlinewidth": 0,
             "ticks": ""
            },
            "colorscale": [
             [
              0,
              "#0d0887"
             ],
             [
              0.1111111111111111,
              "#46039f"
             ],
             [
              0.2222222222222222,
              "#7201a8"
             ],
             [
              0.3333333333333333,
              "#9c179e"
             ],
             [
              0.4444444444444444,
              "#bd3786"
             ],
             [
              0.5555555555555556,
              "#d8576b"
             ],
             [
              0.6666666666666666,
              "#ed7953"
             ],
             [
              0.7777777777777778,
              "#fb9f3a"
             ],
             [
              0.8888888888888888,
              "#fdca26"
             ],
             [
              1,
              "#f0f921"
             ]
            ],
            "type": "contour"
           }
          ],
          "contourcarpet": [
           {
            "colorbar": {
             "outlinewidth": 0,
             "ticks": ""
            },
            "type": "contourcarpet"
           }
          ],
          "heatmap": [
           {
            "colorbar": {
             "outlinewidth": 0,
             "ticks": ""
            },
            "colorscale": [
             [
              0,
              "#0d0887"
             ],
             [
              0.1111111111111111,
              "#46039f"
             ],
             [
              0.2222222222222222,
              "#7201a8"
             ],
             [
              0.3333333333333333,
              "#9c179e"
             ],
             [
              0.4444444444444444,
              "#bd3786"
             ],
             [
              0.5555555555555556,
              "#d8576b"
             ],
             [
              0.6666666666666666,
              "#ed7953"
             ],
             [
              0.7777777777777778,
              "#fb9f3a"
             ],
             [
              0.8888888888888888,
              "#fdca26"
             ],
             [
              1,
              "#f0f921"
             ]
            ],
            "type": "heatmap"
           }
          ],
          "histogram": [
           {
            "marker": {
             "pattern": {
              "fillmode": "overlay",
              "size": 10,
              "solidity": 0.2
             }
            },
            "type": "histogram"
           }
          ],
          "histogram2d": [
           {
            "colorbar": {
             "outlinewidth": 0,
             "ticks": ""
            },
            "colorscale": [
             [
              0,
              "#0d0887"
             ],
             [
              0.1111111111111111,
              "#46039f"
             ],
             [
              0.2222222222222222,
              "#7201a8"
             ],
             [
              0.3333333333333333,
              "#9c179e"
             ],
             [
              0.4444444444444444,
              "#bd3786"
             ],
             [
              0.5555555555555556,
              "#d8576b"
             ],
             [
              0.6666666666666666,
              "#ed7953"
             ],
             [
              0.7777777777777778,
              "#fb9f3a"
             ],
             [
              0.8888888888888888,
              "#fdca26"
             ],
             [
              1,
              "#f0f921"
             ]
            ],
            "type": "histogram2d"
           }
          ],
          "histogram2dcontour": [
           {
            "colorbar": {
             "outlinewidth": 0,
             "ticks": ""
            },
            "colorscale": [
             [
              0,
              "#0d0887"
             ],
             [
              0.1111111111111111,
              "#46039f"
             ],
             [
              0.2222222222222222,
              "#7201a8"
             ],
             [
              0.3333333333333333,
              "#9c179e"
             ],
             [
              0.4444444444444444,
              "#bd3786"
             ],
             [
              0.5555555555555556,
              "#d8576b"
             ],
             [
              0.6666666666666666,
              "#ed7953"
             ],
             [
              0.7777777777777778,
              "#fb9f3a"
             ],
             [
              0.8888888888888888,
              "#fdca26"
             ],
             [
              1,
              "#f0f921"
             ]
            ],
            "type": "histogram2dcontour"
           }
          ],
          "mesh3d": [
           {
            "colorbar": {
             "outlinewidth": 0,
             "ticks": ""
            },
            "type": "mesh3d"
           }
          ],
          "parcoords": [
           {
            "line": {
             "colorbar": {
              "outlinewidth": 0,
              "ticks": ""
             }
            },
            "type": "parcoords"
           }
          ],
          "pie": [
           {
            "automargin": true,
            "type": "pie"
           }
          ],
          "scatter": [
           {
            "fillpattern": {
             "fillmode": "overlay",
             "size": 10,
             "solidity": 0.2
            },
            "type": "scatter"
           }
          ],
          "scatter3d": [
           {
            "line": {
             "colorbar": {
              "outlinewidth": 0,
              "ticks": ""
             }
            },
            "marker": {
             "colorbar": {
              "outlinewidth": 0,
              "ticks": ""
             }
            },
            "type": "scatter3d"
           }
          ],
          "scattercarpet": [
           {
            "marker": {
             "colorbar": {
              "outlinewidth": 0,
              "ticks": ""
             }
            },
            "type": "scattercarpet"
           }
          ],
          "scattergeo": [
           {
            "marker": {
             "colorbar": {
              "outlinewidth": 0,
              "ticks": ""
             }
            },
            "type": "scattergeo"
           }
          ],
          "scattergl": [
           {
            "marker": {
             "colorbar": {
              "outlinewidth": 0,
              "ticks": ""
             }
            },
            "type": "scattergl"
           }
          ],
          "scattermap": [
           {
            "marker": {
             "colorbar": {
              "outlinewidth": 0,
              "ticks": ""
             }
            },
            "type": "scattermap"
           }
          ],
          "scattermapbox": [
           {
            "marker": {
             "colorbar": {
              "outlinewidth": 0,
              "ticks": ""
             }
            },
            "type": "scattermapbox"
           }
          ],
          "scatterpolar": [
           {
            "marker": {
             "colorbar": {
              "outlinewidth": 0,
              "ticks": ""
             }
            },
            "type": "scatterpolar"
           }
          ],
          "scatterpolargl": [
           {
            "marker": {
             "colorbar": {
              "outlinewidth": 0,
              "ticks": ""
             }
            },
            "type": "scatterpolargl"
           }
          ],
          "scatterternary": [
           {
            "marker": {
             "colorbar": {
              "outlinewidth": 0,
              "ticks": ""
             }
            },
            "type": "scatterternary"
           }
          ],
          "surface": [
           {
            "colorbar": {
             "outlinewidth": 0,
             "ticks": ""
            },
            "colorscale": [
             [
              0,
              "#0d0887"
             ],
             [
              0.1111111111111111,
              "#46039f"
             ],
             [
              0.2222222222222222,
              "#7201a8"
             ],
             [
              0.3333333333333333,
              "#9c179e"
             ],
             [
              0.4444444444444444,
              "#bd3786"
             ],
             [
              0.5555555555555556,
              "#d8576b"
             ],
             [
              0.6666666666666666,
              "#ed7953"
             ],
             [
              0.7777777777777778,
              "#fb9f3a"
             ],
             [
              0.8888888888888888,
              "#fdca26"
             ],
             [
              1,
              "#f0f921"
             ]
            ],
            "type": "surface"
           }
          ],
          "table": [
           {
            "cells": {
             "fill": {
              "color": "#EBF0F8"
             },
             "line": {
              "color": "white"
             }
            },
            "header": {
             "fill": {
              "color": "#C8D4E3"
             },
             "line": {
              "color": "white"
             }
            },
            "type": "table"
           }
          ]
         },
         "layout": {
          "annotationdefaults": {
           "arrowcolor": "#2a3f5f",
           "arrowhead": 0,
           "arrowwidth": 1
          },
          "autotypenumbers": "strict",
          "coloraxis": {
           "colorbar": {
            "outlinewidth": 0,
            "ticks": ""
           }
          },
          "colorscale": {
           "diverging": [
            [
             0,
             "#8e0152"
            ],
            [
             0.1,
             "#c51b7d"
            ],
            [
             0.2,
             "#de77ae"
            ],
            [
             0.3,
             "#f1b6da"
            ],
            [
             0.4,
             "#fde0ef"
            ],
            [
             0.5,
             "#f7f7f7"
            ],
            [
             0.6,
             "#e6f5d0"
            ],
            [
             0.7,
             "#b8e186"
            ],
            [
             0.8,
             "#7fbc41"
            ],
            [
             0.9,
             "#4d9221"
            ],
            [
             1,
             "#276419"
            ]
           ],
           "sequential": [
            [
             0,
             "#0d0887"
            ],
            [
             0.1111111111111111,
             "#46039f"
            ],
            [
             0.2222222222222222,
             "#7201a8"
            ],
            [
             0.3333333333333333,
             "#9c179e"
            ],
            [
             0.4444444444444444,
             "#bd3786"
            ],
            [
             0.5555555555555556,
             "#d8576b"
            ],
            [
             0.6666666666666666,
             "#ed7953"
            ],
            [
             0.7777777777777778,
             "#fb9f3a"
            ],
            [
             0.8888888888888888,
             "#fdca26"
            ],
            [
             1,
             "#f0f921"
            ]
           ],
           "sequentialminus": [
            [
             0,
             "#0d0887"
            ],
            [
             0.1111111111111111,
             "#46039f"
            ],
            [
             0.2222222222222222,
             "#7201a8"
            ],
            [
             0.3333333333333333,
             "#9c179e"
            ],
            [
             0.4444444444444444,
             "#bd3786"
            ],
            [
             0.5555555555555556,
             "#d8576b"
            ],
            [
             0.6666666666666666,
             "#ed7953"
            ],
            [
             0.7777777777777778,
             "#fb9f3a"
            ],
            [
             0.8888888888888888,
             "#fdca26"
            ],
            [
             1,
             "#f0f921"
            ]
           ]
          },
          "colorway": [
           "#636efa",
           "#EF553B",
           "#00cc96",
           "#ab63fa",
           "#FFA15A",
           "#19d3f3",
           "#FF6692",
           "#B6E880",
           "#FF97FF",
           "#FECB52"
          ],
          "font": {
           "color": "#2a3f5f"
          },
          "geo": {
           "bgcolor": "white",
           "lakecolor": "white",
           "landcolor": "#E5ECF6",
           "showlakes": true,
           "showland": true,
           "subunitcolor": "white"
          },
          "hoverlabel": {
           "align": "left"
          },
          "hovermode": "closest",
          "mapbox": {
           "style": "light"
          },
          "paper_bgcolor": "white",
          "plot_bgcolor": "#E5ECF6",
          "polar": {
           "angularaxis": {
            "gridcolor": "white",
            "linecolor": "white",
            "ticks": ""
           },
           "bgcolor": "#E5ECF6",
           "radialaxis": {
            "gridcolor": "white",
            "linecolor": "white",
            "ticks": ""
           }
          },
          "scene": {
           "xaxis": {
            "backgroundcolor": "#E5ECF6",
            "gridcolor": "white",
            "gridwidth": 2,
            "linecolor": "white",
            "showbackground": true,
            "ticks": "",
            "zerolinecolor": "white"
           },
           "yaxis": {
            "backgroundcolor": "#E5ECF6",
            "gridcolor": "white",
            "gridwidth": 2,
            "linecolor": "white",
            "showbackground": true,
            "ticks": "",
            "zerolinecolor": "white"
           },
           "zaxis": {
            "backgroundcolor": "#E5ECF6",
            "gridcolor": "white",
            "gridwidth": 2,
            "linecolor": "white",
            "showbackground": true,
            "ticks": "",
            "zerolinecolor": "white"
           }
          },
          "shapedefaults": {
           "line": {
            "color": "#2a3f5f"
           }
          },
          "ternary": {
           "aaxis": {
            "gridcolor": "white",
            "linecolor": "white",
            "ticks": ""
           },
           "baxis": {
            "gridcolor": "white",
            "linecolor": "white",
            "ticks": ""
           },
           "bgcolor": "#E5ECF6",
           "caxis": {
            "gridcolor": "white",
            "linecolor": "white",
            "ticks": ""
           }
          },
          "title": {
           "x": 0.05
          },
          "xaxis": {
           "automargin": true,
           "gridcolor": "white",
           "linecolor": "white",
           "ticks": "",
           "title": {
            "standoff": 15
           },
           "zerolinecolor": "white",
           "zerolinewidth": 2
          },
          "yaxis": {
           "automargin": true,
           "gridcolor": "white",
           "linecolor": "white",
           "ticks": "",
           "title": {
            "standoff": 15
           },
           "zerolinecolor": "white",
           "zerolinewidth": 2
          }
         }
        },
        "title": {
         "text": "Temps d'attente vs Nombre de véhicules (Temps entre clients: 0.8 min)"
        },
        "width": 800,
        "xaxis": {
         "title": {
          "text": "Nombre de véhicules"
         }
        },
        "yaxis": {
         "title": {
          "text": "Temps moyen d'attente"
         }
        }
       }
      }
     },
     "metadata": {},
     "output_type": "display_data"
    },
    {
     "data": {
      "application/vnd.plotly.v1+json": {
       "config": {
        "plotlyServerURL": "https://plot.ly"
       },
       "data": [
        {
         "mode": "lines+markers",
         "name": "0.9 min",
         "type": "scatter",
         "x": [
          13,
          15,
          17,
          19,
          21,
          23,
          25,
          27,
          29,
          31,
          33,
          35,
          37,
          39,
          41,
          43,
          45,
          47,
          49,
          51,
          53,
          55,
          57,
          59,
          61,
          63,
          65,
          67,
          69
         ],
         "y": [
          10.86251,
          9.33333,
          8.23529,
          7.36842,
          6.66667,
          6.08696,
          5.6,
          5.18519,
          4.82759,
          4.51613,
          4.24242,
          4,
          3.78378,
          3.58974,
          3.41463,
          3.25581,
          3.11111,
          2.97872,
          2.85714,
          2.7451,
          2.64151,
          2.54545,
          2.45614,
          2.37288,
          2.29508,
          2.22222,
          2.15385,
          2.08955,
          2.02899
         ]
        }
       ],
       "layout": {
        "height": 500,
        "template": {
         "data": {
          "bar": [
           {
            "error_x": {
             "color": "#2a3f5f"
            },
            "error_y": {
             "color": "#2a3f5f"
            },
            "marker": {
             "line": {
              "color": "#E5ECF6",
              "width": 0.5
             },
             "pattern": {
              "fillmode": "overlay",
              "size": 10,
              "solidity": 0.2
             }
            },
            "type": "bar"
           }
          ],
          "barpolar": [
           {
            "marker": {
             "line": {
              "color": "#E5ECF6",
              "width": 0.5
             },
             "pattern": {
              "fillmode": "overlay",
              "size": 10,
              "solidity": 0.2
             }
            },
            "type": "barpolar"
           }
          ],
          "carpet": [
           {
            "aaxis": {
             "endlinecolor": "#2a3f5f",
             "gridcolor": "white",
             "linecolor": "white",
             "minorgridcolor": "white",
             "startlinecolor": "#2a3f5f"
            },
            "baxis": {
             "endlinecolor": "#2a3f5f",
             "gridcolor": "white",
             "linecolor": "white",
             "minorgridcolor": "white",
             "startlinecolor": "#2a3f5f"
            },
            "type": "carpet"
           }
          ],
          "choropleth": [
           {
            "colorbar": {
             "outlinewidth": 0,
             "ticks": ""
            },
            "type": "choropleth"
           }
          ],
          "contour": [
           {
            "colorbar": {
             "outlinewidth": 0,
             "ticks": ""
            },
            "colorscale": [
             [
              0,
              "#0d0887"
             ],
             [
              0.1111111111111111,
              "#46039f"
             ],
             [
              0.2222222222222222,
              "#7201a8"
             ],
             [
              0.3333333333333333,
              "#9c179e"
             ],
             [
              0.4444444444444444,
              "#bd3786"
             ],
             [
              0.5555555555555556,
              "#d8576b"
             ],
             [
              0.6666666666666666,
              "#ed7953"
             ],
             [
              0.7777777777777778,
              "#fb9f3a"
             ],
             [
              0.8888888888888888,
              "#fdca26"
             ],
             [
              1,
              "#f0f921"
             ]
            ],
            "type": "contour"
           }
          ],
          "contourcarpet": [
           {
            "colorbar": {
             "outlinewidth": 0,
             "ticks": ""
            },
            "type": "contourcarpet"
           }
          ],
          "heatmap": [
           {
            "colorbar": {
             "outlinewidth": 0,
             "ticks": ""
            },
            "colorscale": [
             [
              0,
              "#0d0887"
             ],
             [
              0.1111111111111111,
              "#46039f"
             ],
             [
              0.2222222222222222,
              "#7201a8"
             ],
             [
              0.3333333333333333,
              "#9c179e"
             ],
             [
              0.4444444444444444,
              "#bd3786"
             ],
             [
              0.5555555555555556,
              "#d8576b"
             ],
             [
              0.6666666666666666,
              "#ed7953"
             ],
             [
              0.7777777777777778,
              "#fb9f3a"
             ],
             [
              0.8888888888888888,
              "#fdca26"
             ],
             [
              1,
              "#f0f921"
             ]
            ],
            "type": "heatmap"
           }
          ],
          "histogram": [
           {
            "marker": {
             "pattern": {
              "fillmode": "overlay",
              "size": 10,
              "solidity": 0.2
             }
            },
            "type": "histogram"
           }
          ],
          "histogram2d": [
           {
            "colorbar": {
             "outlinewidth": 0,
             "ticks": ""
            },
            "colorscale": [
             [
              0,
              "#0d0887"
             ],
             [
              0.1111111111111111,
              "#46039f"
             ],
             [
              0.2222222222222222,
              "#7201a8"
             ],
             [
              0.3333333333333333,
              "#9c179e"
             ],
             [
              0.4444444444444444,
              "#bd3786"
             ],
             [
              0.5555555555555556,
              "#d8576b"
             ],
             [
              0.6666666666666666,
              "#ed7953"
             ],
             [
              0.7777777777777778,
              "#fb9f3a"
             ],
             [
              0.8888888888888888,
              "#fdca26"
             ],
             [
              1,
              "#f0f921"
             ]
            ],
            "type": "histogram2d"
           }
          ],
          "histogram2dcontour": [
           {
            "colorbar": {
             "outlinewidth": 0,
             "ticks": ""
            },
            "colorscale": [
             [
              0,
              "#0d0887"
             ],
             [
              0.1111111111111111,
              "#46039f"
             ],
             [
              0.2222222222222222,
              "#7201a8"
             ],
             [
              0.3333333333333333,
              "#9c179e"
             ],
             [
              0.4444444444444444,
              "#bd3786"
             ],
             [
              0.5555555555555556,
              "#d8576b"
             ],
             [
              0.6666666666666666,
              "#ed7953"
             ],
             [
              0.7777777777777778,
              "#fb9f3a"
             ],
             [
              0.8888888888888888,
              "#fdca26"
             ],
             [
              1,
              "#f0f921"
             ]
            ],
            "type": "histogram2dcontour"
           }
          ],
          "mesh3d": [
           {
            "colorbar": {
             "outlinewidth": 0,
             "ticks": ""
            },
            "type": "mesh3d"
           }
          ],
          "parcoords": [
           {
            "line": {
             "colorbar": {
              "outlinewidth": 0,
              "ticks": ""
             }
            },
            "type": "parcoords"
           }
          ],
          "pie": [
           {
            "automargin": true,
            "type": "pie"
           }
          ],
          "scatter": [
           {
            "fillpattern": {
             "fillmode": "overlay",
             "size": 10,
             "solidity": 0.2
            },
            "type": "scatter"
           }
          ],
          "scatter3d": [
           {
            "line": {
             "colorbar": {
              "outlinewidth": 0,
              "ticks": ""
             }
            },
            "marker": {
             "colorbar": {
              "outlinewidth": 0,
              "ticks": ""
             }
            },
            "type": "scatter3d"
           }
          ],
          "scattercarpet": [
           {
            "marker": {
             "colorbar": {
              "outlinewidth": 0,
              "ticks": ""
             }
            },
            "type": "scattercarpet"
           }
          ],
          "scattergeo": [
           {
            "marker": {
             "colorbar": {
              "outlinewidth": 0,
              "ticks": ""
             }
            },
            "type": "scattergeo"
           }
          ],
          "scattergl": [
           {
            "marker": {
             "colorbar": {
              "outlinewidth": 0,
              "ticks": ""
             }
            },
            "type": "scattergl"
           }
          ],
          "scattermap": [
           {
            "marker": {
             "colorbar": {
              "outlinewidth": 0,
              "ticks": ""
             }
            },
            "type": "scattermap"
           }
          ],
          "scattermapbox": [
           {
            "marker": {
             "colorbar": {
              "outlinewidth": 0,
              "ticks": ""
             }
            },
            "type": "scattermapbox"
           }
          ],
          "scatterpolar": [
           {
            "marker": {
             "colorbar": {
              "outlinewidth": 0,
              "ticks": ""
             }
            },
            "type": "scatterpolar"
           }
          ],
          "scatterpolargl": [
           {
            "marker": {
             "colorbar": {
              "outlinewidth": 0,
              "ticks": ""
             }
            },
            "type": "scatterpolargl"
           }
          ],
          "scatterternary": [
           {
            "marker": {
             "colorbar": {
              "outlinewidth": 0,
              "ticks": ""
             }
            },
            "type": "scatterternary"
           }
          ],
          "surface": [
           {
            "colorbar": {
             "outlinewidth": 0,
             "ticks": ""
            },
            "colorscale": [
             [
              0,
              "#0d0887"
             ],
             [
              0.1111111111111111,
              "#46039f"
             ],
             [
              0.2222222222222222,
              "#7201a8"
             ],
             [
              0.3333333333333333,
              "#9c179e"
             ],
             [
              0.4444444444444444,
              "#bd3786"
             ],
             [
              0.5555555555555556,
              "#d8576b"
             ],
             [
              0.6666666666666666,
              "#ed7953"
             ],
             [
              0.7777777777777778,
              "#fb9f3a"
             ],
             [
              0.8888888888888888,
              "#fdca26"
             ],
             [
              1,
              "#f0f921"
             ]
            ],
            "type": "surface"
           }
          ],
          "table": [
           {
            "cells": {
             "fill": {
              "color": "#EBF0F8"
             },
             "line": {
              "color": "white"
             }
            },
            "header": {
             "fill": {
              "color": "#C8D4E3"
             },
             "line": {
              "color": "white"
             }
            },
            "type": "table"
           }
          ]
         },
         "layout": {
          "annotationdefaults": {
           "arrowcolor": "#2a3f5f",
           "arrowhead": 0,
           "arrowwidth": 1
          },
          "autotypenumbers": "strict",
          "coloraxis": {
           "colorbar": {
            "outlinewidth": 0,
            "ticks": ""
           }
          },
          "colorscale": {
           "diverging": [
            [
             0,
             "#8e0152"
            ],
            [
             0.1,
             "#c51b7d"
            ],
            [
             0.2,
             "#de77ae"
            ],
            [
             0.3,
             "#f1b6da"
            ],
            [
             0.4,
             "#fde0ef"
            ],
            [
             0.5,
             "#f7f7f7"
            ],
            [
             0.6,
             "#e6f5d0"
            ],
            [
             0.7,
             "#b8e186"
            ],
            [
             0.8,
             "#7fbc41"
            ],
            [
             0.9,
             "#4d9221"
            ],
            [
             1,
             "#276419"
            ]
           ],
           "sequential": [
            [
             0,
             "#0d0887"
            ],
            [
             0.1111111111111111,
             "#46039f"
            ],
            [
             0.2222222222222222,
             "#7201a8"
            ],
            [
             0.3333333333333333,
             "#9c179e"
            ],
            [
             0.4444444444444444,
             "#bd3786"
            ],
            [
             0.5555555555555556,
             "#d8576b"
            ],
            [
             0.6666666666666666,
             "#ed7953"
            ],
            [
             0.7777777777777778,
             "#fb9f3a"
            ],
            [
             0.8888888888888888,
             "#fdca26"
            ],
            [
             1,
             "#f0f921"
            ]
           ],
           "sequentialminus": [
            [
             0,
             "#0d0887"
            ],
            [
             0.1111111111111111,
             "#46039f"
            ],
            [
             0.2222222222222222,
             "#7201a8"
            ],
            [
             0.3333333333333333,
             "#9c179e"
            ],
            [
             0.4444444444444444,
             "#bd3786"
            ],
            [
             0.5555555555555556,
             "#d8576b"
            ],
            [
             0.6666666666666666,
             "#ed7953"
            ],
            [
             0.7777777777777778,
             "#fb9f3a"
            ],
            [
             0.8888888888888888,
             "#fdca26"
            ],
            [
             1,
             "#f0f921"
            ]
           ]
          },
          "colorway": [
           "#636efa",
           "#EF553B",
           "#00cc96",
           "#ab63fa",
           "#FFA15A",
           "#19d3f3",
           "#FF6692",
           "#B6E880",
           "#FF97FF",
           "#FECB52"
          ],
          "font": {
           "color": "#2a3f5f"
          },
          "geo": {
           "bgcolor": "white",
           "lakecolor": "white",
           "landcolor": "#E5ECF6",
           "showlakes": true,
           "showland": true,
           "subunitcolor": "white"
          },
          "hoverlabel": {
           "align": "left"
          },
          "hovermode": "closest",
          "mapbox": {
           "style": "light"
          },
          "paper_bgcolor": "white",
          "plot_bgcolor": "#E5ECF6",
          "polar": {
           "angularaxis": {
            "gridcolor": "white",
            "linecolor": "white",
            "ticks": ""
           },
           "bgcolor": "#E5ECF6",
           "radialaxis": {
            "gridcolor": "white",
            "linecolor": "white",
            "ticks": ""
           }
          },
          "scene": {
           "xaxis": {
            "backgroundcolor": "#E5ECF6",
            "gridcolor": "white",
            "gridwidth": 2,
            "linecolor": "white",
            "showbackground": true,
            "ticks": "",
            "zerolinecolor": "white"
           },
           "yaxis": {
            "backgroundcolor": "#E5ECF6",
            "gridcolor": "white",
            "gridwidth": 2,
            "linecolor": "white",
            "showbackground": true,
            "ticks": "",
            "zerolinecolor": "white"
           },
           "zaxis": {
            "backgroundcolor": "#E5ECF6",
            "gridcolor": "white",
            "gridwidth": 2,
            "linecolor": "white",
            "showbackground": true,
            "ticks": "",
            "zerolinecolor": "white"
           }
          },
          "shapedefaults": {
           "line": {
            "color": "#2a3f5f"
           }
          },
          "ternary": {
           "aaxis": {
            "gridcolor": "white",
            "linecolor": "white",
            "ticks": ""
           },
           "baxis": {
            "gridcolor": "white",
            "linecolor": "white",
            "ticks": ""
           },
           "bgcolor": "#E5ECF6",
           "caxis": {
            "gridcolor": "white",
            "linecolor": "white",
            "ticks": ""
           }
          },
          "title": {
           "x": 0.05
          },
          "xaxis": {
           "automargin": true,
           "gridcolor": "white",
           "linecolor": "white",
           "ticks": "",
           "title": {
            "standoff": 15
           },
           "zerolinecolor": "white",
           "zerolinewidth": 2
          },
          "yaxis": {
           "automargin": true,
           "gridcolor": "white",
           "linecolor": "white",
           "ticks": "",
           "title": {
            "standoff": 15
           },
           "zerolinecolor": "white",
           "zerolinewidth": 2
          }
         }
        },
        "title": {
         "text": "Temps d'attente vs Nombre de véhicules (Temps entre clients: 0.9 min)"
        },
        "width": 800,
        "xaxis": {
         "title": {
          "text": "Nombre de véhicules"
         }
        },
        "yaxis": {
         "title": {
          "text": "Temps moyen d'attente"
         }
        }
       }
      }
     },
     "metadata": {},
     "output_type": "display_data"
    }
   ],
   "source": [
    "## Import plotly\n",
    "import plotly.graph_objects as go\n",
    "from plotly.subplots import make_subplots\n",
    "\n",
    "# On visualise le nombre de vehicle qu'il nous faut pour stabiliser CHAQUE frequence d'arriver de clients\n",
    "\n",
    "# 3D visualization\n",
    "fig = go.Figure()\n",
    "\n",
    "for i in range(len(results)):\n",
    "    y = [j[0][\"Wq\"] for j in results[i]]\n",
    "    x = [j[0][\"initial\"][\"nbrVehicules\"] for j in results[i]]\n",
    "    z = [results[i][0][-1]] * len(x)  # Create z values of same length as x\n",
    "    \n",
    "    fig.add_trace(go.Scatter3d(\n",
    "        x=x, \n",
    "        y=y, \n",
    "        z=z,\n",
    "        mode='lines',\n",
    "        name=f'Temps entre clients: {results[i][0][-1]} min'\n",
    "    ))\n",
    "\n",
    "fig.update_layout(\n",
    "    scene=dict(\n",
    "        xaxis_title=\"Nombre de véhicules\",\n",
    "        yaxis_title=\"Temps moyen d'attente\",\n",
    "        zaxis_title=\"Temps entre clients (min)\"\n",
    "    ),\n",
    "    width=900,\n",
    "    height=600,\n",
    "    title=\"Relation entre nombre de véhicules et temps d'attente\"\n",
    ")\n",
    "\n",
    "fig.show()\n",
    "\n",
    "# 2D visualizations for specific times between client arrivals\n",
    "l=[i*0.1 for i in range(2,10)]\n",
    "\n",
    "for i in range(len(results)):\n",
    "    if results[i][0][-1] in l:\n",
    "        y = [j[0][\"Wq\"] for j in results[i]]\n",
    "        x = [j[0][\"initial\"][\"nbrVehicules\"] for j in results[i]]\n",
    "        \n",
    "        fig2 = go.Figure()\n",
    "        fig2.add_trace(go.Scatter(\n",
    "            x=x, \n",
    "            y=y,\n",
    "            mode='lines+markers',\n",
    "            name=str(results[i][0][-1]) + \" min\"\n",
    "        ))\n",
    "        \n",
    "        fig2.update_layout(\n",
    "            xaxis_title=\"Nombre de véhicules\",\n",
    "            yaxis_title=\"Temps moyen d'attente\",\n",
    "            width=800,\n",
    "            height=500,\n",
    "            title=f\"Temps d'attente vs Nombre de véhicules (Temps entre clients: {results[i][0][-1]} min)\"\n",
    "        )\n",
    "        \n",
    "        fig2.show()\n"
   ]
  },
  {
   "cell_type": "code",
   "execution_count": 92,
   "metadata": {
    "scrolled": true
   },
   "outputs": [],
   "source": [
    "#LE CAS : TROUVER LE NOMBRE DE PLACES NECESSAIRE POUR QUE LE SYSTEME SOIT STABLE,\n",
    "#ET QUAND LES GENS VONT DEVOIR RESTER DEBOUT\n",
    "#LITERATION SUR LE NOMBRE DE PLACES ET LE TEMPS ENTRE DEUX CLIENTS\n",
    "#t entre deux clients varient entre [6s, 1min]\n",
    "#NOMBRE DE PLACES [20,200]\n",
    "results = []\n",
    "for j in range(100,1000,10):\n",
    "\tresults.append([])\n",
    "\tfor i in range(90,200,2):\n",
    "\t\tif tw.setAllParams(i,70,j*0.001,18,24,40):\n",
    "\t\t\tresults[-1].append([tw.getResults(),j*0.001])\n",
    "\tif results[-1]==[]:del results[-1]\n",
    "for i in results:\n",
    "    for j in i:\n",
    "        if j[0][\"Wq\"]>60:j[0][\"Wq\"] = 90\n",
    "clear_output()\n",
    "        "
   ]
  },
  {
   "cell_type": "code",
   "execution_count": 93,
   "metadata": {
    "scrolled": false
   },
   "outputs": [
    {
     "data": {
      "application/vnd.plotly.v1+json": {
       "config": {
        "plotlyServerURL": "https://plot.ly"
       },
       "data": [
        {
         "mode": "lines",
         "name": "Temps entre clients: 0.22 min",
         "type": "scatter3d",
         "x": [
          192,
          194,
          196,
          198
         ],
         "y": [
          6.88091,
          5.96016,
          5.85288,
          5.83566
         ],
         "z": [
          0.22,
          0.22,
          0.22,
          0.22
         ]
        },
        {
         "mode": "lines",
         "name": "Temps entre clients: 0.23 min",
         "type": "scatter3d",
         "x": [
          184,
          186,
          188,
          190,
          192,
          194,
          196,
          198
         ],
         "y": [
          6.5235,
          5.92542,
          5.84644,
          5.83471,
          5.83343,
          5.83334,
          5.83333,
          5.83333
         ],
         "z": [
          0.23,
          0.23,
          0.23,
          0.23,
          0.23,
          0.23,
          0.23,
          0.23
         ]
        },
        {
         "mode": "lines",
         "name": "Temps entre clients: 0.24 min",
         "type": "scatter3d",
         "x": [
          176,
          178,
          180,
          182,
          184,
          186,
          188,
          190,
          192,
          194,
          196,
          198
         ],
         "y": [
          7.00514,
          5.96083,
          5.85128,
          5.83522,
          5.83347,
          5.83334,
          5.83333,
          5.83333,
          5.83333,
          5.83333,
          5.83333,
          5.83333
         ],
         "z": [
          0.24,
          0.24,
          0.24,
          0.24,
          0.24,
          0.24,
          0.24,
          0.24,
          0.24,
          0.24,
          0.24,
          0.24
         ]
        },
        {
         "mode": "lines",
         "name": "Temps entre clients: 0.25 min",
         "type": "scatter3d",
         "x": [
          170,
          172,
          174,
          176,
          178,
          180,
          182,
          184,
          186,
          188,
          190,
          192,
          194,
          196,
          198
         ],
         "y": [
          6.1663,
          5.87948,
          5.83874,
          5.83377,
          5.83336,
          5.83333,
          5.83333,
          5.83333,
          5.83333,
          5.83333,
          5.83333,
          5.83333,
          5.83333,
          5.83333,
          5.83333
         ],
         "z": [
          0.25,
          0.25,
          0.25,
          0.25,
          0.25,
          0.25,
          0.25,
          0.25,
          0.25,
          0.25,
          0.25,
          0.25,
          0.25,
          0.25,
          0.25
         ]
        },
        {
         "mode": "lines",
         "name": "Temps entre clients: 0.26 min",
         "type": "scatter3d",
         "x": [
          162,
          164,
          166,
          168,
          170,
          172,
          174,
          176,
          178,
          180,
          182,
          184,
          186,
          188,
          190,
          192,
          194,
          196,
          198
         ],
         "y": [
          9.31417,
          6.03528,
          5.86028,
          5.83608,
          5.83352,
          5.83334,
          5.83333,
          5.83333,
          5.83333,
          5.83333,
          5.83333,
          5.83333,
          5.83333,
          5.83333,
          5.83333,
          5.83333,
          5.83333,
          5.83333,
          5.83333
         ],
         "z": [
          0.26,
          0.26,
          0.26,
          0.26,
          0.26,
          0.26,
          0.26,
          0.26,
          0.26,
          0.26,
          0.26,
          0.26,
          0.26,
          0.26,
          0.26,
          0.26,
          0.26,
          0.26,
          0.26
         ]
        },
        {
         "mode": "lines",
         "name": "Temps entre clients: 0.27 min",
         "type": "scatter3d",
         "x": [
          156,
          158,
          160,
          162,
          164,
          166,
          168,
          170,
          172,
          174,
          176,
          178,
          180,
          182,
          184,
          186,
          188,
          190,
          192,
          194,
          196,
          198
         ],
         "y": [
          9.46987,
          6.03313,
          5.85892,
          5.83579,
          5.83349,
          5.83334,
          5.83333,
          5.83333,
          5.83333,
          5.83333,
          5.83333,
          5.83333,
          5.83333,
          5.83333,
          5.83333,
          5.83333,
          5.83333,
          5.83333,
          5.83333,
          5.83333,
          5.83333,
          5.83333
         ],
         "z": [
          0.27,
          0.27,
          0.27,
          0.27,
          0.27,
          0.27,
          0.27,
          0.27,
          0.27,
          0.27,
          0.27,
          0.27,
          0.27,
          0.27,
          0.27,
          0.27,
          0.27,
          0.27,
          0.27,
          0.27,
          0.27,
          0.27
         ]
        },
        {
         "mode": "lines",
         "name": "Temps entre clients: 0.28 min",
         "type": "scatter3d",
         "x": [
          152,
          154,
          156,
          158,
          160,
          162,
          164,
          166,
          168,
          170,
          172,
          174,
          176,
          178,
          180,
          182,
          184,
          186,
          188,
          190,
          192,
          194,
          196,
          198
         ],
         "y": [
          6.14532,
          5.87202,
          5.83714,
          5.83358,
          5.83334,
          5.83333,
          5.83333,
          5.83333,
          5.83333,
          5.83333,
          5.83333,
          5.83333,
          5.83333,
          5.83333,
          5.83333,
          5.83333,
          5.83333,
          5.83333,
          5.83333,
          5.83333,
          5.83333,
          5.83333,
          5.83333,
          5.83333
         ],
         "z": [
          0.28,
          0.28,
          0.28,
          0.28,
          0.28,
          0.28,
          0.28,
          0.28,
          0.28,
          0.28,
          0.28,
          0.28,
          0.28,
          0.28,
          0.28,
          0.28,
          0.28,
          0.28,
          0.28,
          0.28,
          0.28,
          0.28,
          0.28,
          0.28
         ]
        },
        {
         "mode": "lines",
         "name": "Temps entre clients: 0.29 min",
         "type": "scatter3d",
         "x": [
          146,
          148,
          150,
          152,
          154,
          156,
          158,
          160,
          162,
          164,
          166,
          168,
          170,
          172,
          174,
          176,
          178,
          180,
          182,
          184,
          186,
          188,
          190,
          192,
          194,
          196,
          198
         ],
         "y": [
          6.68571,
          5.92165,
          5.84285,
          5.83402,
          5.83336,
          5.83333,
          5.83333,
          5.83333,
          5.83333,
          5.83333,
          5.83333,
          5.83333,
          5.83333,
          5.83333,
          5.83333,
          5.83333,
          5.83333,
          5.83333,
          5.83333,
          5.83333,
          5.83333,
          5.83333,
          5.83333,
          5.83333,
          5.83333,
          5.83333,
          5.83333
         ],
         "z": [
          0.29,
          0.29,
          0.29,
          0.29,
          0.29,
          0.29,
          0.29,
          0.29,
          0.29,
          0.29,
          0.29,
          0.29,
          0.29,
          0.29,
          0.29,
          0.29,
          0.29,
          0.29,
          0.29,
          0.29,
          0.29,
          0.29,
          0.29,
          0.29,
          0.29,
          0.29,
          0.29
         ]
        },
        {
         "mode": "lines",
         "name": "Temps entre clients: 0.3 min",
         "type": "scatter3d",
         "x": [
          142,
          144,
          146,
          148,
          150,
          152,
          154,
          156,
          158,
          160,
          162,
          164,
          166,
          168,
          170,
          172,
          174,
          176,
          178,
          180,
          182,
          184,
          186,
          188,
          190,
          192,
          194,
          196,
          198
         ],
         "y": [
          6.13253,
          5.8678,
          5.83635,
          5.8335,
          5.83334,
          5.83333,
          5.83333,
          5.83333,
          5.83333,
          5.83333,
          5.83333,
          5.83333,
          5.83333,
          5.83333,
          5.83333,
          5.83333,
          5.83333,
          5.83333,
          5.83333,
          5.83333,
          5.83333,
          5.83333,
          5.83333,
          5.83333,
          5.83333,
          5.83333,
          5.83333,
          5.83333,
          5.83333
         ],
         "z": [
          0.3,
          0.3,
          0.3,
          0.3,
          0.3,
          0.3,
          0.3,
          0.3,
          0.3,
          0.3,
          0.3,
          0.3,
          0.3,
          0.3,
          0.3,
          0.3,
          0.3,
          0.3,
          0.3,
          0.3,
          0.3,
          0.3,
          0.3,
          0.3,
          0.3,
          0.3,
          0.3,
          0.3,
          0.3
         ]
        },
        {
         "mode": "lines",
         "name": "Temps entre clients: 0.31 min",
         "type": "scatter3d",
         "x": [
          136,
          138,
          140,
          142,
          144,
          146,
          148,
          150,
          152,
          154,
          156,
          158,
          160,
          162,
          164,
          166,
          168,
          170,
          172,
          174,
          176,
          178,
          180,
          182,
          184,
          186,
          188,
          190,
          192,
          194,
          196,
          198
         ],
         "y": [
          8.73791,
          5.99916,
          5.85116,
          5.83464,
          5.83339,
          5.83333,
          5.83333,
          5.83333,
          5.83333,
          5.83333,
          5.83333,
          5.83333,
          5.83333,
          5.83333,
          5.83333,
          5.83333,
          5.83333,
          5.83333,
          5.83333,
          5.83333,
          5.83333,
          5.83333,
          5.83333,
          5.83333,
          5.83333,
          5.83333,
          5.83333,
          5.83333,
          5.83333,
          5.83333,
          5.83333,
          5.83333
         ],
         "z": [
          0.31,
          0.31,
          0.31,
          0.31,
          0.31,
          0.31,
          0.31,
          0.31,
          0.31,
          0.31,
          0.31,
          0.31,
          0.31,
          0.31,
          0.31,
          0.31,
          0.31,
          0.31,
          0.31,
          0.31,
          0.31,
          0.31,
          0.31,
          0.31,
          0.31,
          0.31,
          0.31,
          0.31,
          0.31,
          0.31,
          0.31,
          0.31
         ]
        },
        {
         "mode": "lines",
         "name": "Temps entre clients: 0.32 min",
         "type": "scatter3d",
         "x": [
          132,
          134,
          136,
          138,
          140,
          142,
          144,
          146,
          148,
          150,
          152,
          154,
          156,
          158,
          160,
          162,
          164,
          166,
          168,
          170,
          172,
          174,
          176,
          178,
          180,
          182,
          184,
          186,
          188,
          190,
          192,
          194,
          196,
          198
         ],
         "y": [
          7.52061,
          5.95817,
          5.8458,
          5.83415,
          5.83336,
          5.83333,
          5.83333,
          5.83333,
          5.83333,
          5.83333,
          5.83333,
          5.83333,
          5.83333,
          5.83333,
          5.83333,
          5.83333,
          5.83333,
          5.83333,
          5.83333,
          5.83333,
          5.83333,
          5.83333,
          5.83333,
          5.83333,
          5.83333,
          5.83333,
          5.83333,
          5.83333,
          5.83333,
          5.83333,
          5.83333,
          5.83333,
          5.83333,
          5.83333
         ],
         "z": [
          0.32,
          0.32,
          0.32,
          0.32,
          0.32,
          0.32,
          0.32,
          0.32,
          0.32,
          0.32,
          0.32,
          0.32,
          0.32,
          0.32,
          0.32,
          0.32,
          0.32,
          0.32,
          0.32,
          0.32,
          0.32,
          0.32,
          0.32,
          0.32,
          0.32,
          0.32,
          0.32,
          0.32,
          0.32,
          0.32,
          0.32,
          0.32,
          0.32,
          0.32
         ]
        },
        {
         "mode": "lines",
         "name": "Temps entre clients: 0.33 min",
         "type": "scatter3d",
         "x": [
          128,
          130,
          132,
          134,
          136,
          138,
          140,
          142,
          144,
          146,
          148,
          150,
          152,
          154,
          156,
          158,
          160,
          162,
          164,
          166,
          168,
          170,
          172,
          174,
          176,
          178,
          180,
          182,
          184,
          186,
          188,
          190,
          192,
          194,
          196,
          198
         ],
         "y": [
          7.58682,
          5.95744,
          5.84523,
          5.83407,
          5.83336,
          5.83333,
          5.83333,
          5.83333,
          5.83333,
          5.83333,
          5.83333,
          5.83333,
          5.83333,
          5.83333,
          5.83333,
          5.83333,
          5.83333,
          5.83333,
          5.83333,
          5.83333,
          5.83333,
          5.83333,
          5.83333,
          5.83333,
          5.83333,
          5.83333,
          5.83333,
          5.83333,
          5.83333,
          5.83333,
          5.83333,
          5.83333,
          5.83333,
          5.83333,
          5.83333,
          5.83333
         ],
         "z": [
          0.33,
          0.33,
          0.33,
          0.33,
          0.33,
          0.33,
          0.33,
          0.33,
          0.33,
          0.33,
          0.33,
          0.33,
          0.33,
          0.33,
          0.33,
          0.33,
          0.33,
          0.33,
          0.33,
          0.33,
          0.33,
          0.33,
          0.33,
          0.33,
          0.33,
          0.33,
          0.33,
          0.33,
          0.33,
          0.33,
          0.33,
          0.33,
          0.33,
          0.33,
          0.33,
          0.33
         ]
        },
        {
         "mode": "lines",
         "name": "Temps entre clients: 0.34 min",
         "type": "scatter3d",
         "x": [
          124,
          126,
          128,
          130,
          132,
          134,
          136,
          138,
          140,
          142,
          144,
          146,
          148,
          150,
          152,
          154,
          156,
          158,
          160,
          162,
          164,
          166,
          168,
          170,
          172,
          174,
          176,
          178,
          180,
          182,
          184,
          186,
          188,
          190,
          192,
          194,
          196,
          198
         ],
         "y": [
          9.07358,
          5.99419,
          5.84866,
          5.83428,
          5.83337,
          5.83333,
          5.83333,
          5.83333,
          5.83333,
          5.83333,
          5.83333,
          5.83333,
          5.83333,
          5.83333,
          5.83333,
          5.83333,
          5.83333,
          5.83333,
          5.83333,
          5.83333,
          5.83333,
          5.83333,
          5.83333,
          5.83333,
          5.83333,
          5.83333,
          5.83333,
          5.83333,
          5.83333,
          5.83333,
          5.83333,
          5.83333,
          5.83333,
          5.83333,
          5.83333,
          5.83333,
          5.83333,
          5.83333
         ],
         "z": [
          0.34,
          0.34,
          0.34,
          0.34,
          0.34,
          0.34,
          0.34,
          0.34,
          0.34,
          0.34,
          0.34,
          0.34,
          0.34,
          0.34,
          0.34,
          0.34,
          0.34,
          0.34,
          0.34,
          0.34,
          0.34,
          0.34,
          0.34,
          0.34,
          0.34,
          0.34,
          0.34,
          0.34,
          0.34,
          0.34,
          0.34,
          0.34,
          0.34,
          0.34,
          0.34,
          0.34,
          0.34,
          0.34
         ]
        },
        {
         "mode": "lines",
         "name": "Temps entre clients: 0.35000000000000003 min",
         "type": "scatter3d",
         "x": [
          122,
          124,
          126,
          128,
          130,
          132,
          134,
          136,
          138,
          140,
          142,
          144,
          146,
          148,
          150,
          152,
          154,
          156,
          158,
          160,
          162,
          164,
          166,
          168,
          170,
          172,
          174,
          176,
          178,
          180,
          182,
          184,
          186,
          188,
          190,
          192,
          194,
          196,
          198
         ],
         "y": [
          6.10403,
          5.85929,
          5.83504,
          5.8334,
          5.83333,
          5.83333,
          5.83333,
          5.83333,
          5.83333,
          5.83333,
          5.83333,
          5.83333,
          5.83333,
          5.83333,
          5.83333,
          5.83333,
          5.83333,
          5.83333,
          5.83333,
          5.83333,
          5.83333,
          5.83333,
          5.83333,
          5.83333,
          5.83333,
          5.83333,
          5.83333,
          5.83333,
          5.83333,
          5.83333,
          5.83333,
          5.83333,
          5.83333,
          5.83333,
          5.83333,
          5.83333,
          5.83333,
          5.83333,
          5.83333
         ],
         "z": [
          0.35000000000000003,
          0.35000000000000003,
          0.35000000000000003,
          0.35000000000000003,
          0.35000000000000003,
          0.35000000000000003,
          0.35000000000000003,
          0.35000000000000003,
          0.35000000000000003,
          0.35000000000000003,
          0.35000000000000003,
          0.35000000000000003,
          0.35000000000000003,
          0.35000000000000003,
          0.35000000000000003,
          0.35000000000000003,
          0.35000000000000003,
          0.35000000000000003,
          0.35000000000000003,
          0.35000000000000003,
          0.35000000000000003,
          0.35000000000000003,
          0.35000000000000003,
          0.35000000000000003,
          0.35000000000000003,
          0.35000000000000003,
          0.35000000000000003,
          0.35000000000000003,
          0.35000000000000003,
          0.35000000000000003,
          0.35000000000000003,
          0.35000000000000003,
          0.35000000000000003,
          0.35000000000000003,
          0.35000000000000003,
          0.35000000000000003,
          0.35000000000000003,
          0.35000000000000003,
          0.35000000000000003
         ]
        },
        {
         "mode": "lines",
         "name": "Temps entre clients: 0.36 min",
         "type": "scatter3d",
         "x": [
          118,
          120,
          122,
          124,
          126,
          128,
          130,
          132,
          134,
          136,
          138,
          140,
          142,
          144,
          146,
          148,
          150,
          152,
          154,
          156,
          158,
          160,
          162,
          164,
          166,
          168,
          170,
          172,
          174,
          176,
          178,
          180,
          182,
          184,
          186,
          188,
          190,
          192,
          194,
          196,
          198
         ],
         "y": [
          6.45644,
          5.88892,
          5.83743,
          5.83351,
          5.83334,
          5.83333,
          5.83333,
          5.83333,
          5.83333,
          5.83333,
          5.83333,
          5.83333,
          5.83333,
          5.83333,
          5.83333,
          5.83333,
          5.83333,
          5.83333,
          5.83333,
          5.83333,
          5.83333,
          5.83333,
          5.83333,
          5.83333,
          5.83333,
          5.83333,
          5.83333,
          5.83333,
          5.83333,
          5.83333,
          5.83333,
          5.83333,
          5.83333,
          5.83333,
          5.83333,
          5.83333,
          5.83333,
          5.83333,
          5.83333,
          5.83333,
          5.83333
         ],
         "z": [
          0.36,
          0.36,
          0.36,
          0.36,
          0.36,
          0.36,
          0.36,
          0.36,
          0.36,
          0.36,
          0.36,
          0.36,
          0.36,
          0.36,
          0.36,
          0.36,
          0.36,
          0.36,
          0.36,
          0.36,
          0.36,
          0.36,
          0.36,
          0.36,
          0.36,
          0.36,
          0.36,
          0.36,
          0.36,
          0.36,
          0.36,
          0.36,
          0.36,
          0.36,
          0.36,
          0.36,
          0.36,
          0.36,
          0.36,
          0.36,
          0.36
         ]
        },
        {
         "mode": "lines",
         "name": "Temps entre clients: 0.37 min",
         "type": "scatter3d",
         "x": [
          114,
          116,
          118,
          120,
          122,
          124,
          126,
          128,
          130,
          132,
          134,
          136,
          138,
          140,
          142,
          144,
          146,
          148,
          150,
          152,
          154,
          156,
          158,
          160,
          162,
          164,
          166,
          168,
          170,
          172,
          174,
          176,
          178,
          180,
          182,
          184,
          186,
          188,
          190,
          192,
          194,
          196,
          198
         ],
         "y": [
          8.88114,
          5.9794,
          5.84559,
          5.83396,
          5.83335,
          5.83333,
          5.83333,
          5.83333,
          5.83333,
          5.83333,
          5.83333,
          5.83333,
          5.83333,
          5.83333,
          5.83333,
          5.83333,
          5.83333,
          5.83333,
          5.83333,
          5.83333,
          5.83333,
          5.83333,
          5.83333,
          5.83333,
          5.83333,
          5.83333,
          5.83333,
          5.83333,
          5.83333,
          5.83333,
          5.83333,
          5.83333,
          5.83333,
          5.83333,
          5.83333,
          5.83333,
          5.83333,
          5.83333,
          5.83333,
          5.83333,
          5.83333,
          5.83333,
          5.83333
         ],
         "z": [
          0.37,
          0.37,
          0.37,
          0.37,
          0.37,
          0.37,
          0.37,
          0.37,
          0.37,
          0.37,
          0.37,
          0.37,
          0.37,
          0.37,
          0.37,
          0.37,
          0.37,
          0.37,
          0.37,
          0.37,
          0.37,
          0.37,
          0.37,
          0.37,
          0.37,
          0.37,
          0.37,
          0.37,
          0.37,
          0.37,
          0.37,
          0.37,
          0.37,
          0.37,
          0.37,
          0.37,
          0.37,
          0.37,
          0.37,
          0.37,
          0.37,
          0.37,
          0.37
         ]
        },
        {
         "mode": "lines",
         "name": "Temps entre clients: 0.38 min",
         "type": "scatter3d",
         "x": [
          112,
          114,
          116,
          118,
          120,
          122,
          124,
          126,
          128,
          130,
          132,
          134,
          136,
          138,
          140,
          142,
          144,
          146,
          148,
          150,
          152,
          154,
          156,
          158,
          160,
          162,
          164,
          166,
          168,
          170,
          172,
          174,
          176,
          178,
          180,
          182,
          184,
          186,
          188,
          190,
          192,
          194,
          196,
          198
         ],
         "y": [
          6.33399,
          5.87637,
          5.8361,
          5.83343,
          5.83334,
          5.83333,
          5.83333,
          5.83333,
          5.83333,
          5.83333,
          5.83333,
          5.83333,
          5.83333,
          5.83333,
          5.83333,
          5.83333,
          5.83333,
          5.83333,
          5.83333,
          5.83333,
          5.83333,
          5.83333,
          5.83333,
          5.83333,
          5.83333,
          5.83333,
          5.83333,
          5.83333,
          5.83333,
          5.83333,
          5.83333,
          5.83333,
          5.83333,
          5.83333,
          5.83333,
          5.83333,
          5.83333,
          5.83333,
          5.83333,
          5.83333,
          5.83333,
          5.83333,
          5.83333,
          5.83333
         ],
         "z": [
          0.38,
          0.38,
          0.38,
          0.38,
          0.38,
          0.38,
          0.38,
          0.38,
          0.38,
          0.38,
          0.38,
          0.38,
          0.38,
          0.38,
          0.38,
          0.38,
          0.38,
          0.38,
          0.38,
          0.38,
          0.38,
          0.38,
          0.38,
          0.38,
          0.38,
          0.38,
          0.38,
          0.38,
          0.38,
          0.38,
          0.38,
          0.38,
          0.38,
          0.38,
          0.38,
          0.38,
          0.38,
          0.38,
          0.38,
          0.38,
          0.38,
          0.38,
          0.38,
          0.38
         ]
        },
        {
         "mode": "lines",
         "name": "Temps entre clients: 0.39 min",
         "type": "scatter3d",
         "x": [
          108,
          110,
          112,
          114,
          116,
          118,
          120,
          122,
          124,
          126,
          128,
          130,
          132,
          134,
          136,
          138,
          140,
          142,
          144,
          146,
          148,
          150,
          152,
          154,
          156,
          158,
          160,
          162,
          164,
          166,
          168,
          170,
          172,
          174,
          176,
          178,
          180,
          182,
          184,
          186,
          188,
          190,
          192,
          194,
          196,
          198
         ],
         "y": [
          11.37896,
          6.00557,
          5.84706,
          5.83399,
          5.83335,
          5.83333,
          5.83333,
          5.83333,
          5.83333,
          5.83333,
          5.83333,
          5.83333,
          5.83333,
          5.83333,
          5.83333,
          5.83333,
          5.83333,
          5.83333,
          5.83333,
          5.83333,
          5.83333,
          5.83333,
          5.83333,
          5.83333,
          5.83333,
          5.83333,
          5.83333,
          5.83333,
          5.83333,
          5.83333,
          5.83333,
          5.83333,
          5.83333,
          5.83333,
          5.83333,
          5.83333,
          5.83333,
          5.83333,
          5.83333,
          5.83333,
          5.83333,
          5.83333,
          5.83333,
          5.83333,
          5.83333,
          5.83333
         ],
         "z": [
          0.39,
          0.39,
          0.39,
          0.39,
          0.39,
          0.39,
          0.39,
          0.39,
          0.39,
          0.39,
          0.39,
          0.39,
          0.39,
          0.39,
          0.39,
          0.39,
          0.39,
          0.39,
          0.39,
          0.39,
          0.39,
          0.39,
          0.39,
          0.39,
          0.39,
          0.39,
          0.39,
          0.39,
          0.39,
          0.39,
          0.39,
          0.39,
          0.39,
          0.39,
          0.39,
          0.39,
          0.39,
          0.39,
          0.39,
          0.39,
          0.39,
          0.39,
          0.39,
          0.39,
          0.39,
          0.39
         ]
        },
        {
         "mode": "lines",
         "name": "Temps entre clients: 0.4 min",
         "type": "scatter3d",
         "x": [
          106,
          108,
          110,
          112,
          114,
          116,
          118,
          120,
          122,
          124,
          126,
          128,
          130,
          132,
          134,
          136,
          138,
          140,
          142,
          144,
          146,
          148,
          150,
          152,
          154,
          156,
          158,
          160,
          162,
          164,
          166,
          168,
          170,
          172,
          174,
          176,
          178,
          180,
          182,
          184,
          186,
          188,
          190,
          192,
          194,
          196,
          198
         ],
         "y": [
          6.83189,
          5.90521,
          5.83807,
          5.8335,
          5.83334,
          5.83333,
          5.83333,
          5.83333,
          5.83333,
          5.83333,
          5.83333,
          5.83333,
          5.83333,
          5.83333,
          5.83333,
          5.83333,
          5.83333,
          5.83333,
          5.83333,
          5.83333,
          5.83333,
          5.83333,
          5.83333,
          5.83333,
          5.83333,
          5.83333,
          5.83333,
          5.83333,
          5.83333,
          5.83333,
          5.83333,
          5.83333,
          5.83333,
          5.83333,
          5.83333,
          5.83333,
          5.83333,
          5.83333,
          5.83333,
          5.83333,
          5.83333,
          5.83333,
          5.83333,
          5.83333,
          5.83333,
          5.83333,
          5.83333
         ],
         "z": [
          0.4,
          0.4,
          0.4,
          0.4,
          0.4,
          0.4,
          0.4,
          0.4,
          0.4,
          0.4,
          0.4,
          0.4,
          0.4,
          0.4,
          0.4,
          0.4,
          0.4,
          0.4,
          0.4,
          0.4,
          0.4,
          0.4,
          0.4,
          0.4,
          0.4,
          0.4,
          0.4,
          0.4,
          0.4,
          0.4,
          0.4,
          0.4,
          0.4,
          0.4,
          0.4,
          0.4,
          0.4,
          0.4,
          0.4,
          0.4,
          0.4,
          0.4,
          0.4,
          0.4,
          0.4,
          0.4,
          0.4
         ]
        },
        {
         "mode": "lines",
         "name": "Temps entre clients: 0.41000000000000003 min",
         "type": "scatter3d",
         "x": [
          104,
          106,
          108,
          110,
          112,
          114,
          116,
          118,
          120,
          122,
          124,
          126,
          128,
          130,
          132,
          134,
          136,
          138,
          140,
          142,
          144,
          146,
          148,
          150,
          152,
          154,
          156,
          158,
          160,
          162,
          164,
          166,
          168,
          170,
          172,
          174,
          176,
          178,
          180,
          182,
          184,
          186,
          188,
          190,
          192,
          194,
          196,
          198
         ],
         "y": [
          6.26078,
          5.86703,
          5.83514,
          5.83338,
          5.83333,
          5.83333,
          5.83333,
          5.83333,
          5.83333,
          5.83333,
          5.83333,
          5.83333,
          5.83333,
          5.83333,
          5.83333,
          5.83333,
          5.83333,
          5.83333,
          5.83333,
          5.83333,
          5.83333,
          5.83333,
          5.83333,
          5.83333,
          5.83333,
          5.83333,
          5.83333,
          5.83333,
          5.83333,
          5.83333,
          5.83333,
          5.83333,
          5.83333,
          5.83333,
          5.83333,
          5.83333,
          5.83333,
          5.83333,
          5.83333,
          5.83333,
          5.83333,
          5.83333,
          5.83333,
          5.83333,
          5.83333,
          5.83333,
          5.83333,
          5.83333
         ],
         "z": [
          0.41000000000000003,
          0.41000000000000003,
          0.41000000000000003,
          0.41000000000000003,
          0.41000000000000003,
          0.41000000000000003,
          0.41000000000000003,
          0.41000000000000003,
          0.41000000000000003,
          0.41000000000000003,
          0.41000000000000003,
          0.41000000000000003,
          0.41000000000000003,
          0.41000000000000003,
          0.41000000000000003,
          0.41000000000000003,
          0.41000000000000003,
          0.41000000000000003,
          0.41000000000000003,
          0.41000000000000003,
          0.41000000000000003,
          0.41000000000000003,
          0.41000000000000003,
          0.41000000000000003,
          0.41000000000000003,
          0.41000000000000003,
          0.41000000000000003,
          0.41000000000000003,
          0.41000000000000003,
          0.41000000000000003,
          0.41000000000000003,
          0.41000000000000003,
          0.41000000000000003,
          0.41000000000000003,
          0.41000000000000003,
          0.41000000000000003,
          0.41000000000000003,
          0.41000000000000003,
          0.41000000000000003,
          0.41000000000000003,
          0.41000000000000003,
          0.41000000000000003,
          0.41000000000000003,
          0.41000000000000003,
          0.41000000000000003,
          0.41000000000000003,
          0.41000000000000003,
          0.41000000000000003
         ]
        },
        {
         "mode": "lines",
         "name": "Temps entre clients: 0.42 min",
         "type": "scatter3d",
         "x": [
          102,
          104,
          106,
          108,
          110,
          112,
          114,
          116,
          118,
          120,
          122,
          124,
          126,
          128,
          130,
          132,
          134,
          136,
          138,
          140,
          142,
          144,
          146,
          148,
          150,
          152,
          154,
          156,
          158,
          160,
          162,
          164,
          166,
          168,
          170,
          172,
          174,
          176,
          178,
          180,
          182,
          184,
          186,
          188,
          190,
          192,
          194,
          196,
          198
         ],
         "y": [
          6.07057,
          5.85099,
          5.83412,
          5.83335,
          5.83333,
          5.83333,
          5.83333,
          5.83333,
          5.83333,
          5.83333,
          5.83333,
          5.83333,
          5.83333,
          5.83333,
          5.83333,
          5.83333,
          5.83333,
          5.83333,
          5.83333,
          5.83333,
          5.83333,
          5.83333,
          5.83333,
          5.83333,
          5.83333,
          5.83333,
          5.83333,
          5.83333,
          5.83333,
          5.83333,
          5.83333,
          5.83333,
          5.83333,
          5.83333,
          5.83333,
          5.83333,
          5.83333,
          5.83333,
          5.83333,
          5.83333,
          5.83333,
          5.83333,
          5.83333,
          5.83333,
          5.83333,
          5.83333,
          5.83333,
          5.83333,
          5.83333
         ],
         "z": [
          0.42,
          0.42,
          0.42,
          0.42,
          0.42,
          0.42,
          0.42,
          0.42,
          0.42,
          0.42,
          0.42,
          0.42,
          0.42,
          0.42,
          0.42,
          0.42,
          0.42,
          0.42,
          0.42,
          0.42,
          0.42,
          0.42,
          0.42,
          0.42,
          0.42,
          0.42,
          0.42,
          0.42,
          0.42,
          0.42,
          0.42,
          0.42,
          0.42,
          0.42,
          0.42,
          0.42,
          0.42,
          0.42,
          0.42,
          0.42,
          0.42,
          0.42,
          0.42,
          0.42,
          0.42,
          0.42,
          0.42,
          0.42,
          0.42
         ]
        },
        {
         "mode": "lines",
         "name": "Temps entre clients: 0.43 min",
         "type": "scatter3d",
         "x": [
          98,
          100,
          102,
          104,
          106,
          108,
          110,
          112,
          114,
          116,
          118,
          120,
          122,
          124,
          126,
          128,
          130,
          132,
          134,
          136,
          138,
          140,
          142,
          144,
          146,
          148,
          150,
          152,
          154,
          156,
          158,
          160,
          162,
          164,
          166,
          168,
          170,
          172,
          174,
          176,
          178,
          180,
          182,
          184,
          186,
          188,
          190,
          192,
          194,
          196,
          198
         ],
         "y": [
          10.91906,
          5.98719,
          5.84377,
          5.83373,
          5.83334,
          5.83333,
          5.83333,
          5.83333,
          5.83333,
          5.83333,
          5.83333,
          5.83333,
          5.83333,
          5.83333,
          5.83333,
          5.83333,
          5.83333,
          5.83333,
          5.83333,
          5.83333,
          5.83333,
          5.83333,
          5.83333,
          5.83333,
          5.83333,
          5.83333,
          5.83333,
          5.83333,
          5.83333,
          5.83333,
          5.83333,
          5.83333,
          5.83333,
          5.83333,
          5.83333,
          5.83333,
          5.83333,
          5.83333,
          5.83333,
          5.83333,
          5.83333,
          5.83333,
          5.83333,
          5.83333,
          5.83333,
          5.83333,
          5.83333,
          5.83333,
          5.83333,
          5.83333,
          5.83333
         ],
         "z": [
          0.43,
          0.43,
          0.43,
          0.43,
          0.43,
          0.43,
          0.43,
          0.43,
          0.43,
          0.43,
          0.43,
          0.43,
          0.43,
          0.43,
          0.43,
          0.43,
          0.43,
          0.43,
          0.43,
          0.43,
          0.43,
          0.43,
          0.43,
          0.43,
          0.43,
          0.43,
          0.43,
          0.43,
          0.43,
          0.43,
          0.43,
          0.43,
          0.43,
          0.43,
          0.43,
          0.43,
          0.43,
          0.43,
          0.43,
          0.43,
          0.43,
          0.43,
          0.43,
          0.43,
          0.43,
          0.43,
          0.43,
          0.43,
          0.43,
          0.43,
          0.43
         ]
        },
        {
         "mode": "lines",
         "name": "Temps entre clients: 0.44 min",
         "type": "scatter3d",
         "x": [
          96,
          98,
          100,
          102,
          104,
          106,
          108,
          110,
          112,
          114,
          116,
          118,
          120,
          122,
          124,
          126,
          128,
          130,
          132,
          134,
          136,
          138,
          140,
          142,
          144,
          146,
          148,
          150,
          152,
          154,
          156,
          158,
          160,
          162,
          164,
          166,
          168,
          170,
          172,
          174,
          176,
          178,
          180,
          182,
          184,
          186,
          188,
          190,
          192,
          194,
          196,
          198
         ],
         "y": [
          8.33546,
          5.94679,
          5.84037,
          5.83356,
          5.83334,
          5.83333,
          5.83333,
          5.83333,
          5.83333,
          5.83333,
          5.83333,
          5.83333,
          5.83333,
          5.83333,
          5.83333,
          5.83333,
          5.83333,
          5.83333,
          5.83333,
          5.83333,
          5.83333,
          5.83333,
          5.83333,
          5.83333,
          5.83333,
          5.83333,
          5.83333,
          5.83333,
          5.83333,
          5.83333,
          5.83333,
          5.83333,
          5.83333,
          5.83333,
          5.83333,
          5.83333,
          5.83333,
          5.83333,
          5.83333,
          5.83333,
          5.83333,
          5.83333,
          5.83333,
          5.83333,
          5.83333,
          5.83333,
          5.83333,
          5.83333,
          5.83333,
          5.83333,
          5.83333,
          5.83333
         ],
         "z": [
          0.44,
          0.44,
          0.44,
          0.44,
          0.44,
          0.44,
          0.44,
          0.44,
          0.44,
          0.44,
          0.44,
          0.44,
          0.44,
          0.44,
          0.44,
          0.44,
          0.44,
          0.44,
          0.44,
          0.44,
          0.44,
          0.44,
          0.44,
          0.44,
          0.44,
          0.44,
          0.44,
          0.44,
          0.44,
          0.44,
          0.44,
          0.44,
          0.44,
          0.44,
          0.44,
          0.44,
          0.44,
          0.44,
          0.44,
          0.44,
          0.44,
          0.44,
          0.44,
          0.44,
          0.44,
          0.44,
          0.44,
          0.44,
          0.44,
          0.44,
          0.44,
          0.44
         ]
        },
        {
         "mode": "lines",
         "name": "Temps entre clients: 0.45 min",
         "type": "scatter3d",
         "x": [
          94,
          96,
          98,
          100,
          102,
          104,
          106,
          108,
          110,
          112,
          114,
          116,
          118,
          120,
          122,
          124,
          126,
          128,
          130,
          132,
          134,
          136,
          138,
          140,
          142,
          144,
          146,
          148,
          150,
          152,
          154,
          156,
          158,
          160,
          162,
          164,
          166,
          168,
          170,
          172,
          174,
          176,
          178,
          180,
          182,
          184,
          186,
          188,
          190,
          192,
          194,
          196,
          198
         ],
         "y": [
          7.68132,
          5.92775,
          5.83877,
          5.83349,
          5.83334,
          5.83333,
          5.83333,
          5.83333,
          5.83333,
          5.83333,
          5.83333,
          5.83333,
          5.83333,
          5.83333,
          5.83333,
          5.83333,
          5.83333,
          5.83333,
          5.83333,
          5.83333,
          5.83333,
          5.83333,
          5.83333,
          5.83333,
          5.83333,
          5.83333,
          5.83333,
          5.83333,
          5.83333,
          5.83333,
          5.83333,
          5.83333,
          5.83333,
          5.83333,
          5.83333,
          5.83333,
          5.83333,
          5.83333,
          5.83333,
          5.83333,
          5.83333,
          5.83333,
          5.83333,
          5.83333,
          5.83333,
          5.83333,
          5.83333,
          5.83333,
          5.83333,
          5.83333,
          5.83333,
          5.83333,
          5.83333
         ],
         "z": [
          0.45,
          0.45,
          0.45,
          0.45,
          0.45,
          0.45,
          0.45,
          0.45,
          0.45,
          0.45,
          0.45,
          0.45,
          0.45,
          0.45,
          0.45,
          0.45,
          0.45,
          0.45,
          0.45,
          0.45,
          0.45,
          0.45,
          0.45,
          0.45,
          0.45,
          0.45,
          0.45,
          0.45,
          0.45,
          0.45,
          0.45,
          0.45,
          0.45,
          0.45,
          0.45,
          0.45,
          0.45,
          0.45,
          0.45,
          0.45,
          0.45,
          0.45,
          0.45,
          0.45,
          0.45,
          0.45,
          0.45,
          0.45,
          0.45,
          0.45,
          0.45,
          0.45,
          0.45
         ]
        },
        {
         "mode": "lines",
         "name": "Temps entre clients: 0.46 min",
         "type": "scatter3d",
         "x": [
          92,
          94,
          96,
          98,
          100,
          102,
          104,
          106,
          108,
          110,
          112,
          114,
          116,
          118,
          120,
          122,
          124,
          126,
          128,
          130,
          132,
          134,
          136,
          138,
          140,
          142,
          144,
          146,
          148,
          150,
          152,
          154,
          156,
          158,
          160,
          162,
          164,
          166,
          168,
          170,
          172,
          174,
          176,
          178,
          180,
          182,
          184,
          186,
          188,
          190,
          192,
          194,
          196,
          198
         ],
         "y": [
          7.55431,
          5.92174,
          5.83817,
          5.83347,
          5.83333,
          5.83333,
          5.83333,
          5.83333,
          5.83333,
          5.83333,
          5.83333,
          5.83333,
          5.83333,
          5.83333,
          5.83333,
          5.83333,
          5.83333,
          5.83333,
          5.83333,
          5.83333,
          5.83333,
          5.83333,
          5.83333,
          5.83333,
          5.83333,
          5.83333,
          5.83333,
          5.83333,
          5.83333,
          5.83333,
          5.83333,
          5.83333,
          5.83333,
          5.83333,
          5.83333,
          5.83333,
          5.83333,
          5.83333,
          5.83333,
          5.83333,
          5.83333,
          5.83333,
          5.83333,
          5.83333,
          5.83333,
          5.83333,
          5.83333,
          5.83333,
          5.83333,
          5.83333,
          5.83333,
          5.83333,
          5.83333,
          5.83333
         ],
         "z": [
          0.46,
          0.46,
          0.46,
          0.46,
          0.46,
          0.46,
          0.46,
          0.46,
          0.46,
          0.46,
          0.46,
          0.46,
          0.46,
          0.46,
          0.46,
          0.46,
          0.46,
          0.46,
          0.46,
          0.46,
          0.46,
          0.46,
          0.46,
          0.46,
          0.46,
          0.46,
          0.46,
          0.46,
          0.46,
          0.46,
          0.46,
          0.46,
          0.46,
          0.46,
          0.46,
          0.46,
          0.46,
          0.46,
          0.46,
          0.46,
          0.46,
          0.46,
          0.46,
          0.46,
          0.46,
          0.46,
          0.46,
          0.46,
          0.46,
          0.46,
          0.46,
          0.46,
          0.46,
          0.46
         ]
        },
        {
         "mode": "lines",
         "name": "Temps entre clients: 0.47000000000000003 min",
         "type": "scatter3d",
         "x": [
          90,
          92,
          94,
          96,
          98,
          100,
          102,
          104,
          106,
          108,
          110,
          112,
          114,
          116,
          118,
          120,
          122,
          124,
          126,
          128,
          130,
          132,
          134,
          136,
          138,
          140,
          142,
          144,
          146,
          148,
          150,
          152,
          154,
          156,
          158,
          160,
          162,
          164,
          166,
          168,
          170,
          172,
          174,
          176,
          178,
          180,
          182,
          184,
          186,
          188,
          190,
          192,
          194,
          196,
          198
         ],
         "y": [
          7.78545,
          5.92619,
          5.83829,
          5.83346,
          5.83333,
          5.83333,
          5.83333,
          5.83333,
          5.83333,
          5.83333,
          5.83333,
          5.83333,
          5.83333,
          5.83333,
          5.83333,
          5.83333,
          5.83333,
          5.83333,
          5.83333,
          5.83333,
          5.83333,
          5.83333,
          5.83333,
          5.83333,
          5.83333,
          5.83333,
          5.83333,
          5.83333,
          5.83333,
          5.83333,
          5.83333,
          5.83333,
          5.83333,
          5.83333,
          5.83333,
          5.83333,
          5.83333,
          5.83333,
          5.83333,
          5.83333,
          5.83333,
          5.83333,
          5.83333,
          5.83333,
          5.83333,
          5.83333,
          5.83333,
          5.83333,
          5.83333,
          5.83333,
          5.83333,
          5.83333,
          5.83333,
          5.83333,
          5.83333
         ],
         "z": [
          0.47000000000000003,
          0.47000000000000003,
          0.47000000000000003,
          0.47000000000000003,
          0.47000000000000003,
          0.47000000000000003,
          0.47000000000000003,
          0.47000000000000003,
          0.47000000000000003,
          0.47000000000000003,
          0.47000000000000003,
          0.47000000000000003,
          0.47000000000000003,
          0.47000000000000003,
          0.47000000000000003,
          0.47000000000000003,
          0.47000000000000003,
          0.47000000000000003,
          0.47000000000000003,
          0.47000000000000003,
          0.47000000000000003,
          0.47000000000000003,
          0.47000000000000003,
          0.47000000000000003,
          0.47000000000000003,
          0.47000000000000003,
          0.47000000000000003,
          0.47000000000000003,
          0.47000000000000003,
          0.47000000000000003,
          0.47000000000000003,
          0.47000000000000003,
          0.47000000000000003,
          0.47000000000000003,
          0.47000000000000003,
          0.47000000000000003,
          0.47000000000000003,
          0.47000000000000003,
          0.47000000000000003,
          0.47000000000000003,
          0.47000000000000003,
          0.47000000000000003,
          0.47000000000000003,
          0.47000000000000003,
          0.47000000000000003,
          0.47000000000000003,
          0.47000000000000003,
          0.47000000000000003,
          0.47000000000000003,
          0.47000000000000003,
          0.47000000000000003,
          0.47000000000000003,
          0.47000000000000003,
          0.47000000000000003,
          0.47000000000000003
         ]
        },
        {
         "mode": "lines",
         "name": "Temps entre clients: 0.48 min",
         "type": "scatter3d",
         "x": [
          90,
          92,
          94,
          96,
          98,
          100,
          102,
          104,
          106,
          108,
          110,
          112,
          114,
          116,
          118,
          120,
          122,
          124,
          126,
          128,
          130,
          132,
          134,
          136,
          138,
          140,
          142,
          144,
          146,
          148,
          150,
          152,
          154,
          156,
          158,
          160,
          162,
          164,
          166,
          168,
          170,
          172,
          174,
          176,
          178,
          180,
          182,
          184,
          186,
          188,
          190,
          192,
          194,
          196,
          198
         ],
         "y": [
          5.94231,
          5.83913,
          5.83349,
          5.83334,
          5.83333,
          5.83333,
          5.83333,
          5.83333,
          5.83333,
          5.83333,
          5.83333,
          5.83333,
          5.83333,
          5.83333,
          5.83333,
          5.83333,
          5.83333,
          5.83333,
          5.83333,
          5.83333,
          5.83333,
          5.83333,
          5.83333,
          5.83333,
          5.83333,
          5.83333,
          5.83333,
          5.83333,
          5.83333,
          5.83333,
          5.83333,
          5.83333,
          5.83333,
          5.83333,
          5.83333,
          5.83333,
          5.83333,
          5.83333,
          5.83333,
          5.83333,
          5.83333,
          5.83333,
          5.83333,
          5.83333,
          5.83333,
          5.83333,
          5.83333,
          5.83333,
          5.83333,
          5.83333,
          5.83333,
          5.83333,
          5.83333,
          5.83333,
          5.83333
         ],
         "z": [
          0.48,
          0.48,
          0.48,
          0.48,
          0.48,
          0.48,
          0.48,
          0.48,
          0.48,
          0.48,
          0.48,
          0.48,
          0.48,
          0.48,
          0.48,
          0.48,
          0.48,
          0.48,
          0.48,
          0.48,
          0.48,
          0.48,
          0.48,
          0.48,
          0.48,
          0.48,
          0.48,
          0.48,
          0.48,
          0.48,
          0.48,
          0.48,
          0.48,
          0.48,
          0.48,
          0.48,
          0.48,
          0.48,
          0.48,
          0.48,
          0.48,
          0.48,
          0.48,
          0.48,
          0.48,
          0.48,
          0.48,
          0.48,
          0.48,
          0.48,
          0.48,
          0.48,
          0.48,
          0.48,
          0.48
         ]
        },
        {
         "mode": "lines",
         "name": "Temps entre clients: 0.49 min",
         "type": "scatter3d",
         "x": [
          90,
          92,
          94,
          96,
          98,
          100,
          102,
          104,
          106,
          108,
          110,
          112,
          114,
          116,
          118,
          120,
          122,
          124,
          126,
          128,
          130,
          132,
          134,
          136,
          138,
          140,
          142,
          144,
          146,
          148,
          150,
          152,
          154,
          156,
          158,
          160,
          162,
          164,
          166,
          168,
          170,
          172,
          174,
          176,
          178,
          180,
          182,
          184,
          186,
          188,
          190,
          192,
          194,
          196,
          198
         ],
         "y": [
          5.84104,
          5.83354,
          5.83334,
          5.83333,
          5.83333,
          5.83333,
          5.83333,
          5.83333,
          5.83333,
          5.83333,
          5.83333,
          5.83333,
          5.83333,
          5.83333,
          5.83333,
          5.83333,
          5.83333,
          5.83333,
          5.83333,
          5.83333,
          5.83333,
          5.83333,
          5.83333,
          5.83333,
          5.83333,
          5.83333,
          5.83333,
          5.83333,
          5.83333,
          5.83333,
          5.83333,
          5.83333,
          5.83333,
          5.83333,
          5.83333,
          5.83333,
          5.83333,
          5.83333,
          5.83333,
          5.83333,
          5.83333,
          5.83333,
          5.83333,
          5.83333,
          5.83333,
          5.83333,
          5.83333,
          5.83333,
          5.83333,
          5.83333,
          5.83333,
          5.83333,
          5.83333,
          5.83333,
          5.83333
         ],
         "z": [
          0.49,
          0.49,
          0.49,
          0.49,
          0.49,
          0.49,
          0.49,
          0.49,
          0.49,
          0.49,
          0.49,
          0.49,
          0.49,
          0.49,
          0.49,
          0.49,
          0.49,
          0.49,
          0.49,
          0.49,
          0.49,
          0.49,
          0.49,
          0.49,
          0.49,
          0.49,
          0.49,
          0.49,
          0.49,
          0.49,
          0.49,
          0.49,
          0.49,
          0.49,
          0.49,
          0.49,
          0.49,
          0.49,
          0.49,
          0.49,
          0.49,
          0.49,
          0.49,
          0.49,
          0.49,
          0.49,
          0.49,
          0.49,
          0.49,
          0.49,
          0.49,
          0.49,
          0.49,
          0.49,
          0.49
         ]
        },
        {
         "mode": "lines",
         "name": "Temps entre clients: 0.5 min",
         "type": "scatter3d",
         "x": [
          90,
          92,
          94,
          96,
          98,
          100,
          102,
          104,
          106,
          108,
          110,
          112,
          114,
          116,
          118,
          120,
          122,
          124,
          126,
          128,
          130,
          132,
          134,
          136,
          138,
          140,
          142,
          144,
          146,
          148,
          150,
          152,
          154,
          156,
          158,
          160,
          162,
          164,
          166,
          168,
          170,
          172,
          174,
          176,
          178,
          180,
          182,
          184,
          186,
          188,
          190,
          192,
          194,
          196,
          198
         ],
         "y": [
          5.83366,
          5.83334,
          5.83333,
          5.83333,
          5.83333,
          5.83333,
          5.83333,
          5.83333,
          5.83333,
          5.83333,
          5.83333,
          5.83333,
          5.83333,
          5.83333,
          5.83333,
          5.83333,
          5.83333,
          5.83333,
          5.83333,
          5.83333,
          5.83333,
          5.83333,
          5.83333,
          5.83333,
          5.83333,
          5.83333,
          5.83333,
          5.83333,
          5.83333,
          5.83333,
          5.83333,
          5.83333,
          5.83333,
          5.83333,
          5.83333,
          5.83333,
          5.83333,
          5.83333,
          5.83333,
          5.83333,
          5.83333,
          5.83333,
          5.83333,
          5.83333,
          5.83333,
          5.83333,
          5.83333,
          5.83333,
          5.83333,
          5.83333,
          5.83333,
          5.83333,
          5.83333,
          5.83333,
          5.83333
         ],
         "z": [
          0.5,
          0.5,
          0.5,
          0.5,
          0.5,
          0.5,
          0.5,
          0.5,
          0.5,
          0.5,
          0.5,
          0.5,
          0.5,
          0.5,
          0.5,
          0.5,
          0.5,
          0.5,
          0.5,
          0.5,
          0.5,
          0.5,
          0.5,
          0.5,
          0.5,
          0.5,
          0.5,
          0.5,
          0.5,
          0.5,
          0.5,
          0.5,
          0.5,
          0.5,
          0.5,
          0.5,
          0.5,
          0.5,
          0.5,
          0.5,
          0.5,
          0.5,
          0.5,
          0.5,
          0.5,
          0.5,
          0.5,
          0.5,
          0.5,
          0.5,
          0.5,
          0.5,
          0.5,
          0.5,
          0.5
         ]
        },
        {
         "mode": "lines",
         "name": "Temps entre clients: 0.51 min",
         "type": "scatter3d",
         "x": [
          90,
          92,
          94,
          96,
          98,
          100,
          102,
          104,
          106,
          108,
          110,
          112,
          114,
          116,
          118,
          120,
          122,
          124,
          126,
          128,
          130,
          132,
          134,
          136,
          138,
          140,
          142,
          144,
          146,
          148,
          150,
          152,
          154,
          156,
          158,
          160,
          162,
          164,
          166,
          168,
          170,
          172,
          174,
          176,
          178,
          180,
          182,
          184,
          186,
          188,
          190,
          192,
          194,
          196,
          198
         ],
         "y": [
          5.83334,
          5.83333,
          5.83333,
          5.83333,
          5.83333,
          5.83333,
          5.83333,
          5.83333,
          5.83333,
          5.83333,
          5.83333,
          5.83333,
          5.83333,
          5.83333,
          5.83333,
          5.83333,
          5.83333,
          5.83333,
          5.83333,
          5.83333,
          5.83333,
          5.83333,
          5.83333,
          5.83333,
          5.83333,
          5.83333,
          5.83333,
          5.83333,
          5.83333,
          5.83333,
          5.83333,
          5.83333,
          5.83333,
          5.83333,
          5.83333,
          5.83333,
          5.83333,
          5.83333,
          5.83333,
          5.83333,
          5.83333,
          5.83333,
          5.83333,
          5.83333,
          5.83333,
          5.83333,
          5.83333,
          5.83333,
          5.83333,
          5.83333,
          5.83333,
          5.83333,
          5.83333,
          5.83333,
          5.83333
         ],
         "z": [
          0.51,
          0.51,
          0.51,
          0.51,
          0.51,
          0.51,
          0.51,
          0.51,
          0.51,
          0.51,
          0.51,
          0.51,
          0.51,
          0.51,
          0.51,
          0.51,
          0.51,
          0.51,
          0.51,
          0.51,
          0.51,
          0.51,
          0.51,
          0.51,
          0.51,
          0.51,
          0.51,
          0.51,
          0.51,
          0.51,
          0.51,
          0.51,
          0.51,
          0.51,
          0.51,
          0.51,
          0.51,
          0.51,
          0.51,
          0.51,
          0.51,
          0.51,
          0.51,
          0.51,
          0.51,
          0.51,
          0.51,
          0.51,
          0.51,
          0.51,
          0.51,
          0.51,
          0.51,
          0.51,
          0.51
         ]
        },
        {
         "mode": "lines",
         "name": "Temps entre clients: 0.52 min",
         "type": "scatter3d",
         "x": [
          90,
          92,
          94,
          96,
          98,
          100,
          102,
          104,
          106,
          108,
          110,
          112,
          114,
          116,
          118,
          120,
          122,
          124,
          126,
          128,
          130,
          132,
          134,
          136,
          138,
          140,
          142,
          144,
          146,
          148,
          150,
          152,
          154,
          156,
          158,
          160,
          162,
          164,
          166,
          168,
          170,
          172,
          174,
          176,
          178,
          180,
          182,
          184,
          186,
          188,
          190,
          192,
          194,
          196,
          198
         ],
         "y": [
          5.83333,
          5.83333,
          5.83333,
          5.83333,
          5.83333,
          5.83333,
          5.83333,
          5.83333,
          5.83333,
          5.83333,
          5.83333,
          5.83333,
          5.83333,
          5.83333,
          5.83333,
          5.83333,
          5.83333,
          5.83333,
          5.83333,
          5.83333,
          5.83333,
          5.83333,
          5.83333,
          5.83333,
          5.83333,
          5.83333,
          5.83333,
          5.83333,
          5.83333,
          5.83333,
          5.83333,
          5.83333,
          5.83333,
          5.83333,
          5.83333,
          5.83333,
          5.83333,
          5.83333,
          5.83333,
          5.83333,
          5.83333,
          5.83333,
          5.83333,
          5.83333,
          5.83333,
          5.83333,
          5.83333,
          5.83333,
          5.83333,
          5.83333,
          5.83333,
          5.83333,
          5.83333,
          5.83333,
          5.83333
         ],
         "z": [
          0.52,
          0.52,
          0.52,
          0.52,
          0.52,
          0.52,
          0.52,
          0.52,
          0.52,
          0.52,
          0.52,
          0.52,
          0.52,
          0.52,
          0.52,
          0.52,
          0.52,
          0.52,
          0.52,
          0.52,
          0.52,
          0.52,
          0.52,
          0.52,
          0.52,
          0.52,
          0.52,
          0.52,
          0.52,
          0.52,
          0.52,
          0.52,
          0.52,
          0.52,
          0.52,
          0.52,
          0.52,
          0.52,
          0.52,
          0.52,
          0.52,
          0.52,
          0.52,
          0.52,
          0.52,
          0.52,
          0.52,
          0.52,
          0.52,
          0.52,
          0.52,
          0.52,
          0.52,
          0.52,
          0.52
         ]
        },
        {
         "mode": "lines",
         "name": "Temps entre clients: 0.53 min",
         "type": "scatter3d",
         "x": [
          90,
          92,
          94,
          96,
          98,
          100,
          102,
          104,
          106,
          108,
          110,
          112,
          114,
          116,
          118,
          120,
          122,
          124,
          126,
          128,
          130,
          132,
          134,
          136,
          138,
          140,
          142,
          144,
          146,
          148,
          150,
          152,
          154,
          156,
          158,
          160,
          162,
          164,
          166,
          168,
          170,
          172,
          174,
          176,
          178,
          180,
          182,
          184,
          186,
          188,
          190,
          192,
          194,
          196,
          198
         ],
         "y": [
          5.83333,
          5.83333,
          5.83333,
          5.83333,
          5.83333,
          5.83333,
          5.83333,
          5.83333,
          5.83333,
          5.83333,
          5.83333,
          5.83333,
          5.83333,
          5.83333,
          5.83333,
          5.83333,
          5.83333,
          5.83333,
          5.83333,
          5.83333,
          5.83333,
          5.83333,
          5.83333,
          5.83333,
          5.83333,
          5.83333,
          5.83333,
          5.83333,
          5.83333,
          5.83333,
          5.83333,
          5.83333,
          5.83333,
          5.83333,
          5.83333,
          5.83333,
          5.83333,
          5.83333,
          5.83333,
          5.83333,
          5.83333,
          5.83333,
          5.83333,
          5.83333,
          5.83333,
          5.83333,
          5.83333,
          5.83333,
          5.83333,
          5.83333,
          5.83333,
          5.83333,
          5.83333,
          5.83333,
          5.83333
         ],
         "z": [
          0.53,
          0.53,
          0.53,
          0.53,
          0.53,
          0.53,
          0.53,
          0.53,
          0.53,
          0.53,
          0.53,
          0.53,
          0.53,
          0.53,
          0.53,
          0.53,
          0.53,
          0.53,
          0.53,
          0.53,
          0.53,
          0.53,
          0.53,
          0.53,
          0.53,
          0.53,
          0.53,
          0.53,
          0.53,
          0.53,
          0.53,
          0.53,
          0.53,
          0.53,
          0.53,
          0.53,
          0.53,
          0.53,
          0.53,
          0.53,
          0.53,
          0.53,
          0.53,
          0.53,
          0.53,
          0.53,
          0.53,
          0.53,
          0.53,
          0.53,
          0.53,
          0.53,
          0.53,
          0.53,
          0.53
         ]
        },
        {
         "mode": "lines",
         "name": "Temps entre clients: 0.54 min",
         "type": "scatter3d",
         "x": [
          90,
          92,
          94,
          96,
          98,
          100,
          102,
          104,
          106,
          108,
          110,
          112,
          114,
          116,
          118,
          120,
          122,
          124,
          126,
          128,
          130,
          132,
          134,
          136,
          138,
          140,
          142,
          144,
          146,
          148,
          150,
          152,
          154,
          156,
          158,
          160,
          162,
          164,
          166,
          168,
          170,
          172,
          174,
          176,
          178,
          180,
          182,
          184,
          186,
          188,
          190,
          192,
          194,
          196,
          198
         ],
         "y": [
          5.83333,
          5.83333,
          5.83333,
          5.83333,
          5.83333,
          5.83333,
          5.83333,
          5.83333,
          5.83333,
          5.83333,
          5.83333,
          5.83333,
          5.83333,
          5.83333,
          5.83333,
          5.83333,
          5.83333,
          5.83333,
          5.83333,
          5.83333,
          5.83333,
          5.83333,
          5.83333,
          5.83333,
          5.83333,
          5.83333,
          5.83333,
          5.83333,
          5.83333,
          5.83333,
          5.83333,
          5.83333,
          5.83333,
          5.83333,
          5.83333,
          5.83333,
          5.83333,
          5.83333,
          5.83333,
          5.83333,
          5.83333,
          5.83333,
          5.83333,
          5.83333,
          5.83333,
          5.83333,
          5.83333,
          5.83333,
          5.83333,
          5.83333,
          5.83333,
          5.83333,
          5.83333,
          5.83333,
          5.83333
         ],
         "z": [
          0.54,
          0.54,
          0.54,
          0.54,
          0.54,
          0.54,
          0.54,
          0.54,
          0.54,
          0.54,
          0.54,
          0.54,
          0.54,
          0.54,
          0.54,
          0.54,
          0.54,
          0.54,
          0.54,
          0.54,
          0.54,
          0.54,
          0.54,
          0.54,
          0.54,
          0.54,
          0.54,
          0.54,
          0.54,
          0.54,
          0.54,
          0.54,
          0.54,
          0.54,
          0.54,
          0.54,
          0.54,
          0.54,
          0.54,
          0.54,
          0.54,
          0.54,
          0.54,
          0.54,
          0.54,
          0.54,
          0.54,
          0.54,
          0.54,
          0.54,
          0.54,
          0.54,
          0.54,
          0.54,
          0.54
         ]
        },
        {
         "mode": "lines",
         "name": "Temps entre clients: 0.55 min",
         "type": "scatter3d",
         "x": [
          90,
          92,
          94,
          96,
          98,
          100,
          102,
          104,
          106,
          108,
          110,
          112,
          114,
          116,
          118,
          120,
          122,
          124,
          126,
          128,
          130,
          132,
          134,
          136,
          138,
          140,
          142,
          144,
          146,
          148,
          150,
          152,
          154,
          156,
          158,
          160,
          162,
          164,
          166,
          168,
          170,
          172,
          174,
          176,
          178,
          180,
          182,
          184,
          186,
          188,
          190,
          192,
          194,
          196,
          198
         ],
         "y": [
          5.83333,
          5.83333,
          5.83333,
          5.83333,
          5.83333,
          5.83333,
          5.83333,
          5.83333,
          5.83333,
          5.83333,
          5.83333,
          5.83333,
          5.83333,
          5.83333,
          5.83333,
          5.83333,
          5.83333,
          5.83333,
          5.83333,
          5.83333,
          5.83333,
          5.83333,
          5.83333,
          5.83333,
          5.83333,
          5.83333,
          5.83333,
          5.83333,
          5.83333,
          5.83333,
          5.83333,
          5.83333,
          5.83333,
          5.83333,
          5.83333,
          5.83333,
          5.83333,
          5.83333,
          5.83333,
          5.83333,
          5.83333,
          5.83333,
          5.83333,
          5.83333,
          5.83333,
          5.83333,
          5.83333,
          5.83333,
          5.83333,
          5.83333,
          5.83333,
          5.83333,
          5.83333,
          5.83333,
          5.83333
         ],
         "z": [
          0.55,
          0.55,
          0.55,
          0.55,
          0.55,
          0.55,
          0.55,
          0.55,
          0.55,
          0.55,
          0.55,
          0.55,
          0.55,
          0.55,
          0.55,
          0.55,
          0.55,
          0.55,
          0.55,
          0.55,
          0.55,
          0.55,
          0.55,
          0.55,
          0.55,
          0.55,
          0.55,
          0.55,
          0.55,
          0.55,
          0.55,
          0.55,
          0.55,
          0.55,
          0.55,
          0.55,
          0.55,
          0.55,
          0.55,
          0.55,
          0.55,
          0.55,
          0.55,
          0.55,
          0.55,
          0.55,
          0.55,
          0.55,
          0.55,
          0.55,
          0.55,
          0.55,
          0.55,
          0.55,
          0.55
         ]
        },
        {
         "mode": "lines",
         "name": "Temps entre clients: 0.56 min",
         "type": "scatter3d",
         "x": [
          90,
          92,
          94,
          96,
          98,
          100,
          102,
          104,
          106,
          108,
          110,
          112,
          114,
          116,
          118,
          120,
          122,
          124,
          126,
          128,
          130,
          132,
          134,
          136,
          138,
          140,
          142,
          144,
          146,
          148,
          150,
          152,
          154,
          156,
          158,
          160,
          162,
          164,
          166,
          168,
          170,
          172,
          174,
          176,
          178,
          180,
          182,
          184,
          186,
          188,
          190,
          192,
          194,
          196,
          198
         ],
         "y": [
          5.83333,
          5.83333,
          5.83333,
          5.83333,
          5.83333,
          5.83333,
          5.83333,
          5.83333,
          5.83333,
          5.83333,
          5.83333,
          5.83333,
          5.83333,
          5.83333,
          5.83333,
          5.83333,
          5.83333,
          5.83333,
          5.83333,
          5.83333,
          5.83333,
          5.83333,
          5.83333,
          5.83333,
          5.83333,
          5.83333,
          5.83333,
          5.83333,
          5.83333,
          5.83333,
          5.83333,
          5.83333,
          5.83333,
          5.83333,
          5.83333,
          5.83333,
          5.83333,
          5.83333,
          5.83333,
          5.83333,
          5.83333,
          5.83333,
          5.83333,
          5.83333,
          5.83333,
          5.83333,
          5.83333,
          5.83333,
          5.83333,
          5.83333,
          5.83333,
          5.83333,
          5.83333,
          5.83333,
          5.83333
         ],
         "z": [
          0.56,
          0.56,
          0.56,
          0.56,
          0.56,
          0.56,
          0.56,
          0.56,
          0.56,
          0.56,
          0.56,
          0.56,
          0.56,
          0.56,
          0.56,
          0.56,
          0.56,
          0.56,
          0.56,
          0.56,
          0.56,
          0.56,
          0.56,
          0.56,
          0.56,
          0.56,
          0.56,
          0.56,
          0.56,
          0.56,
          0.56,
          0.56,
          0.56,
          0.56,
          0.56,
          0.56,
          0.56,
          0.56,
          0.56,
          0.56,
          0.56,
          0.56,
          0.56,
          0.56,
          0.56,
          0.56,
          0.56,
          0.56,
          0.56,
          0.56,
          0.56,
          0.56,
          0.56,
          0.56,
          0.56
         ]
        },
        {
         "mode": "lines",
         "name": "Temps entre clients: 0.5700000000000001 min",
         "type": "scatter3d",
         "x": [
          90,
          92,
          94,
          96,
          98,
          100,
          102,
          104,
          106,
          108,
          110,
          112,
          114,
          116,
          118,
          120,
          122,
          124,
          126,
          128,
          130,
          132,
          134,
          136,
          138,
          140,
          142,
          144,
          146,
          148,
          150,
          152,
          154,
          156,
          158,
          160,
          162,
          164,
          166,
          168,
          170,
          172,
          174,
          176,
          178,
          180,
          182,
          184,
          186,
          188,
          190,
          192,
          194,
          196,
          198
         ],
         "y": [
          5.83333,
          5.83333,
          5.83333,
          5.83333,
          5.83333,
          5.83333,
          5.83333,
          5.83333,
          5.83333,
          5.83333,
          5.83333,
          5.83333,
          5.83333,
          5.83333,
          5.83333,
          5.83333,
          5.83333,
          5.83333,
          5.83333,
          5.83333,
          5.83333,
          5.83333,
          5.83333,
          5.83333,
          5.83333,
          5.83333,
          5.83333,
          5.83333,
          5.83333,
          5.83333,
          5.83333,
          5.83333,
          5.83333,
          5.83333,
          5.83333,
          5.83333,
          5.83333,
          5.83333,
          5.83333,
          5.83333,
          5.83333,
          5.83333,
          5.83333,
          5.83333,
          5.83333,
          5.83333,
          5.83333,
          5.83333,
          5.83333,
          5.83333,
          5.83333,
          5.83333,
          5.83333,
          5.83333,
          5.83333
         ],
         "z": [
          0.5700000000000001,
          0.5700000000000001,
          0.5700000000000001,
          0.5700000000000001,
          0.5700000000000001,
          0.5700000000000001,
          0.5700000000000001,
          0.5700000000000001,
          0.5700000000000001,
          0.5700000000000001,
          0.5700000000000001,
          0.5700000000000001,
          0.5700000000000001,
          0.5700000000000001,
          0.5700000000000001,
          0.5700000000000001,
          0.5700000000000001,
          0.5700000000000001,
          0.5700000000000001,
          0.5700000000000001,
          0.5700000000000001,
          0.5700000000000001,
          0.5700000000000001,
          0.5700000000000001,
          0.5700000000000001,
          0.5700000000000001,
          0.5700000000000001,
          0.5700000000000001,
          0.5700000000000001,
          0.5700000000000001,
          0.5700000000000001,
          0.5700000000000001,
          0.5700000000000001,
          0.5700000000000001,
          0.5700000000000001,
          0.5700000000000001,
          0.5700000000000001,
          0.5700000000000001,
          0.5700000000000001,
          0.5700000000000001,
          0.5700000000000001,
          0.5700000000000001,
          0.5700000000000001,
          0.5700000000000001,
          0.5700000000000001,
          0.5700000000000001,
          0.5700000000000001,
          0.5700000000000001,
          0.5700000000000001,
          0.5700000000000001,
          0.5700000000000001,
          0.5700000000000001,
          0.5700000000000001,
          0.5700000000000001,
          0.5700000000000001
         ]
        },
        {
         "mode": "lines",
         "name": "Temps entre clients: 0.58 min",
         "type": "scatter3d",
         "x": [
          90,
          92,
          94,
          96,
          98,
          100,
          102,
          104,
          106,
          108,
          110,
          112,
          114,
          116,
          118,
          120,
          122,
          124,
          126,
          128,
          130,
          132,
          134,
          136,
          138,
          140,
          142,
          144,
          146,
          148,
          150,
          152,
          154,
          156,
          158,
          160,
          162,
          164,
          166,
          168,
          170,
          172,
          174,
          176,
          178,
          180,
          182,
          184,
          186,
          188,
          190,
          192,
          194,
          196,
          198
         ],
         "y": [
          5.83333,
          5.83333,
          5.83333,
          5.83333,
          5.83333,
          5.83333,
          5.83333,
          5.83333,
          5.83333,
          5.83333,
          5.83333,
          5.83333,
          5.83333,
          5.83333,
          5.83333,
          5.83333,
          5.83333,
          5.83333,
          5.83333,
          5.83333,
          5.83333,
          5.83333,
          5.83333,
          5.83333,
          5.83333,
          5.83333,
          5.83333,
          5.83333,
          5.83333,
          5.83333,
          5.83333,
          5.83333,
          5.83333,
          5.83333,
          5.83333,
          5.83333,
          5.83333,
          5.83333,
          5.83333,
          5.83333,
          5.83333,
          5.83333,
          5.83333,
          5.83333,
          5.83333,
          5.83333,
          5.83333,
          5.83333,
          5.83333,
          5.83333,
          5.83333,
          5.83333,
          5.83333,
          5.83333,
          5.83333
         ],
         "z": [
          0.58,
          0.58,
          0.58,
          0.58,
          0.58,
          0.58,
          0.58,
          0.58,
          0.58,
          0.58,
          0.58,
          0.58,
          0.58,
          0.58,
          0.58,
          0.58,
          0.58,
          0.58,
          0.58,
          0.58,
          0.58,
          0.58,
          0.58,
          0.58,
          0.58,
          0.58,
          0.58,
          0.58,
          0.58,
          0.58,
          0.58,
          0.58,
          0.58,
          0.58,
          0.58,
          0.58,
          0.58,
          0.58,
          0.58,
          0.58,
          0.58,
          0.58,
          0.58,
          0.58,
          0.58,
          0.58,
          0.58,
          0.58,
          0.58,
          0.58,
          0.58,
          0.58,
          0.58,
          0.58,
          0.58
         ]
        },
        {
         "mode": "lines",
         "name": "Temps entre clients: 0.59 min",
         "type": "scatter3d",
         "x": [
          90,
          92,
          94,
          96,
          98,
          100,
          102,
          104,
          106,
          108,
          110,
          112,
          114,
          116,
          118,
          120,
          122,
          124,
          126,
          128,
          130,
          132,
          134,
          136,
          138,
          140,
          142,
          144,
          146,
          148,
          150,
          152,
          154,
          156,
          158,
          160,
          162,
          164,
          166,
          168,
          170,
          172,
          174,
          176,
          178,
          180,
          182,
          184,
          186,
          188,
          190,
          192,
          194,
          196,
          198
         ],
         "y": [
          5.83333,
          5.83333,
          5.83333,
          5.83333,
          5.83333,
          5.83333,
          5.83333,
          5.83333,
          5.83333,
          5.83333,
          5.83333,
          5.83333,
          5.83333,
          5.83333,
          5.83333,
          5.83333,
          5.83333,
          5.83333,
          5.83333,
          5.83333,
          5.83333,
          5.83333,
          5.83333,
          5.83333,
          5.83333,
          5.83333,
          5.83333,
          5.83333,
          5.83333,
          5.83333,
          5.83333,
          5.83333,
          5.83333,
          5.83333,
          5.83333,
          5.83333,
          5.83333,
          5.83333,
          5.83333,
          5.83333,
          5.83333,
          5.83333,
          5.83333,
          5.83333,
          5.83333,
          5.83333,
          5.83333,
          5.83333,
          5.83333,
          5.83333,
          5.83333,
          5.83333,
          5.83333,
          5.83333,
          5.83333
         ],
         "z": [
          0.59,
          0.59,
          0.59,
          0.59,
          0.59,
          0.59,
          0.59,
          0.59,
          0.59,
          0.59,
          0.59,
          0.59,
          0.59,
          0.59,
          0.59,
          0.59,
          0.59,
          0.59,
          0.59,
          0.59,
          0.59,
          0.59,
          0.59,
          0.59,
          0.59,
          0.59,
          0.59,
          0.59,
          0.59,
          0.59,
          0.59,
          0.59,
          0.59,
          0.59,
          0.59,
          0.59,
          0.59,
          0.59,
          0.59,
          0.59,
          0.59,
          0.59,
          0.59,
          0.59,
          0.59,
          0.59,
          0.59,
          0.59,
          0.59,
          0.59,
          0.59,
          0.59,
          0.59,
          0.59,
          0.59
         ]
        },
        {
         "mode": "lines",
         "name": "Temps entre clients: 0.6 min",
         "type": "scatter3d",
         "x": [
          90,
          92,
          94,
          96,
          98,
          100,
          102,
          104,
          106,
          108,
          110,
          112,
          114,
          116,
          118,
          120,
          122,
          124,
          126,
          128,
          130,
          132,
          134,
          136,
          138,
          140,
          142,
          144,
          146,
          148,
          150,
          152,
          154,
          156,
          158,
          160,
          162,
          164,
          166,
          168,
          170,
          172,
          174,
          176,
          178,
          180,
          182,
          184,
          186,
          188,
          190,
          192,
          194,
          196,
          198
         ],
         "y": [
          5.83333,
          5.83333,
          5.83333,
          5.83333,
          5.83333,
          5.83333,
          5.83333,
          5.83333,
          5.83333,
          5.83333,
          5.83333,
          5.83333,
          5.83333,
          5.83333,
          5.83333,
          5.83333,
          5.83333,
          5.83333,
          5.83333,
          5.83333,
          5.83333,
          5.83333,
          5.83333,
          5.83333,
          5.83333,
          5.83333,
          5.83333,
          5.83333,
          5.83333,
          5.83333,
          5.83333,
          5.83333,
          5.83333,
          5.83333,
          5.83333,
          5.83333,
          5.83333,
          5.83333,
          5.83333,
          5.83333,
          5.83333,
          5.83333,
          5.83333,
          5.83333,
          5.83333,
          5.83333,
          5.83333,
          5.83333,
          5.83333,
          5.83333,
          5.83333,
          5.83333,
          5.83333,
          5.83333,
          5.83333
         ],
         "z": [
          0.6,
          0.6,
          0.6,
          0.6,
          0.6,
          0.6,
          0.6,
          0.6,
          0.6,
          0.6,
          0.6,
          0.6,
          0.6,
          0.6,
          0.6,
          0.6,
          0.6,
          0.6,
          0.6,
          0.6,
          0.6,
          0.6,
          0.6,
          0.6,
          0.6,
          0.6,
          0.6,
          0.6,
          0.6,
          0.6,
          0.6,
          0.6,
          0.6,
          0.6,
          0.6,
          0.6,
          0.6,
          0.6,
          0.6,
          0.6,
          0.6,
          0.6,
          0.6,
          0.6,
          0.6,
          0.6,
          0.6,
          0.6,
          0.6,
          0.6,
          0.6,
          0.6,
          0.6,
          0.6,
          0.6
         ]
        },
        {
         "mode": "lines",
         "name": "Temps entre clients: 0.61 min",
         "type": "scatter3d",
         "x": [
          90,
          92,
          94,
          96,
          98,
          100,
          102,
          104,
          106,
          108,
          110,
          112,
          114,
          116,
          118,
          120,
          122,
          124,
          126,
          128,
          130,
          132,
          134,
          136,
          138,
          140,
          142,
          144,
          146,
          148,
          150,
          152,
          154,
          156,
          158,
          160,
          162,
          164,
          166,
          168,
          170,
          172,
          174,
          176,
          178,
          180,
          182,
          184,
          186,
          188,
          190,
          192,
          194,
          196,
          198
         ],
         "y": [
          5.83333,
          5.83333,
          5.83333,
          5.83333,
          5.83333,
          5.83333,
          5.83333,
          5.83333,
          5.83333,
          5.83333,
          5.83333,
          5.83333,
          5.83333,
          5.83333,
          5.83333,
          5.83333,
          5.83333,
          5.83333,
          5.83333,
          5.83333,
          5.83333,
          5.83333,
          5.83333,
          5.83333,
          5.83333,
          5.83333,
          5.83333,
          5.83333,
          5.83333,
          5.83333,
          5.83333,
          5.83333,
          5.83333,
          5.83333,
          5.83333,
          5.83333,
          5.83333,
          5.83333,
          5.83333,
          5.83333,
          5.83333,
          5.83333,
          5.83333,
          5.83333,
          5.83333,
          5.83333,
          5.83333,
          5.83333,
          5.83333,
          5.83333,
          5.83333,
          5.83333,
          5.83333,
          5.83333,
          5.83333
         ],
         "z": [
          0.61,
          0.61,
          0.61,
          0.61,
          0.61,
          0.61,
          0.61,
          0.61,
          0.61,
          0.61,
          0.61,
          0.61,
          0.61,
          0.61,
          0.61,
          0.61,
          0.61,
          0.61,
          0.61,
          0.61,
          0.61,
          0.61,
          0.61,
          0.61,
          0.61,
          0.61,
          0.61,
          0.61,
          0.61,
          0.61,
          0.61,
          0.61,
          0.61,
          0.61,
          0.61,
          0.61,
          0.61,
          0.61,
          0.61,
          0.61,
          0.61,
          0.61,
          0.61,
          0.61,
          0.61,
          0.61,
          0.61,
          0.61,
          0.61,
          0.61,
          0.61,
          0.61,
          0.61,
          0.61,
          0.61
         ]
        },
        {
         "mode": "lines",
         "name": "Temps entre clients: 0.62 min",
         "type": "scatter3d",
         "x": [
          90,
          92,
          94,
          96,
          98,
          100,
          102,
          104,
          106,
          108,
          110,
          112,
          114,
          116,
          118,
          120,
          122,
          124,
          126,
          128,
          130,
          132,
          134,
          136,
          138,
          140,
          142,
          144,
          146,
          148,
          150,
          152,
          154,
          156,
          158,
          160,
          162,
          164,
          166,
          168,
          170,
          172,
          174,
          176,
          178,
          180,
          182,
          184,
          186,
          188,
          190,
          192,
          194,
          196,
          198
         ],
         "y": [
          5.83333,
          5.83333,
          5.83333,
          5.83333,
          5.83333,
          5.83333,
          5.83333,
          5.83333,
          5.83333,
          5.83333,
          5.83333,
          5.83333,
          5.83333,
          5.83333,
          5.83333,
          5.83333,
          5.83333,
          5.83333,
          5.83333,
          5.83333,
          5.83333,
          5.83333,
          5.83333,
          5.83333,
          5.83333,
          5.83333,
          5.83333,
          5.83333,
          5.83333,
          5.83333,
          5.83333,
          5.83333,
          5.83333,
          5.83333,
          5.83333,
          5.83333,
          5.83333,
          5.83333,
          5.83333,
          5.83333,
          5.83333,
          5.83333,
          5.83333,
          5.83333,
          5.83333,
          5.83333,
          5.83333,
          5.83333,
          5.83333,
          5.83333,
          5.83333,
          5.83333,
          5.83333,
          5.83333,
          5.83333
         ],
         "z": [
          0.62,
          0.62,
          0.62,
          0.62,
          0.62,
          0.62,
          0.62,
          0.62,
          0.62,
          0.62,
          0.62,
          0.62,
          0.62,
          0.62,
          0.62,
          0.62,
          0.62,
          0.62,
          0.62,
          0.62,
          0.62,
          0.62,
          0.62,
          0.62,
          0.62,
          0.62,
          0.62,
          0.62,
          0.62,
          0.62,
          0.62,
          0.62,
          0.62,
          0.62,
          0.62,
          0.62,
          0.62,
          0.62,
          0.62,
          0.62,
          0.62,
          0.62,
          0.62,
          0.62,
          0.62,
          0.62,
          0.62,
          0.62,
          0.62,
          0.62,
          0.62,
          0.62,
          0.62,
          0.62,
          0.62
         ]
        },
        {
         "mode": "lines",
         "name": "Temps entre clients: 0.63 min",
         "type": "scatter3d",
         "x": [
          90,
          92,
          94,
          96,
          98,
          100,
          102,
          104,
          106,
          108,
          110,
          112,
          114,
          116,
          118,
          120,
          122,
          124,
          126,
          128,
          130,
          132,
          134,
          136,
          138,
          140,
          142,
          144,
          146,
          148,
          150,
          152,
          154,
          156,
          158,
          160,
          162,
          164,
          166,
          168,
          170,
          172,
          174,
          176,
          178,
          180,
          182,
          184,
          186,
          188,
          190,
          192,
          194,
          196,
          198
         ],
         "y": [
          5.83333,
          5.83333,
          5.83333,
          5.83333,
          5.83333,
          5.83333,
          5.83333,
          5.83333,
          5.83333,
          5.83333,
          5.83333,
          5.83333,
          5.83333,
          5.83333,
          5.83333,
          5.83333,
          5.83333,
          5.83333,
          5.83333,
          5.83333,
          5.83333,
          5.83333,
          5.83333,
          5.83333,
          5.83333,
          5.83333,
          5.83333,
          5.83333,
          5.83333,
          5.83333,
          5.83333,
          5.83333,
          5.83333,
          5.83333,
          5.83333,
          5.83333,
          5.83333,
          5.83333,
          5.83333,
          5.83333,
          5.83333,
          5.83333,
          5.83333,
          5.83333,
          5.83333,
          5.83333,
          5.83333,
          5.83333,
          5.83333,
          5.83333,
          5.83333,
          5.83333,
          5.83333,
          5.83333,
          5.83333
         ],
         "z": [
          0.63,
          0.63,
          0.63,
          0.63,
          0.63,
          0.63,
          0.63,
          0.63,
          0.63,
          0.63,
          0.63,
          0.63,
          0.63,
          0.63,
          0.63,
          0.63,
          0.63,
          0.63,
          0.63,
          0.63,
          0.63,
          0.63,
          0.63,
          0.63,
          0.63,
          0.63,
          0.63,
          0.63,
          0.63,
          0.63,
          0.63,
          0.63,
          0.63,
          0.63,
          0.63,
          0.63,
          0.63,
          0.63,
          0.63,
          0.63,
          0.63,
          0.63,
          0.63,
          0.63,
          0.63,
          0.63,
          0.63,
          0.63,
          0.63,
          0.63,
          0.63,
          0.63,
          0.63,
          0.63,
          0.63
         ]
        },
        {
         "mode": "lines",
         "name": "Temps entre clients: 0.64 min",
         "type": "scatter3d",
         "x": [
          90,
          92,
          94,
          96,
          98,
          100,
          102,
          104,
          106,
          108,
          110,
          112,
          114,
          116,
          118,
          120,
          122,
          124,
          126,
          128,
          130,
          132,
          134,
          136,
          138,
          140,
          142,
          144,
          146,
          148,
          150,
          152,
          154,
          156,
          158,
          160,
          162,
          164,
          166,
          168,
          170,
          172,
          174,
          176,
          178,
          180,
          182,
          184,
          186,
          188,
          190,
          192,
          194,
          196,
          198
         ],
         "y": [
          5.83333,
          5.83333,
          5.83333,
          5.83333,
          5.83333,
          5.83333,
          5.83333,
          5.83333,
          5.83333,
          5.83333,
          5.83333,
          5.83333,
          5.83333,
          5.83333,
          5.83333,
          5.83333,
          5.83333,
          5.83333,
          5.83333,
          5.83333,
          5.83333,
          5.83333,
          5.83333,
          5.83333,
          5.83333,
          5.83333,
          5.83333,
          5.83333,
          5.83333,
          5.83333,
          5.83333,
          5.83333,
          5.83333,
          5.83333,
          5.83333,
          5.83333,
          5.83333,
          5.83333,
          5.83333,
          5.83333,
          5.83333,
          5.83333,
          5.83333,
          5.83333,
          5.83333,
          5.83333,
          5.83333,
          5.83333,
          5.83333,
          5.83333,
          5.83333,
          5.83333,
          5.83333,
          5.83333,
          5.83333
         ],
         "z": [
          0.64,
          0.64,
          0.64,
          0.64,
          0.64,
          0.64,
          0.64,
          0.64,
          0.64,
          0.64,
          0.64,
          0.64,
          0.64,
          0.64,
          0.64,
          0.64,
          0.64,
          0.64,
          0.64,
          0.64,
          0.64,
          0.64,
          0.64,
          0.64,
          0.64,
          0.64,
          0.64,
          0.64,
          0.64,
          0.64,
          0.64,
          0.64,
          0.64,
          0.64,
          0.64,
          0.64,
          0.64,
          0.64,
          0.64,
          0.64,
          0.64,
          0.64,
          0.64,
          0.64,
          0.64,
          0.64,
          0.64,
          0.64,
          0.64,
          0.64,
          0.64,
          0.64,
          0.64,
          0.64,
          0.64
         ]
        },
        {
         "mode": "lines",
         "name": "Temps entre clients: 0.65 min",
         "type": "scatter3d",
         "x": [
          90,
          92,
          94,
          96,
          98,
          100,
          102,
          104,
          106,
          108,
          110,
          112,
          114,
          116,
          118,
          120,
          122,
          124,
          126,
          128,
          130,
          132,
          134,
          136,
          138,
          140,
          142,
          144,
          146,
          148,
          150,
          152,
          154,
          156,
          158,
          160,
          162,
          164,
          166,
          168,
          170,
          172,
          174,
          176,
          178,
          180,
          182,
          184,
          186,
          188,
          190,
          192,
          194,
          196,
          198
         ],
         "y": [
          5.83333,
          5.83333,
          5.83333,
          5.83333,
          5.83333,
          5.83333,
          5.83333,
          5.83333,
          5.83333,
          5.83333,
          5.83333,
          5.83333,
          5.83333,
          5.83333,
          5.83333,
          5.83333,
          5.83333,
          5.83333,
          5.83333,
          5.83333,
          5.83333,
          5.83333,
          5.83333,
          5.83333,
          5.83333,
          5.83333,
          5.83333,
          5.83333,
          5.83333,
          5.83333,
          5.83333,
          5.83333,
          5.83333,
          5.83333,
          5.83333,
          5.83333,
          5.83333,
          5.83333,
          5.83333,
          5.83333,
          5.83333,
          5.83333,
          5.83333,
          5.83333,
          5.83333,
          5.83333,
          5.83333,
          5.83333,
          5.83333,
          5.83333,
          5.83333,
          5.83333,
          5.83333,
          5.83333,
          5.83333
         ],
         "z": [
          0.65,
          0.65,
          0.65,
          0.65,
          0.65,
          0.65,
          0.65,
          0.65,
          0.65,
          0.65,
          0.65,
          0.65,
          0.65,
          0.65,
          0.65,
          0.65,
          0.65,
          0.65,
          0.65,
          0.65,
          0.65,
          0.65,
          0.65,
          0.65,
          0.65,
          0.65,
          0.65,
          0.65,
          0.65,
          0.65,
          0.65,
          0.65,
          0.65,
          0.65,
          0.65,
          0.65,
          0.65,
          0.65,
          0.65,
          0.65,
          0.65,
          0.65,
          0.65,
          0.65,
          0.65,
          0.65,
          0.65,
          0.65,
          0.65,
          0.65,
          0.65,
          0.65,
          0.65,
          0.65,
          0.65
         ]
        },
        {
         "mode": "lines",
         "name": "Temps entre clients: 0.66 min",
         "type": "scatter3d",
         "x": [
          90,
          92,
          94,
          96,
          98,
          100,
          102,
          104,
          106,
          108,
          110,
          112,
          114,
          116,
          118,
          120,
          122,
          124,
          126,
          128,
          130,
          132,
          134,
          136,
          138,
          140,
          142,
          144,
          146,
          148,
          150,
          152,
          154,
          156,
          158,
          160,
          162,
          164,
          166,
          168,
          170,
          172,
          174,
          176,
          178,
          180,
          182,
          184,
          186,
          188,
          190,
          192,
          194,
          196,
          198
         ],
         "y": [
          5.83333,
          5.83333,
          5.83333,
          5.83333,
          5.83333,
          5.83333,
          5.83333,
          5.83333,
          5.83333,
          5.83333,
          5.83333,
          5.83333,
          5.83333,
          5.83333,
          5.83333,
          5.83333,
          5.83333,
          5.83333,
          5.83333,
          5.83333,
          5.83333,
          5.83333,
          5.83333,
          5.83333,
          5.83333,
          5.83333,
          5.83333,
          5.83333,
          5.83333,
          5.83333,
          5.83333,
          5.83333,
          5.83333,
          5.83333,
          5.83333,
          5.83333,
          5.83333,
          5.83333,
          5.83333,
          5.83333,
          5.83333,
          5.83333,
          5.83333,
          5.83333,
          5.83333,
          5.83333,
          5.83333,
          5.83333,
          5.83333,
          5.83333,
          5.83333,
          5.83333,
          5.83333,
          5.83333,
          5.83333
         ],
         "z": [
          0.66,
          0.66,
          0.66,
          0.66,
          0.66,
          0.66,
          0.66,
          0.66,
          0.66,
          0.66,
          0.66,
          0.66,
          0.66,
          0.66,
          0.66,
          0.66,
          0.66,
          0.66,
          0.66,
          0.66,
          0.66,
          0.66,
          0.66,
          0.66,
          0.66,
          0.66,
          0.66,
          0.66,
          0.66,
          0.66,
          0.66,
          0.66,
          0.66,
          0.66,
          0.66,
          0.66,
          0.66,
          0.66,
          0.66,
          0.66,
          0.66,
          0.66,
          0.66,
          0.66,
          0.66,
          0.66,
          0.66,
          0.66,
          0.66,
          0.66,
          0.66,
          0.66,
          0.66,
          0.66,
          0.66
         ]
        },
        {
         "mode": "lines",
         "name": "Temps entre clients: 0.67 min",
         "type": "scatter3d",
         "x": [
          90,
          92,
          94,
          96,
          98,
          100,
          102,
          104,
          106,
          108,
          110,
          112,
          114,
          116,
          118,
          120,
          122,
          124,
          126,
          128,
          130,
          132,
          134,
          136,
          138,
          140,
          142,
          144,
          146,
          148,
          150,
          152,
          154,
          156,
          158,
          160,
          162,
          164,
          166,
          168,
          170,
          172,
          174,
          176,
          178,
          180,
          182,
          184,
          186,
          188,
          190,
          192,
          194,
          196,
          198
         ],
         "y": [
          5.83333,
          5.83333,
          5.83333,
          5.83333,
          5.83333,
          5.83333,
          5.83333,
          5.83333,
          5.83333,
          5.83333,
          5.83333,
          5.83333,
          5.83333,
          5.83333,
          5.83333,
          5.83333,
          5.83333,
          5.83333,
          5.83333,
          5.83333,
          5.83333,
          5.83333,
          5.83333,
          5.83333,
          5.83333,
          5.83333,
          5.83333,
          5.83333,
          5.83333,
          5.83333,
          5.83333,
          5.83333,
          5.83333,
          5.83333,
          5.83333,
          5.83333,
          5.83333,
          5.83333,
          5.83333,
          5.83333,
          5.83333,
          5.83333,
          5.83333,
          5.83333,
          5.83333,
          5.83333,
          5.83333,
          5.83333,
          5.83333,
          5.83333,
          5.83333,
          5.83333,
          5.83333,
          5.83333,
          5.83333
         ],
         "z": [
          0.67,
          0.67,
          0.67,
          0.67,
          0.67,
          0.67,
          0.67,
          0.67,
          0.67,
          0.67,
          0.67,
          0.67,
          0.67,
          0.67,
          0.67,
          0.67,
          0.67,
          0.67,
          0.67,
          0.67,
          0.67,
          0.67,
          0.67,
          0.67,
          0.67,
          0.67,
          0.67,
          0.67,
          0.67,
          0.67,
          0.67,
          0.67,
          0.67,
          0.67,
          0.67,
          0.67,
          0.67,
          0.67,
          0.67,
          0.67,
          0.67,
          0.67,
          0.67,
          0.67,
          0.67,
          0.67,
          0.67,
          0.67,
          0.67,
          0.67,
          0.67,
          0.67,
          0.67,
          0.67,
          0.67
         ]
        },
        {
         "mode": "lines",
         "name": "Temps entre clients: 0.68 min",
         "type": "scatter3d",
         "x": [
          90,
          92,
          94,
          96,
          98,
          100,
          102,
          104,
          106,
          108,
          110,
          112,
          114,
          116,
          118,
          120,
          122,
          124,
          126,
          128,
          130,
          132,
          134,
          136,
          138,
          140,
          142,
          144,
          146,
          148,
          150,
          152,
          154,
          156,
          158,
          160,
          162,
          164,
          166,
          168,
          170,
          172,
          174,
          176,
          178,
          180,
          182,
          184,
          186,
          188,
          190,
          192,
          194,
          196,
          198
         ],
         "y": [
          5.83333,
          5.83333,
          5.83333,
          5.83333,
          5.83333,
          5.83333,
          5.83333,
          5.83333,
          5.83333,
          5.83333,
          5.83333,
          5.83333,
          5.83333,
          5.83333,
          5.83333,
          5.83333,
          5.83333,
          5.83333,
          5.83333,
          5.83333,
          5.83333,
          5.83333,
          5.83333,
          5.83333,
          5.83333,
          5.83333,
          5.83333,
          5.83333,
          5.83333,
          5.83333,
          5.83333,
          5.83333,
          5.83333,
          5.83333,
          5.83333,
          5.83333,
          5.83333,
          5.83333,
          5.83333,
          5.83333,
          5.83333,
          5.83333,
          5.83333,
          5.83333,
          5.83333,
          5.83333,
          5.83333,
          5.83333,
          5.83333,
          5.83333,
          5.83333,
          5.83333,
          5.83333,
          5.83333,
          5.83333
         ],
         "z": [
          0.68,
          0.68,
          0.68,
          0.68,
          0.68,
          0.68,
          0.68,
          0.68,
          0.68,
          0.68,
          0.68,
          0.68,
          0.68,
          0.68,
          0.68,
          0.68,
          0.68,
          0.68,
          0.68,
          0.68,
          0.68,
          0.68,
          0.68,
          0.68,
          0.68,
          0.68,
          0.68,
          0.68,
          0.68,
          0.68,
          0.68,
          0.68,
          0.68,
          0.68,
          0.68,
          0.68,
          0.68,
          0.68,
          0.68,
          0.68,
          0.68,
          0.68,
          0.68,
          0.68,
          0.68,
          0.68,
          0.68,
          0.68,
          0.68,
          0.68,
          0.68,
          0.68,
          0.68,
          0.68,
          0.68
         ]
        },
        {
         "mode": "lines",
         "name": "Temps entre clients: 0.6900000000000001 min",
         "type": "scatter3d",
         "x": [
          90,
          92,
          94,
          96,
          98,
          100,
          102,
          104,
          106,
          108,
          110,
          112,
          114,
          116,
          118,
          120,
          122,
          124,
          126,
          128,
          130,
          132,
          134,
          136,
          138,
          140,
          142,
          144,
          146,
          148,
          150,
          152,
          154,
          156,
          158,
          160,
          162,
          164,
          166,
          168,
          170,
          172,
          174,
          176,
          178,
          180,
          182,
          184,
          186,
          188,
          190,
          192,
          194,
          196,
          198
         ],
         "y": [
          5.83333,
          5.83333,
          5.83333,
          5.83333,
          5.83333,
          5.83333,
          5.83333,
          5.83333,
          5.83333,
          5.83333,
          5.83333,
          5.83333,
          5.83333,
          5.83333,
          5.83333,
          5.83333,
          5.83333,
          5.83333,
          5.83333,
          5.83333,
          5.83333,
          5.83333,
          5.83333,
          5.83333,
          5.83333,
          5.83333,
          5.83333,
          5.83333,
          5.83333,
          5.83333,
          5.83333,
          5.83333,
          5.83333,
          5.83333,
          5.83333,
          5.83333,
          5.83333,
          5.83333,
          5.83333,
          5.83333,
          5.83333,
          5.83333,
          5.83333,
          5.83333,
          5.83333,
          5.83333,
          5.83333,
          5.83333,
          5.83333,
          5.83333,
          5.83333,
          5.83333,
          5.83333,
          5.83333,
          5.83333
         ],
         "z": [
          0.6900000000000001,
          0.6900000000000001,
          0.6900000000000001,
          0.6900000000000001,
          0.6900000000000001,
          0.6900000000000001,
          0.6900000000000001,
          0.6900000000000001,
          0.6900000000000001,
          0.6900000000000001,
          0.6900000000000001,
          0.6900000000000001,
          0.6900000000000001,
          0.6900000000000001,
          0.6900000000000001,
          0.6900000000000001,
          0.6900000000000001,
          0.6900000000000001,
          0.6900000000000001,
          0.6900000000000001,
          0.6900000000000001,
          0.6900000000000001,
          0.6900000000000001,
          0.6900000000000001,
          0.6900000000000001,
          0.6900000000000001,
          0.6900000000000001,
          0.6900000000000001,
          0.6900000000000001,
          0.6900000000000001,
          0.6900000000000001,
          0.6900000000000001,
          0.6900000000000001,
          0.6900000000000001,
          0.6900000000000001,
          0.6900000000000001,
          0.6900000000000001,
          0.6900000000000001,
          0.6900000000000001,
          0.6900000000000001,
          0.6900000000000001,
          0.6900000000000001,
          0.6900000000000001,
          0.6900000000000001,
          0.6900000000000001,
          0.6900000000000001,
          0.6900000000000001,
          0.6900000000000001,
          0.6900000000000001,
          0.6900000000000001,
          0.6900000000000001,
          0.6900000000000001,
          0.6900000000000001,
          0.6900000000000001,
          0.6900000000000001
         ]
        },
        {
         "mode": "lines",
         "name": "Temps entre clients: 0.7000000000000001 min",
         "type": "scatter3d",
         "x": [
          90,
          92,
          94,
          96,
          98,
          100,
          102,
          104,
          106,
          108,
          110,
          112,
          114,
          116,
          118,
          120,
          122,
          124,
          126,
          128,
          130,
          132,
          134,
          136,
          138,
          140,
          142,
          144,
          146,
          148,
          150,
          152,
          154,
          156,
          158,
          160,
          162,
          164,
          166,
          168,
          170,
          172,
          174,
          176,
          178,
          180,
          182,
          184,
          186,
          188,
          190,
          192,
          194,
          196,
          198
         ],
         "y": [
          5.83333,
          5.83333,
          5.83333,
          5.83333,
          5.83333,
          5.83333,
          5.83333,
          5.83333,
          5.83333,
          5.83333,
          5.83333,
          5.83333,
          5.83333,
          5.83333,
          5.83333,
          5.83333,
          5.83333,
          5.83333,
          5.83333,
          5.83333,
          5.83333,
          5.83333,
          5.83333,
          5.83333,
          5.83333,
          5.83333,
          5.83333,
          5.83333,
          5.83333,
          5.83333,
          5.83333,
          5.83333,
          5.83333,
          5.83333,
          5.83333,
          5.83333,
          5.83333,
          5.83333,
          5.83333,
          5.83333,
          5.83333,
          5.83333,
          5.83333,
          5.83333,
          5.83333,
          5.83333,
          5.83333,
          5.83333,
          5.83333,
          5.83333,
          5.83333,
          5.83333,
          5.83333,
          5.83333,
          5.83333
         ],
         "z": [
          0.7000000000000001,
          0.7000000000000001,
          0.7000000000000001,
          0.7000000000000001,
          0.7000000000000001,
          0.7000000000000001,
          0.7000000000000001,
          0.7000000000000001,
          0.7000000000000001,
          0.7000000000000001,
          0.7000000000000001,
          0.7000000000000001,
          0.7000000000000001,
          0.7000000000000001,
          0.7000000000000001,
          0.7000000000000001,
          0.7000000000000001,
          0.7000000000000001,
          0.7000000000000001,
          0.7000000000000001,
          0.7000000000000001,
          0.7000000000000001,
          0.7000000000000001,
          0.7000000000000001,
          0.7000000000000001,
          0.7000000000000001,
          0.7000000000000001,
          0.7000000000000001,
          0.7000000000000001,
          0.7000000000000001,
          0.7000000000000001,
          0.7000000000000001,
          0.7000000000000001,
          0.7000000000000001,
          0.7000000000000001,
          0.7000000000000001,
          0.7000000000000001,
          0.7000000000000001,
          0.7000000000000001,
          0.7000000000000001,
          0.7000000000000001,
          0.7000000000000001,
          0.7000000000000001,
          0.7000000000000001,
          0.7000000000000001,
          0.7000000000000001,
          0.7000000000000001,
          0.7000000000000001,
          0.7000000000000001,
          0.7000000000000001,
          0.7000000000000001,
          0.7000000000000001,
          0.7000000000000001,
          0.7000000000000001,
          0.7000000000000001
         ]
        },
        {
         "mode": "lines",
         "name": "Temps entre clients: 0.71 min",
         "type": "scatter3d",
         "x": [
          90,
          92,
          94,
          96,
          98,
          100,
          102,
          104,
          106,
          108,
          110,
          112,
          114,
          116,
          118,
          120,
          122,
          124,
          126,
          128,
          130,
          132,
          134,
          136,
          138,
          140,
          142,
          144,
          146,
          148,
          150,
          152,
          154,
          156,
          158,
          160,
          162,
          164,
          166,
          168,
          170,
          172,
          174,
          176,
          178,
          180,
          182,
          184,
          186,
          188,
          190,
          192,
          194,
          196,
          198
         ],
         "y": [
          5.83333,
          5.83333,
          5.83333,
          5.83333,
          5.83333,
          5.83333,
          5.83333,
          5.83333,
          5.83333,
          5.83333,
          5.83333,
          5.83333,
          5.83333,
          5.83333,
          5.83333,
          5.83333,
          5.83333,
          5.83333,
          5.83333,
          5.83333,
          5.83333,
          5.83333,
          5.83333,
          5.83333,
          5.83333,
          5.83333,
          5.83333,
          5.83333,
          5.83333,
          5.83333,
          5.83333,
          5.83333,
          5.83333,
          5.83333,
          5.83333,
          5.83333,
          5.83333,
          5.83333,
          5.83333,
          5.83333,
          5.83333,
          5.83333,
          5.83333,
          5.83333,
          5.83333,
          5.83333,
          5.83333,
          5.83333,
          5.83333,
          5.83333,
          5.83333,
          5.83333,
          5.83333,
          5.83333,
          5.83333
         ],
         "z": [
          0.71,
          0.71,
          0.71,
          0.71,
          0.71,
          0.71,
          0.71,
          0.71,
          0.71,
          0.71,
          0.71,
          0.71,
          0.71,
          0.71,
          0.71,
          0.71,
          0.71,
          0.71,
          0.71,
          0.71,
          0.71,
          0.71,
          0.71,
          0.71,
          0.71,
          0.71,
          0.71,
          0.71,
          0.71,
          0.71,
          0.71,
          0.71,
          0.71,
          0.71,
          0.71,
          0.71,
          0.71,
          0.71,
          0.71,
          0.71,
          0.71,
          0.71,
          0.71,
          0.71,
          0.71,
          0.71,
          0.71,
          0.71,
          0.71,
          0.71,
          0.71,
          0.71,
          0.71,
          0.71,
          0.71
         ]
        },
        {
         "mode": "lines",
         "name": "Temps entre clients: 0.72 min",
         "type": "scatter3d",
         "x": [
          90,
          92,
          94,
          96,
          98,
          100,
          102,
          104,
          106,
          108,
          110,
          112,
          114,
          116,
          118,
          120,
          122,
          124,
          126,
          128,
          130,
          132,
          134,
          136,
          138,
          140,
          142,
          144,
          146,
          148,
          150,
          152,
          154,
          156,
          158,
          160,
          162,
          164,
          166,
          168,
          170,
          172,
          174,
          176,
          178,
          180,
          182,
          184,
          186,
          188,
          190,
          192,
          194,
          196,
          198
         ],
         "y": [
          5.83333,
          5.83333,
          5.83333,
          5.83333,
          5.83333,
          5.83333,
          5.83333,
          5.83333,
          5.83333,
          5.83333,
          5.83333,
          5.83333,
          5.83333,
          5.83333,
          5.83333,
          5.83333,
          5.83333,
          5.83333,
          5.83333,
          5.83333,
          5.83333,
          5.83333,
          5.83333,
          5.83333,
          5.83333,
          5.83333,
          5.83333,
          5.83333,
          5.83333,
          5.83333,
          5.83333,
          5.83333,
          5.83333,
          5.83333,
          5.83333,
          5.83333,
          5.83333,
          5.83333,
          5.83333,
          5.83333,
          5.83333,
          5.83333,
          5.83333,
          5.83333,
          5.83333,
          5.83333,
          5.83333,
          5.83333,
          5.83333,
          5.83333,
          5.83333,
          5.83333,
          5.83333,
          5.83333,
          5.83333
         ],
         "z": [
          0.72,
          0.72,
          0.72,
          0.72,
          0.72,
          0.72,
          0.72,
          0.72,
          0.72,
          0.72,
          0.72,
          0.72,
          0.72,
          0.72,
          0.72,
          0.72,
          0.72,
          0.72,
          0.72,
          0.72,
          0.72,
          0.72,
          0.72,
          0.72,
          0.72,
          0.72,
          0.72,
          0.72,
          0.72,
          0.72,
          0.72,
          0.72,
          0.72,
          0.72,
          0.72,
          0.72,
          0.72,
          0.72,
          0.72,
          0.72,
          0.72,
          0.72,
          0.72,
          0.72,
          0.72,
          0.72,
          0.72,
          0.72,
          0.72,
          0.72,
          0.72,
          0.72,
          0.72,
          0.72,
          0.72
         ]
        },
        {
         "mode": "lines",
         "name": "Temps entre clients: 0.73 min",
         "type": "scatter3d",
         "x": [
          90,
          92,
          94,
          96,
          98,
          100,
          102,
          104,
          106,
          108,
          110,
          112,
          114,
          116,
          118,
          120,
          122,
          124,
          126,
          128,
          130,
          132,
          134,
          136,
          138,
          140,
          142,
          144,
          146,
          148,
          150,
          152,
          154,
          156,
          158,
          160,
          162,
          164,
          166,
          168,
          170,
          172,
          174,
          176,
          178,
          180,
          182,
          184,
          186,
          188,
          190,
          192,
          194,
          196,
          198
         ],
         "y": [
          5.83333,
          5.83333,
          5.83333,
          5.83333,
          5.83333,
          5.83333,
          5.83333,
          5.83333,
          5.83333,
          5.83333,
          5.83333,
          5.83333,
          5.83333,
          5.83333,
          5.83333,
          5.83333,
          5.83333,
          5.83333,
          5.83333,
          5.83333,
          5.83333,
          5.83333,
          5.83333,
          5.83333,
          5.83333,
          5.83333,
          5.83333,
          5.83333,
          5.83333,
          5.83333,
          5.83333,
          5.83333,
          5.83333,
          5.83333,
          5.83333,
          5.83333,
          5.83333,
          5.83333,
          5.83333,
          5.83333,
          5.83333,
          5.83333,
          5.83333,
          5.83333,
          5.83333,
          5.83333,
          5.83333,
          5.83333,
          5.83333,
          5.83333,
          5.83333,
          5.83333,
          5.83333,
          5.83333,
          5.83333
         ],
         "z": [
          0.73,
          0.73,
          0.73,
          0.73,
          0.73,
          0.73,
          0.73,
          0.73,
          0.73,
          0.73,
          0.73,
          0.73,
          0.73,
          0.73,
          0.73,
          0.73,
          0.73,
          0.73,
          0.73,
          0.73,
          0.73,
          0.73,
          0.73,
          0.73,
          0.73,
          0.73,
          0.73,
          0.73,
          0.73,
          0.73,
          0.73,
          0.73,
          0.73,
          0.73,
          0.73,
          0.73,
          0.73,
          0.73,
          0.73,
          0.73,
          0.73,
          0.73,
          0.73,
          0.73,
          0.73,
          0.73,
          0.73,
          0.73,
          0.73,
          0.73,
          0.73,
          0.73,
          0.73,
          0.73,
          0.73
         ]
        },
        {
         "mode": "lines",
         "name": "Temps entre clients: 0.74 min",
         "type": "scatter3d",
         "x": [
          90,
          92,
          94,
          96,
          98,
          100,
          102,
          104,
          106,
          108,
          110,
          112,
          114,
          116,
          118,
          120,
          122,
          124,
          126,
          128,
          130,
          132,
          134,
          136,
          138,
          140,
          142,
          144,
          146,
          148,
          150,
          152,
          154,
          156,
          158,
          160,
          162,
          164,
          166,
          168,
          170,
          172,
          174,
          176,
          178,
          180,
          182,
          184,
          186,
          188,
          190,
          192,
          194,
          196,
          198
         ],
         "y": [
          5.83333,
          5.83333,
          5.83333,
          5.83333,
          5.83333,
          5.83333,
          5.83333,
          5.83333,
          5.83333,
          5.83333,
          5.83333,
          5.83333,
          5.83333,
          5.83333,
          5.83333,
          5.83333,
          5.83333,
          5.83333,
          5.83333,
          5.83333,
          5.83333,
          5.83333,
          5.83333,
          5.83333,
          5.83333,
          5.83333,
          5.83333,
          5.83333,
          5.83333,
          5.83333,
          5.83333,
          5.83333,
          5.83333,
          5.83333,
          5.83333,
          5.83333,
          5.83333,
          5.83333,
          5.83333,
          5.83333,
          5.83333,
          5.83333,
          5.83333,
          5.83333,
          5.83333,
          5.83333,
          5.83333,
          5.83333,
          5.83333,
          5.83333,
          5.83333,
          5.83333,
          5.83333,
          5.83333,
          5.83333
         ],
         "z": [
          0.74,
          0.74,
          0.74,
          0.74,
          0.74,
          0.74,
          0.74,
          0.74,
          0.74,
          0.74,
          0.74,
          0.74,
          0.74,
          0.74,
          0.74,
          0.74,
          0.74,
          0.74,
          0.74,
          0.74,
          0.74,
          0.74,
          0.74,
          0.74,
          0.74,
          0.74,
          0.74,
          0.74,
          0.74,
          0.74,
          0.74,
          0.74,
          0.74,
          0.74,
          0.74,
          0.74,
          0.74,
          0.74,
          0.74,
          0.74,
          0.74,
          0.74,
          0.74,
          0.74,
          0.74,
          0.74,
          0.74,
          0.74,
          0.74,
          0.74,
          0.74,
          0.74,
          0.74,
          0.74,
          0.74
         ]
        },
        {
         "mode": "lines",
         "name": "Temps entre clients: 0.75 min",
         "type": "scatter3d",
         "x": [
          90,
          92,
          94,
          96,
          98,
          100,
          102,
          104,
          106,
          108,
          110,
          112,
          114,
          116,
          118,
          120,
          122,
          124,
          126,
          128,
          130,
          132,
          134,
          136,
          138,
          140,
          142,
          144,
          146,
          148,
          150,
          152,
          154,
          156,
          158,
          160,
          162,
          164,
          166,
          168,
          170,
          172,
          174,
          176,
          178,
          180,
          182,
          184,
          186,
          188,
          190,
          192,
          194,
          196,
          198
         ],
         "y": [
          5.83333,
          5.83333,
          5.83333,
          5.83333,
          5.83333,
          5.83333,
          5.83333,
          5.83333,
          5.83333,
          5.83333,
          5.83333,
          5.83333,
          5.83333,
          5.83333,
          5.83333,
          5.83333,
          5.83333,
          5.83333,
          5.83333,
          5.83333,
          5.83333,
          5.83333,
          5.83333,
          5.83333,
          5.83333,
          5.83333,
          5.83333,
          5.83333,
          5.83333,
          5.83333,
          5.83333,
          5.83333,
          5.83333,
          5.83333,
          5.83333,
          5.83333,
          5.83333,
          5.83333,
          5.83333,
          5.83333,
          5.83333,
          5.83333,
          5.83333,
          5.83333,
          5.83333,
          5.83333,
          5.83333,
          5.83333,
          5.83333,
          5.83333,
          5.83333,
          5.83333,
          5.83333,
          5.83333,
          5.83333
         ],
         "z": [
          0.75,
          0.75,
          0.75,
          0.75,
          0.75,
          0.75,
          0.75,
          0.75,
          0.75,
          0.75,
          0.75,
          0.75,
          0.75,
          0.75,
          0.75,
          0.75,
          0.75,
          0.75,
          0.75,
          0.75,
          0.75,
          0.75,
          0.75,
          0.75,
          0.75,
          0.75,
          0.75,
          0.75,
          0.75,
          0.75,
          0.75,
          0.75,
          0.75,
          0.75,
          0.75,
          0.75,
          0.75,
          0.75,
          0.75,
          0.75,
          0.75,
          0.75,
          0.75,
          0.75,
          0.75,
          0.75,
          0.75,
          0.75,
          0.75,
          0.75,
          0.75,
          0.75,
          0.75,
          0.75,
          0.75
         ]
        },
        {
         "mode": "lines",
         "name": "Temps entre clients: 0.76 min",
         "type": "scatter3d",
         "x": [
          90,
          92,
          94,
          96,
          98,
          100,
          102,
          104,
          106,
          108,
          110,
          112,
          114,
          116,
          118,
          120,
          122,
          124,
          126,
          128,
          130,
          132,
          134,
          136,
          138,
          140,
          142,
          144,
          146,
          148,
          150,
          152,
          154,
          156,
          158,
          160,
          162,
          164,
          166,
          168,
          170,
          172,
          174,
          176,
          178,
          180,
          182,
          184,
          186,
          188,
          190,
          192,
          194,
          196,
          198
         ],
         "y": [
          5.83333,
          5.83333,
          5.83333,
          5.83333,
          5.83333,
          5.83333,
          5.83333,
          5.83333,
          5.83333,
          5.83333,
          5.83333,
          5.83333,
          5.83333,
          5.83333,
          5.83333,
          5.83333,
          5.83333,
          5.83333,
          5.83333,
          5.83333,
          5.83333,
          5.83333,
          5.83333,
          5.83333,
          5.83333,
          5.83333,
          5.83333,
          5.83333,
          5.83333,
          5.83333,
          5.83333,
          5.83333,
          5.83333,
          5.83333,
          5.83333,
          5.83333,
          5.83333,
          5.83333,
          5.83333,
          5.83333,
          5.83333,
          5.83333,
          5.83333,
          5.83333,
          5.83333,
          5.83333,
          5.83333,
          5.83333,
          5.83333,
          5.83333,
          5.83333,
          5.83333,
          5.83333,
          5.83333,
          5.83333
         ],
         "z": [
          0.76,
          0.76,
          0.76,
          0.76,
          0.76,
          0.76,
          0.76,
          0.76,
          0.76,
          0.76,
          0.76,
          0.76,
          0.76,
          0.76,
          0.76,
          0.76,
          0.76,
          0.76,
          0.76,
          0.76,
          0.76,
          0.76,
          0.76,
          0.76,
          0.76,
          0.76,
          0.76,
          0.76,
          0.76,
          0.76,
          0.76,
          0.76,
          0.76,
          0.76,
          0.76,
          0.76,
          0.76,
          0.76,
          0.76,
          0.76,
          0.76,
          0.76,
          0.76,
          0.76,
          0.76,
          0.76,
          0.76,
          0.76,
          0.76,
          0.76,
          0.76,
          0.76,
          0.76,
          0.76,
          0.76
         ]
        },
        {
         "mode": "lines",
         "name": "Temps entre clients: 0.77 min",
         "type": "scatter3d",
         "x": [
          90,
          92,
          94,
          96,
          98,
          100,
          102,
          104,
          106,
          108,
          110,
          112,
          114,
          116,
          118,
          120,
          122,
          124,
          126,
          128,
          130,
          132,
          134,
          136,
          138,
          140,
          142,
          144,
          146,
          148,
          150,
          152,
          154,
          156,
          158,
          160,
          162,
          164,
          166,
          168,
          170,
          172,
          174,
          176,
          178,
          180,
          182,
          184,
          186,
          188,
          190,
          192,
          194,
          196,
          198
         ],
         "y": [
          5.83333,
          5.83333,
          5.83333,
          5.83333,
          5.83333,
          5.83333,
          5.83333,
          5.83333,
          5.83333,
          5.83333,
          5.83333,
          5.83333,
          5.83333,
          5.83333,
          5.83333,
          5.83333,
          5.83333,
          5.83333,
          5.83333,
          5.83333,
          5.83333,
          5.83333,
          5.83333,
          5.83333,
          5.83333,
          5.83333,
          5.83333,
          5.83333,
          5.83333,
          5.83333,
          5.83333,
          5.83333,
          5.83333,
          5.83333,
          5.83333,
          5.83333,
          5.83333,
          5.83333,
          5.83333,
          5.83333,
          5.83333,
          5.83333,
          5.83333,
          5.83333,
          5.83333,
          5.83333,
          5.83333,
          5.83333,
          5.83333,
          5.83333,
          5.83333,
          5.83333,
          5.83333,
          5.83333,
          5.83333
         ],
         "z": [
          0.77,
          0.77,
          0.77,
          0.77,
          0.77,
          0.77,
          0.77,
          0.77,
          0.77,
          0.77,
          0.77,
          0.77,
          0.77,
          0.77,
          0.77,
          0.77,
          0.77,
          0.77,
          0.77,
          0.77,
          0.77,
          0.77,
          0.77,
          0.77,
          0.77,
          0.77,
          0.77,
          0.77,
          0.77,
          0.77,
          0.77,
          0.77,
          0.77,
          0.77,
          0.77,
          0.77,
          0.77,
          0.77,
          0.77,
          0.77,
          0.77,
          0.77,
          0.77,
          0.77,
          0.77,
          0.77,
          0.77,
          0.77,
          0.77,
          0.77,
          0.77,
          0.77,
          0.77,
          0.77,
          0.77
         ]
        },
        {
         "mode": "lines",
         "name": "Temps entre clients: 0.78 min",
         "type": "scatter3d",
         "x": [
          90,
          92,
          94,
          96,
          98,
          100,
          102,
          104,
          106,
          108,
          110,
          112,
          114,
          116,
          118,
          120,
          122,
          124,
          126,
          128,
          130,
          132,
          134,
          136,
          138,
          140,
          142,
          144,
          146,
          148,
          150,
          152,
          154,
          156,
          158,
          160,
          162,
          164,
          166,
          168,
          170,
          172,
          174,
          176,
          178,
          180,
          182,
          184,
          186,
          188,
          190,
          192,
          194,
          196,
          198
         ],
         "y": [
          5.83333,
          5.83333,
          5.83333,
          5.83333,
          5.83333,
          5.83333,
          5.83333,
          5.83333,
          5.83333,
          5.83333,
          5.83333,
          5.83333,
          5.83333,
          5.83333,
          5.83333,
          5.83333,
          5.83333,
          5.83333,
          5.83333,
          5.83333,
          5.83333,
          5.83333,
          5.83333,
          5.83333,
          5.83333,
          5.83333,
          5.83333,
          5.83333,
          5.83333,
          5.83333,
          5.83333,
          5.83333,
          5.83333,
          5.83333,
          5.83333,
          5.83333,
          5.83333,
          5.83333,
          5.83333,
          5.83333,
          5.83333,
          5.83333,
          5.83333,
          5.83333,
          5.83333,
          5.83333,
          5.83333,
          5.83333,
          5.83333,
          5.83333,
          5.83333,
          5.83333,
          5.83333,
          5.83333,
          5.83333
         ],
         "z": [
          0.78,
          0.78,
          0.78,
          0.78,
          0.78,
          0.78,
          0.78,
          0.78,
          0.78,
          0.78,
          0.78,
          0.78,
          0.78,
          0.78,
          0.78,
          0.78,
          0.78,
          0.78,
          0.78,
          0.78,
          0.78,
          0.78,
          0.78,
          0.78,
          0.78,
          0.78,
          0.78,
          0.78,
          0.78,
          0.78,
          0.78,
          0.78,
          0.78,
          0.78,
          0.78,
          0.78,
          0.78,
          0.78,
          0.78,
          0.78,
          0.78,
          0.78,
          0.78,
          0.78,
          0.78,
          0.78,
          0.78,
          0.78,
          0.78,
          0.78,
          0.78,
          0.78,
          0.78,
          0.78,
          0.78
         ]
        },
        {
         "mode": "lines",
         "name": "Temps entre clients: 0.79 min",
         "type": "scatter3d",
         "x": [
          90,
          92,
          94,
          96,
          98,
          100,
          102,
          104,
          106,
          108,
          110,
          112,
          114,
          116,
          118,
          120,
          122,
          124,
          126,
          128,
          130,
          132,
          134,
          136,
          138,
          140,
          142,
          144,
          146,
          148,
          150,
          152,
          154,
          156,
          158,
          160,
          162,
          164,
          166,
          168,
          170,
          172,
          174,
          176,
          178,
          180,
          182,
          184,
          186,
          188,
          190,
          192,
          194,
          196,
          198
         ],
         "y": [
          5.83333,
          5.83333,
          5.83333,
          5.83333,
          5.83333,
          5.83333,
          5.83333,
          5.83333,
          5.83333,
          5.83333,
          5.83333,
          5.83333,
          5.83333,
          5.83333,
          5.83333,
          5.83333,
          5.83333,
          5.83333,
          5.83333,
          5.83333,
          5.83333,
          5.83333,
          5.83333,
          5.83333,
          5.83333,
          5.83333,
          5.83333,
          5.83333,
          5.83333,
          5.83333,
          5.83333,
          5.83333,
          5.83333,
          5.83333,
          5.83333,
          5.83333,
          5.83333,
          5.83333,
          5.83333,
          5.83333,
          5.83333,
          5.83333,
          5.83333,
          5.83333,
          5.83333,
          5.83333,
          5.83333,
          5.83333,
          5.83333,
          5.83333,
          5.83333,
          5.83333,
          5.83333,
          5.83333,
          5.83333
         ],
         "z": [
          0.79,
          0.79,
          0.79,
          0.79,
          0.79,
          0.79,
          0.79,
          0.79,
          0.79,
          0.79,
          0.79,
          0.79,
          0.79,
          0.79,
          0.79,
          0.79,
          0.79,
          0.79,
          0.79,
          0.79,
          0.79,
          0.79,
          0.79,
          0.79,
          0.79,
          0.79,
          0.79,
          0.79,
          0.79,
          0.79,
          0.79,
          0.79,
          0.79,
          0.79,
          0.79,
          0.79,
          0.79,
          0.79,
          0.79,
          0.79,
          0.79,
          0.79,
          0.79,
          0.79,
          0.79,
          0.79,
          0.79,
          0.79,
          0.79,
          0.79,
          0.79,
          0.79,
          0.79,
          0.79,
          0.79
         ]
        },
        {
         "mode": "lines",
         "name": "Temps entre clients: 0.8 min",
         "type": "scatter3d",
         "x": [
          90,
          92,
          94,
          96,
          98,
          100,
          102,
          104,
          106,
          108,
          110,
          112,
          114,
          116,
          118,
          120,
          122,
          124,
          126,
          128,
          130,
          132,
          134,
          136,
          138,
          140,
          142,
          144,
          146,
          148,
          150,
          152,
          154,
          156,
          158,
          160,
          162,
          164,
          166,
          168,
          170,
          172,
          174,
          176,
          178,
          180,
          182,
          184,
          186,
          188,
          190,
          192,
          194,
          196,
          198
         ],
         "y": [
          5.83333,
          5.83333,
          5.83333,
          5.83333,
          5.83333,
          5.83333,
          5.83333,
          5.83333,
          5.83333,
          5.83333,
          5.83333,
          5.83333,
          5.83333,
          5.83333,
          5.83333,
          5.83333,
          5.83333,
          5.83333,
          5.83333,
          5.83333,
          5.83333,
          5.83333,
          5.83333,
          5.83333,
          5.83333,
          5.83333,
          5.83333,
          5.83333,
          5.83333,
          5.83333,
          5.83333,
          5.83333,
          5.83333,
          5.83333,
          5.83333,
          5.83333,
          5.83333,
          5.83333,
          5.83333,
          5.83333,
          5.83333,
          5.83333,
          5.83333,
          5.83333,
          5.83333,
          5.83333,
          5.83333,
          5.83333,
          5.83333,
          5.83333,
          5.83333,
          5.83333,
          5.83333,
          5.83333,
          5.83333
         ],
         "z": [
          0.8,
          0.8,
          0.8,
          0.8,
          0.8,
          0.8,
          0.8,
          0.8,
          0.8,
          0.8,
          0.8,
          0.8,
          0.8,
          0.8,
          0.8,
          0.8,
          0.8,
          0.8,
          0.8,
          0.8,
          0.8,
          0.8,
          0.8,
          0.8,
          0.8,
          0.8,
          0.8,
          0.8,
          0.8,
          0.8,
          0.8,
          0.8,
          0.8,
          0.8,
          0.8,
          0.8,
          0.8,
          0.8,
          0.8,
          0.8,
          0.8,
          0.8,
          0.8,
          0.8,
          0.8,
          0.8,
          0.8,
          0.8,
          0.8,
          0.8,
          0.8,
          0.8,
          0.8,
          0.8,
          0.8
         ]
        },
        {
         "mode": "lines",
         "name": "Temps entre clients: 0.81 min",
         "type": "scatter3d",
         "x": [
          90,
          92,
          94,
          96,
          98,
          100,
          102,
          104,
          106,
          108,
          110,
          112,
          114,
          116,
          118,
          120,
          122,
          124,
          126,
          128,
          130,
          132,
          134,
          136,
          138,
          140,
          142,
          144,
          146,
          148,
          150,
          152,
          154,
          156,
          158,
          160,
          162,
          164,
          166,
          168,
          170,
          172,
          174,
          176,
          178,
          180,
          182,
          184,
          186,
          188,
          190,
          192,
          194,
          196,
          198
         ],
         "y": [
          5.83333,
          5.83333,
          5.83333,
          5.83333,
          5.83333,
          5.83333,
          5.83333,
          5.83333,
          5.83333,
          5.83333,
          5.83333,
          5.83333,
          5.83333,
          5.83333,
          5.83333,
          5.83333,
          5.83333,
          5.83333,
          5.83333,
          5.83333,
          5.83333,
          5.83333,
          5.83333,
          5.83333,
          5.83333,
          5.83333,
          5.83333,
          5.83333,
          5.83333,
          5.83333,
          5.83333,
          5.83333,
          5.83333,
          5.83333,
          5.83333,
          5.83333,
          5.83333,
          5.83333,
          5.83333,
          5.83333,
          5.83333,
          5.83333,
          5.83333,
          5.83333,
          5.83333,
          5.83333,
          5.83333,
          5.83333,
          5.83333,
          5.83333,
          5.83333,
          5.83333,
          5.83333,
          5.83333,
          5.83333
         ],
         "z": [
          0.81,
          0.81,
          0.81,
          0.81,
          0.81,
          0.81,
          0.81,
          0.81,
          0.81,
          0.81,
          0.81,
          0.81,
          0.81,
          0.81,
          0.81,
          0.81,
          0.81,
          0.81,
          0.81,
          0.81,
          0.81,
          0.81,
          0.81,
          0.81,
          0.81,
          0.81,
          0.81,
          0.81,
          0.81,
          0.81,
          0.81,
          0.81,
          0.81,
          0.81,
          0.81,
          0.81,
          0.81,
          0.81,
          0.81,
          0.81,
          0.81,
          0.81,
          0.81,
          0.81,
          0.81,
          0.81,
          0.81,
          0.81,
          0.81,
          0.81,
          0.81,
          0.81,
          0.81,
          0.81,
          0.81
         ]
        },
        {
         "mode": "lines",
         "name": "Temps entre clients: 0.8200000000000001 min",
         "type": "scatter3d",
         "x": [
          90,
          92,
          94,
          96,
          98,
          100,
          102,
          104,
          106,
          108,
          110,
          112,
          114,
          116,
          118,
          120,
          122,
          124,
          126,
          128,
          130,
          132,
          134,
          136,
          138,
          140,
          142,
          144,
          146,
          148,
          150,
          152,
          154,
          156,
          158,
          160,
          162,
          164,
          166,
          168,
          170,
          172,
          174,
          176,
          178,
          180,
          182,
          184,
          186,
          188,
          190,
          192,
          194,
          196,
          198
         ],
         "y": [
          5.83333,
          5.83333,
          5.83333,
          5.83333,
          5.83333,
          5.83333,
          5.83333,
          5.83333,
          5.83333,
          5.83333,
          5.83333,
          5.83333,
          5.83333,
          5.83333,
          5.83333,
          5.83333,
          5.83333,
          5.83333,
          5.83333,
          5.83333,
          5.83333,
          5.83333,
          5.83333,
          5.83333,
          5.83333,
          5.83333,
          5.83333,
          5.83333,
          5.83333,
          5.83333,
          5.83333,
          5.83333,
          5.83333,
          5.83333,
          5.83333,
          5.83333,
          5.83333,
          5.83333,
          5.83333,
          5.83333,
          5.83333,
          5.83333,
          5.83333,
          5.83333,
          5.83333,
          5.83333,
          5.83333,
          5.83333,
          5.83333,
          5.83333,
          5.83333,
          5.83333,
          5.83333,
          5.83333,
          5.83333
         ],
         "z": [
          0.8200000000000001,
          0.8200000000000001,
          0.8200000000000001,
          0.8200000000000001,
          0.8200000000000001,
          0.8200000000000001,
          0.8200000000000001,
          0.8200000000000001,
          0.8200000000000001,
          0.8200000000000001,
          0.8200000000000001,
          0.8200000000000001,
          0.8200000000000001,
          0.8200000000000001,
          0.8200000000000001,
          0.8200000000000001,
          0.8200000000000001,
          0.8200000000000001,
          0.8200000000000001,
          0.8200000000000001,
          0.8200000000000001,
          0.8200000000000001,
          0.8200000000000001,
          0.8200000000000001,
          0.8200000000000001,
          0.8200000000000001,
          0.8200000000000001,
          0.8200000000000001,
          0.8200000000000001,
          0.8200000000000001,
          0.8200000000000001,
          0.8200000000000001,
          0.8200000000000001,
          0.8200000000000001,
          0.8200000000000001,
          0.8200000000000001,
          0.8200000000000001,
          0.8200000000000001,
          0.8200000000000001,
          0.8200000000000001,
          0.8200000000000001,
          0.8200000000000001,
          0.8200000000000001,
          0.8200000000000001,
          0.8200000000000001,
          0.8200000000000001,
          0.8200000000000001,
          0.8200000000000001,
          0.8200000000000001,
          0.8200000000000001,
          0.8200000000000001,
          0.8200000000000001,
          0.8200000000000001,
          0.8200000000000001,
          0.8200000000000001
         ]
        },
        {
         "mode": "lines",
         "name": "Temps entre clients: 0.8300000000000001 min",
         "type": "scatter3d",
         "x": [
          90,
          92,
          94,
          96,
          98,
          100,
          102,
          104,
          106,
          108,
          110,
          112,
          114,
          116,
          118,
          120,
          122,
          124,
          126,
          128,
          130,
          132,
          134,
          136,
          138,
          140,
          142,
          144,
          146,
          148,
          150,
          152,
          154,
          156,
          158,
          160,
          162,
          164,
          166,
          168,
          170,
          172,
          174,
          176,
          178,
          180,
          182,
          184,
          186,
          188,
          190,
          192,
          194,
          196,
          198
         ],
         "y": [
          5.83333,
          5.83333,
          5.83333,
          5.83333,
          5.83333,
          5.83333,
          5.83333,
          5.83333,
          5.83333,
          5.83333,
          5.83333,
          5.83333,
          5.83333,
          5.83333,
          5.83333,
          5.83333,
          5.83333,
          5.83333,
          5.83333,
          5.83333,
          5.83333,
          5.83333,
          5.83333,
          5.83333,
          5.83333,
          5.83333,
          5.83333,
          5.83333,
          5.83333,
          5.83333,
          5.83333,
          5.83333,
          5.83333,
          5.83333,
          5.83333,
          5.83333,
          5.83333,
          5.83333,
          5.83333,
          5.83333,
          5.83333,
          5.83333,
          5.83333,
          5.83333,
          5.83333,
          5.83333,
          5.83333,
          5.83333,
          5.83333,
          5.83333,
          5.83333,
          5.83333,
          5.83333,
          5.83333,
          5.83333
         ],
         "z": [
          0.8300000000000001,
          0.8300000000000001,
          0.8300000000000001,
          0.8300000000000001,
          0.8300000000000001,
          0.8300000000000001,
          0.8300000000000001,
          0.8300000000000001,
          0.8300000000000001,
          0.8300000000000001,
          0.8300000000000001,
          0.8300000000000001,
          0.8300000000000001,
          0.8300000000000001,
          0.8300000000000001,
          0.8300000000000001,
          0.8300000000000001,
          0.8300000000000001,
          0.8300000000000001,
          0.8300000000000001,
          0.8300000000000001,
          0.8300000000000001,
          0.8300000000000001,
          0.8300000000000001,
          0.8300000000000001,
          0.8300000000000001,
          0.8300000000000001,
          0.8300000000000001,
          0.8300000000000001,
          0.8300000000000001,
          0.8300000000000001,
          0.8300000000000001,
          0.8300000000000001,
          0.8300000000000001,
          0.8300000000000001,
          0.8300000000000001,
          0.8300000000000001,
          0.8300000000000001,
          0.8300000000000001,
          0.8300000000000001,
          0.8300000000000001,
          0.8300000000000001,
          0.8300000000000001,
          0.8300000000000001,
          0.8300000000000001,
          0.8300000000000001,
          0.8300000000000001,
          0.8300000000000001,
          0.8300000000000001,
          0.8300000000000001,
          0.8300000000000001,
          0.8300000000000001,
          0.8300000000000001,
          0.8300000000000001,
          0.8300000000000001
         ]
        },
        {
         "mode": "lines",
         "name": "Temps entre clients: 0.84 min",
         "type": "scatter3d",
         "x": [
          90,
          92,
          94,
          96,
          98,
          100,
          102,
          104,
          106,
          108,
          110,
          112,
          114,
          116,
          118,
          120,
          122,
          124,
          126,
          128,
          130,
          132,
          134,
          136,
          138,
          140,
          142,
          144,
          146,
          148,
          150,
          152,
          154,
          156,
          158,
          160,
          162,
          164,
          166,
          168,
          170,
          172,
          174,
          176,
          178,
          180,
          182,
          184,
          186,
          188,
          190,
          192,
          194,
          196,
          198
         ],
         "y": [
          5.83333,
          5.83333,
          5.83333,
          5.83333,
          5.83333,
          5.83333,
          5.83333,
          5.83333,
          5.83333,
          5.83333,
          5.83333,
          5.83333,
          5.83333,
          5.83333,
          5.83333,
          5.83333,
          5.83333,
          5.83333,
          5.83333,
          5.83333,
          5.83333,
          5.83333,
          5.83333,
          5.83333,
          5.83333,
          5.83333,
          5.83333,
          5.83333,
          5.83333,
          5.83333,
          5.83333,
          5.83333,
          5.83333,
          5.83333,
          5.83333,
          5.83333,
          5.83333,
          5.83333,
          5.83333,
          5.83333,
          5.83333,
          5.83333,
          5.83333,
          5.83333,
          5.83333,
          5.83333,
          5.83333,
          5.83333,
          5.83333,
          5.83333,
          5.83333,
          5.83333,
          5.83333,
          5.83333,
          5.83333
         ],
         "z": [
          0.84,
          0.84,
          0.84,
          0.84,
          0.84,
          0.84,
          0.84,
          0.84,
          0.84,
          0.84,
          0.84,
          0.84,
          0.84,
          0.84,
          0.84,
          0.84,
          0.84,
          0.84,
          0.84,
          0.84,
          0.84,
          0.84,
          0.84,
          0.84,
          0.84,
          0.84,
          0.84,
          0.84,
          0.84,
          0.84,
          0.84,
          0.84,
          0.84,
          0.84,
          0.84,
          0.84,
          0.84,
          0.84,
          0.84,
          0.84,
          0.84,
          0.84,
          0.84,
          0.84,
          0.84,
          0.84,
          0.84,
          0.84,
          0.84,
          0.84,
          0.84,
          0.84,
          0.84,
          0.84,
          0.84
         ]
        },
        {
         "mode": "lines",
         "name": "Temps entre clients: 0.85 min",
         "type": "scatter3d",
         "x": [
          90,
          92,
          94,
          96,
          98,
          100,
          102,
          104,
          106,
          108,
          110,
          112,
          114,
          116,
          118,
          120,
          122,
          124,
          126,
          128,
          130,
          132,
          134,
          136,
          138,
          140,
          142,
          144,
          146,
          148,
          150,
          152,
          154,
          156,
          158,
          160,
          162,
          164,
          166,
          168,
          170,
          172,
          174,
          176,
          178,
          180,
          182,
          184,
          186,
          188,
          190,
          192,
          194,
          196,
          198
         ],
         "y": [
          5.83333,
          5.83333,
          5.83333,
          5.83333,
          5.83333,
          5.83333,
          5.83333,
          5.83333,
          5.83333,
          5.83333,
          5.83333,
          5.83333,
          5.83333,
          5.83333,
          5.83333,
          5.83333,
          5.83333,
          5.83333,
          5.83333,
          5.83333,
          5.83333,
          5.83333,
          5.83333,
          5.83333,
          5.83333,
          5.83333,
          5.83333,
          5.83333,
          5.83333,
          5.83333,
          5.83333,
          5.83333,
          5.83333,
          5.83333,
          5.83333,
          5.83333,
          5.83333,
          5.83333,
          5.83333,
          5.83333,
          5.83333,
          5.83333,
          5.83333,
          5.83333,
          5.83333,
          5.83333,
          5.83333,
          5.83333,
          5.83333,
          5.83333,
          5.83333,
          5.83333,
          5.83333,
          5.83333,
          5.83333
         ],
         "z": [
          0.85,
          0.85,
          0.85,
          0.85,
          0.85,
          0.85,
          0.85,
          0.85,
          0.85,
          0.85,
          0.85,
          0.85,
          0.85,
          0.85,
          0.85,
          0.85,
          0.85,
          0.85,
          0.85,
          0.85,
          0.85,
          0.85,
          0.85,
          0.85,
          0.85,
          0.85,
          0.85,
          0.85,
          0.85,
          0.85,
          0.85,
          0.85,
          0.85,
          0.85,
          0.85,
          0.85,
          0.85,
          0.85,
          0.85,
          0.85,
          0.85,
          0.85,
          0.85,
          0.85,
          0.85,
          0.85,
          0.85,
          0.85,
          0.85,
          0.85,
          0.85,
          0.85,
          0.85,
          0.85,
          0.85
         ]
        },
        {
         "mode": "lines",
         "name": "Temps entre clients: 0.86 min",
         "type": "scatter3d",
         "x": [
          90,
          92,
          94,
          96,
          98,
          100,
          102,
          104,
          106,
          108,
          110,
          112,
          114,
          116,
          118,
          120,
          122,
          124,
          126,
          128,
          130,
          132,
          134,
          136,
          138,
          140,
          142,
          144,
          146,
          148,
          150,
          152,
          154,
          156,
          158,
          160,
          162,
          164,
          166,
          168,
          170,
          172,
          174,
          176,
          178,
          180,
          182,
          184,
          186,
          188,
          190,
          192,
          194,
          196,
          198
         ],
         "y": [
          5.83333,
          5.83333,
          5.83333,
          5.83333,
          5.83333,
          5.83333,
          5.83333,
          5.83333,
          5.83333,
          5.83333,
          5.83333,
          5.83333,
          5.83333,
          5.83333,
          5.83333,
          5.83333,
          5.83333,
          5.83333,
          5.83333,
          5.83333,
          5.83333,
          5.83333,
          5.83333,
          5.83333,
          5.83333,
          5.83333,
          5.83333,
          5.83333,
          5.83333,
          5.83333,
          5.83333,
          5.83333,
          5.83333,
          5.83333,
          5.83333,
          5.83333,
          5.83333,
          5.83333,
          5.83333,
          5.83333,
          5.83333,
          5.83333,
          5.83333,
          5.83333,
          5.83333,
          5.83333,
          5.83333,
          5.83333,
          5.83333,
          5.83333,
          5.83333,
          5.83333,
          5.83333,
          5.83333,
          5.83333
         ],
         "z": [
          0.86,
          0.86,
          0.86,
          0.86,
          0.86,
          0.86,
          0.86,
          0.86,
          0.86,
          0.86,
          0.86,
          0.86,
          0.86,
          0.86,
          0.86,
          0.86,
          0.86,
          0.86,
          0.86,
          0.86,
          0.86,
          0.86,
          0.86,
          0.86,
          0.86,
          0.86,
          0.86,
          0.86,
          0.86,
          0.86,
          0.86,
          0.86,
          0.86,
          0.86,
          0.86,
          0.86,
          0.86,
          0.86,
          0.86,
          0.86,
          0.86,
          0.86,
          0.86,
          0.86,
          0.86,
          0.86,
          0.86,
          0.86,
          0.86,
          0.86,
          0.86,
          0.86,
          0.86,
          0.86,
          0.86
         ]
        },
        {
         "mode": "lines",
         "name": "Temps entre clients: 0.87 min",
         "type": "scatter3d",
         "x": [
          90,
          92,
          94,
          96,
          98,
          100,
          102,
          104,
          106,
          108,
          110,
          112,
          114,
          116,
          118,
          120,
          122,
          124,
          126,
          128,
          130,
          132,
          134,
          136,
          138,
          140,
          142,
          144,
          146,
          148,
          150,
          152,
          154,
          156,
          158,
          160,
          162,
          164,
          166,
          168,
          170,
          172,
          174,
          176,
          178,
          180,
          182,
          184,
          186,
          188,
          190,
          192,
          194,
          196,
          198
         ],
         "y": [
          5.83333,
          5.83333,
          5.83333,
          5.83333,
          5.83333,
          5.83333,
          5.83333,
          5.83333,
          5.83333,
          5.83333,
          5.83333,
          5.83333,
          5.83333,
          5.83333,
          5.83333,
          5.83333,
          5.83333,
          5.83333,
          5.83333,
          5.83333,
          5.83333,
          5.83333,
          5.83333,
          5.83333,
          5.83333,
          5.83333,
          5.83333,
          5.83333,
          5.83333,
          5.83333,
          5.83333,
          5.83333,
          5.83333,
          5.83333,
          5.83333,
          5.83333,
          5.83333,
          5.83333,
          5.83333,
          5.83333,
          5.83333,
          5.83333,
          5.83333,
          5.83333,
          5.83333,
          5.83333,
          5.83333,
          5.83333,
          5.83333,
          5.83333,
          5.83333,
          5.83333,
          5.83333,
          5.83333,
          5.83333
         ],
         "z": [
          0.87,
          0.87,
          0.87,
          0.87,
          0.87,
          0.87,
          0.87,
          0.87,
          0.87,
          0.87,
          0.87,
          0.87,
          0.87,
          0.87,
          0.87,
          0.87,
          0.87,
          0.87,
          0.87,
          0.87,
          0.87,
          0.87,
          0.87,
          0.87,
          0.87,
          0.87,
          0.87,
          0.87,
          0.87,
          0.87,
          0.87,
          0.87,
          0.87,
          0.87,
          0.87,
          0.87,
          0.87,
          0.87,
          0.87,
          0.87,
          0.87,
          0.87,
          0.87,
          0.87,
          0.87,
          0.87,
          0.87,
          0.87,
          0.87,
          0.87,
          0.87,
          0.87,
          0.87,
          0.87,
          0.87
         ]
        },
        {
         "mode": "lines",
         "name": "Temps entre clients: 0.88 min",
         "type": "scatter3d",
         "x": [
          90,
          92,
          94,
          96,
          98,
          100,
          102,
          104,
          106,
          108,
          110,
          112,
          114,
          116,
          118,
          120,
          122,
          124,
          126,
          128,
          130,
          132,
          134,
          136,
          138,
          140,
          142,
          144,
          146,
          148,
          150,
          152,
          154,
          156,
          158,
          160,
          162,
          164,
          166,
          168,
          170,
          172,
          174,
          176,
          178,
          180,
          182,
          184,
          186,
          188,
          190,
          192,
          194,
          196,
          198
         ],
         "y": [
          5.83333,
          5.83333,
          5.83333,
          5.83333,
          5.83333,
          5.83333,
          5.83333,
          5.83333,
          5.83333,
          5.83333,
          5.83333,
          5.83333,
          5.83333,
          5.83333,
          5.83333,
          5.83333,
          5.83333,
          5.83333,
          5.83333,
          5.83333,
          5.83333,
          5.83333,
          5.83333,
          5.83333,
          5.83333,
          5.83333,
          5.83333,
          5.83333,
          5.83333,
          5.83333,
          5.83333,
          5.83333,
          5.83333,
          5.83333,
          5.83333,
          5.83333,
          5.83333,
          5.83333,
          5.83333,
          5.83333,
          5.83333,
          5.83333,
          5.83333,
          5.83333,
          5.83333,
          5.83333,
          5.83333,
          5.83333,
          5.83333,
          5.83333,
          5.83333,
          5.83333,
          5.83333,
          5.83333,
          5.83333
         ],
         "z": [
          0.88,
          0.88,
          0.88,
          0.88,
          0.88,
          0.88,
          0.88,
          0.88,
          0.88,
          0.88,
          0.88,
          0.88,
          0.88,
          0.88,
          0.88,
          0.88,
          0.88,
          0.88,
          0.88,
          0.88,
          0.88,
          0.88,
          0.88,
          0.88,
          0.88,
          0.88,
          0.88,
          0.88,
          0.88,
          0.88,
          0.88,
          0.88,
          0.88,
          0.88,
          0.88,
          0.88,
          0.88,
          0.88,
          0.88,
          0.88,
          0.88,
          0.88,
          0.88,
          0.88,
          0.88,
          0.88,
          0.88,
          0.88,
          0.88,
          0.88,
          0.88,
          0.88,
          0.88,
          0.88,
          0.88
         ]
        },
        {
         "mode": "lines",
         "name": "Temps entre clients: 0.89 min",
         "type": "scatter3d",
         "x": [
          90,
          92,
          94,
          96,
          98,
          100,
          102,
          104,
          106,
          108,
          110,
          112,
          114,
          116,
          118,
          120,
          122,
          124,
          126,
          128,
          130,
          132,
          134,
          136,
          138,
          140,
          142,
          144,
          146,
          148,
          150,
          152,
          154,
          156,
          158,
          160,
          162,
          164,
          166,
          168,
          170,
          172,
          174,
          176,
          178,
          180,
          182,
          184,
          186,
          188,
          190,
          192,
          194,
          196,
          198
         ],
         "y": [
          5.83333,
          5.83333,
          5.83333,
          5.83333,
          5.83333,
          5.83333,
          5.83333,
          5.83333,
          5.83333,
          5.83333,
          5.83333,
          5.83333,
          5.83333,
          5.83333,
          5.83333,
          5.83333,
          5.83333,
          5.83333,
          5.83333,
          5.83333,
          5.83333,
          5.83333,
          5.83333,
          5.83333,
          5.83333,
          5.83333,
          5.83333,
          5.83333,
          5.83333,
          5.83333,
          5.83333,
          5.83333,
          5.83333,
          5.83333,
          5.83333,
          5.83333,
          5.83333,
          5.83333,
          5.83333,
          5.83333,
          5.83333,
          5.83333,
          5.83333,
          5.83333,
          5.83333,
          5.83333,
          5.83333,
          5.83333,
          5.83333,
          5.83333,
          5.83333,
          5.83333,
          5.83333,
          5.83333,
          5.83333
         ],
         "z": [
          0.89,
          0.89,
          0.89,
          0.89,
          0.89,
          0.89,
          0.89,
          0.89,
          0.89,
          0.89,
          0.89,
          0.89,
          0.89,
          0.89,
          0.89,
          0.89,
          0.89,
          0.89,
          0.89,
          0.89,
          0.89,
          0.89,
          0.89,
          0.89,
          0.89,
          0.89,
          0.89,
          0.89,
          0.89,
          0.89,
          0.89,
          0.89,
          0.89,
          0.89,
          0.89,
          0.89,
          0.89,
          0.89,
          0.89,
          0.89,
          0.89,
          0.89,
          0.89,
          0.89,
          0.89,
          0.89,
          0.89,
          0.89,
          0.89,
          0.89,
          0.89,
          0.89,
          0.89,
          0.89,
          0.89
         ]
        },
        {
         "mode": "lines",
         "name": "Temps entre clients: 0.9 min",
         "type": "scatter3d",
         "x": [
          90,
          92,
          94,
          96,
          98,
          100,
          102,
          104,
          106,
          108,
          110,
          112,
          114,
          116,
          118,
          120,
          122,
          124,
          126,
          128,
          130,
          132,
          134,
          136,
          138,
          140,
          142,
          144,
          146,
          148,
          150,
          152,
          154,
          156,
          158,
          160,
          162,
          164,
          166,
          168,
          170,
          172,
          174,
          176,
          178,
          180,
          182,
          184,
          186,
          188,
          190,
          192,
          194,
          196,
          198
         ],
         "y": [
          5.83333,
          5.83333,
          5.83333,
          5.83333,
          5.83333,
          5.83333,
          5.83333,
          5.83333,
          5.83333,
          5.83333,
          5.83333,
          5.83333,
          5.83333,
          5.83333,
          5.83333,
          5.83333,
          5.83333,
          5.83333,
          5.83333,
          5.83333,
          5.83333,
          5.83333,
          5.83333,
          5.83333,
          5.83333,
          5.83333,
          5.83333,
          5.83333,
          5.83333,
          5.83333,
          5.83333,
          5.83333,
          5.83333,
          5.83333,
          5.83333,
          5.83333,
          5.83333,
          5.83333,
          5.83333,
          5.83333,
          5.83333,
          5.83333,
          5.83333,
          5.83333,
          5.83333,
          5.83333,
          5.83333,
          5.83333,
          5.83333,
          5.83333,
          5.83333,
          5.83333,
          5.83333,
          5.83333,
          5.83333
         ],
         "z": [
          0.9,
          0.9,
          0.9,
          0.9,
          0.9,
          0.9,
          0.9,
          0.9,
          0.9,
          0.9,
          0.9,
          0.9,
          0.9,
          0.9,
          0.9,
          0.9,
          0.9,
          0.9,
          0.9,
          0.9,
          0.9,
          0.9,
          0.9,
          0.9,
          0.9,
          0.9,
          0.9,
          0.9,
          0.9,
          0.9,
          0.9,
          0.9,
          0.9,
          0.9,
          0.9,
          0.9,
          0.9,
          0.9,
          0.9,
          0.9,
          0.9,
          0.9,
          0.9,
          0.9,
          0.9,
          0.9,
          0.9,
          0.9,
          0.9,
          0.9,
          0.9,
          0.9,
          0.9,
          0.9,
          0.9
         ]
        },
        {
         "mode": "lines",
         "name": "Temps entre clients: 0.91 min",
         "type": "scatter3d",
         "x": [
          90,
          92,
          94,
          96,
          98,
          100,
          102,
          104,
          106,
          108,
          110,
          112,
          114,
          116,
          118,
          120,
          122,
          124,
          126,
          128,
          130,
          132,
          134,
          136,
          138,
          140,
          142,
          144,
          146,
          148,
          150,
          152,
          154,
          156,
          158,
          160,
          162,
          164,
          166,
          168,
          170,
          172,
          174,
          176,
          178,
          180,
          182,
          184,
          186,
          188,
          190,
          192,
          194,
          196,
          198
         ],
         "y": [
          5.83333,
          5.83333,
          5.83333,
          5.83333,
          5.83333,
          5.83333,
          5.83333,
          5.83333,
          5.83333,
          5.83333,
          5.83333,
          5.83333,
          5.83333,
          5.83333,
          5.83333,
          5.83333,
          5.83333,
          5.83333,
          5.83333,
          5.83333,
          5.83333,
          5.83333,
          5.83333,
          5.83333,
          5.83333,
          5.83333,
          5.83333,
          5.83333,
          5.83333,
          5.83333,
          5.83333,
          5.83333,
          5.83333,
          5.83333,
          5.83333,
          5.83333,
          5.83333,
          5.83333,
          5.83333,
          5.83333,
          5.83333,
          5.83333,
          5.83333,
          5.83333,
          5.83333,
          5.83333,
          5.83333,
          5.83333,
          5.83333,
          5.83333,
          5.83333,
          5.83333,
          5.83333,
          5.83333,
          5.83333
         ],
         "z": [
          0.91,
          0.91,
          0.91,
          0.91,
          0.91,
          0.91,
          0.91,
          0.91,
          0.91,
          0.91,
          0.91,
          0.91,
          0.91,
          0.91,
          0.91,
          0.91,
          0.91,
          0.91,
          0.91,
          0.91,
          0.91,
          0.91,
          0.91,
          0.91,
          0.91,
          0.91,
          0.91,
          0.91,
          0.91,
          0.91,
          0.91,
          0.91,
          0.91,
          0.91,
          0.91,
          0.91,
          0.91,
          0.91,
          0.91,
          0.91,
          0.91,
          0.91,
          0.91,
          0.91,
          0.91,
          0.91,
          0.91,
          0.91,
          0.91,
          0.91,
          0.91,
          0.91,
          0.91,
          0.91,
          0.91
         ]
        },
        {
         "mode": "lines",
         "name": "Temps entre clients: 0.92 min",
         "type": "scatter3d",
         "x": [
          90,
          92,
          94,
          96,
          98,
          100,
          102,
          104,
          106,
          108,
          110,
          112,
          114,
          116,
          118,
          120,
          122,
          124,
          126,
          128,
          130,
          132,
          134,
          136,
          138,
          140,
          142,
          144,
          146,
          148,
          150,
          152,
          154,
          156,
          158,
          160,
          162,
          164,
          166,
          168,
          170,
          172,
          174,
          176,
          178,
          180,
          182,
          184,
          186,
          188,
          190,
          192,
          194,
          196,
          198
         ],
         "y": [
          5.83333,
          5.83333,
          5.83333,
          5.83333,
          5.83333,
          5.83333,
          5.83333,
          5.83333,
          5.83333,
          5.83333,
          5.83333,
          5.83333,
          5.83333,
          5.83333,
          5.83333,
          5.83333,
          5.83333,
          5.83333,
          5.83333,
          5.83333,
          5.83333,
          5.83333,
          5.83333,
          5.83333,
          5.83333,
          5.83333,
          5.83333,
          5.83333,
          5.83333,
          5.83333,
          5.83333,
          5.83333,
          5.83333,
          5.83333,
          5.83333,
          5.83333,
          5.83333,
          5.83333,
          5.83333,
          5.83333,
          5.83333,
          5.83333,
          5.83333,
          5.83333,
          5.83333,
          5.83333,
          5.83333,
          5.83333,
          5.83333,
          5.83333,
          5.83333,
          5.83333,
          5.83333,
          5.83333,
          5.83333
         ],
         "z": [
          0.92,
          0.92,
          0.92,
          0.92,
          0.92,
          0.92,
          0.92,
          0.92,
          0.92,
          0.92,
          0.92,
          0.92,
          0.92,
          0.92,
          0.92,
          0.92,
          0.92,
          0.92,
          0.92,
          0.92,
          0.92,
          0.92,
          0.92,
          0.92,
          0.92,
          0.92,
          0.92,
          0.92,
          0.92,
          0.92,
          0.92,
          0.92,
          0.92,
          0.92,
          0.92,
          0.92,
          0.92,
          0.92,
          0.92,
          0.92,
          0.92,
          0.92,
          0.92,
          0.92,
          0.92,
          0.92,
          0.92,
          0.92,
          0.92,
          0.92,
          0.92,
          0.92,
          0.92,
          0.92,
          0.92
         ]
        },
        {
         "mode": "lines",
         "name": "Temps entre clients: 0.93 min",
         "type": "scatter3d",
         "x": [
          90,
          92,
          94,
          96,
          98,
          100,
          102,
          104,
          106,
          108,
          110,
          112,
          114,
          116,
          118,
          120,
          122,
          124,
          126,
          128,
          130,
          132,
          134,
          136,
          138,
          140,
          142,
          144,
          146,
          148,
          150,
          152,
          154,
          156,
          158,
          160,
          162,
          164,
          166,
          168,
          170,
          172,
          174,
          176,
          178,
          180,
          182,
          184,
          186,
          188,
          190,
          192,
          194,
          196,
          198
         ],
         "y": [
          5.83333,
          5.83333,
          5.83333,
          5.83333,
          5.83333,
          5.83333,
          5.83333,
          5.83333,
          5.83333,
          5.83333,
          5.83333,
          5.83333,
          5.83333,
          5.83333,
          5.83333,
          5.83333,
          5.83333,
          5.83333,
          5.83333,
          5.83333,
          5.83333,
          5.83333,
          5.83333,
          5.83333,
          5.83333,
          5.83333,
          5.83333,
          5.83333,
          5.83333,
          5.83333,
          5.83333,
          5.83333,
          5.83333,
          5.83333,
          5.83333,
          5.83333,
          5.83333,
          5.83333,
          5.83333,
          5.83333,
          5.83333,
          5.83333,
          5.83333,
          5.83333,
          5.83333,
          5.83333,
          5.83333,
          5.83333,
          5.83333,
          5.83333,
          5.83333,
          5.83333,
          5.83333,
          5.83333,
          5.83333
         ],
         "z": [
          0.93,
          0.93,
          0.93,
          0.93,
          0.93,
          0.93,
          0.93,
          0.93,
          0.93,
          0.93,
          0.93,
          0.93,
          0.93,
          0.93,
          0.93,
          0.93,
          0.93,
          0.93,
          0.93,
          0.93,
          0.93,
          0.93,
          0.93,
          0.93,
          0.93,
          0.93,
          0.93,
          0.93,
          0.93,
          0.93,
          0.93,
          0.93,
          0.93,
          0.93,
          0.93,
          0.93,
          0.93,
          0.93,
          0.93,
          0.93,
          0.93,
          0.93,
          0.93,
          0.93,
          0.93,
          0.93,
          0.93,
          0.93,
          0.93,
          0.93,
          0.93,
          0.93,
          0.93,
          0.93,
          0.93
         ]
        },
        {
         "mode": "lines",
         "name": "Temps entre clients: 0.9400000000000001 min",
         "type": "scatter3d",
         "x": [
          90,
          92,
          94,
          96,
          98,
          100,
          102,
          104,
          106,
          108,
          110,
          112,
          114,
          116,
          118,
          120,
          122,
          124,
          126,
          128,
          130,
          132,
          134,
          136,
          138,
          140,
          142,
          144,
          146,
          148,
          150,
          152,
          154,
          156,
          158,
          160,
          162,
          164,
          166,
          168,
          170,
          172,
          174,
          176,
          178,
          180,
          182,
          184,
          186,
          188,
          190,
          192,
          194,
          196,
          198
         ],
         "y": [
          5.83333,
          5.83333,
          5.83333,
          5.83333,
          5.83333,
          5.83333,
          5.83333,
          5.83333,
          5.83333,
          5.83333,
          5.83333,
          5.83333,
          5.83333,
          5.83333,
          5.83333,
          5.83333,
          5.83333,
          5.83333,
          5.83333,
          5.83333,
          5.83333,
          5.83333,
          5.83333,
          5.83333,
          5.83333,
          5.83333,
          5.83333,
          5.83333,
          5.83333,
          5.83333,
          5.83333,
          5.83333,
          5.83333,
          5.83333,
          5.83333,
          5.83333,
          5.83333,
          5.83333,
          5.83333,
          5.83333,
          5.83333,
          5.83333,
          5.83333,
          5.83333,
          5.83333,
          5.83333,
          5.83333,
          5.83333,
          5.83333,
          5.83333,
          5.83333,
          5.83333,
          5.83333,
          5.83333,
          5.83333
         ],
         "z": [
          0.9400000000000001,
          0.9400000000000001,
          0.9400000000000001,
          0.9400000000000001,
          0.9400000000000001,
          0.9400000000000001,
          0.9400000000000001,
          0.9400000000000001,
          0.9400000000000001,
          0.9400000000000001,
          0.9400000000000001,
          0.9400000000000001,
          0.9400000000000001,
          0.9400000000000001,
          0.9400000000000001,
          0.9400000000000001,
          0.9400000000000001,
          0.9400000000000001,
          0.9400000000000001,
          0.9400000000000001,
          0.9400000000000001,
          0.9400000000000001,
          0.9400000000000001,
          0.9400000000000001,
          0.9400000000000001,
          0.9400000000000001,
          0.9400000000000001,
          0.9400000000000001,
          0.9400000000000001,
          0.9400000000000001,
          0.9400000000000001,
          0.9400000000000001,
          0.9400000000000001,
          0.9400000000000001,
          0.9400000000000001,
          0.9400000000000001,
          0.9400000000000001,
          0.9400000000000001,
          0.9400000000000001,
          0.9400000000000001,
          0.9400000000000001,
          0.9400000000000001,
          0.9400000000000001,
          0.9400000000000001,
          0.9400000000000001,
          0.9400000000000001,
          0.9400000000000001,
          0.9400000000000001,
          0.9400000000000001,
          0.9400000000000001,
          0.9400000000000001,
          0.9400000000000001,
          0.9400000000000001,
          0.9400000000000001,
          0.9400000000000001
         ]
        },
        {
         "mode": "lines",
         "name": "Temps entre clients: 0.9500000000000001 min",
         "type": "scatter3d",
         "x": [
          90,
          92,
          94,
          96,
          98,
          100,
          102,
          104,
          106,
          108,
          110,
          112,
          114,
          116,
          118,
          120,
          122,
          124,
          126,
          128,
          130,
          132,
          134,
          136,
          138,
          140,
          142,
          144,
          146,
          148,
          150,
          152,
          154,
          156,
          158,
          160,
          162,
          164,
          166,
          168,
          170,
          172,
          174,
          176,
          178,
          180,
          182,
          184,
          186,
          188,
          190,
          192,
          194,
          196,
          198
         ],
         "y": [
          5.83333,
          5.83333,
          5.83333,
          5.83333,
          5.83333,
          5.83333,
          5.83333,
          5.83333,
          5.83333,
          5.83333,
          5.83333,
          5.83333,
          5.83333,
          5.83333,
          5.83333,
          5.83333,
          5.83333,
          5.83333,
          5.83333,
          5.83333,
          5.83333,
          5.83333,
          5.83333,
          5.83333,
          5.83333,
          5.83333,
          5.83333,
          5.83333,
          5.83333,
          5.83333,
          5.83333,
          5.83333,
          5.83333,
          5.83333,
          5.83333,
          5.83333,
          5.83333,
          5.83333,
          5.83333,
          5.83333,
          5.83333,
          5.83333,
          5.83333,
          5.83333,
          5.83333,
          5.83333,
          5.83333,
          5.83333,
          5.83333,
          5.83333,
          5.83333,
          5.83333,
          5.83333,
          5.83333,
          5.83333
         ],
         "z": [
          0.9500000000000001,
          0.9500000000000001,
          0.9500000000000001,
          0.9500000000000001,
          0.9500000000000001,
          0.9500000000000001,
          0.9500000000000001,
          0.9500000000000001,
          0.9500000000000001,
          0.9500000000000001,
          0.9500000000000001,
          0.9500000000000001,
          0.9500000000000001,
          0.9500000000000001,
          0.9500000000000001,
          0.9500000000000001,
          0.9500000000000001,
          0.9500000000000001,
          0.9500000000000001,
          0.9500000000000001,
          0.9500000000000001,
          0.9500000000000001,
          0.9500000000000001,
          0.9500000000000001,
          0.9500000000000001,
          0.9500000000000001,
          0.9500000000000001,
          0.9500000000000001,
          0.9500000000000001,
          0.9500000000000001,
          0.9500000000000001,
          0.9500000000000001,
          0.9500000000000001,
          0.9500000000000001,
          0.9500000000000001,
          0.9500000000000001,
          0.9500000000000001,
          0.9500000000000001,
          0.9500000000000001,
          0.9500000000000001,
          0.9500000000000001,
          0.9500000000000001,
          0.9500000000000001,
          0.9500000000000001,
          0.9500000000000001,
          0.9500000000000001,
          0.9500000000000001,
          0.9500000000000001,
          0.9500000000000001,
          0.9500000000000001,
          0.9500000000000001,
          0.9500000000000001,
          0.9500000000000001,
          0.9500000000000001,
          0.9500000000000001
         ]
        },
        {
         "mode": "lines",
         "name": "Temps entre clients: 0.96 min",
         "type": "scatter3d",
         "x": [
          90,
          92,
          94,
          96,
          98,
          100,
          102,
          104,
          106,
          108,
          110,
          112,
          114,
          116,
          118,
          120,
          122,
          124,
          126,
          128,
          130,
          132,
          134,
          136,
          138,
          140,
          142,
          144,
          146,
          148,
          150,
          152,
          154,
          156,
          158,
          160,
          162,
          164,
          166,
          168,
          170,
          172,
          174,
          176,
          178,
          180,
          182,
          184,
          186,
          188,
          190,
          192,
          194,
          196,
          198
         ],
         "y": [
          5.83333,
          5.83333,
          5.83333,
          5.83333,
          5.83333,
          5.83333,
          5.83333,
          5.83333,
          5.83333,
          5.83333,
          5.83333,
          5.83333,
          5.83333,
          5.83333,
          5.83333,
          5.83333,
          5.83333,
          5.83333,
          5.83333,
          5.83333,
          5.83333,
          5.83333,
          5.83333,
          5.83333,
          5.83333,
          5.83333,
          5.83333,
          5.83333,
          5.83333,
          5.83333,
          5.83333,
          5.83333,
          5.83333,
          5.83333,
          5.83333,
          5.83333,
          5.83333,
          5.83333,
          5.83333,
          5.83333,
          5.83333,
          5.83333,
          5.83333,
          5.83333,
          5.83333,
          5.83333,
          5.83333,
          5.83333,
          5.83333,
          5.83333,
          5.83333,
          5.83333,
          5.83333,
          5.83333,
          5.83333
         ],
         "z": [
          0.96,
          0.96,
          0.96,
          0.96,
          0.96,
          0.96,
          0.96,
          0.96,
          0.96,
          0.96,
          0.96,
          0.96,
          0.96,
          0.96,
          0.96,
          0.96,
          0.96,
          0.96,
          0.96,
          0.96,
          0.96,
          0.96,
          0.96,
          0.96,
          0.96,
          0.96,
          0.96,
          0.96,
          0.96,
          0.96,
          0.96,
          0.96,
          0.96,
          0.96,
          0.96,
          0.96,
          0.96,
          0.96,
          0.96,
          0.96,
          0.96,
          0.96,
          0.96,
          0.96,
          0.96,
          0.96,
          0.96,
          0.96,
          0.96,
          0.96,
          0.96,
          0.96,
          0.96,
          0.96,
          0.96
         ]
        },
        {
         "mode": "lines",
         "name": "Temps entre clients: 0.97 min",
         "type": "scatter3d",
         "x": [
          90,
          92,
          94,
          96,
          98,
          100,
          102,
          104,
          106,
          108,
          110,
          112,
          114,
          116,
          118,
          120,
          122,
          124,
          126,
          128,
          130,
          132,
          134,
          136,
          138,
          140,
          142,
          144,
          146,
          148,
          150,
          152,
          154,
          156,
          158,
          160,
          162,
          164,
          166,
          168,
          170,
          172,
          174,
          176,
          178,
          180,
          182,
          184,
          186,
          188,
          190,
          192,
          194,
          196,
          198
         ],
         "y": [
          5.83333,
          5.83333,
          5.83333,
          5.83333,
          5.83333,
          5.83333,
          5.83333,
          5.83333,
          5.83333,
          5.83333,
          5.83333,
          5.83333,
          5.83333,
          5.83333,
          5.83333,
          5.83333,
          5.83333,
          5.83333,
          5.83333,
          5.83333,
          5.83333,
          5.83333,
          5.83333,
          5.83333,
          5.83333,
          5.83333,
          5.83333,
          5.83333,
          5.83333,
          5.83333,
          5.83333,
          5.83333,
          5.83333,
          5.83333,
          5.83333,
          5.83333,
          5.83333,
          5.83333,
          5.83333,
          5.83333,
          5.83333,
          5.83333,
          5.83333,
          5.83333,
          5.83333,
          5.83333,
          5.83333,
          5.83333,
          5.83333,
          5.83333,
          5.83333,
          5.83333,
          5.83333,
          5.83333,
          5.83333
         ],
         "z": [
          0.97,
          0.97,
          0.97,
          0.97,
          0.97,
          0.97,
          0.97,
          0.97,
          0.97,
          0.97,
          0.97,
          0.97,
          0.97,
          0.97,
          0.97,
          0.97,
          0.97,
          0.97,
          0.97,
          0.97,
          0.97,
          0.97,
          0.97,
          0.97,
          0.97,
          0.97,
          0.97,
          0.97,
          0.97,
          0.97,
          0.97,
          0.97,
          0.97,
          0.97,
          0.97,
          0.97,
          0.97,
          0.97,
          0.97,
          0.97,
          0.97,
          0.97,
          0.97,
          0.97,
          0.97,
          0.97,
          0.97,
          0.97,
          0.97,
          0.97,
          0.97,
          0.97,
          0.97,
          0.97,
          0.97
         ]
        },
        {
         "mode": "lines",
         "name": "Temps entre clients: 0.98 min",
         "type": "scatter3d",
         "x": [
          90,
          92,
          94,
          96,
          98,
          100,
          102,
          104,
          106,
          108,
          110,
          112,
          114,
          116,
          118,
          120,
          122,
          124,
          126,
          128,
          130,
          132,
          134,
          136,
          138,
          140,
          142,
          144,
          146,
          148,
          150,
          152,
          154,
          156,
          158,
          160,
          162,
          164,
          166,
          168,
          170,
          172,
          174,
          176,
          178,
          180,
          182,
          184,
          186,
          188,
          190,
          192,
          194,
          196,
          198
         ],
         "y": [
          5.83333,
          5.83333,
          5.83333,
          5.83333,
          5.83333,
          5.83333,
          5.83333,
          5.83333,
          5.83333,
          5.83333,
          5.83333,
          5.83333,
          5.83333,
          5.83333,
          5.83333,
          5.83333,
          5.83333,
          5.83333,
          5.83333,
          5.83333,
          5.83333,
          5.83333,
          5.83333,
          5.83333,
          5.83333,
          5.83333,
          5.83333,
          5.83333,
          5.83333,
          5.83333,
          5.83333,
          5.83333,
          5.83333,
          5.83333,
          5.83333,
          5.83333,
          5.83333,
          5.83333,
          5.83333,
          5.83333,
          5.83333,
          5.83333,
          5.83333,
          5.83333,
          5.83333,
          5.83333,
          5.83333,
          5.83333,
          5.83333,
          5.83333,
          5.83333,
          5.83333,
          5.83333,
          5.83333,
          5.83333
         ],
         "z": [
          0.98,
          0.98,
          0.98,
          0.98,
          0.98,
          0.98,
          0.98,
          0.98,
          0.98,
          0.98,
          0.98,
          0.98,
          0.98,
          0.98,
          0.98,
          0.98,
          0.98,
          0.98,
          0.98,
          0.98,
          0.98,
          0.98,
          0.98,
          0.98,
          0.98,
          0.98,
          0.98,
          0.98,
          0.98,
          0.98,
          0.98,
          0.98,
          0.98,
          0.98,
          0.98,
          0.98,
          0.98,
          0.98,
          0.98,
          0.98,
          0.98,
          0.98,
          0.98,
          0.98,
          0.98,
          0.98,
          0.98,
          0.98,
          0.98,
          0.98,
          0.98,
          0.98,
          0.98,
          0.98,
          0.98
         ]
        },
        {
         "mode": "lines",
         "name": "Temps entre clients: 0.99 min",
         "type": "scatter3d",
         "x": [
          90,
          92,
          94,
          96,
          98,
          100,
          102,
          104,
          106,
          108,
          110,
          112,
          114,
          116,
          118,
          120,
          122,
          124,
          126,
          128,
          130,
          132,
          134,
          136,
          138,
          140,
          142,
          144,
          146,
          148,
          150,
          152,
          154,
          156,
          158,
          160,
          162,
          164,
          166,
          168,
          170,
          172,
          174,
          176,
          178,
          180,
          182,
          184,
          186,
          188,
          190,
          192,
          194,
          196,
          198
         ],
         "y": [
          5.83333,
          5.83333,
          5.83333,
          5.83333,
          5.83333,
          5.83333,
          5.83333,
          5.83333,
          5.83333,
          5.83333,
          5.83333,
          5.83333,
          5.83333,
          5.83333,
          5.83333,
          5.83333,
          5.83333,
          5.83333,
          5.83333,
          5.83333,
          5.83333,
          5.83333,
          5.83333,
          5.83333,
          5.83333,
          5.83333,
          5.83333,
          5.83333,
          5.83333,
          5.83333,
          5.83333,
          5.83333,
          5.83333,
          5.83333,
          5.83333,
          5.83333,
          5.83333,
          5.83333,
          5.83333,
          5.83333,
          5.83333,
          5.83333,
          5.83333,
          5.83333,
          5.83333,
          5.83333,
          5.83333,
          5.83333,
          5.83333,
          5.83333,
          5.83333,
          5.83333,
          5.83333,
          5.83333,
          5.83333
         ],
         "z": [
          0.99,
          0.99,
          0.99,
          0.99,
          0.99,
          0.99,
          0.99,
          0.99,
          0.99,
          0.99,
          0.99,
          0.99,
          0.99,
          0.99,
          0.99,
          0.99,
          0.99,
          0.99,
          0.99,
          0.99,
          0.99,
          0.99,
          0.99,
          0.99,
          0.99,
          0.99,
          0.99,
          0.99,
          0.99,
          0.99,
          0.99,
          0.99,
          0.99,
          0.99,
          0.99,
          0.99,
          0.99,
          0.99,
          0.99,
          0.99,
          0.99,
          0.99,
          0.99,
          0.99,
          0.99,
          0.99,
          0.99,
          0.99,
          0.99,
          0.99,
          0.99,
          0.99,
          0.99,
          0.99,
          0.99
         ]
        }
       ],
       "layout": {
        "height": 600,
        "scene": {
         "xaxis": {
          "title": {
           "text": "Nombre de places dans un tramway"
          }
         },
         "yaxis": {
          "title": {
           "text": "Temps moyen d'attente"
          }
         },
         "zaxis": {
          "title": {
           "text": "Temps entre clients (min)"
          }
         }
        },
        "template": {
         "data": {
          "bar": [
           {
            "error_x": {
             "color": "#2a3f5f"
            },
            "error_y": {
             "color": "#2a3f5f"
            },
            "marker": {
             "line": {
              "color": "#E5ECF6",
              "width": 0.5
             },
             "pattern": {
              "fillmode": "overlay",
              "size": 10,
              "solidity": 0.2
             }
            },
            "type": "bar"
           }
          ],
          "barpolar": [
           {
            "marker": {
             "line": {
              "color": "#E5ECF6",
              "width": 0.5
             },
             "pattern": {
              "fillmode": "overlay",
              "size": 10,
              "solidity": 0.2
             }
            },
            "type": "barpolar"
           }
          ],
          "carpet": [
           {
            "aaxis": {
             "endlinecolor": "#2a3f5f",
             "gridcolor": "white",
             "linecolor": "white",
             "minorgridcolor": "white",
             "startlinecolor": "#2a3f5f"
            },
            "baxis": {
             "endlinecolor": "#2a3f5f",
             "gridcolor": "white",
             "linecolor": "white",
             "minorgridcolor": "white",
             "startlinecolor": "#2a3f5f"
            },
            "type": "carpet"
           }
          ],
          "choropleth": [
           {
            "colorbar": {
             "outlinewidth": 0,
             "ticks": ""
            },
            "type": "choropleth"
           }
          ],
          "contour": [
           {
            "colorbar": {
             "outlinewidth": 0,
             "ticks": ""
            },
            "colorscale": [
             [
              0,
              "#0d0887"
             ],
             [
              0.1111111111111111,
              "#46039f"
             ],
             [
              0.2222222222222222,
              "#7201a8"
             ],
             [
              0.3333333333333333,
              "#9c179e"
             ],
             [
              0.4444444444444444,
              "#bd3786"
             ],
             [
              0.5555555555555556,
              "#d8576b"
             ],
             [
              0.6666666666666666,
              "#ed7953"
             ],
             [
              0.7777777777777778,
              "#fb9f3a"
             ],
             [
              0.8888888888888888,
              "#fdca26"
             ],
             [
              1,
              "#f0f921"
             ]
            ],
            "type": "contour"
           }
          ],
          "contourcarpet": [
           {
            "colorbar": {
             "outlinewidth": 0,
             "ticks": ""
            },
            "type": "contourcarpet"
           }
          ],
          "heatmap": [
           {
            "colorbar": {
             "outlinewidth": 0,
             "ticks": ""
            },
            "colorscale": [
             [
              0,
              "#0d0887"
             ],
             [
              0.1111111111111111,
              "#46039f"
             ],
             [
              0.2222222222222222,
              "#7201a8"
             ],
             [
              0.3333333333333333,
              "#9c179e"
             ],
             [
              0.4444444444444444,
              "#bd3786"
             ],
             [
              0.5555555555555556,
              "#d8576b"
             ],
             [
              0.6666666666666666,
              "#ed7953"
             ],
             [
              0.7777777777777778,
              "#fb9f3a"
             ],
             [
              0.8888888888888888,
              "#fdca26"
             ],
             [
              1,
              "#f0f921"
             ]
            ],
            "type": "heatmap"
           }
          ],
          "histogram": [
           {
            "marker": {
             "pattern": {
              "fillmode": "overlay",
              "size": 10,
              "solidity": 0.2
             }
            },
            "type": "histogram"
           }
          ],
          "histogram2d": [
           {
            "colorbar": {
             "outlinewidth": 0,
             "ticks": ""
            },
            "colorscale": [
             [
              0,
              "#0d0887"
             ],
             [
              0.1111111111111111,
              "#46039f"
             ],
             [
              0.2222222222222222,
              "#7201a8"
             ],
             [
              0.3333333333333333,
              "#9c179e"
             ],
             [
              0.4444444444444444,
              "#bd3786"
             ],
             [
              0.5555555555555556,
              "#d8576b"
             ],
             [
              0.6666666666666666,
              "#ed7953"
             ],
             [
              0.7777777777777778,
              "#fb9f3a"
             ],
             [
              0.8888888888888888,
              "#fdca26"
             ],
             [
              1,
              "#f0f921"
             ]
            ],
            "type": "histogram2d"
           }
          ],
          "histogram2dcontour": [
           {
            "colorbar": {
             "outlinewidth": 0,
             "ticks": ""
            },
            "colorscale": [
             [
              0,
              "#0d0887"
             ],
             [
              0.1111111111111111,
              "#46039f"
             ],
             [
              0.2222222222222222,
              "#7201a8"
             ],
             [
              0.3333333333333333,
              "#9c179e"
             ],
             [
              0.4444444444444444,
              "#bd3786"
             ],
             [
              0.5555555555555556,
              "#d8576b"
             ],
             [
              0.6666666666666666,
              "#ed7953"
             ],
             [
              0.7777777777777778,
              "#fb9f3a"
             ],
             [
              0.8888888888888888,
              "#fdca26"
             ],
             [
              1,
              "#f0f921"
             ]
            ],
            "type": "histogram2dcontour"
           }
          ],
          "mesh3d": [
           {
            "colorbar": {
             "outlinewidth": 0,
             "ticks": ""
            },
            "type": "mesh3d"
           }
          ],
          "parcoords": [
           {
            "line": {
             "colorbar": {
              "outlinewidth": 0,
              "ticks": ""
             }
            },
            "type": "parcoords"
           }
          ],
          "pie": [
           {
            "automargin": true,
            "type": "pie"
           }
          ],
          "scatter": [
           {
            "fillpattern": {
             "fillmode": "overlay",
             "size": 10,
             "solidity": 0.2
            },
            "type": "scatter"
           }
          ],
          "scatter3d": [
           {
            "line": {
             "colorbar": {
              "outlinewidth": 0,
              "ticks": ""
             }
            },
            "marker": {
             "colorbar": {
              "outlinewidth": 0,
              "ticks": ""
             }
            },
            "type": "scatter3d"
           }
          ],
          "scattercarpet": [
           {
            "marker": {
             "colorbar": {
              "outlinewidth": 0,
              "ticks": ""
             }
            },
            "type": "scattercarpet"
           }
          ],
          "scattergeo": [
           {
            "marker": {
             "colorbar": {
              "outlinewidth": 0,
              "ticks": ""
             }
            },
            "type": "scattergeo"
           }
          ],
          "scattergl": [
           {
            "marker": {
             "colorbar": {
              "outlinewidth": 0,
              "ticks": ""
             }
            },
            "type": "scattergl"
           }
          ],
          "scattermap": [
           {
            "marker": {
             "colorbar": {
              "outlinewidth": 0,
              "ticks": ""
             }
            },
            "type": "scattermap"
           }
          ],
          "scattermapbox": [
           {
            "marker": {
             "colorbar": {
              "outlinewidth": 0,
              "ticks": ""
             }
            },
            "type": "scattermapbox"
           }
          ],
          "scatterpolar": [
           {
            "marker": {
             "colorbar": {
              "outlinewidth": 0,
              "ticks": ""
             }
            },
            "type": "scatterpolar"
           }
          ],
          "scatterpolargl": [
           {
            "marker": {
             "colorbar": {
              "outlinewidth": 0,
              "ticks": ""
             }
            },
            "type": "scatterpolargl"
           }
          ],
          "scatterternary": [
           {
            "marker": {
             "colorbar": {
              "outlinewidth": 0,
              "ticks": ""
             }
            },
            "type": "scatterternary"
           }
          ],
          "surface": [
           {
            "colorbar": {
             "outlinewidth": 0,
             "ticks": ""
            },
            "colorscale": [
             [
              0,
              "#0d0887"
             ],
             [
              0.1111111111111111,
              "#46039f"
             ],
             [
              0.2222222222222222,
              "#7201a8"
             ],
             [
              0.3333333333333333,
              "#9c179e"
             ],
             [
              0.4444444444444444,
              "#bd3786"
             ],
             [
              0.5555555555555556,
              "#d8576b"
             ],
             [
              0.6666666666666666,
              "#ed7953"
             ],
             [
              0.7777777777777778,
              "#fb9f3a"
             ],
             [
              0.8888888888888888,
              "#fdca26"
             ],
             [
              1,
              "#f0f921"
             ]
            ],
            "type": "surface"
           }
          ],
          "table": [
           {
            "cells": {
             "fill": {
              "color": "#EBF0F8"
             },
             "line": {
              "color": "white"
             }
            },
            "header": {
             "fill": {
              "color": "#C8D4E3"
             },
             "line": {
              "color": "white"
             }
            },
            "type": "table"
           }
          ]
         },
         "layout": {
          "annotationdefaults": {
           "arrowcolor": "#2a3f5f",
           "arrowhead": 0,
           "arrowwidth": 1
          },
          "autotypenumbers": "strict",
          "coloraxis": {
           "colorbar": {
            "outlinewidth": 0,
            "ticks": ""
           }
          },
          "colorscale": {
           "diverging": [
            [
             0,
             "#8e0152"
            ],
            [
             0.1,
             "#c51b7d"
            ],
            [
             0.2,
             "#de77ae"
            ],
            [
             0.3,
             "#f1b6da"
            ],
            [
             0.4,
             "#fde0ef"
            ],
            [
             0.5,
             "#f7f7f7"
            ],
            [
             0.6,
             "#e6f5d0"
            ],
            [
             0.7,
             "#b8e186"
            ],
            [
             0.8,
             "#7fbc41"
            ],
            [
             0.9,
             "#4d9221"
            ],
            [
             1,
             "#276419"
            ]
           ],
           "sequential": [
            [
             0,
             "#0d0887"
            ],
            [
             0.1111111111111111,
             "#46039f"
            ],
            [
             0.2222222222222222,
             "#7201a8"
            ],
            [
             0.3333333333333333,
             "#9c179e"
            ],
            [
             0.4444444444444444,
             "#bd3786"
            ],
            [
             0.5555555555555556,
             "#d8576b"
            ],
            [
             0.6666666666666666,
             "#ed7953"
            ],
            [
             0.7777777777777778,
             "#fb9f3a"
            ],
            [
             0.8888888888888888,
             "#fdca26"
            ],
            [
             1,
             "#f0f921"
            ]
           ],
           "sequentialminus": [
            [
             0,
             "#0d0887"
            ],
            [
             0.1111111111111111,
             "#46039f"
            ],
            [
             0.2222222222222222,
             "#7201a8"
            ],
            [
             0.3333333333333333,
             "#9c179e"
            ],
            [
             0.4444444444444444,
             "#bd3786"
            ],
            [
             0.5555555555555556,
             "#d8576b"
            ],
            [
             0.6666666666666666,
             "#ed7953"
            ],
            [
             0.7777777777777778,
             "#fb9f3a"
            ],
            [
             0.8888888888888888,
             "#fdca26"
            ],
            [
             1,
             "#f0f921"
            ]
           ]
          },
          "colorway": [
           "#636efa",
           "#EF553B",
           "#00cc96",
           "#ab63fa",
           "#FFA15A",
           "#19d3f3",
           "#FF6692",
           "#B6E880",
           "#FF97FF",
           "#FECB52"
          ],
          "font": {
           "color": "#2a3f5f"
          },
          "geo": {
           "bgcolor": "white",
           "lakecolor": "white",
           "landcolor": "#E5ECF6",
           "showlakes": true,
           "showland": true,
           "subunitcolor": "white"
          },
          "hoverlabel": {
           "align": "left"
          },
          "hovermode": "closest",
          "mapbox": {
           "style": "light"
          },
          "paper_bgcolor": "white",
          "plot_bgcolor": "#E5ECF6",
          "polar": {
           "angularaxis": {
            "gridcolor": "white",
            "linecolor": "white",
            "ticks": ""
           },
           "bgcolor": "#E5ECF6",
           "radialaxis": {
            "gridcolor": "white",
            "linecolor": "white",
            "ticks": ""
           }
          },
          "scene": {
           "xaxis": {
            "backgroundcolor": "#E5ECF6",
            "gridcolor": "white",
            "gridwidth": 2,
            "linecolor": "white",
            "showbackground": true,
            "ticks": "",
            "zerolinecolor": "white"
           },
           "yaxis": {
            "backgroundcolor": "#E5ECF6",
            "gridcolor": "white",
            "gridwidth": 2,
            "linecolor": "white",
            "showbackground": true,
            "ticks": "",
            "zerolinecolor": "white"
           },
           "zaxis": {
            "backgroundcolor": "#E5ECF6",
            "gridcolor": "white",
            "gridwidth": 2,
            "linecolor": "white",
            "showbackground": true,
            "ticks": "",
            "zerolinecolor": "white"
           }
          },
          "shapedefaults": {
           "line": {
            "color": "#2a3f5f"
           }
          },
          "ternary": {
           "aaxis": {
            "gridcolor": "white",
            "linecolor": "white",
            "ticks": ""
           },
           "baxis": {
            "gridcolor": "white",
            "linecolor": "white",
            "ticks": ""
           },
           "bgcolor": "#E5ECF6",
           "caxis": {
            "gridcolor": "white",
            "linecolor": "white",
            "ticks": ""
           }
          },
          "title": {
           "x": 0.05
          },
          "xaxis": {
           "automargin": true,
           "gridcolor": "white",
           "linecolor": "white",
           "ticks": "",
           "title": {
            "standoff": 15
           },
           "zerolinecolor": "white",
           "zerolinewidth": 2
          },
          "yaxis": {
           "automargin": true,
           "gridcolor": "white",
           "linecolor": "white",
           "ticks": "",
           "title": {
            "standoff": 15
           },
           "zerolinecolor": "white",
           "zerolinewidth": 2
          }
         }
        },
        "title": {
         "text": "Relation entre capacité du tramway et temps d'attente"
        },
        "width": 900
       }
      }
     },
     "metadata": {},
     "output_type": "display_data"
    },
    {
     "data": {
      "application/vnd.plotly.v1+json": {
       "config": {
        "plotlyServerURL": "https://plot.ly"
       },
       "data": [
        {
         "mode": "lines+markers",
         "name": "0.4 min",
         "type": "scatter",
         "x": [
          106,
          108,
          110,
          112,
          114,
          116,
          118,
          120,
          122,
          124,
          126,
          128,
          130,
          132,
          134,
          136,
          138,
          140,
          142,
          144,
          146,
          148,
          150,
          152,
          154,
          156,
          158,
          160,
          162,
          164,
          166,
          168,
          170,
          172,
          174,
          176,
          178,
          180,
          182,
          184,
          186,
          188,
          190,
          192,
          194,
          196,
          198
         ],
         "y": [
          6.83189,
          5.90521,
          5.83807,
          5.8335,
          5.83334,
          5.83333,
          5.83333,
          5.83333,
          5.83333,
          5.83333,
          5.83333,
          5.83333,
          5.83333,
          5.83333,
          5.83333,
          5.83333,
          5.83333,
          5.83333,
          5.83333,
          5.83333,
          5.83333,
          5.83333,
          5.83333,
          5.83333,
          5.83333,
          5.83333,
          5.83333,
          5.83333,
          5.83333,
          5.83333,
          5.83333,
          5.83333,
          5.83333,
          5.83333,
          5.83333,
          5.83333,
          5.83333,
          5.83333,
          5.83333,
          5.83333,
          5.83333,
          5.83333,
          5.83333,
          5.83333,
          5.83333,
          5.83333,
          5.83333
         ]
        }
       ],
       "layout": {
        "height": 500,
        "template": {
         "data": {
          "bar": [
           {
            "error_x": {
             "color": "#2a3f5f"
            },
            "error_y": {
             "color": "#2a3f5f"
            },
            "marker": {
             "line": {
              "color": "#E5ECF6",
              "width": 0.5
             },
             "pattern": {
              "fillmode": "overlay",
              "size": 10,
              "solidity": 0.2
             }
            },
            "type": "bar"
           }
          ],
          "barpolar": [
           {
            "marker": {
             "line": {
              "color": "#E5ECF6",
              "width": 0.5
             },
             "pattern": {
              "fillmode": "overlay",
              "size": 10,
              "solidity": 0.2
             }
            },
            "type": "barpolar"
           }
          ],
          "carpet": [
           {
            "aaxis": {
             "endlinecolor": "#2a3f5f",
             "gridcolor": "white",
             "linecolor": "white",
             "minorgridcolor": "white",
             "startlinecolor": "#2a3f5f"
            },
            "baxis": {
             "endlinecolor": "#2a3f5f",
             "gridcolor": "white",
             "linecolor": "white",
             "minorgridcolor": "white",
             "startlinecolor": "#2a3f5f"
            },
            "type": "carpet"
           }
          ],
          "choropleth": [
           {
            "colorbar": {
             "outlinewidth": 0,
             "ticks": ""
            },
            "type": "choropleth"
           }
          ],
          "contour": [
           {
            "colorbar": {
             "outlinewidth": 0,
             "ticks": ""
            },
            "colorscale": [
             [
              0,
              "#0d0887"
             ],
             [
              0.1111111111111111,
              "#46039f"
             ],
             [
              0.2222222222222222,
              "#7201a8"
             ],
             [
              0.3333333333333333,
              "#9c179e"
             ],
             [
              0.4444444444444444,
              "#bd3786"
             ],
             [
              0.5555555555555556,
              "#d8576b"
             ],
             [
              0.6666666666666666,
              "#ed7953"
             ],
             [
              0.7777777777777778,
              "#fb9f3a"
             ],
             [
              0.8888888888888888,
              "#fdca26"
             ],
             [
              1,
              "#f0f921"
             ]
            ],
            "type": "contour"
           }
          ],
          "contourcarpet": [
           {
            "colorbar": {
             "outlinewidth": 0,
             "ticks": ""
            },
            "type": "contourcarpet"
           }
          ],
          "heatmap": [
           {
            "colorbar": {
             "outlinewidth": 0,
             "ticks": ""
            },
            "colorscale": [
             [
              0,
              "#0d0887"
             ],
             [
              0.1111111111111111,
              "#46039f"
             ],
             [
              0.2222222222222222,
              "#7201a8"
             ],
             [
              0.3333333333333333,
              "#9c179e"
             ],
             [
              0.4444444444444444,
              "#bd3786"
             ],
             [
              0.5555555555555556,
              "#d8576b"
             ],
             [
              0.6666666666666666,
              "#ed7953"
             ],
             [
              0.7777777777777778,
              "#fb9f3a"
             ],
             [
              0.8888888888888888,
              "#fdca26"
             ],
             [
              1,
              "#f0f921"
             ]
            ],
            "type": "heatmap"
           }
          ],
          "histogram": [
           {
            "marker": {
             "pattern": {
              "fillmode": "overlay",
              "size": 10,
              "solidity": 0.2
             }
            },
            "type": "histogram"
           }
          ],
          "histogram2d": [
           {
            "colorbar": {
             "outlinewidth": 0,
             "ticks": ""
            },
            "colorscale": [
             [
              0,
              "#0d0887"
             ],
             [
              0.1111111111111111,
              "#46039f"
             ],
             [
              0.2222222222222222,
              "#7201a8"
             ],
             [
              0.3333333333333333,
              "#9c179e"
             ],
             [
              0.4444444444444444,
              "#bd3786"
             ],
             [
              0.5555555555555556,
              "#d8576b"
             ],
             [
              0.6666666666666666,
              "#ed7953"
             ],
             [
              0.7777777777777778,
              "#fb9f3a"
             ],
             [
              0.8888888888888888,
              "#fdca26"
             ],
             [
              1,
              "#f0f921"
             ]
            ],
            "type": "histogram2d"
           }
          ],
          "histogram2dcontour": [
           {
            "colorbar": {
             "outlinewidth": 0,
             "ticks": ""
            },
            "colorscale": [
             [
              0,
              "#0d0887"
             ],
             [
              0.1111111111111111,
              "#46039f"
             ],
             [
              0.2222222222222222,
              "#7201a8"
             ],
             [
              0.3333333333333333,
              "#9c179e"
             ],
             [
              0.4444444444444444,
              "#bd3786"
             ],
             [
              0.5555555555555556,
              "#d8576b"
             ],
             [
              0.6666666666666666,
              "#ed7953"
             ],
             [
              0.7777777777777778,
              "#fb9f3a"
             ],
             [
              0.8888888888888888,
              "#fdca26"
             ],
             [
              1,
              "#f0f921"
             ]
            ],
            "type": "histogram2dcontour"
           }
          ],
          "mesh3d": [
           {
            "colorbar": {
             "outlinewidth": 0,
             "ticks": ""
            },
            "type": "mesh3d"
           }
          ],
          "parcoords": [
           {
            "line": {
             "colorbar": {
              "outlinewidth": 0,
              "ticks": ""
             }
            },
            "type": "parcoords"
           }
          ],
          "pie": [
           {
            "automargin": true,
            "type": "pie"
           }
          ],
          "scatter": [
           {
            "fillpattern": {
             "fillmode": "overlay",
             "size": 10,
             "solidity": 0.2
            },
            "type": "scatter"
           }
          ],
          "scatter3d": [
           {
            "line": {
             "colorbar": {
              "outlinewidth": 0,
              "ticks": ""
             }
            },
            "marker": {
             "colorbar": {
              "outlinewidth": 0,
              "ticks": ""
             }
            },
            "type": "scatter3d"
           }
          ],
          "scattercarpet": [
           {
            "marker": {
             "colorbar": {
              "outlinewidth": 0,
              "ticks": ""
             }
            },
            "type": "scattercarpet"
           }
          ],
          "scattergeo": [
           {
            "marker": {
             "colorbar": {
              "outlinewidth": 0,
              "ticks": ""
             }
            },
            "type": "scattergeo"
           }
          ],
          "scattergl": [
           {
            "marker": {
             "colorbar": {
              "outlinewidth": 0,
              "ticks": ""
             }
            },
            "type": "scattergl"
           }
          ],
          "scattermap": [
           {
            "marker": {
             "colorbar": {
              "outlinewidth": 0,
              "ticks": ""
             }
            },
            "type": "scattermap"
           }
          ],
          "scattermapbox": [
           {
            "marker": {
             "colorbar": {
              "outlinewidth": 0,
              "ticks": ""
             }
            },
            "type": "scattermapbox"
           }
          ],
          "scatterpolar": [
           {
            "marker": {
             "colorbar": {
              "outlinewidth": 0,
              "ticks": ""
             }
            },
            "type": "scatterpolar"
           }
          ],
          "scatterpolargl": [
           {
            "marker": {
             "colorbar": {
              "outlinewidth": 0,
              "ticks": ""
             }
            },
            "type": "scatterpolargl"
           }
          ],
          "scatterternary": [
           {
            "marker": {
             "colorbar": {
              "outlinewidth": 0,
              "ticks": ""
             }
            },
            "type": "scatterternary"
           }
          ],
          "surface": [
           {
            "colorbar": {
             "outlinewidth": 0,
             "ticks": ""
            },
            "colorscale": [
             [
              0,
              "#0d0887"
             ],
             [
              0.1111111111111111,
              "#46039f"
             ],
             [
              0.2222222222222222,
              "#7201a8"
             ],
             [
              0.3333333333333333,
              "#9c179e"
             ],
             [
              0.4444444444444444,
              "#bd3786"
             ],
             [
              0.5555555555555556,
              "#d8576b"
             ],
             [
              0.6666666666666666,
              "#ed7953"
             ],
             [
              0.7777777777777778,
              "#fb9f3a"
             ],
             [
              0.8888888888888888,
              "#fdca26"
             ],
             [
              1,
              "#f0f921"
             ]
            ],
            "type": "surface"
           }
          ],
          "table": [
           {
            "cells": {
             "fill": {
              "color": "#EBF0F8"
             },
             "line": {
              "color": "white"
             }
            },
            "header": {
             "fill": {
              "color": "#C8D4E3"
             },
             "line": {
              "color": "white"
             }
            },
            "type": "table"
           }
          ]
         },
         "layout": {
          "annotationdefaults": {
           "arrowcolor": "#2a3f5f",
           "arrowhead": 0,
           "arrowwidth": 1
          },
          "autotypenumbers": "strict",
          "coloraxis": {
           "colorbar": {
            "outlinewidth": 0,
            "ticks": ""
           }
          },
          "colorscale": {
           "diverging": [
            [
             0,
             "#8e0152"
            ],
            [
             0.1,
             "#c51b7d"
            ],
            [
             0.2,
             "#de77ae"
            ],
            [
             0.3,
             "#f1b6da"
            ],
            [
             0.4,
             "#fde0ef"
            ],
            [
             0.5,
             "#f7f7f7"
            ],
            [
             0.6,
             "#e6f5d0"
            ],
            [
             0.7,
             "#b8e186"
            ],
            [
             0.8,
             "#7fbc41"
            ],
            [
             0.9,
             "#4d9221"
            ],
            [
             1,
             "#276419"
            ]
           ],
           "sequential": [
            [
             0,
             "#0d0887"
            ],
            [
             0.1111111111111111,
             "#46039f"
            ],
            [
             0.2222222222222222,
             "#7201a8"
            ],
            [
             0.3333333333333333,
             "#9c179e"
            ],
            [
             0.4444444444444444,
             "#bd3786"
            ],
            [
             0.5555555555555556,
             "#d8576b"
            ],
            [
             0.6666666666666666,
             "#ed7953"
            ],
            [
             0.7777777777777778,
             "#fb9f3a"
            ],
            [
             0.8888888888888888,
             "#fdca26"
            ],
            [
             1,
             "#f0f921"
            ]
           ],
           "sequentialminus": [
            [
             0,
             "#0d0887"
            ],
            [
             0.1111111111111111,
             "#46039f"
            ],
            [
             0.2222222222222222,
             "#7201a8"
            ],
            [
             0.3333333333333333,
             "#9c179e"
            ],
            [
             0.4444444444444444,
             "#bd3786"
            ],
            [
             0.5555555555555556,
             "#d8576b"
            ],
            [
             0.6666666666666666,
             "#ed7953"
            ],
            [
             0.7777777777777778,
             "#fb9f3a"
            ],
            [
             0.8888888888888888,
             "#fdca26"
            ],
            [
             1,
             "#f0f921"
            ]
           ]
          },
          "colorway": [
           "#636efa",
           "#EF553B",
           "#00cc96",
           "#ab63fa",
           "#FFA15A",
           "#19d3f3",
           "#FF6692",
           "#B6E880",
           "#FF97FF",
           "#FECB52"
          ],
          "font": {
           "color": "#2a3f5f"
          },
          "geo": {
           "bgcolor": "white",
           "lakecolor": "white",
           "landcolor": "#E5ECF6",
           "showlakes": true,
           "showland": true,
           "subunitcolor": "white"
          },
          "hoverlabel": {
           "align": "left"
          },
          "hovermode": "closest",
          "mapbox": {
           "style": "light"
          },
          "paper_bgcolor": "white",
          "plot_bgcolor": "#E5ECF6",
          "polar": {
           "angularaxis": {
            "gridcolor": "white",
            "linecolor": "white",
            "ticks": ""
           },
           "bgcolor": "#E5ECF6",
           "radialaxis": {
            "gridcolor": "white",
            "linecolor": "white",
            "ticks": ""
           }
          },
          "scene": {
           "xaxis": {
            "backgroundcolor": "#E5ECF6",
            "gridcolor": "white",
            "gridwidth": 2,
            "linecolor": "white",
            "showbackground": true,
            "ticks": "",
            "zerolinecolor": "white"
           },
           "yaxis": {
            "backgroundcolor": "#E5ECF6",
            "gridcolor": "white",
            "gridwidth": 2,
            "linecolor": "white",
            "showbackground": true,
            "ticks": "",
            "zerolinecolor": "white"
           },
           "zaxis": {
            "backgroundcolor": "#E5ECF6",
            "gridcolor": "white",
            "gridwidth": 2,
            "linecolor": "white",
            "showbackground": true,
            "ticks": "",
            "zerolinecolor": "white"
           }
          },
          "shapedefaults": {
           "line": {
            "color": "#2a3f5f"
           }
          },
          "ternary": {
           "aaxis": {
            "gridcolor": "white",
            "linecolor": "white",
            "ticks": ""
           },
           "baxis": {
            "gridcolor": "white",
            "linecolor": "white",
            "ticks": ""
           },
           "bgcolor": "#E5ECF6",
           "caxis": {
            "gridcolor": "white",
            "linecolor": "white",
            "ticks": ""
           }
          },
          "title": {
           "x": 0.05
          },
          "xaxis": {
           "automargin": true,
           "gridcolor": "white",
           "linecolor": "white",
           "ticks": "",
           "title": {
            "standoff": 15
           },
           "zerolinecolor": "white",
           "zerolinewidth": 2
          },
          "yaxis": {
           "automargin": true,
           "gridcolor": "white",
           "linecolor": "white",
           "ticks": "",
           "title": {
            "standoff": 15
           },
           "zerolinecolor": "white",
           "zerolinewidth": 2
          }
         }
        },
        "title": {
         "text": "Temps d'attente vs Capacité du tramway (Temps entre clients: 0.4 min)"
        },
        "width": 800,
        "xaxis": {
         "title": {
          "text": "Nombre de places dans un tramway"
         }
        },
        "yaxis": {
         "title": {
          "text": "Temps moyen d'attente"
         }
        }
       }
      }
     },
     "metadata": {},
     "output_type": "display_data"
    },
    {
     "data": {
      "application/vnd.plotly.v1+json": {
       "config": {
        "plotlyServerURL": "https://plot.ly"
       },
       "data": [
        {
         "mode": "lines+markers",
         "name": "0.5 min",
         "type": "scatter",
         "x": [
          90,
          92,
          94,
          96,
          98,
          100,
          102,
          104,
          106,
          108,
          110,
          112,
          114,
          116,
          118,
          120,
          122,
          124,
          126,
          128,
          130,
          132,
          134,
          136,
          138,
          140,
          142,
          144,
          146,
          148,
          150,
          152,
          154,
          156,
          158,
          160,
          162,
          164,
          166,
          168,
          170,
          172,
          174,
          176,
          178,
          180,
          182,
          184,
          186,
          188,
          190,
          192,
          194,
          196,
          198
         ],
         "y": [
          5.83366,
          5.83334,
          5.83333,
          5.83333,
          5.83333,
          5.83333,
          5.83333,
          5.83333,
          5.83333,
          5.83333,
          5.83333,
          5.83333,
          5.83333,
          5.83333,
          5.83333,
          5.83333,
          5.83333,
          5.83333,
          5.83333,
          5.83333,
          5.83333,
          5.83333,
          5.83333,
          5.83333,
          5.83333,
          5.83333,
          5.83333,
          5.83333,
          5.83333,
          5.83333,
          5.83333,
          5.83333,
          5.83333,
          5.83333,
          5.83333,
          5.83333,
          5.83333,
          5.83333,
          5.83333,
          5.83333,
          5.83333,
          5.83333,
          5.83333,
          5.83333,
          5.83333,
          5.83333,
          5.83333,
          5.83333,
          5.83333,
          5.83333,
          5.83333,
          5.83333,
          5.83333,
          5.83333,
          5.83333
         ]
        }
       ],
       "layout": {
        "height": 500,
        "template": {
         "data": {
          "bar": [
           {
            "error_x": {
             "color": "#2a3f5f"
            },
            "error_y": {
             "color": "#2a3f5f"
            },
            "marker": {
             "line": {
              "color": "#E5ECF6",
              "width": 0.5
             },
             "pattern": {
              "fillmode": "overlay",
              "size": 10,
              "solidity": 0.2
             }
            },
            "type": "bar"
           }
          ],
          "barpolar": [
           {
            "marker": {
             "line": {
              "color": "#E5ECF6",
              "width": 0.5
             },
             "pattern": {
              "fillmode": "overlay",
              "size": 10,
              "solidity": 0.2
             }
            },
            "type": "barpolar"
           }
          ],
          "carpet": [
           {
            "aaxis": {
             "endlinecolor": "#2a3f5f",
             "gridcolor": "white",
             "linecolor": "white",
             "minorgridcolor": "white",
             "startlinecolor": "#2a3f5f"
            },
            "baxis": {
             "endlinecolor": "#2a3f5f",
             "gridcolor": "white",
             "linecolor": "white",
             "minorgridcolor": "white",
             "startlinecolor": "#2a3f5f"
            },
            "type": "carpet"
           }
          ],
          "choropleth": [
           {
            "colorbar": {
             "outlinewidth": 0,
             "ticks": ""
            },
            "type": "choropleth"
           }
          ],
          "contour": [
           {
            "colorbar": {
             "outlinewidth": 0,
             "ticks": ""
            },
            "colorscale": [
             [
              0,
              "#0d0887"
             ],
             [
              0.1111111111111111,
              "#46039f"
             ],
             [
              0.2222222222222222,
              "#7201a8"
             ],
             [
              0.3333333333333333,
              "#9c179e"
             ],
             [
              0.4444444444444444,
              "#bd3786"
             ],
             [
              0.5555555555555556,
              "#d8576b"
             ],
             [
              0.6666666666666666,
              "#ed7953"
             ],
             [
              0.7777777777777778,
              "#fb9f3a"
             ],
             [
              0.8888888888888888,
              "#fdca26"
             ],
             [
              1,
              "#f0f921"
             ]
            ],
            "type": "contour"
           }
          ],
          "contourcarpet": [
           {
            "colorbar": {
             "outlinewidth": 0,
             "ticks": ""
            },
            "type": "contourcarpet"
           }
          ],
          "heatmap": [
           {
            "colorbar": {
             "outlinewidth": 0,
             "ticks": ""
            },
            "colorscale": [
             [
              0,
              "#0d0887"
             ],
             [
              0.1111111111111111,
              "#46039f"
             ],
             [
              0.2222222222222222,
              "#7201a8"
             ],
             [
              0.3333333333333333,
              "#9c179e"
             ],
             [
              0.4444444444444444,
              "#bd3786"
             ],
             [
              0.5555555555555556,
              "#d8576b"
             ],
             [
              0.6666666666666666,
              "#ed7953"
             ],
             [
              0.7777777777777778,
              "#fb9f3a"
             ],
             [
              0.8888888888888888,
              "#fdca26"
             ],
             [
              1,
              "#f0f921"
             ]
            ],
            "type": "heatmap"
           }
          ],
          "histogram": [
           {
            "marker": {
             "pattern": {
              "fillmode": "overlay",
              "size": 10,
              "solidity": 0.2
             }
            },
            "type": "histogram"
           }
          ],
          "histogram2d": [
           {
            "colorbar": {
             "outlinewidth": 0,
             "ticks": ""
            },
            "colorscale": [
             [
              0,
              "#0d0887"
             ],
             [
              0.1111111111111111,
              "#46039f"
             ],
             [
              0.2222222222222222,
              "#7201a8"
             ],
             [
              0.3333333333333333,
              "#9c179e"
             ],
             [
              0.4444444444444444,
              "#bd3786"
             ],
             [
              0.5555555555555556,
              "#d8576b"
             ],
             [
              0.6666666666666666,
              "#ed7953"
             ],
             [
              0.7777777777777778,
              "#fb9f3a"
             ],
             [
              0.8888888888888888,
              "#fdca26"
             ],
             [
              1,
              "#f0f921"
             ]
            ],
            "type": "histogram2d"
           }
          ],
          "histogram2dcontour": [
           {
            "colorbar": {
             "outlinewidth": 0,
             "ticks": ""
            },
            "colorscale": [
             [
              0,
              "#0d0887"
             ],
             [
              0.1111111111111111,
              "#46039f"
             ],
             [
              0.2222222222222222,
              "#7201a8"
             ],
             [
              0.3333333333333333,
              "#9c179e"
             ],
             [
              0.4444444444444444,
              "#bd3786"
             ],
             [
              0.5555555555555556,
              "#d8576b"
             ],
             [
              0.6666666666666666,
              "#ed7953"
             ],
             [
              0.7777777777777778,
              "#fb9f3a"
             ],
             [
              0.8888888888888888,
              "#fdca26"
             ],
             [
              1,
              "#f0f921"
             ]
            ],
            "type": "histogram2dcontour"
           }
          ],
          "mesh3d": [
           {
            "colorbar": {
             "outlinewidth": 0,
             "ticks": ""
            },
            "type": "mesh3d"
           }
          ],
          "parcoords": [
           {
            "line": {
             "colorbar": {
              "outlinewidth": 0,
              "ticks": ""
             }
            },
            "type": "parcoords"
           }
          ],
          "pie": [
           {
            "automargin": true,
            "type": "pie"
           }
          ],
          "scatter": [
           {
            "fillpattern": {
             "fillmode": "overlay",
             "size": 10,
             "solidity": 0.2
            },
            "type": "scatter"
           }
          ],
          "scatter3d": [
           {
            "line": {
             "colorbar": {
              "outlinewidth": 0,
              "ticks": ""
             }
            },
            "marker": {
             "colorbar": {
              "outlinewidth": 0,
              "ticks": ""
             }
            },
            "type": "scatter3d"
           }
          ],
          "scattercarpet": [
           {
            "marker": {
             "colorbar": {
              "outlinewidth": 0,
              "ticks": ""
             }
            },
            "type": "scattercarpet"
           }
          ],
          "scattergeo": [
           {
            "marker": {
             "colorbar": {
              "outlinewidth": 0,
              "ticks": ""
             }
            },
            "type": "scattergeo"
           }
          ],
          "scattergl": [
           {
            "marker": {
             "colorbar": {
              "outlinewidth": 0,
              "ticks": ""
             }
            },
            "type": "scattergl"
           }
          ],
          "scattermap": [
           {
            "marker": {
             "colorbar": {
              "outlinewidth": 0,
              "ticks": ""
             }
            },
            "type": "scattermap"
           }
          ],
          "scattermapbox": [
           {
            "marker": {
             "colorbar": {
              "outlinewidth": 0,
              "ticks": ""
             }
            },
            "type": "scattermapbox"
           }
          ],
          "scatterpolar": [
           {
            "marker": {
             "colorbar": {
              "outlinewidth": 0,
              "ticks": ""
             }
            },
            "type": "scatterpolar"
           }
          ],
          "scatterpolargl": [
           {
            "marker": {
             "colorbar": {
              "outlinewidth": 0,
              "ticks": ""
             }
            },
            "type": "scatterpolargl"
           }
          ],
          "scatterternary": [
           {
            "marker": {
             "colorbar": {
              "outlinewidth": 0,
              "ticks": ""
             }
            },
            "type": "scatterternary"
           }
          ],
          "surface": [
           {
            "colorbar": {
             "outlinewidth": 0,
             "ticks": ""
            },
            "colorscale": [
             [
              0,
              "#0d0887"
             ],
             [
              0.1111111111111111,
              "#46039f"
             ],
             [
              0.2222222222222222,
              "#7201a8"
             ],
             [
              0.3333333333333333,
              "#9c179e"
             ],
             [
              0.4444444444444444,
              "#bd3786"
             ],
             [
              0.5555555555555556,
              "#d8576b"
             ],
             [
              0.6666666666666666,
              "#ed7953"
             ],
             [
              0.7777777777777778,
              "#fb9f3a"
             ],
             [
              0.8888888888888888,
              "#fdca26"
             ],
             [
              1,
              "#f0f921"
             ]
            ],
            "type": "surface"
           }
          ],
          "table": [
           {
            "cells": {
             "fill": {
              "color": "#EBF0F8"
             },
             "line": {
              "color": "white"
             }
            },
            "header": {
             "fill": {
              "color": "#C8D4E3"
             },
             "line": {
              "color": "white"
             }
            },
            "type": "table"
           }
          ]
         },
         "layout": {
          "annotationdefaults": {
           "arrowcolor": "#2a3f5f",
           "arrowhead": 0,
           "arrowwidth": 1
          },
          "autotypenumbers": "strict",
          "coloraxis": {
           "colorbar": {
            "outlinewidth": 0,
            "ticks": ""
           }
          },
          "colorscale": {
           "diverging": [
            [
             0,
             "#8e0152"
            ],
            [
             0.1,
             "#c51b7d"
            ],
            [
             0.2,
             "#de77ae"
            ],
            [
             0.3,
             "#f1b6da"
            ],
            [
             0.4,
             "#fde0ef"
            ],
            [
             0.5,
             "#f7f7f7"
            ],
            [
             0.6,
             "#e6f5d0"
            ],
            [
             0.7,
             "#b8e186"
            ],
            [
             0.8,
             "#7fbc41"
            ],
            [
             0.9,
             "#4d9221"
            ],
            [
             1,
             "#276419"
            ]
           ],
           "sequential": [
            [
             0,
             "#0d0887"
            ],
            [
             0.1111111111111111,
             "#46039f"
            ],
            [
             0.2222222222222222,
             "#7201a8"
            ],
            [
             0.3333333333333333,
             "#9c179e"
            ],
            [
             0.4444444444444444,
             "#bd3786"
            ],
            [
             0.5555555555555556,
             "#d8576b"
            ],
            [
             0.6666666666666666,
             "#ed7953"
            ],
            [
             0.7777777777777778,
             "#fb9f3a"
            ],
            [
             0.8888888888888888,
             "#fdca26"
            ],
            [
             1,
             "#f0f921"
            ]
           ],
           "sequentialminus": [
            [
             0,
             "#0d0887"
            ],
            [
             0.1111111111111111,
             "#46039f"
            ],
            [
             0.2222222222222222,
             "#7201a8"
            ],
            [
             0.3333333333333333,
             "#9c179e"
            ],
            [
             0.4444444444444444,
             "#bd3786"
            ],
            [
             0.5555555555555556,
             "#d8576b"
            ],
            [
             0.6666666666666666,
             "#ed7953"
            ],
            [
             0.7777777777777778,
             "#fb9f3a"
            ],
            [
             0.8888888888888888,
             "#fdca26"
            ],
            [
             1,
             "#f0f921"
            ]
           ]
          },
          "colorway": [
           "#636efa",
           "#EF553B",
           "#00cc96",
           "#ab63fa",
           "#FFA15A",
           "#19d3f3",
           "#FF6692",
           "#B6E880",
           "#FF97FF",
           "#FECB52"
          ],
          "font": {
           "color": "#2a3f5f"
          },
          "geo": {
           "bgcolor": "white",
           "lakecolor": "white",
           "landcolor": "#E5ECF6",
           "showlakes": true,
           "showland": true,
           "subunitcolor": "white"
          },
          "hoverlabel": {
           "align": "left"
          },
          "hovermode": "closest",
          "mapbox": {
           "style": "light"
          },
          "paper_bgcolor": "white",
          "plot_bgcolor": "#E5ECF6",
          "polar": {
           "angularaxis": {
            "gridcolor": "white",
            "linecolor": "white",
            "ticks": ""
           },
           "bgcolor": "#E5ECF6",
           "radialaxis": {
            "gridcolor": "white",
            "linecolor": "white",
            "ticks": ""
           }
          },
          "scene": {
           "xaxis": {
            "backgroundcolor": "#E5ECF6",
            "gridcolor": "white",
            "gridwidth": 2,
            "linecolor": "white",
            "showbackground": true,
            "ticks": "",
            "zerolinecolor": "white"
           },
           "yaxis": {
            "backgroundcolor": "#E5ECF6",
            "gridcolor": "white",
            "gridwidth": 2,
            "linecolor": "white",
            "showbackground": true,
            "ticks": "",
            "zerolinecolor": "white"
           },
           "zaxis": {
            "backgroundcolor": "#E5ECF6",
            "gridcolor": "white",
            "gridwidth": 2,
            "linecolor": "white",
            "showbackground": true,
            "ticks": "",
            "zerolinecolor": "white"
           }
          },
          "shapedefaults": {
           "line": {
            "color": "#2a3f5f"
           }
          },
          "ternary": {
           "aaxis": {
            "gridcolor": "white",
            "linecolor": "white",
            "ticks": ""
           },
           "baxis": {
            "gridcolor": "white",
            "linecolor": "white",
            "ticks": ""
           },
           "bgcolor": "#E5ECF6",
           "caxis": {
            "gridcolor": "white",
            "linecolor": "white",
            "ticks": ""
           }
          },
          "title": {
           "x": 0.05
          },
          "xaxis": {
           "automargin": true,
           "gridcolor": "white",
           "linecolor": "white",
           "ticks": "",
           "title": {
            "standoff": 15
           },
           "zerolinecolor": "white",
           "zerolinewidth": 2
          },
          "yaxis": {
           "automargin": true,
           "gridcolor": "white",
           "linecolor": "white",
           "ticks": "",
           "title": {
            "standoff": 15
           },
           "zerolinecolor": "white",
           "zerolinewidth": 2
          }
         }
        },
        "title": {
         "text": "Temps d'attente vs Capacité du tramway (Temps entre clients: 0.5 min)"
        },
        "width": 800,
        "xaxis": {
         "title": {
          "text": "Nombre de places dans un tramway"
         }
        },
        "yaxis": {
         "title": {
          "text": "Temps moyen d'attente"
         }
        }
       }
      }
     },
     "metadata": {},
     "output_type": "display_data"
    },
    {
     "data": {
      "application/vnd.plotly.v1+json": {
       "config": {
        "plotlyServerURL": "https://plot.ly"
       },
       "data": [
        {
         "mode": "lines+markers",
         "name": "0.7000000000000001 min",
         "type": "scatter",
         "x": [
          90,
          92,
          94,
          96,
          98,
          100,
          102,
          104,
          106,
          108,
          110,
          112,
          114,
          116,
          118,
          120,
          122,
          124,
          126,
          128,
          130,
          132,
          134,
          136,
          138,
          140,
          142,
          144,
          146,
          148,
          150,
          152,
          154,
          156,
          158,
          160,
          162,
          164,
          166,
          168,
          170,
          172,
          174,
          176,
          178,
          180,
          182,
          184,
          186,
          188,
          190,
          192,
          194,
          196,
          198
         ],
         "y": [
          5.83333,
          5.83333,
          5.83333,
          5.83333,
          5.83333,
          5.83333,
          5.83333,
          5.83333,
          5.83333,
          5.83333,
          5.83333,
          5.83333,
          5.83333,
          5.83333,
          5.83333,
          5.83333,
          5.83333,
          5.83333,
          5.83333,
          5.83333,
          5.83333,
          5.83333,
          5.83333,
          5.83333,
          5.83333,
          5.83333,
          5.83333,
          5.83333,
          5.83333,
          5.83333,
          5.83333,
          5.83333,
          5.83333,
          5.83333,
          5.83333,
          5.83333,
          5.83333,
          5.83333,
          5.83333,
          5.83333,
          5.83333,
          5.83333,
          5.83333,
          5.83333,
          5.83333,
          5.83333,
          5.83333,
          5.83333,
          5.83333,
          5.83333,
          5.83333,
          5.83333,
          5.83333,
          5.83333,
          5.83333
         ]
        }
       ],
       "layout": {
        "height": 500,
        "template": {
         "data": {
          "bar": [
           {
            "error_x": {
             "color": "#2a3f5f"
            },
            "error_y": {
             "color": "#2a3f5f"
            },
            "marker": {
             "line": {
              "color": "#E5ECF6",
              "width": 0.5
             },
             "pattern": {
              "fillmode": "overlay",
              "size": 10,
              "solidity": 0.2
             }
            },
            "type": "bar"
           }
          ],
          "barpolar": [
           {
            "marker": {
             "line": {
              "color": "#E5ECF6",
              "width": 0.5
             },
             "pattern": {
              "fillmode": "overlay",
              "size": 10,
              "solidity": 0.2
             }
            },
            "type": "barpolar"
           }
          ],
          "carpet": [
           {
            "aaxis": {
             "endlinecolor": "#2a3f5f",
             "gridcolor": "white",
             "linecolor": "white",
             "minorgridcolor": "white",
             "startlinecolor": "#2a3f5f"
            },
            "baxis": {
             "endlinecolor": "#2a3f5f",
             "gridcolor": "white",
             "linecolor": "white",
             "minorgridcolor": "white",
             "startlinecolor": "#2a3f5f"
            },
            "type": "carpet"
           }
          ],
          "choropleth": [
           {
            "colorbar": {
             "outlinewidth": 0,
             "ticks": ""
            },
            "type": "choropleth"
           }
          ],
          "contour": [
           {
            "colorbar": {
             "outlinewidth": 0,
             "ticks": ""
            },
            "colorscale": [
             [
              0,
              "#0d0887"
             ],
             [
              0.1111111111111111,
              "#46039f"
             ],
             [
              0.2222222222222222,
              "#7201a8"
             ],
             [
              0.3333333333333333,
              "#9c179e"
             ],
             [
              0.4444444444444444,
              "#bd3786"
             ],
             [
              0.5555555555555556,
              "#d8576b"
             ],
             [
              0.6666666666666666,
              "#ed7953"
             ],
             [
              0.7777777777777778,
              "#fb9f3a"
             ],
             [
              0.8888888888888888,
              "#fdca26"
             ],
             [
              1,
              "#f0f921"
             ]
            ],
            "type": "contour"
           }
          ],
          "contourcarpet": [
           {
            "colorbar": {
             "outlinewidth": 0,
             "ticks": ""
            },
            "type": "contourcarpet"
           }
          ],
          "heatmap": [
           {
            "colorbar": {
             "outlinewidth": 0,
             "ticks": ""
            },
            "colorscale": [
             [
              0,
              "#0d0887"
             ],
             [
              0.1111111111111111,
              "#46039f"
             ],
             [
              0.2222222222222222,
              "#7201a8"
             ],
             [
              0.3333333333333333,
              "#9c179e"
             ],
             [
              0.4444444444444444,
              "#bd3786"
             ],
             [
              0.5555555555555556,
              "#d8576b"
             ],
             [
              0.6666666666666666,
              "#ed7953"
             ],
             [
              0.7777777777777778,
              "#fb9f3a"
             ],
             [
              0.8888888888888888,
              "#fdca26"
             ],
             [
              1,
              "#f0f921"
             ]
            ],
            "type": "heatmap"
           }
          ],
          "histogram": [
           {
            "marker": {
             "pattern": {
              "fillmode": "overlay",
              "size": 10,
              "solidity": 0.2
             }
            },
            "type": "histogram"
           }
          ],
          "histogram2d": [
           {
            "colorbar": {
             "outlinewidth": 0,
             "ticks": ""
            },
            "colorscale": [
             [
              0,
              "#0d0887"
             ],
             [
              0.1111111111111111,
              "#46039f"
             ],
             [
              0.2222222222222222,
              "#7201a8"
             ],
             [
              0.3333333333333333,
              "#9c179e"
             ],
             [
              0.4444444444444444,
              "#bd3786"
             ],
             [
              0.5555555555555556,
              "#d8576b"
             ],
             [
              0.6666666666666666,
              "#ed7953"
             ],
             [
              0.7777777777777778,
              "#fb9f3a"
             ],
             [
              0.8888888888888888,
              "#fdca26"
             ],
             [
              1,
              "#f0f921"
             ]
            ],
            "type": "histogram2d"
           }
          ],
          "histogram2dcontour": [
           {
            "colorbar": {
             "outlinewidth": 0,
             "ticks": ""
            },
            "colorscale": [
             [
              0,
              "#0d0887"
             ],
             [
              0.1111111111111111,
              "#46039f"
             ],
             [
              0.2222222222222222,
              "#7201a8"
             ],
             [
              0.3333333333333333,
              "#9c179e"
             ],
             [
              0.4444444444444444,
              "#bd3786"
             ],
             [
              0.5555555555555556,
              "#d8576b"
             ],
             [
              0.6666666666666666,
              "#ed7953"
             ],
             [
              0.7777777777777778,
              "#fb9f3a"
             ],
             [
              0.8888888888888888,
              "#fdca26"
             ],
             [
              1,
              "#f0f921"
             ]
            ],
            "type": "histogram2dcontour"
           }
          ],
          "mesh3d": [
           {
            "colorbar": {
             "outlinewidth": 0,
             "ticks": ""
            },
            "type": "mesh3d"
           }
          ],
          "parcoords": [
           {
            "line": {
             "colorbar": {
              "outlinewidth": 0,
              "ticks": ""
             }
            },
            "type": "parcoords"
           }
          ],
          "pie": [
           {
            "automargin": true,
            "type": "pie"
           }
          ],
          "scatter": [
           {
            "fillpattern": {
             "fillmode": "overlay",
             "size": 10,
             "solidity": 0.2
            },
            "type": "scatter"
           }
          ],
          "scatter3d": [
           {
            "line": {
             "colorbar": {
              "outlinewidth": 0,
              "ticks": ""
             }
            },
            "marker": {
             "colorbar": {
              "outlinewidth": 0,
              "ticks": ""
             }
            },
            "type": "scatter3d"
           }
          ],
          "scattercarpet": [
           {
            "marker": {
             "colorbar": {
              "outlinewidth": 0,
              "ticks": ""
             }
            },
            "type": "scattercarpet"
           }
          ],
          "scattergeo": [
           {
            "marker": {
             "colorbar": {
              "outlinewidth": 0,
              "ticks": ""
             }
            },
            "type": "scattergeo"
           }
          ],
          "scattergl": [
           {
            "marker": {
             "colorbar": {
              "outlinewidth": 0,
              "ticks": ""
             }
            },
            "type": "scattergl"
           }
          ],
          "scattermap": [
           {
            "marker": {
             "colorbar": {
              "outlinewidth": 0,
              "ticks": ""
             }
            },
            "type": "scattermap"
           }
          ],
          "scattermapbox": [
           {
            "marker": {
             "colorbar": {
              "outlinewidth": 0,
              "ticks": ""
             }
            },
            "type": "scattermapbox"
           }
          ],
          "scatterpolar": [
           {
            "marker": {
             "colorbar": {
              "outlinewidth": 0,
              "ticks": ""
             }
            },
            "type": "scatterpolar"
           }
          ],
          "scatterpolargl": [
           {
            "marker": {
             "colorbar": {
              "outlinewidth": 0,
              "ticks": ""
             }
            },
            "type": "scatterpolargl"
           }
          ],
          "scatterternary": [
           {
            "marker": {
             "colorbar": {
              "outlinewidth": 0,
              "ticks": ""
             }
            },
            "type": "scatterternary"
           }
          ],
          "surface": [
           {
            "colorbar": {
             "outlinewidth": 0,
             "ticks": ""
            },
            "colorscale": [
             [
              0,
              "#0d0887"
             ],
             [
              0.1111111111111111,
              "#46039f"
             ],
             [
              0.2222222222222222,
              "#7201a8"
             ],
             [
              0.3333333333333333,
              "#9c179e"
             ],
             [
              0.4444444444444444,
              "#bd3786"
             ],
             [
              0.5555555555555556,
              "#d8576b"
             ],
             [
              0.6666666666666666,
              "#ed7953"
             ],
             [
              0.7777777777777778,
              "#fb9f3a"
             ],
             [
              0.8888888888888888,
              "#fdca26"
             ],
             [
              1,
              "#f0f921"
             ]
            ],
            "type": "surface"
           }
          ],
          "table": [
           {
            "cells": {
             "fill": {
              "color": "#EBF0F8"
             },
             "line": {
              "color": "white"
             }
            },
            "header": {
             "fill": {
              "color": "#C8D4E3"
             },
             "line": {
              "color": "white"
             }
            },
            "type": "table"
           }
          ]
         },
         "layout": {
          "annotationdefaults": {
           "arrowcolor": "#2a3f5f",
           "arrowhead": 0,
           "arrowwidth": 1
          },
          "autotypenumbers": "strict",
          "coloraxis": {
           "colorbar": {
            "outlinewidth": 0,
            "ticks": ""
           }
          },
          "colorscale": {
           "diverging": [
            [
             0,
             "#8e0152"
            ],
            [
             0.1,
             "#c51b7d"
            ],
            [
             0.2,
             "#de77ae"
            ],
            [
             0.3,
             "#f1b6da"
            ],
            [
             0.4,
             "#fde0ef"
            ],
            [
             0.5,
             "#f7f7f7"
            ],
            [
             0.6,
             "#e6f5d0"
            ],
            [
             0.7,
             "#b8e186"
            ],
            [
             0.8,
             "#7fbc41"
            ],
            [
             0.9,
             "#4d9221"
            ],
            [
             1,
             "#276419"
            ]
           ],
           "sequential": [
            [
             0,
             "#0d0887"
            ],
            [
             0.1111111111111111,
             "#46039f"
            ],
            [
             0.2222222222222222,
             "#7201a8"
            ],
            [
             0.3333333333333333,
             "#9c179e"
            ],
            [
             0.4444444444444444,
             "#bd3786"
            ],
            [
             0.5555555555555556,
             "#d8576b"
            ],
            [
             0.6666666666666666,
             "#ed7953"
            ],
            [
             0.7777777777777778,
             "#fb9f3a"
            ],
            [
             0.8888888888888888,
             "#fdca26"
            ],
            [
             1,
             "#f0f921"
            ]
           ],
           "sequentialminus": [
            [
             0,
             "#0d0887"
            ],
            [
             0.1111111111111111,
             "#46039f"
            ],
            [
             0.2222222222222222,
             "#7201a8"
            ],
            [
             0.3333333333333333,
             "#9c179e"
            ],
            [
             0.4444444444444444,
             "#bd3786"
            ],
            [
             0.5555555555555556,
             "#d8576b"
            ],
            [
             0.6666666666666666,
             "#ed7953"
            ],
            [
             0.7777777777777778,
             "#fb9f3a"
            ],
            [
             0.8888888888888888,
             "#fdca26"
            ],
            [
             1,
             "#f0f921"
            ]
           ]
          },
          "colorway": [
           "#636efa",
           "#EF553B",
           "#00cc96",
           "#ab63fa",
           "#FFA15A",
           "#19d3f3",
           "#FF6692",
           "#B6E880",
           "#FF97FF",
           "#FECB52"
          ],
          "font": {
           "color": "#2a3f5f"
          },
          "geo": {
           "bgcolor": "white",
           "lakecolor": "white",
           "landcolor": "#E5ECF6",
           "showlakes": true,
           "showland": true,
           "subunitcolor": "white"
          },
          "hoverlabel": {
           "align": "left"
          },
          "hovermode": "closest",
          "mapbox": {
           "style": "light"
          },
          "paper_bgcolor": "white",
          "plot_bgcolor": "#E5ECF6",
          "polar": {
           "angularaxis": {
            "gridcolor": "white",
            "linecolor": "white",
            "ticks": ""
           },
           "bgcolor": "#E5ECF6",
           "radialaxis": {
            "gridcolor": "white",
            "linecolor": "white",
            "ticks": ""
           }
          },
          "scene": {
           "xaxis": {
            "backgroundcolor": "#E5ECF6",
            "gridcolor": "white",
            "gridwidth": 2,
            "linecolor": "white",
            "showbackground": true,
            "ticks": "",
            "zerolinecolor": "white"
           },
           "yaxis": {
            "backgroundcolor": "#E5ECF6",
            "gridcolor": "white",
            "gridwidth": 2,
            "linecolor": "white",
            "showbackground": true,
            "ticks": "",
            "zerolinecolor": "white"
           },
           "zaxis": {
            "backgroundcolor": "#E5ECF6",
            "gridcolor": "white",
            "gridwidth": 2,
            "linecolor": "white",
            "showbackground": true,
            "ticks": "",
            "zerolinecolor": "white"
           }
          },
          "shapedefaults": {
           "line": {
            "color": "#2a3f5f"
           }
          },
          "ternary": {
           "aaxis": {
            "gridcolor": "white",
            "linecolor": "white",
            "ticks": ""
           },
           "baxis": {
            "gridcolor": "white",
            "linecolor": "white",
            "ticks": ""
           },
           "bgcolor": "#E5ECF6",
           "caxis": {
            "gridcolor": "white",
            "linecolor": "white",
            "ticks": ""
           }
          },
          "title": {
           "x": 0.05
          },
          "xaxis": {
           "automargin": true,
           "gridcolor": "white",
           "linecolor": "white",
           "ticks": "",
           "title": {
            "standoff": 15
           },
           "zerolinecolor": "white",
           "zerolinewidth": 2
          },
          "yaxis": {
           "automargin": true,
           "gridcolor": "white",
           "linecolor": "white",
           "ticks": "",
           "title": {
            "standoff": 15
           },
           "zerolinecolor": "white",
           "zerolinewidth": 2
          }
         }
        },
        "title": {
         "text": "Temps d'attente vs Capacité du tramway (Temps entre clients: 0.7000000000000001 min)"
        },
        "width": 800,
        "xaxis": {
         "title": {
          "text": "Nombre de places dans un tramway"
         }
        },
        "yaxis": {
         "title": {
          "text": "Temps moyen d'attente"
         }
        }
       }
      }
     },
     "metadata": {},
     "output_type": "display_data"
    },
    {
     "data": {
      "application/vnd.plotly.v1+json": {
       "config": {
        "plotlyServerURL": "https://plot.ly"
       },
       "data": [
        {
         "mode": "lines+markers",
         "name": "0.8 min",
         "type": "scatter",
         "x": [
          90,
          92,
          94,
          96,
          98,
          100,
          102,
          104,
          106,
          108,
          110,
          112,
          114,
          116,
          118,
          120,
          122,
          124,
          126,
          128,
          130,
          132,
          134,
          136,
          138,
          140,
          142,
          144,
          146,
          148,
          150,
          152,
          154,
          156,
          158,
          160,
          162,
          164,
          166,
          168,
          170,
          172,
          174,
          176,
          178,
          180,
          182,
          184,
          186,
          188,
          190,
          192,
          194,
          196,
          198
         ],
         "y": [
          5.83333,
          5.83333,
          5.83333,
          5.83333,
          5.83333,
          5.83333,
          5.83333,
          5.83333,
          5.83333,
          5.83333,
          5.83333,
          5.83333,
          5.83333,
          5.83333,
          5.83333,
          5.83333,
          5.83333,
          5.83333,
          5.83333,
          5.83333,
          5.83333,
          5.83333,
          5.83333,
          5.83333,
          5.83333,
          5.83333,
          5.83333,
          5.83333,
          5.83333,
          5.83333,
          5.83333,
          5.83333,
          5.83333,
          5.83333,
          5.83333,
          5.83333,
          5.83333,
          5.83333,
          5.83333,
          5.83333,
          5.83333,
          5.83333,
          5.83333,
          5.83333,
          5.83333,
          5.83333,
          5.83333,
          5.83333,
          5.83333,
          5.83333,
          5.83333,
          5.83333,
          5.83333,
          5.83333,
          5.83333
         ]
        }
       ],
       "layout": {
        "height": 500,
        "template": {
         "data": {
          "bar": [
           {
            "error_x": {
             "color": "#2a3f5f"
            },
            "error_y": {
             "color": "#2a3f5f"
            },
            "marker": {
             "line": {
              "color": "#E5ECF6",
              "width": 0.5
             },
             "pattern": {
              "fillmode": "overlay",
              "size": 10,
              "solidity": 0.2
             }
            },
            "type": "bar"
           }
          ],
          "barpolar": [
           {
            "marker": {
             "line": {
              "color": "#E5ECF6",
              "width": 0.5
             },
             "pattern": {
              "fillmode": "overlay",
              "size": 10,
              "solidity": 0.2
             }
            },
            "type": "barpolar"
           }
          ],
          "carpet": [
           {
            "aaxis": {
             "endlinecolor": "#2a3f5f",
             "gridcolor": "white",
             "linecolor": "white",
             "minorgridcolor": "white",
             "startlinecolor": "#2a3f5f"
            },
            "baxis": {
             "endlinecolor": "#2a3f5f",
             "gridcolor": "white",
             "linecolor": "white",
             "minorgridcolor": "white",
             "startlinecolor": "#2a3f5f"
            },
            "type": "carpet"
           }
          ],
          "choropleth": [
           {
            "colorbar": {
             "outlinewidth": 0,
             "ticks": ""
            },
            "type": "choropleth"
           }
          ],
          "contour": [
           {
            "colorbar": {
             "outlinewidth": 0,
             "ticks": ""
            },
            "colorscale": [
             [
              0,
              "#0d0887"
             ],
             [
              0.1111111111111111,
              "#46039f"
             ],
             [
              0.2222222222222222,
              "#7201a8"
             ],
             [
              0.3333333333333333,
              "#9c179e"
             ],
             [
              0.4444444444444444,
              "#bd3786"
             ],
             [
              0.5555555555555556,
              "#d8576b"
             ],
             [
              0.6666666666666666,
              "#ed7953"
             ],
             [
              0.7777777777777778,
              "#fb9f3a"
             ],
             [
              0.8888888888888888,
              "#fdca26"
             ],
             [
              1,
              "#f0f921"
             ]
            ],
            "type": "contour"
           }
          ],
          "contourcarpet": [
           {
            "colorbar": {
             "outlinewidth": 0,
             "ticks": ""
            },
            "type": "contourcarpet"
           }
          ],
          "heatmap": [
           {
            "colorbar": {
             "outlinewidth": 0,
             "ticks": ""
            },
            "colorscale": [
             [
              0,
              "#0d0887"
             ],
             [
              0.1111111111111111,
              "#46039f"
             ],
             [
              0.2222222222222222,
              "#7201a8"
             ],
             [
              0.3333333333333333,
              "#9c179e"
             ],
             [
              0.4444444444444444,
              "#bd3786"
             ],
             [
              0.5555555555555556,
              "#d8576b"
             ],
             [
              0.6666666666666666,
              "#ed7953"
             ],
             [
              0.7777777777777778,
              "#fb9f3a"
             ],
             [
              0.8888888888888888,
              "#fdca26"
             ],
             [
              1,
              "#f0f921"
             ]
            ],
            "type": "heatmap"
           }
          ],
          "histogram": [
           {
            "marker": {
             "pattern": {
              "fillmode": "overlay",
              "size": 10,
              "solidity": 0.2
             }
            },
            "type": "histogram"
           }
          ],
          "histogram2d": [
           {
            "colorbar": {
             "outlinewidth": 0,
             "ticks": ""
            },
            "colorscale": [
             [
              0,
              "#0d0887"
             ],
             [
              0.1111111111111111,
              "#46039f"
             ],
             [
              0.2222222222222222,
              "#7201a8"
             ],
             [
              0.3333333333333333,
              "#9c179e"
             ],
             [
              0.4444444444444444,
              "#bd3786"
             ],
             [
              0.5555555555555556,
              "#d8576b"
             ],
             [
              0.6666666666666666,
              "#ed7953"
             ],
             [
              0.7777777777777778,
              "#fb9f3a"
             ],
             [
              0.8888888888888888,
              "#fdca26"
             ],
             [
              1,
              "#f0f921"
             ]
            ],
            "type": "histogram2d"
           }
          ],
          "histogram2dcontour": [
           {
            "colorbar": {
             "outlinewidth": 0,
             "ticks": ""
            },
            "colorscale": [
             [
              0,
              "#0d0887"
             ],
             [
              0.1111111111111111,
              "#46039f"
             ],
             [
              0.2222222222222222,
              "#7201a8"
             ],
             [
              0.3333333333333333,
              "#9c179e"
             ],
             [
              0.4444444444444444,
              "#bd3786"
             ],
             [
              0.5555555555555556,
              "#d8576b"
             ],
             [
              0.6666666666666666,
              "#ed7953"
             ],
             [
              0.7777777777777778,
              "#fb9f3a"
             ],
             [
              0.8888888888888888,
              "#fdca26"
             ],
             [
              1,
              "#f0f921"
             ]
            ],
            "type": "histogram2dcontour"
           }
          ],
          "mesh3d": [
           {
            "colorbar": {
             "outlinewidth": 0,
             "ticks": ""
            },
            "type": "mesh3d"
           }
          ],
          "parcoords": [
           {
            "line": {
             "colorbar": {
              "outlinewidth": 0,
              "ticks": ""
             }
            },
            "type": "parcoords"
           }
          ],
          "pie": [
           {
            "automargin": true,
            "type": "pie"
           }
          ],
          "scatter": [
           {
            "fillpattern": {
             "fillmode": "overlay",
             "size": 10,
             "solidity": 0.2
            },
            "type": "scatter"
           }
          ],
          "scatter3d": [
           {
            "line": {
             "colorbar": {
              "outlinewidth": 0,
              "ticks": ""
             }
            },
            "marker": {
             "colorbar": {
              "outlinewidth": 0,
              "ticks": ""
             }
            },
            "type": "scatter3d"
           }
          ],
          "scattercarpet": [
           {
            "marker": {
             "colorbar": {
              "outlinewidth": 0,
              "ticks": ""
             }
            },
            "type": "scattercarpet"
           }
          ],
          "scattergeo": [
           {
            "marker": {
             "colorbar": {
              "outlinewidth": 0,
              "ticks": ""
             }
            },
            "type": "scattergeo"
           }
          ],
          "scattergl": [
           {
            "marker": {
             "colorbar": {
              "outlinewidth": 0,
              "ticks": ""
             }
            },
            "type": "scattergl"
           }
          ],
          "scattermap": [
           {
            "marker": {
             "colorbar": {
              "outlinewidth": 0,
              "ticks": ""
             }
            },
            "type": "scattermap"
           }
          ],
          "scattermapbox": [
           {
            "marker": {
             "colorbar": {
              "outlinewidth": 0,
              "ticks": ""
             }
            },
            "type": "scattermapbox"
           }
          ],
          "scatterpolar": [
           {
            "marker": {
             "colorbar": {
              "outlinewidth": 0,
              "ticks": ""
             }
            },
            "type": "scatterpolar"
           }
          ],
          "scatterpolargl": [
           {
            "marker": {
             "colorbar": {
              "outlinewidth": 0,
              "ticks": ""
             }
            },
            "type": "scatterpolargl"
           }
          ],
          "scatterternary": [
           {
            "marker": {
             "colorbar": {
              "outlinewidth": 0,
              "ticks": ""
             }
            },
            "type": "scatterternary"
           }
          ],
          "surface": [
           {
            "colorbar": {
             "outlinewidth": 0,
             "ticks": ""
            },
            "colorscale": [
             [
              0,
              "#0d0887"
             ],
             [
              0.1111111111111111,
              "#46039f"
             ],
             [
              0.2222222222222222,
              "#7201a8"
             ],
             [
              0.3333333333333333,
              "#9c179e"
             ],
             [
              0.4444444444444444,
              "#bd3786"
             ],
             [
              0.5555555555555556,
              "#d8576b"
             ],
             [
              0.6666666666666666,
              "#ed7953"
             ],
             [
              0.7777777777777778,
              "#fb9f3a"
             ],
             [
              0.8888888888888888,
              "#fdca26"
             ],
             [
              1,
              "#f0f921"
             ]
            ],
            "type": "surface"
           }
          ],
          "table": [
           {
            "cells": {
             "fill": {
              "color": "#EBF0F8"
             },
             "line": {
              "color": "white"
             }
            },
            "header": {
             "fill": {
              "color": "#C8D4E3"
             },
             "line": {
              "color": "white"
             }
            },
            "type": "table"
           }
          ]
         },
         "layout": {
          "annotationdefaults": {
           "arrowcolor": "#2a3f5f",
           "arrowhead": 0,
           "arrowwidth": 1
          },
          "autotypenumbers": "strict",
          "coloraxis": {
           "colorbar": {
            "outlinewidth": 0,
            "ticks": ""
           }
          },
          "colorscale": {
           "diverging": [
            [
             0,
             "#8e0152"
            ],
            [
             0.1,
             "#c51b7d"
            ],
            [
             0.2,
             "#de77ae"
            ],
            [
             0.3,
             "#f1b6da"
            ],
            [
             0.4,
             "#fde0ef"
            ],
            [
             0.5,
             "#f7f7f7"
            ],
            [
             0.6,
             "#e6f5d0"
            ],
            [
             0.7,
             "#b8e186"
            ],
            [
             0.8,
             "#7fbc41"
            ],
            [
             0.9,
             "#4d9221"
            ],
            [
             1,
             "#276419"
            ]
           ],
           "sequential": [
            [
             0,
             "#0d0887"
            ],
            [
             0.1111111111111111,
             "#46039f"
            ],
            [
             0.2222222222222222,
             "#7201a8"
            ],
            [
             0.3333333333333333,
             "#9c179e"
            ],
            [
             0.4444444444444444,
             "#bd3786"
            ],
            [
             0.5555555555555556,
             "#d8576b"
            ],
            [
             0.6666666666666666,
             "#ed7953"
            ],
            [
             0.7777777777777778,
             "#fb9f3a"
            ],
            [
             0.8888888888888888,
             "#fdca26"
            ],
            [
             1,
             "#f0f921"
            ]
           ],
           "sequentialminus": [
            [
             0,
             "#0d0887"
            ],
            [
             0.1111111111111111,
             "#46039f"
            ],
            [
             0.2222222222222222,
             "#7201a8"
            ],
            [
             0.3333333333333333,
             "#9c179e"
            ],
            [
             0.4444444444444444,
             "#bd3786"
            ],
            [
             0.5555555555555556,
             "#d8576b"
            ],
            [
             0.6666666666666666,
             "#ed7953"
            ],
            [
             0.7777777777777778,
             "#fb9f3a"
            ],
            [
             0.8888888888888888,
             "#fdca26"
            ],
            [
             1,
             "#f0f921"
            ]
           ]
          },
          "colorway": [
           "#636efa",
           "#EF553B",
           "#00cc96",
           "#ab63fa",
           "#FFA15A",
           "#19d3f3",
           "#FF6692",
           "#B6E880",
           "#FF97FF",
           "#FECB52"
          ],
          "font": {
           "color": "#2a3f5f"
          },
          "geo": {
           "bgcolor": "white",
           "lakecolor": "white",
           "landcolor": "#E5ECF6",
           "showlakes": true,
           "showland": true,
           "subunitcolor": "white"
          },
          "hoverlabel": {
           "align": "left"
          },
          "hovermode": "closest",
          "mapbox": {
           "style": "light"
          },
          "paper_bgcolor": "white",
          "plot_bgcolor": "#E5ECF6",
          "polar": {
           "angularaxis": {
            "gridcolor": "white",
            "linecolor": "white",
            "ticks": ""
           },
           "bgcolor": "#E5ECF6",
           "radialaxis": {
            "gridcolor": "white",
            "linecolor": "white",
            "ticks": ""
           }
          },
          "scene": {
           "xaxis": {
            "backgroundcolor": "#E5ECF6",
            "gridcolor": "white",
            "gridwidth": 2,
            "linecolor": "white",
            "showbackground": true,
            "ticks": "",
            "zerolinecolor": "white"
           },
           "yaxis": {
            "backgroundcolor": "#E5ECF6",
            "gridcolor": "white",
            "gridwidth": 2,
            "linecolor": "white",
            "showbackground": true,
            "ticks": "",
            "zerolinecolor": "white"
           },
           "zaxis": {
            "backgroundcolor": "#E5ECF6",
            "gridcolor": "white",
            "gridwidth": 2,
            "linecolor": "white",
            "showbackground": true,
            "ticks": "",
            "zerolinecolor": "white"
           }
          },
          "shapedefaults": {
           "line": {
            "color": "#2a3f5f"
           }
          },
          "ternary": {
           "aaxis": {
            "gridcolor": "white",
            "linecolor": "white",
            "ticks": ""
           },
           "baxis": {
            "gridcolor": "white",
            "linecolor": "white",
            "ticks": ""
           },
           "bgcolor": "#E5ECF6",
           "caxis": {
            "gridcolor": "white",
            "linecolor": "white",
            "ticks": ""
           }
          },
          "title": {
           "x": 0.05
          },
          "xaxis": {
           "automargin": true,
           "gridcolor": "white",
           "linecolor": "white",
           "ticks": "",
           "title": {
            "standoff": 15
           },
           "zerolinecolor": "white",
           "zerolinewidth": 2
          },
          "yaxis": {
           "automargin": true,
           "gridcolor": "white",
           "linecolor": "white",
           "ticks": "",
           "title": {
            "standoff": 15
           },
           "zerolinecolor": "white",
           "zerolinewidth": 2
          }
         }
        },
        "title": {
         "text": "Temps d'attente vs Capacité du tramway (Temps entre clients: 0.8 min)"
        },
        "width": 800,
        "xaxis": {
         "title": {
          "text": "Nombre de places dans un tramway"
         }
        },
        "yaxis": {
         "title": {
          "text": "Temps moyen d'attente"
         }
        }
       }
      }
     },
     "metadata": {},
     "output_type": "display_data"
    },
    {
     "data": {
      "application/vnd.plotly.v1+json": {
       "config": {
        "plotlyServerURL": "https://plot.ly"
       },
       "data": [
        {
         "mode": "lines+markers",
         "name": "0.9 min",
         "type": "scatter",
         "x": [
          90,
          92,
          94,
          96,
          98,
          100,
          102,
          104,
          106,
          108,
          110,
          112,
          114,
          116,
          118,
          120,
          122,
          124,
          126,
          128,
          130,
          132,
          134,
          136,
          138,
          140,
          142,
          144,
          146,
          148,
          150,
          152,
          154,
          156,
          158,
          160,
          162,
          164,
          166,
          168,
          170,
          172,
          174,
          176,
          178,
          180,
          182,
          184,
          186,
          188,
          190,
          192,
          194,
          196,
          198
         ],
         "y": [
          5.83333,
          5.83333,
          5.83333,
          5.83333,
          5.83333,
          5.83333,
          5.83333,
          5.83333,
          5.83333,
          5.83333,
          5.83333,
          5.83333,
          5.83333,
          5.83333,
          5.83333,
          5.83333,
          5.83333,
          5.83333,
          5.83333,
          5.83333,
          5.83333,
          5.83333,
          5.83333,
          5.83333,
          5.83333,
          5.83333,
          5.83333,
          5.83333,
          5.83333,
          5.83333,
          5.83333,
          5.83333,
          5.83333,
          5.83333,
          5.83333,
          5.83333,
          5.83333,
          5.83333,
          5.83333,
          5.83333,
          5.83333,
          5.83333,
          5.83333,
          5.83333,
          5.83333,
          5.83333,
          5.83333,
          5.83333,
          5.83333,
          5.83333,
          5.83333,
          5.83333,
          5.83333,
          5.83333,
          5.83333
         ]
        }
       ],
       "layout": {
        "height": 500,
        "template": {
         "data": {
          "bar": [
           {
            "error_x": {
             "color": "#2a3f5f"
            },
            "error_y": {
             "color": "#2a3f5f"
            },
            "marker": {
             "line": {
              "color": "#E5ECF6",
              "width": 0.5
             },
             "pattern": {
              "fillmode": "overlay",
              "size": 10,
              "solidity": 0.2
             }
            },
            "type": "bar"
           }
          ],
          "barpolar": [
           {
            "marker": {
             "line": {
              "color": "#E5ECF6",
              "width": 0.5
             },
             "pattern": {
              "fillmode": "overlay",
              "size": 10,
              "solidity": 0.2
             }
            },
            "type": "barpolar"
           }
          ],
          "carpet": [
           {
            "aaxis": {
             "endlinecolor": "#2a3f5f",
             "gridcolor": "white",
             "linecolor": "white",
             "minorgridcolor": "white",
             "startlinecolor": "#2a3f5f"
            },
            "baxis": {
             "endlinecolor": "#2a3f5f",
             "gridcolor": "white",
             "linecolor": "white",
             "minorgridcolor": "white",
             "startlinecolor": "#2a3f5f"
            },
            "type": "carpet"
           }
          ],
          "choropleth": [
           {
            "colorbar": {
             "outlinewidth": 0,
             "ticks": ""
            },
            "type": "choropleth"
           }
          ],
          "contour": [
           {
            "colorbar": {
             "outlinewidth": 0,
             "ticks": ""
            },
            "colorscale": [
             [
              0,
              "#0d0887"
             ],
             [
              0.1111111111111111,
              "#46039f"
             ],
             [
              0.2222222222222222,
              "#7201a8"
             ],
             [
              0.3333333333333333,
              "#9c179e"
             ],
             [
              0.4444444444444444,
              "#bd3786"
             ],
             [
              0.5555555555555556,
              "#d8576b"
             ],
             [
              0.6666666666666666,
              "#ed7953"
             ],
             [
              0.7777777777777778,
              "#fb9f3a"
             ],
             [
              0.8888888888888888,
              "#fdca26"
             ],
             [
              1,
              "#f0f921"
             ]
            ],
            "type": "contour"
           }
          ],
          "contourcarpet": [
           {
            "colorbar": {
             "outlinewidth": 0,
             "ticks": ""
            },
            "type": "contourcarpet"
           }
          ],
          "heatmap": [
           {
            "colorbar": {
             "outlinewidth": 0,
             "ticks": ""
            },
            "colorscale": [
             [
              0,
              "#0d0887"
             ],
             [
              0.1111111111111111,
              "#46039f"
             ],
             [
              0.2222222222222222,
              "#7201a8"
             ],
             [
              0.3333333333333333,
              "#9c179e"
             ],
             [
              0.4444444444444444,
              "#bd3786"
             ],
             [
              0.5555555555555556,
              "#d8576b"
             ],
             [
              0.6666666666666666,
              "#ed7953"
             ],
             [
              0.7777777777777778,
              "#fb9f3a"
             ],
             [
              0.8888888888888888,
              "#fdca26"
             ],
             [
              1,
              "#f0f921"
             ]
            ],
            "type": "heatmap"
           }
          ],
          "histogram": [
           {
            "marker": {
             "pattern": {
              "fillmode": "overlay",
              "size": 10,
              "solidity": 0.2
             }
            },
            "type": "histogram"
           }
          ],
          "histogram2d": [
           {
            "colorbar": {
             "outlinewidth": 0,
             "ticks": ""
            },
            "colorscale": [
             [
              0,
              "#0d0887"
             ],
             [
              0.1111111111111111,
              "#46039f"
             ],
             [
              0.2222222222222222,
              "#7201a8"
             ],
             [
              0.3333333333333333,
              "#9c179e"
             ],
             [
              0.4444444444444444,
              "#bd3786"
             ],
             [
              0.5555555555555556,
              "#d8576b"
             ],
             [
              0.6666666666666666,
              "#ed7953"
             ],
             [
              0.7777777777777778,
              "#fb9f3a"
             ],
             [
              0.8888888888888888,
              "#fdca26"
             ],
             [
              1,
              "#f0f921"
             ]
            ],
            "type": "histogram2d"
           }
          ],
          "histogram2dcontour": [
           {
            "colorbar": {
             "outlinewidth": 0,
             "ticks": ""
            },
            "colorscale": [
             [
              0,
              "#0d0887"
             ],
             [
              0.1111111111111111,
              "#46039f"
             ],
             [
              0.2222222222222222,
              "#7201a8"
             ],
             [
              0.3333333333333333,
              "#9c179e"
             ],
             [
              0.4444444444444444,
              "#bd3786"
             ],
             [
              0.5555555555555556,
              "#d8576b"
             ],
             [
              0.6666666666666666,
              "#ed7953"
             ],
             [
              0.7777777777777778,
              "#fb9f3a"
             ],
             [
              0.8888888888888888,
              "#fdca26"
             ],
             [
              1,
              "#f0f921"
             ]
            ],
            "type": "histogram2dcontour"
           }
          ],
          "mesh3d": [
           {
            "colorbar": {
             "outlinewidth": 0,
             "ticks": ""
            },
            "type": "mesh3d"
           }
          ],
          "parcoords": [
           {
            "line": {
             "colorbar": {
              "outlinewidth": 0,
              "ticks": ""
             }
            },
            "type": "parcoords"
           }
          ],
          "pie": [
           {
            "automargin": true,
            "type": "pie"
           }
          ],
          "scatter": [
           {
            "fillpattern": {
             "fillmode": "overlay",
             "size": 10,
             "solidity": 0.2
            },
            "type": "scatter"
           }
          ],
          "scatter3d": [
           {
            "line": {
             "colorbar": {
              "outlinewidth": 0,
              "ticks": ""
             }
            },
            "marker": {
             "colorbar": {
              "outlinewidth": 0,
              "ticks": ""
             }
            },
            "type": "scatter3d"
           }
          ],
          "scattercarpet": [
           {
            "marker": {
             "colorbar": {
              "outlinewidth": 0,
              "ticks": ""
             }
            },
            "type": "scattercarpet"
           }
          ],
          "scattergeo": [
           {
            "marker": {
             "colorbar": {
              "outlinewidth": 0,
              "ticks": ""
             }
            },
            "type": "scattergeo"
           }
          ],
          "scattergl": [
           {
            "marker": {
             "colorbar": {
              "outlinewidth": 0,
              "ticks": ""
             }
            },
            "type": "scattergl"
           }
          ],
          "scattermap": [
           {
            "marker": {
             "colorbar": {
              "outlinewidth": 0,
              "ticks": ""
             }
            },
            "type": "scattermap"
           }
          ],
          "scattermapbox": [
           {
            "marker": {
             "colorbar": {
              "outlinewidth": 0,
              "ticks": ""
             }
            },
            "type": "scattermapbox"
           }
          ],
          "scatterpolar": [
           {
            "marker": {
             "colorbar": {
              "outlinewidth": 0,
              "ticks": ""
             }
            },
            "type": "scatterpolar"
           }
          ],
          "scatterpolargl": [
           {
            "marker": {
             "colorbar": {
              "outlinewidth": 0,
              "ticks": ""
             }
            },
            "type": "scatterpolargl"
           }
          ],
          "scatterternary": [
           {
            "marker": {
             "colorbar": {
              "outlinewidth": 0,
              "ticks": ""
             }
            },
            "type": "scatterternary"
           }
          ],
          "surface": [
           {
            "colorbar": {
             "outlinewidth": 0,
             "ticks": ""
            },
            "colorscale": [
             [
              0,
              "#0d0887"
             ],
             [
              0.1111111111111111,
              "#46039f"
             ],
             [
              0.2222222222222222,
              "#7201a8"
             ],
             [
              0.3333333333333333,
              "#9c179e"
             ],
             [
              0.4444444444444444,
              "#bd3786"
             ],
             [
              0.5555555555555556,
              "#d8576b"
             ],
             [
              0.6666666666666666,
              "#ed7953"
             ],
             [
              0.7777777777777778,
              "#fb9f3a"
             ],
             [
              0.8888888888888888,
              "#fdca26"
             ],
             [
              1,
              "#f0f921"
             ]
            ],
            "type": "surface"
           }
          ],
          "table": [
           {
            "cells": {
             "fill": {
              "color": "#EBF0F8"
             },
             "line": {
              "color": "white"
             }
            },
            "header": {
             "fill": {
              "color": "#C8D4E3"
             },
             "line": {
              "color": "white"
             }
            },
            "type": "table"
           }
          ]
         },
         "layout": {
          "annotationdefaults": {
           "arrowcolor": "#2a3f5f",
           "arrowhead": 0,
           "arrowwidth": 1
          },
          "autotypenumbers": "strict",
          "coloraxis": {
           "colorbar": {
            "outlinewidth": 0,
            "ticks": ""
           }
          },
          "colorscale": {
           "diverging": [
            [
             0,
             "#8e0152"
            ],
            [
             0.1,
             "#c51b7d"
            ],
            [
             0.2,
             "#de77ae"
            ],
            [
             0.3,
             "#f1b6da"
            ],
            [
             0.4,
             "#fde0ef"
            ],
            [
             0.5,
             "#f7f7f7"
            ],
            [
             0.6,
             "#e6f5d0"
            ],
            [
             0.7,
             "#b8e186"
            ],
            [
             0.8,
             "#7fbc41"
            ],
            [
             0.9,
             "#4d9221"
            ],
            [
             1,
             "#276419"
            ]
           ],
           "sequential": [
            [
             0,
             "#0d0887"
            ],
            [
             0.1111111111111111,
             "#46039f"
            ],
            [
             0.2222222222222222,
             "#7201a8"
            ],
            [
             0.3333333333333333,
             "#9c179e"
            ],
            [
             0.4444444444444444,
             "#bd3786"
            ],
            [
             0.5555555555555556,
             "#d8576b"
            ],
            [
             0.6666666666666666,
             "#ed7953"
            ],
            [
             0.7777777777777778,
             "#fb9f3a"
            ],
            [
             0.8888888888888888,
             "#fdca26"
            ],
            [
             1,
             "#f0f921"
            ]
           ],
           "sequentialminus": [
            [
             0,
             "#0d0887"
            ],
            [
             0.1111111111111111,
             "#46039f"
            ],
            [
             0.2222222222222222,
             "#7201a8"
            ],
            [
             0.3333333333333333,
             "#9c179e"
            ],
            [
             0.4444444444444444,
             "#bd3786"
            ],
            [
             0.5555555555555556,
             "#d8576b"
            ],
            [
             0.6666666666666666,
             "#ed7953"
            ],
            [
             0.7777777777777778,
             "#fb9f3a"
            ],
            [
             0.8888888888888888,
             "#fdca26"
            ],
            [
             1,
             "#f0f921"
            ]
           ]
          },
          "colorway": [
           "#636efa",
           "#EF553B",
           "#00cc96",
           "#ab63fa",
           "#FFA15A",
           "#19d3f3",
           "#FF6692",
           "#B6E880",
           "#FF97FF",
           "#FECB52"
          ],
          "font": {
           "color": "#2a3f5f"
          },
          "geo": {
           "bgcolor": "white",
           "lakecolor": "white",
           "landcolor": "#E5ECF6",
           "showlakes": true,
           "showland": true,
           "subunitcolor": "white"
          },
          "hoverlabel": {
           "align": "left"
          },
          "hovermode": "closest",
          "mapbox": {
           "style": "light"
          },
          "paper_bgcolor": "white",
          "plot_bgcolor": "#E5ECF6",
          "polar": {
           "angularaxis": {
            "gridcolor": "white",
            "linecolor": "white",
            "ticks": ""
           },
           "bgcolor": "#E5ECF6",
           "radialaxis": {
            "gridcolor": "white",
            "linecolor": "white",
            "ticks": ""
           }
          },
          "scene": {
           "xaxis": {
            "backgroundcolor": "#E5ECF6",
            "gridcolor": "white",
            "gridwidth": 2,
            "linecolor": "white",
            "showbackground": true,
            "ticks": "",
            "zerolinecolor": "white"
           },
           "yaxis": {
            "backgroundcolor": "#E5ECF6",
            "gridcolor": "white",
            "gridwidth": 2,
            "linecolor": "white",
            "showbackground": true,
            "ticks": "",
            "zerolinecolor": "white"
           },
           "zaxis": {
            "backgroundcolor": "#E5ECF6",
            "gridcolor": "white",
            "gridwidth": 2,
            "linecolor": "white",
            "showbackground": true,
            "ticks": "",
            "zerolinecolor": "white"
           }
          },
          "shapedefaults": {
           "line": {
            "color": "#2a3f5f"
           }
          },
          "ternary": {
           "aaxis": {
            "gridcolor": "white",
            "linecolor": "white",
            "ticks": ""
           },
           "baxis": {
            "gridcolor": "white",
            "linecolor": "white",
            "ticks": ""
           },
           "bgcolor": "#E5ECF6",
           "caxis": {
            "gridcolor": "white",
            "linecolor": "white",
            "ticks": ""
           }
          },
          "title": {
           "x": 0.05
          },
          "xaxis": {
           "automargin": true,
           "gridcolor": "white",
           "linecolor": "white",
           "ticks": "",
           "title": {
            "standoff": 15
           },
           "zerolinecolor": "white",
           "zerolinewidth": 2
          },
          "yaxis": {
           "automargin": true,
           "gridcolor": "white",
           "linecolor": "white",
           "ticks": "",
           "title": {
            "standoff": 15
           },
           "zerolinecolor": "white",
           "zerolinewidth": 2
          }
         }
        },
        "title": {
         "text": "Temps d'attente vs Capacité du tramway (Temps entre clients: 0.9 min)"
        },
        "width": 800,
        "xaxis": {
         "title": {
          "text": "Nombre de places dans un tramway"
         }
        },
        "yaxis": {
         "title": {
          "text": "Temps moyen d'attente"
         }
        }
       }
      }
     },
     "metadata": {},
     "output_type": "display_data"
    }
   ],
   "source": [
    "# Import plotly\n",
    "import plotly.graph_objects as go\n",
    "from plotly.subplots import make_subplots\n",
    "\n",
    "# On visualise le nombre de PLACES qu'il nous faut pour stabiliser CHAQUE frequence d'arriver de clients\n",
    "\n",
    "# 3D visualization\n",
    "fig = go.Figure()\n",
    "\n",
    "for i in range(len(results)):\n",
    "    y = [j[0][\"Wq\"] for j in results[i]]\n",
    "    x = [j[0][\"initial\"][\"nbrDePlacesDansUnTramway\"] for j in results[i]]\n",
    "    z = [results[i][0][-1]] * len(x)  # Create z values of same length as x\n",
    "    \n",
    "    fig.add_trace(go.Scatter3d(\n",
    "        x=x, \n",
    "        y=y, \n",
    "        z=z,\n",
    "        mode='lines',\n",
    "        name=f'Temps entre clients: {results[i][0][-1]} min'\n",
    "    ))\n",
    "\n",
    "fig.update_layout(\n",
    "    scene=dict(\n",
    "        xaxis_title=\"Nombre de places dans un tramway\",\n",
    "        yaxis_title=\"Temps moyen d'attente\",\n",
    "        zaxis_title=\"Temps entre clients (min)\"\n",
    "    ),\n",
    "    width=900,\n",
    "    height=600,\n",
    "    title=\"Relation entre capacité du tramway et temps d'attente\"\n",
    ")\n",
    "\n",
    "fig.show()\n",
    "\n",
    "# 2D visualizations for specific times between client arrivals\n",
    "l=[i*0.1 for i in range(2,10)]\n",
    "\n",
    "for i in range(len(results)):\n",
    "    if results[i][0][-1] in l:\n",
    "        y = [j[0][\"Wq\"] for j in results[i]]\n",
    "        x = [j[0][\"initial\"][\"nbrDePlacesDansUnTramway\"] for j in results[i]]\n",
    "        \n",
    "        fig2 = go.Figure()\n",
    "        fig2.add_trace(go.Scatter(\n",
    "            x=x, \n",
    "            y=y,\n",
    "            mode='lines+markers',\n",
    "            name=str(results[i][0][-1]) + \" min\"\n",
    "        ))\n",
    "        \n",
    "        fig2.update_layout(\n",
    "            xaxis_title=\"Nombre de places dans un tramway\",\n",
    "            yaxis_title=\"Temps moyen d'attente\",\n",
    "            width=800,\n",
    "            height=500,\n",
    "            title=f\"Temps d'attente vs Capacité du tramway (Temps entre clients: {results[i][0][-1]} min)\"\n",
    "        )\n",
    "        \n",
    "        fig2.show()"
   ]
  },
  {
   "cell_type": "code",
   "execution_count": null,
   "metadata": {},
   "outputs": [],
   "source": []
  },
  {
   "cell_type": "code",
   "execution_count": null,
   "metadata": {},
   "outputs": [],
   "source": []
  }
 ],
 "metadata": {
  "kernelspec": {
   "display_name": "Python 3",
   "language": "python",
   "name": "python3"
  },
  "language_info": {
   "codemirror_mode": {
    "name": "ipython",
    "version": 3
   },
   "file_extension": ".py",
   "mimetype": "text/x-python",
   "name": "python",
   "nbconvert_exporter": "python",
   "pygments_lexer": "ipython3",
   "version": "3.13.1"
  }
 },
 "nbformat": 4,
 "nbformat_minor": 2
}
